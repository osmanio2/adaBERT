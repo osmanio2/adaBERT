{
  "nbformat": 4,
  "nbformat_minor": 0,
  "metadata": {
    "colab": {
      "name": "transfer-slots-20-04-20.ipynb",
      "provenance": [],
      "collapsed_sections": []
    },
    "kernelspec": {
      "name": "python3",
      "display_name": "Python 3"
    }
  },
  "cells": [
    {
      "cell_type": "code",
      "metadata": {
        "id": "I8JsoXbXCcDx",
        "colab": {
          "base_uri": "https://localhost:8080/",
          "height": 289
        },
        "outputId": "21bc1429-e51f-422e-d3ab-058e0816c2fc"
      },
      "source": [
        "%load_ext autoreload\n",
        "%autoreload 2\n",
        "#from google.colab import drive\n",
        "#drive.mount('/content/drive')\n",
        "import sys\n",
        "root = '/content/drive/My Drive/dialog-data/'\n",
        "root = 'drive/dialog-data/'\n",
        "sys.path.append(root)\n",
        "!{sys.executable} -m pip install transformers\n",
        "import time#\n",
        "import sys\n",
        "import os\n",
        "import torch as T\n",
        "import numpy as np\n",
        "import transformers as tf\n",
        "import slot_transfer_data as D\n",
        "from collections import defaultdict\n",
        "import argparse\n",
        "import pickle"
      ],
      "execution_count": null,
      "outputs": [
        {
          "output_type": "stream",
          "text": [
            "Requirement already satisfied: transformers in ./anaconda3/lib/python3.7/site-packages (2.9.0)\n",
            "Requirement already satisfied: filelock in ./anaconda3/lib/python3.7/site-packages (from transformers) (3.0.12)\n",
            "Requirement already satisfied: requests in ./anaconda3/lib/python3.7/site-packages (from transformers) (2.22.0)\n",
            "Requirement already satisfied: tqdm>=4.27 in ./anaconda3/lib/python3.7/site-packages (from transformers) (4.42.1)\n",
            "Requirement already satisfied: sentencepiece in ./anaconda3/lib/python3.7/site-packages (from transformers) (0.1.86)\n",
            "Requirement already satisfied: numpy in ./anaconda3/lib/python3.7/site-packages (from transformers) (1.18.1)\n",
            "Requirement already satisfied: regex!=2019.12.17 in ./anaconda3/lib/python3.7/site-packages (from transformers) (2020.5.7)\n",
            "Requirement already satisfied: sacremoses in ./anaconda3/lib/python3.7/site-packages (from transformers) (0.0.43)\n",
            "Requirement already satisfied: tokenizers==0.7.0 in ./anaconda3/lib/python3.7/site-packages (from transformers) (0.7.0)\n",
            "Requirement already satisfied: idna<2.9,>=2.5 in ./anaconda3/lib/python3.7/site-packages (from requests->transformers) (2.8)\n",
            "Requirement already satisfied: chardet<3.1.0,>=3.0.2 in ./anaconda3/lib/python3.7/site-packages (from requests->transformers) (3.0.4)\n",
            "Requirement already satisfied: urllib3!=1.25.0,!=1.25.1,<1.26,>=1.21.1 in ./anaconda3/lib/python3.7/site-packages (from requests->transformers) (1.25.8)\n",
            "Requirement already satisfied: certifi>=2017.4.17 in ./anaconda3/lib/python3.7/site-packages (from requests->transformers) (2019.11.28)\n",
            "Requirement already satisfied: joblib in ./anaconda3/lib/python3.7/site-packages (from sacremoses->transformers) (0.14.1)\n",
            "Requirement already satisfied: click in ./anaconda3/lib/python3.7/site-packages (from sacremoses->transformers) (7.0)\n",
            "Requirement already satisfied: six in ./anaconda3/lib/python3.7/site-packages (from sacremoses->transformers) (1.14.0)\n"
          ],
          "name": "stdout"
        }
      ]
    },
    {
      "cell_type": "code",
      "metadata": {
        "id": "M2xrQ_0WDJwB"
      },
      "source": [
        "class Run:\n",
        "    def __init__(self):\n",
        "        self.records = defaultdict(list)\n",
        "        \n",
        "    def log(self, key, value):\n",
        "        self.records[key].append(value)\n",
        "\n",
        "\n",
        "def evaluate(model, batch):\n",
        "    token_type_ids = batch.x.token_type_ids\n",
        "    if hasattr(model, 'roberta'):\n",
        "        token_type_ids = T.zeros_like(batch.x.token_type_ids)\n",
        "    scores = model(batch.x.input_ids, batch.x.attention_mask, batch.x.token_type_ids)[0]\n",
        "    mask = batch.x.attention_mask[..., 0] # B.C\n",
        "    scores = scores + (mask.float() - 1) * 1e8\n",
        "    loss = T.nn.functional.cross_entropy(scores, batch.y)\n",
        "    return scores, loss\n",
        "\n",
        "def metrics(scores, labels):\n",
        "    with T.no_grad():\n",
        "        preds = T.max(scores, dim=-1)[1] == labels\n",
        "        correct = T.where(preds == True)[0]\n",
        "        wrong = T.where(preds == False)[0]\n",
        "        return correct.shape[0]/scores.shape[0], correct.cpu().numpy(), wrong.cpu().numpy()\n",
        "    \n",
        "def print_example(tokenizer, batch, idx, scores, correct):\n",
        "    with T.no_grad():\n",
        "        ids, token_type_ids, mask = batch.x.input_ids[idx], batch.x.token_type_ids[idx], batch.x.attention_mask[idx, :, 0]\n",
        "        scores = scores[idx]\n",
        "        state = ('Correct' if correct else 'Wrong')\n",
        "        print(' '.join(tokenizer.convert_ids_to_tokens(ids[0, token_type_ids[0] == 0], skip_special_tokens=True)))\n",
        "        total = int(mask.sum())\n",
        "        print('\\t'.join([' '.join(tokenizer.convert_ids_to_tokens(ids[i, token_type_ids[i] == 1],\n",
        "                                                                  skip_special_tokens=True))\n",
        "                         + ': {:.2f}'.format(T.softmax(scores, dim=0)[i])\n",
        "                         for i in range(total)] + [state]))\n",
        "\n",
        "def train(model, optim, train_data, valid_data, no_batches, valid_duration=100,\n",
        "          cuda=True, verbose=False, tokenizer=None, max_grad_norm=1.0,\n",
        "          valid_size=1, run=None, batch_size=1, no_examples=10):\n",
        "    if cuda:\n",
        "        model = model.cuda()\n",
        "    optim, scheduler = optim\n",
        "    print(\"About to start training\")\n",
        "    start_time = time.time()\n",
        "    valid_loss, valid_acc, max_acc = 0, 0, 0\n",
        "    print_gpu = False\n",
        "    batch_size, total_batch_size = batch_size\n",
        "    no_iter = total_batch_size//batch_size\n",
        "    i = 0\n",
        "    while True:\n",
        "        optim.zero_grad()\n",
        "        scores, loss, acc = 0, 0, 0\n",
        "        for k in range(no_iter):\n",
        "            batch = next(train_data)\n",
        "            scores_, loss_ = evaluate(model, batch)\n",
        "            scores += scores_/no_iter\n",
        "            loss_ /= no_iter\n",
        "            loss_.backward()\n",
        "            loss += loss_\n",
        "            acc_, _, _ = metrics(scores_ , batch.y)\n",
        "            acc += acc_/no_iter\n",
        "        if max_grad_norm > 0:\n",
        "            T.nn.utils.clip_grad_norm_(model.parameters(), max_grad_norm)\n",
        "        loss = float(loss)\n",
        "        optim.step()\n",
        "        scheduler.step()\n",
        "        \n",
        "        if  i % valid_duration == 0:\n",
        "            model.eval()\n",
        "            valid_acc, valid_loss = 0, 0\n",
        "            with T.no_grad():\n",
        "                if verbose:\n",
        "                    print(\"##################################################################################\")\n",
        "                for k in range(valid_size):\n",
        "                    batch = next(valid_data)\n",
        "                    valid_scores, valid_los = evaluate(model, batch)\n",
        "                    v_acc,  corr_ids, wrong_ids, = metrics(valid_scores, batch.y)\n",
        "                    valid_loss += float(valid_los)\n",
        "                    valid_acc += v_acc\n",
        "                    if verbose and k < no_examples:\n",
        "                        if len(corr_ids) > 0:\n",
        "                            idx = np.random.choice(corr_ids)\n",
        "                            print_example(tokenizer, batch, idx, valid_scores, correct=True)\n",
        "                            print(\"-----------------------------------------------------------------------------\")\n",
        "                        if len(wrong_ids) > 0:\n",
        "                            idx = np.random.choice(wrong_ids)\n",
        "                            print_example(tokenizer, batch, idx, valid_scores, correct=False)\n",
        "                            print(\"-----------------------------------------------------------------------------\")\n",
        "                if verbose:\n",
        "                    print(\"##################################################################################\")\n",
        "                valid_loss /= valid_size\n",
        "                valid_acc /= valid_size\n",
        "                if valid_acc >= max_acc:\n",
        "                    max_acc = valid_acc\n",
        "                    model.save_model()        \n",
        "            model.train()\n",
        "        \n",
        "        if print_gpu:\n",
        "            print(nvgpu.gpu_info())\n",
        "            print_gpu = False\n",
        "        if run:\n",
        "            run.log(\"train_loss\", loss)\n",
        "            run.log(\"train_acc\", acc)\n",
        "            run.log(\"valid_loss\", valid_loss)\n",
        "            run.log(\"valid_acc\", valid_acc)\n",
        "            run.log(\"batch\", i)\n",
        "        sys.stderr.write(f'\\rtrain loss: {loss:.2f}\\ttrain acc {acc:.2f}\\t' + \n",
        "                         f'valid loss: {valid_loss:.2f}\\tvalid acc {valid_acc:.2f}' +\n",
        "                         f'\\tbatch: {i}\\ttime: {time.time()-start_time:.2f}{\"\": <30}')\n",
        "        i += 1\n",
        "        if i >= no_batches - 1:\n",
        "            break\n",
        "    return model\n",
        "\n",
        "def _in(n, trainable_parameters):\n",
        "    return any(nd in n for nd in trainable_parameters)\n",
        "\n",
        "def get_model(name, trainable_parameters=None):\n",
        "    model_name = name.split('-')[0].capitalize()\n",
        "    tokenizer = getattr(tf, f'{model_name}Tokenizer').from_pretrained(name)\n",
        "    model = getattr(tf, f'{model_name}ForMultipleChoice').from_pretrained(name)\n",
        "    if trainable_parameters is not None:\n",
        "        for name, param in model.named_parameters():\n",
        "            if not _in(name, trainable_parameters):\n",
        "                param.requires_grad = False\n",
        "    return tokenizer, model\n",
        "\n",
        "\n",
        "class AdapterLayer(T.nn.Module):\n",
        "    \n",
        "    def __init__(self, input_size, dropout, hidden_size=64, init_scale=1e-3, act='gelu'):\n",
        "        super().__init__()\n",
        "        self.act = getattr(T.nn.functional, act)\n",
        "        self.squeeze = T.nn.Linear(input_size, hidden_size)\n",
        "        self.squeeze.weight.data.normal_(mean=0.0, std=init_scale)\n",
        "        T.nn.init.zeros_(self.squeeze.bias.data)\n",
        "        self.expand = T.nn.Linear(hidden_size, input_size)\n",
        "        self.expand.weight.data.normal_(mean=0.0, std=init_scale)\n",
        "        T.nn.init.zeros_(self.expand.bias.data)\n",
        "        self.dropout = dropout\n",
        "        \n",
        "    def forward(self, x):\n",
        "        x = self.dropout(x)\n",
        "        return self.expand(self.act(self.squeeze(x))) + x\n",
        "    \n",
        "\n",
        "def add_adapter_layers(model, **kwargs):\n",
        "    input_size = model.config.hidden_size\n",
        "    layers = model.bert.encoder.layer\n",
        "    for layer in layers:\n",
        "        adapter1 = AdapterLayer(input_size, layer.attention.output.dropout, **kwargs)\n",
        "        adapter2 = AdapterLayer(input_size, layer.output.dropout, **kwargs)\n",
        "        layer.attention.output.add_module('dropout', adapter1)\n",
        "        layer.output.add_module('dropout', adapter2)\n",
        "    return model\n",
        "\n",
        "\n",
        "def save_model(model, trainable_parameters, url):\n",
        "    with open(url, 'wb') as f:\n",
        "        params_to_save = {k: v.detach().cpu() for k, v in model.state_dict().items()\n",
        "                          if _in(k, trainable_parameters)}\n",
        "        pickle.dump(params_to_save, f)\n",
        "\n",
        "\n",
        "def load_model(model, url):\n",
        "    with open(url, 'rb') as f:\n",
        "        return model.load_state_dict(pickle.load(f), False)\n",
        "\n",
        "\n",
        "def main(args):\n",
        "    \n",
        "    data_dir = args.data_url\n",
        "    trainable_parameters = (args.trainable_parameters.split(' ') if args.trainable_parameters != '' \n",
        "                                                                 else None)\n",
        "    \n",
        "    print(\"data directory is: \" + data_dir)\n",
        "    # Load the model\n",
        "    tokenizer, model = get_model(args.model_name, trainable_parameters)\n",
        "    # Load the data\n",
        "    train_itr = D.SlotDataset(os.path.join(data_dir,'train'), tokenizer, # pos_prob=args.pos_prob,\n",
        "                            max_len=args.max_len).dataLoader(batch_size=args.batch_size,\n",
        "                                                             shuffle=True, pin_memory=True,\n",
        "                                                             cuda=True, loop=True, drop_last=True)\n",
        "    valid_itr = D.SlotDataset(os.path.join(data_dir,'dev'), tokenizer, # pos_prob=1.0, \n",
        "                              max_len=args.max_len).dataLoader(batch_size=args.batch_size,\n",
        "                                                               shuffle=True, pin_memory=True,\n",
        "                                                               cuda=True, loop=True, drop_last=True)\n",
        "    # Train only adapter layers\n",
        "    model = add_adapter_layers(model, hidden_size=args.adapter_size)\n",
        "    if args.checkpoint:\n",
        "        model.load_state_dict(pickle.load(open(os.path.join(data_dir, args.checkpoint), 'rb')), False)\n",
        "    # Parallise if required\n",
        "    if T.cuda.device_count() > 1:\n",
        "        print(\"Let's use\", T.cuda.device_count(), \"GPUs!\")\n",
        "        model = T.nn.DataParallel(model)    \n",
        "    # Create the optimizer\n",
        "    # Prepare optimizer and schedule (linear warmup and decay)\n",
        "    no_decay = [\"bias\", \"LayerNorm.weight\"]\n",
        "    optimizer_grouped_parameters = [\n",
        "        {\n",
        "            \"params\": [p for n, p in model.named_parameters() \n",
        "                       if _in(n, trainable_parameters) and not _in(n, no_decay)],\n",
        "            \"weight_decay\": args.weight_decay,\n",
        "        },\n",
        "        {\n",
        "            \"params\": [p for n, p in model.named_parameters() \n",
        "                       if _in(n, trainable_parameters) and _in(n, no_decay)],\n",
        "            \"weight_decay\": 0.0\n",
        "        },\n",
        "    ]\n",
        "    if args.model_url is not None:\n",
        "        save_fn = lambda : save_model(model, trainable_parameters, \n",
        "                                      os.path.join(data_dir, args.model_url))\n",
        "    else:\n",
        "        save_fn = type(None)\n",
        "    setattr(model, 'save_model', save_fn)\n",
        "    optimizer = tf.AdamW(optimizer_grouped_parameters, lr=args.lr, eps=1e-8)\n",
        "    scheduler = tf.get_linear_schedule_with_warmup(\n",
        "        optimizer, num_warmup_steps=int(0.1*args.num_batches), num_training_steps=args.num_batches\n",
        "    )\n",
        "    \n",
        "    optim = [optimizer, scheduler]\n",
        "    run = Run()\n",
        "    model = train(model, optim, train_itr, valid_itr, args.num_batches, args.valid_duration,\n",
        "                  verbose=args.verbose, tokenizer=tokenizer, max_grad_norm=args.max_grad_norm,\n",
        "                  valid_size=args.valid_size, run=run, cuda=True,\n",
        "                  batch_size=[args.batch_size, args.total_batch_size])\n",
        "    return model, run"
      ],
      "execution_count": null,
      "outputs": []
    },
    {
      "cell_type": "code",
      "metadata": {
        "id": "arRmmRQc6NLY",
        "colab": {
          "base_uri": "https://localhost:8080/",
          "height": 1000
        },
        "outputId": "bb8fe878-de5b-4455-a199-61aa8d996451"
      },
      "source": [
        "# get command-line arguments\n",
        "trainable_parameters = ['LayerNorm', 'dropout.expand', 'dropout.squeeze', 'classifier']\n",
        "parser = argparse.ArgumentParser()\n",
        "parser.add_argument('--model_name', type=str, default='bert-base-uncased')\n",
        "parser.add_argument('--trainable_parameters', type=str, help='space separated parameters to train',\n",
        "                    default=' '.join(trainable_parameters))\n",
        "parser.add_argument('--total_batch_size', type=int, default=64, help='The total batch size')\n",
        "parser.add_argument('--batch_size', type=int, default=64, help='The batch size')\n",
        "parser.add_argument('--num_batches', type=int, default=1000, help='number of batches to train')\n",
        "parser.add_argument('--max_len', type=int, default=120, help='Maximum length of the context')\n",
        "parser.add_argument('--adapter_size', type=int, default=256, help='hidden size of the adapter layers')\n",
        "parser.add_argument('--data_url', type=str, help='data directory')\n",
        "parser.add_argument('--pos_prob', type=float, default=0.5, help='Probability of sampling positive examples')\n",
        "parser.add_argument('--optim', type=str, default='Adam', help='data directory')\n",
        "parser.add_argument('--lr', type=float, default=6e-5, help='Learning rate')\n",
        "parser.add_argument('--amsgrad', type=bool, default=False, help=' whether to use the AMSGrad variant')\n",
        "parser.add_argument('--weight_decay', type=float, default=0.008, help='L2 Regularization weight decay')\n",
        "parser.add_argument('--max_grad_norm', default=1.0, type=float, help=\"Max gradient norm.\")\n",
        "parser.add_argument('--valid_duration', type=int, default=100, help='The number of batches before validating')\n",
        "parser.add_argument('--verbose', type=bool, default=True, help='Show Live valid examples with prediction during validating')\n",
        "parser.add_argument('--valid_size', type=int, default=50, help='The number of valid batches to evaluate')\n",
        "parser.add_argument('--model_url', type=str, default='model.pkl', help='URL to save the model')\n",
        "parser.add_argument('--checkpoint', type=str, help='Start training from a checkpoint')\n",
        "\n",
        "args = parser.parse_args(['--data_url', root, '--adapter_size', '512',# '--checkpoint', 'model_transfer_slot.pkl',\n",
        "                          '--batch_size', '13', '--total_batch_size', '39', '--num_batches', '3000',\n",
        "                            '--model_url', 'model_transfer_slot.pkl', \n",
        "                            ])\n",
        "model, run = main(args)"
      ],
      "execution_count": null,
      "outputs": [
        {
          "output_type": "stream",
          "text": [
            "data directory is: drive/dialog-data/\n",
            "About to start training\n"
          ],
          "name": "stdout"
        },
        {
          "output_type": "stream",
          "text": [
            "/pytorch/torch/csrc/utils/python_arg_parser.cpp:756: UserWarning: This overload of add_ is deprecated:\n",
            "\tadd_(Number alpha, Tensor other)\n",
            "Consider using one of the following signatures instead:\n",
            "\tadd_(Tensor other, *, Number alpha)\n"
          ],
          "name": "stderr"
        },
        {
          "output_type": "stream",
          "text": [
            "##################################################################################\n",
            "system : it ' s been booked and will cost you $ 190 in total user : great , now find me a hotel room to service description : a popular service for searching and res ##erving rooms in hotels to slot description : location of the hotel\n",
            "from service description : car rental service with extensive coverage of locations and cars from slot description : location of rental car pickup: 0.50\tfrom service description : car rental service with extensive coverage of locations and cars from slot description : city where rental car will be picked up: 0.50\tCorrect\n",
            "-----------------------------------------------------------------------------\n",
            "system : do you want to purchase a ticket user : not right now . can you find me a bus to get there to service description : book bus journeys from the biggest bus network in the country to slot description : city where bus is going to\n",
            "from service description : the comprehensive portal to find and reserve seats at events near you from slot description : city where event is happening: 0.33\tfrom service description : the comprehensive portal to find and reserve seats at events near you from slot description : name of event location: 0.33\tfrom service description : the comprehensive portal to find and reserve seats at events near you from slot description : street address of event location: 0.33\tWrong\n",
            "-----------------------------------------------------------------------------\n",
            "system : it ' s been booked and will cost you $ 190 in total user : great , now find me a hotel room to service description : a popular service for searching and res ##erving rooms in hotels to slot description : location of the hotel\n",
            "from service description : car rental service with extensive coverage of locations and cars from slot description : location of rental car pickup: 0.50\tfrom service description : car rental service with extensive coverage of locations and cars from slot description : city where rental car will be picked up: 0.50\tCorrect\n",
            "-----------------------------------------------------------------------------\n",
            "system : this is an economy seat . user : okay . i would also like to find a hotel room there . to service description : a popular service for searching and res ##erving rooms in hotels to slot description : location of the hotel\n",
            "from service description : find one way and round trip flights to your favorite city from slot description : city in which the journey originates: 0.25\tfrom service description : find one way and round trip flights to your favorite city from slot description : city in which the journey ends: 0.25\tfrom service description : find one way and round trip flights to your favorite city from slot description : number of the airport flying out from: 0.25\tfrom service description : find one way and round trip flights to your favorite city from slot description : number of the airport flying to: 0.25\tWrong\n",
            "-----------------------------------------------------------------------------\n",
            "system : do you want me to reserve the car for you ? user : yeah , but let ' s do it later . i want to look for an apartment around there . to service description : a widely used service for finding apartments and scheduling visits to slot description : city where the apartment is located\n",
            "from service description : car rental service with extensive coverage of locations and cars from slot description : location of rental car pickup: 0.50\tfrom service description : car rental service with extensive coverage of locations and cars from slot description : city where rental car will be picked up: 0.50\tCorrect\n",
            "-----------------------------------------------------------------------------\n",
            "system : there are 7 events which you might be interested in . one of the events is the match of eagles vs cowboys which will happen on march 12th at 6 pm in lincoln financial field . user : that seems good . can you find me a bus to go there which leaves on 9th of this month from nyc ? to service description : book bus journeys from the biggest bus network in the country to slot description : city where bus is going to\n",
            "from service description : the comprehensive portal to find and reserve seats at events near you from slot description : city where event is happening: 0.33\tfrom service description : the comprehensive portal to find and reserve seats at events near you from slot description : name of event location: 0.33\tfrom service description : the comprehensive portal to find and reserve seats at events near you from slot description : street address of event location: 0.33\tWrong\n",
            "-----------------------------------------------------------------------------\n",
            "system : it ' s been booked and will cost you $ 190 in total user : great , now find me a hotel room to service description : a popular service for searching and res ##erving rooms in hotels to slot description : location of the hotel\n",
            "from service description : car rental service with extensive coverage of locations and cars from slot description : location of rental car pickup: 0.50\tfrom service description : car rental service with extensive coverage of locations and cars from slot description : city where rental car will be picked up: 0.50\tCorrect\n",
            "-----------------------------------------------------------------------------\n",
            "system : there are 10 events which match your search . there is mets vs braves . the event will be held at ci ##ti field on march 13th at 6 pm . user : that sounds awesome . i need a hotel too . to service description : accommodation searching and booking portal to slot description : city or town where the accommodation is located\n",
            "from service description : the comprehensive portal to find and reserve seats at events near you from slot description : city where event is happening: 0.33\tfrom service description : the comprehensive portal to find and reserve seats at events near you from slot description : name of event location: 0.33\tfrom service description : the comprehensive portal to find and reserve seats at events near you from slot description : street address of event location: 0.33\tWrong\n",
            "-----------------------------------------------------------------------------\n",
            "system : shall i book you a table that day ? user : yes , book me a table for then . to service description : a popular restaurant search and reservation service to slot description : tentative date of restaurant reservation\n",
            "from service description : discover the right therapist for you and make reservations easily from slot description : date of the appointment: 0.50\tfrom service description : discover the right therapist for you and make reservations easily from slot description : time of the appointment: 0.50\tCorrect\n",
            "-----------------------------------------------------------------------------\n",
            "system : yes , there ' s a bus departing at 10 am with 0 transfers for $ 56 . user : that ' s alright , are there any one way flights headed there ? prefer ##ably through united airlines . to service description : find one way and round trip flights to your favorite city to slot description : city in which the journey ends\n",
            "from service description : book bus journeys from the biggest bus network in the country from slot description : city where bus is leaving from: 0.50\tfrom service description : book bus journeys from the biggest bus network in the country from slot description : city where bus is going to: 0.50\tWrong\n",
            "-----------------------------------------------------------------------------\n",
            "system : shall i book the car ? user : not at the moment . help me look for a bus to get there . i need it for one person and i am going from ny . to service description : book bus journeys from the biggest bus network in the country to slot description : city where bus is going to\n",
            "from service description : car rental service with extensive coverage of locations and cars from slot description : location of rental car pickup: 0.50\tfrom service description : car rental service with extensive coverage of locations and cars from slot description : city where rental car will be picked up: 0.50\tCorrect\n",
            "-----------------------------------------------------------------------------\n",
            "system : if you would like american airlines , they have a flight at 11 : 40 am with 1 lay ##over . the ticket will run you $ 274 per ticket . user : i see . can you also pull up some hotels there as well ? to service description : a popular service for searching and res ##erving rooms in hotels to slot description : location of the hotel\n",
            "from service description : find one way and round trip flights to your favorite city from slot description : city in which the journey originates: 0.25\tfrom service description : find one way and round trip flights to your favorite city from slot description : city in which the journey ends: 0.25\tfrom service description : find one way and round trip flights to your favorite city from slot description : number of the airport flying out from: 0.25\tfrom service description : find one way and round trip flights to your favorite city from slot description : number of the airport flying to: 0.25\tWrong\n",
            "-----------------------------------------------------------------------------\n",
            "system : should we reserve a table now ? user : yes , let ' s go ahead and book for that day as well . to service description : a popular restaurant search and reservation service to slot description : tentative date of restaurant reservation\n",
            "from service description : discover the right therapist for you and make reservations easily from slot description : date of the appointment: 0.50\tfrom service description : discover the right therapist for you and make reservations easily from slot description : time of the appointment: 0.50\tCorrect\n",
            "-----------------------------------------------------------------------------\n",
            "system : do you want to reserve it ? user : yes , but later . right now i want to find an apartment to service description : a widely used service for finding apartments and scheduling visits to slot description : city where the apartment is located\n",
            "from service description : car rental service with extensive coverage of locations and cars from slot description : location of rental car pickup: 0.50\tfrom service description : car rental service with extensive coverage of locations and cars from slot description : city where rental car will be picked up: 0.50\tWrong\n",
            "-----------------------------------------------------------------------------\n",
            "system : would you like to buy a ticket user : no , not right now . what about a round trip flight to service description : find one way and round trip flights to your favorite city to slot description : city in which the journey originates\n",
            "from service description : book bus journeys from the biggest bus network in the country from slot description : city where bus is leaving from: 0.50\tfrom service description : book bus journeys from the biggest bus network in the country from slot description : city where bus is going to: 0.50\tCorrect\n",
            "-----------------------------------------------------------------------------\n",
            "system : do you want to reserve it ? user : yes , but later . right now i want to find an apartment to service description : a widely used service for finding apartments and scheduling visits to slot description : city where the apartment is located\n",
            "from service description : car rental service with extensive coverage of locations and cars from slot description : location of rental car pickup: 0.50\tfrom service description : car rental service with extensive coverage of locations and cars from slot description : city where rental car will be picked up: 0.50\tWrong\n",
            "-----------------------------------------------------------------------------\n",
            "system : anything else i can help with ? user : can you find me a bus from phil ##ly for 2 people ? to service description : book bus journeys from the biggest bus network in the country to slot description : city where bus is going to\n",
            "from service description : the comprehensive portal to find and reserve seats at events near you from slot description : city where event is happening: 0.33\tfrom service description : the comprehensive portal to find and reserve seats at events near you from slot description : name of event location: 0.33\tfrom service description : the comprehensive portal to find and reserve seats at events near you from slot description : street address of event location: 0.33\tCorrect\n",
            "-----------------------------------------------------------------------------\n",
            "system : there is a bus leaving at 8 : 10 am with 0 transfers for $ 36 . does this work for you ? user : that sounds good . can you find me a round trip flight going there ? i have 0 bags and would like a premium economy class ticket . to service description : find one way and round trip flights to your favorite city to slot description : city in which the journey originates\n",
            "from service description : book bus journeys from the biggest bus network in the country from slot description : city where bus is leaving from: 0.50\tfrom service description : book bus journeys from the biggest bus network in the country from slot description : city where bus is going to: 0.50\tWrong\n",
            "-----------------------------------------------------------------------------\n",
            "system : should we reserve a table now ? user : yes , let ' s go ahead and book for that day as well . to service description : a popular restaurant search and reservation service to slot description : tentative date of restaurant reservation\n",
            "from service description : discover the right therapist for you and make reservations easily from slot description : date of the appointment: 0.50\tfrom service description : discover the right therapist for you and make reservations easily from slot description : time of the appointment: 0.50\tCorrect\n",
            "-----------------------------------------------------------------------------\n",
            "system : do you need anything else ? user : i want a one - way flight there . i need four tickets and have 0 bags . i wanna fly with southwest airlines . to service description : find one way and round trip flights to your favorite city to slot description : city in which the journey originates\n",
            "from service description : book bus journeys from the biggest bus network in the country from slot description : city where bus is leaving from: 0.50\tfrom service description : book bus journeys from the biggest bus network in the country from slot description : city where bus is going to: 0.50\tWrong\n",
            "-----------------------------------------------------------------------------\n",
            "##################################################################################\n"
          ],
          "name": "stdout"
        },
        {
          "output_type": "stream",
          "text": [
            "/home/osman/anaconda3/lib/python3.7/site-packages/torch/storage.py:34: FutureWarning: pickle support for Storage will be removed in 1.5. Use `torch.save` instead\n",
            "  warnings.warn(\"pickle support for Storage will be removed in 1.5. Use `torch.save` instead\", FutureWarning)\n",
            "train loss: 1.02\ttrain acc 0.33\tvalid loss: 0.86\tvalid acc 0.46\tbatch: 99\ttime: 840.44                              "
          ],
          "name": "stderr"
        },
        {
          "output_type": "stream",
          "text": [
            "##################################################################################\n",
            "system : the reservation fee is $ 56 . user : okay then . i need a bus that will travel there from washington on the 1st of march . i have 4 people in my party , total . to service description : book bus journeys from the biggest bus network in the country to slot description : city where bus is going to\n",
            "from service description : car rental service with extensive coverage of locations and cars from slot description : location of rental car pickup: 0.50\tfrom service description : car rental service with extensive coverage of locations and cars from slot description : city where rental car will be picked up: 0.50\tCorrect\n",
            "-----------------------------------------------------------------------------\n",
            "system : do you want to purchase a ticket user : not right now . can you find me a bus to get there to service description : book bus journeys from the biggest bus network in the country to slot description : city where bus is going to\n",
            "from service description : the comprehensive portal to find and reserve seats at events near you from slot description : city where event is happening: 0.34\tfrom service description : the comprehensive portal to find and reserve seats at events near you from slot description : name of event location: 0.33\tfrom service description : the comprehensive portal to find and reserve seats at events near you from slot description : street address of event location: 0.33\tCorrect\n",
            "-----------------------------------------------------------------------------\n",
            "system : it ' s been booked and will cost you $ 190 in total user : great , now find me a hotel room to service description : a popular service for searching and res ##erving rooms in hotels to slot description : location of the hotel\n",
            "from service description : car rental service with extensive coverage of locations and cars from slot description : location of rental car pickup: 0.50\tfrom service description : car rental service with extensive coverage of locations and cars from slot description : city where rental car will be picked up: 0.50\tCorrect\n",
            "-----------------------------------------------------------------------------\n",
            "system : no , it arrives on the same day . user : okay . can you find some hotels there ? i ' d like a 4 star hotel . to service description : accommodation searching and booking portal to slot description : city or town where the accommodation is located\n",
            "from service description : find one way and round trip flights to your favorite city from slot description : city in which the journey originates: 0.25\tfrom service description : find one way and round trip flights to your favorite city from slot description : city in which the journey ends: 0.25\tfrom service description : find one way and round trip flights to your favorite city from slot description : number of the airport flying out from: 0.25\tfrom service description : find one way and round trip flights to your favorite city from slot description : number of the airport flying to: 0.25\tWrong\n",
            "-----------------------------------------------------------------------------\n",
            "system : it ' ll be $ 70 in total . user : sure . can you get me 4 tickets on a bus there from las vegas this sunday ? to service description : book bus journeys from the biggest bus network in the country to slot description : city where bus is going to\n",
            "from service description : car rental service with extensive coverage of locations and cars from slot description : location of rental car pickup: 0.50\tfrom service description : car rental service with extensive coverage of locations and cars from slot description : city where rental car will be picked up: 0.50\tCorrect\n",
            "-----------------------------------------------------------------------------\n",
            "system : ph ##l international airport is the leaving place and j ##fk international airport is the destination . user : i understand . find for me hotels in that area . to service description : accommodation searching and booking portal to slot description : city or town where the accommodation is located\n",
            "from service description : find one way and round trip flights to your favorite city from slot description : city in which the journey originates: 0.25\tfrom service description : find one way and round trip flights to your favorite city from slot description : city in which the journey ends: 0.25\tfrom service description : find one way and round trip flights to your favorite city from slot description : number of the airport flying out from: 0.25\tfrom service description : find one way and round trip flights to your favorite city from slot description : number of the airport flying to: 0.25\tWrong\n",
            "-----------------------------------------------------------------------------\n",
            "system : your tickets are booked . enjoy the show ! the concert is happening at the foundry . user : thanks for your help . i ' d also like to find a bus ride there . to service description : book bus journeys from the biggest bus network in the country to slot description : city where bus is going to\n",
            "from service description : the comprehensive portal to find and reserve seats at events near you from slot description : city where event is happening: 0.33\tfrom service description : the comprehensive portal to find and reserve seats at events near you from slot description : name of event location: 0.33\tfrom service description : the comprehensive portal to find and reserve seats at events near you from slot description : street address of event location: 0.33\tCorrect\n",
            "-----------------------------------------------------------------------------\n",
            "system : the bus goes from union station to sales ##force transit center . user : great , thank you . i need a one ##way plane ticket , too . to service description : find one way and round trip flights to your favorite city to slot description : city in which the journey originates\n",
            "from service description : book bus journeys from the biggest bus network in the country from slot description : city where bus is leaving from: 0.50\tfrom service description : book bus journeys from the biggest bus network in the country from slot description : city where bus is going to: 0.50\tWrong\n",
            "-----------------------------------------------------------------------------\n",
            "system : do you want to reserve it ? user : yes , but later . right now i want to find an apartment to service description : a widely used service for finding apartments and scheduling visits to slot description : city where the apartment is located\n",
            "from service description : car rental service with extensive coverage of locations and cars from slot description : location of rental car pickup: 0.50\tfrom service description : car rental service with extensive coverage of locations and cars from slot description : city where rental car will be picked up: 0.50\tCorrect\n",
            "-----------------------------------------------------------------------------\n",
            "system : i found 8 buses for you . what about 9 : 20 am departure with 0 transfer for $ 40 user : per ##fe ##c , t what about round ##trip flights to service description : find one way and round trip flights to your favorite city to slot description : city in which the journey originates\n",
            "from service description : book bus journeys from the biggest bus network in the country from slot description : city where bus is leaving from: 0.50\tfrom service description : book bus journeys from the biggest bus network in the country from slot description : city where bus is going to: 0.50\tWrong\n",
            "-----------------------------------------------------------------------------\n",
            "system : your reservation is confirmed . the event is going to be at lincoln financial field . user : thanks ! i need bus tickets from ny to get there . to service description : book bus journeys from the biggest bus network in the country to slot description : city where bus is going to\n",
            "from service description : the comprehensive portal to find and reserve seats at events near you from slot description : city where event is happening: 0.33\tfrom service description : the comprehensive portal to find and reserve seats at events near you from slot description : name of event location: 0.33\tfrom service description : the comprehensive portal to find and reserve seats at events near you from slot description : street address of event location: 0.33\tCorrect\n",
            "-----------------------------------------------------------------------------\n",
            "system : would you like to buy a tick ##er for this bus ? user : no , not right now . can you find me a round trip flight going there ? to service description : find one way and round trip flights to your favorite city to slot description : city in which the journey originates\n",
            "from service description : book bus journeys from the biggest bus network in the country from slot description : city where bus is leaving from: 0.50\tfrom service description : book bus journeys from the biggest bus network in the country from slot description : city where bus is going to: 0.50\tWrong\n",
            "-----------------------------------------------------------------------------\n",
            "system : there ' s a nice car that is available at sf ##o international airport on march 6th , it is a compact cooper . user : okay , i lie ##k that one . is there a bus going there for 3 persons ? we are from la and will be leaving on march 2nd . to service description : book bus journeys from the biggest bus network in the country to slot description : city where bus is going to\n",
            "from service description : car rental service with extensive coverage of locations and cars from slot description : location of rental car pickup: 0.50\tfrom service description : car rental service with extensive coverage of locations and cars from slot description : city where rental car will be picked up: 0.50\tCorrect\n",
            "-----------------------------------------------------------------------------\n",
            "system : shall i get you something else ? user : is there a one ##way flight to that place ? to service description : find one way and round trip flights to your favorite city to slot description : city in which the journey originates\n",
            "from service description : book bus journeys from the biggest bus network in the country from slot description : city where bus is leaving from: 0.50\tfrom service description : book bus journeys from the biggest bus network in the country from slot description : city where bus is going to: 0.50\tWrong\n",
            "-----------------------------------------------------------------------------\n",
            "system : would you like to purchase tickets for the event ? user : not right now but could you help me find hotels in the area as well ? to service description : accommodation searching and booking portal to slot description : city or town where the accommodation is located\n",
            "from service description : the comprehensive portal to find and reserve seats at events near you from slot description : city where event is happening: 0.33\tfrom service description : the comprehensive portal to find and reserve seats at events near you from slot description : name of event location: 0.33\tfrom service description : the comprehensive portal to find and reserve seats at events near you from slot description : street address of event location: 0.33\tCorrect\n",
            "-----------------------------------------------------------------------------\n",
            "system : shall i help you with something else ? user : what do you know of a one ##way flight to the place ? i need economy class tickets for the 4th and i will be carrying 0 bags . to service description : find one way and round trip flights to your favorite city to slot description : city in which the journey originates\n",
            "from service description : book bus journeys from the biggest bus network in the country from slot description : city where bus is leaving from: 0.50\tfrom service description : book bus journeys from the biggest bus network in the country from slot description : city where bus is going to: 0.50\tWrong\n",
            "-----------------------------------------------------------------------------\n",
            "system : got 6 results , what about a standard accord car available for pick up at fremont bart station on march 1st ? user : that is perfect and one more help i need from you . can you search for an apartment with three baths ? . i want the one which is fully furnished and the same should be in that area that is in previously said location . to service description : a widely used service for finding apartments and scheduling visits to slot description :\n",
            "from service description : car rental service with extensive coverage of locations and cars from slot description : location of rental car pickup: 0.50\tfrom service description : car rental service with extensive coverage of locations and cars from slot description : city where rental car will be picked up: 0.50\tCorrect\n",
            "-----------------------------------------------------------------------------\n",
            "system : i discovered 1 flight for you . there is a ticket for a delta airlines flight costing $ 116 that takes off at 6 : 20 am local time . its return flight leaves at 4 : 20 am local time . user : okay . can you search for hotels nearby ? i require three rooms . to service description : accommodation searching and booking portal to slot description : city or town where the accommodation is located\n",
            "from service description : find one way and round trip flights to your favorite city from slot description : city in which the journey originates: 0.25\tfrom service description : find one way and round trip flights to your favorite city from slot description : city in which the journey ends: 0.25\tfrom service description : find one way and round trip flights to your favorite city from slot description : number of the airport flying out from: 0.25\tfrom service description : find one way and round trip flights to your favorite city from slot description : number of the airport flying to: 0.25\tWrong\n",
            "-----------------------------------------------------------------------------\n",
            "##################################################################################\n"
          ],
          "name": "stdout"
        },
        {
          "output_type": "stream",
          "text": [
            "train loss: 0.10\ttrain acc 0.95\tvalid loss: 0.86\tvalid acc 0.86\tbatch: 199\ttime: 1685.79                              "
          ],
          "name": "stderr"
        },
        {
          "output_type": "stream",
          "text": [
            "##################################################################################\n",
            "system : do you want me to order tickets ? user : not just yet . can you check round trip flights ? i ' d like to go on the 3rd of this month . to service description : find one way and round trip flights to your favorite city to slot description : city in which the journey ends\n",
            "from service description : book bus journeys from the biggest bus network in the country from slot description : city where bus is leaving from: 0.40\tfrom service description : book bus journeys from the biggest bus network in the country from slot description : city where bus is going to: 0.60\tCorrect\n",
            "-----------------------------------------------------------------------------\n",
            "system : union station will be your station of origin . user : that sounds fine . what about any round ##trip flights that are going there ? to service description : find one way and round trip flights to your favorite city to slot description : city in which the journey originates\n",
            "from service description : book bus journeys from the biggest bus network in the country from slot description : city where bus is leaving from: 0.39\tfrom service description : book bus journeys from the biggest bus network in the country from slot description : city where bus is going to: 0.61\tWrong\n",
            "-----------------------------------------------------------------------------\n",
            "system : do you want to reserve it ? user : yes , but later . right now i want to find an apartment to service description : a widely used service for finding apartments and scheduling visits to slot description : city where the apartment is located\n",
            "from service description : car rental service with extensive coverage of locations and cars from slot description : location of rental car pickup: 0.01\tfrom service description : car rental service with extensive coverage of locations and cars from slot description : city where rental car will be picked up: 0.99\tCorrect\n",
            "-----------------------------------------------------------------------------\n",
            "system : do you want to purchase a ticket user : not right now . can you find me a bus to get there to service description : book bus journeys from the biggest bus network in the country to slot description : city where bus is going to\n",
            "from service description : the comprehensive portal to find and reserve seats at events near you from slot description : city where event is happening: 0.98\tfrom service description : the comprehensive portal to find and reserve seats at events near you from slot description : name of event location: 0.01\tfrom service description : the comprehensive portal to find and reserve seats at events near you from slot description : street address of event location: 0.01\tCorrect\n",
            "-----------------------------------------------------------------------------\n",
            "system : it is good user : four star 3 rooms to service description : accommodation searching and booking portal to slot description : city or town where the accommodation is located\n",
            "from service description : book bus journeys from the biggest bus network in the country from slot description : city where bus is leaving from: 0.30\tfrom service description : book bus journeys from the biggest bus network in the country from slot description : city where bus is going to: 0.70\tCorrect\n",
            "-----------------------------------------------------------------------------\n",
            "system : this is an economy class ticket . user : okay . can you find me a hotel in the area too ? to service description : accommodation searching and booking portal to slot description : city or town where the accommodation is located\n",
            "from service description : find one way and round trip flights to your favorite city from slot description : city in which the journey originates: 0.50\tfrom service description : find one way and round trip flights to your favorite city from slot description : city in which the journey ends: 0.50\tfrom service description : find one way and round trip flights to your favorite city from slot description : number of the airport flying out from: 0.00\tfrom service description : find one way and round trip flights to your favorite city from slot description : number of the airport flying to: 0.00\tWrong\n",
            "-----------------------------------------------------------------------------\n",
            "system : there is a bus leaving at 7 : 10 am with 0 transfers for $ 30 . user : okay , thanks . what about a one way flight going there ? i want to fly on delta airlines . to service description : find one way and round trip flights to your favorite city to slot description : city in which the journey ends\n",
            "from service description : book bus journeys from the biggest bus network in the country from slot description : city where bus is leaving from: 0.43\tfrom service description : book bus journeys from the biggest bus network in the country from slot description : city where bus is going to: 0.57\tCorrect\n",
            "-----------------------------------------------------------------------------\n",
            "system : i ' ve found 4 different flights you might be interested in . do you like american airlines ? they have a flight leaving at 6 : 50 am that has 0 lay ##overs . it costs only $ 116 per ticket . user : okay . i also need to find a room out there . i ' m looking for 1 room with wi ##fi . to service description : a popular service for searching and res ##erving rooms in hotels to slot description\n",
            "from service description : find one way and round trip flights to your favorite city from slot description : city in which the journey originates: 0.47\tfrom service description : find one way and round trip flights to your favorite city from slot description : city in which the journey ends: 0.52\tfrom service description : find one way and round trip flights to your favorite city from slot description : number of the airport flying out from: 0.01\tfrom service description : find one way and round trip flights to your favorite city from slot description : number of the airport flying to: 0.00\tCorrect\n",
            "-----------------------------------------------------------------------------\n",
            "system : it ' s been booked and will cost you $ 190 in total user : great , now find me a hotel room to service description : a popular service for searching and res ##erving rooms in hotels to slot description : location of the hotel\n",
            "from service description : car rental service with extensive coverage of locations and cars from slot description : location of rental car pickup: 0.02\tfrom service description : car rental service with extensive coverage of locations and cars from slot description : city where rental car will be picked up: 0.98\tCorrect\n",
            "-----------------------------------------------------------------------------\n",
            "system : amber run brooklyn is playing at warsaw on march 14th at 6 pm . how does that sound ? user : that sounds great . can you find me a bus going there for three people ? to service description : book bus journeys from the biggest bus network in the country to slot description : city where bus is going to\n",
            "from service description : the comprehensive portal to find and reserve seats at events near you from slot description : city where event is happening: 0.98\tfrom service description : the comprehensive portal to find and reserve seats at events near you from slot description : name of event location: 0.01\tfrom service description : the comprehensive portal to find and reserve seats at events near you from slot description : street address of event location: 0.01\tCorrect\n",
            "-----------------------------------------------------------------------------\n",
            "system : there is a 4 star hotel called hilton check ##ers los angeles . user : sure , could you purchase the event tickets now ? to service description : the comprehensive portal to find and reserve seats at events near you to slot description : date of occurrence of event\n",
            "from service description : find one way and round trip flights to your favorite city from slot description : date of departure flight: 0.49\tfrom service description : find one way and round trip flights to your favorite city from slot description : date of return flight: 0.49\tfrom service description : find one way and round trip flights to your favorite city from slot description : local time of departure of flight from origin to destination: 0.00\tfrom service description : find one way and round trip flights to your favorite city from slot description : local time of arrival of flight from origin to destination: 0.00\tfrom service description : find one way and round trip flights to your favorite city from slot description : local time of arrival of flight from destination to origin: 0.00\tfrom service description : find one way and round trip flights to your favorite city from slot description : local time of departure of flight from destination to origin: 0.00\tWrong\n",
            "-----------------------------------------------------------------------------\n",
            "system : your car is reserved and costs $ 203 total . user : i also need a room . to service description : a popular service for searching and res ##erving rooms in hotels to slot description : location of the hotel\n",
            "from service description : car rental service with extensive coverage of locations and cars from slot description : location of rental car pickup: 0.02\tfrom service description : car rental service with extensive coverage of locations and cars from slot description : city where rental car will be picked up: 0.98\tCorrect\n",
            "-----------------------------------------------------------------------------\n",
            "system : any more help you want me to do ? user : yes , i want to find a one - way flight to go there and i need to book it for 3 persons . to service description : find one way and round trip flights to your favorite city to slot description : city in which the journey originates\n",
            "from service description : book bus journeys from the biggest bus network in the country from slot description : city where bus is leaving from: 0.40\tfrom service description : book bus journeys from the biggest bus network in the country from slot description : city where bus is going to: 0.60\tWrong\n",
            "-----------------------------------------------------------------------------\n",
            "system : should we reserve a table now ? user : yes , let ' s go ahead and book for that day as well . to service description : a popular restaurant search and reservation service to slot description : tentative date of restaurant reservation\n",
            "from service description : discover the right therapist for you and make reservations easily from slot description : date of the appointment: 0.99\tfrom service description : discover the right therapist for you and make reservations easily from slot description : time of the appointment: 0.01\tCorrect\n",
            "-----------------------------------------------------------------------------\n",
            "##################################################################################\n"
          ],
          "name": "stdout"
        },
        {
          "output_type": "stream",
          "text": [
            "train loss: 0.01\ttrain acc 1.00\tvalid loss: 0.18\tvalid acc 0.93\tbatch: 299\ttime: 2531.53                              "
          ],
          "name": "stderr"
        },
        {
          "output_type": "stream",
          "text": [
            "##################################################################################\n",
            "system : there ' s blue jays vs astros at rogers centre . that ' s popular . it ' s on march 13th at 6 : 30 pm . user : that ' s excellent . what are some hotels near there ? to service description : accommodation searching and booking portal to slot description : city or town where the accommodation is located\n",
            "from service description : the comprehensive portal to find and reserve seats at events near you from slot description : city where event is happening: 1.00\tfrom service description : the comprehensive portal to find and reserve seats at events near you from slot description : name of event location: 0.00\tfrom service description : the comprehensive portal to find and reserve seats at events near you from slot description : street address of event location: 0.00\tCorrect\n",
            "-----------------------------------------------------------------------------\n",
            "system : the rental is $ 116 total . user : okay , that should work . i also need help looking for an three bathroom apartment in that area that allows pets . to service description : a widely used service for finding apartments and scheduling visits to slot description : city where the apartment is located\n",
            "from service description : car rental service with extensive coverage of locations and cars from slot description : location of rental car pickup: 0.00\tfrom service description : car rental service with extensive coverage of locations and cars from slot description : city where rental car will be picked up: 1.00\tCorrect\n",
            "-----------------------------------------------------------------------------\n",
            "system : anything else i can help you with ? user : can you find me a one ##way economy flight with american airlines ? i have zero bags . to service description : find one way and round trip flights to your favorite city to slot description : city in which the journey originates\n",
            "from service description : book bus journeys from the biggest bus network in the country from slot description : city where bus is leaving from: 0.01\tfrom service description : book bus journeys from the biggest bus network in the country from slot description : city where bus is going to: 0.99\tWrong\n",
            "-----------------------------------------------------------------------------\n",
            "system : should we reserve a table now ? user : yes , let ' s go ahead and book for that day as well . to service description : a popular restaurant search and reservation service to slot description : tentative date of restaurant reservation\n",
            "from service description : discover the right therapist for you and make reservations easily from slot description : date of the appointment: 1.00\tfrom service description : discover the right therapist for you and make reservations easily from slot description : time of the appointment: 0.00\tCorrect\n",
            "-----------------------------------------------------------------------------\n",
            "system : would you like to buy tickets to this bus right now ? user : not right now , can you tell me if there are any united airlines round trip flights going there ? to service description : find one way and round trip flights to your favorite city to slot description : city in which the journey originates\n",
            "from service description : book bus journeys from the biggest bus network in the country from slot description : city where bus is leaving from: 0.02\tfrom service description : book bus journeys from the biggest bus network in the country from slot description : city where bus is going to: 0.98\tWrong\n",
            "-----------------------------------------------------------------------------\n",
            "system : there are 4 flights available . you would like a flight on air canada that costs $ 310 it leaves at 4 : 20 am and there is 1 lay ##over . user : that would be fine . i would need a hotel room when i get there . to service description : a popular service for searching and res ##erving rooms in hotels to slot description : location of the hotel\n",
            "from service description : find one way and round trip flights to your favorite city from slot description : city in which the journey originates: 0.32\tfrom service description : find one way and round trip flights to your favorite city from slot description : city in which the journey ends: 0.66\tfrom service description : find one way and round trip flights to your favorite city from slot description : number of the airport flying out from: 0.01\tfrom service description : find one way and round trip flights to your favorite city from slot description : number of the airport flying to: 0.01\tCorrect\n",
            "-----------------------------------------------------------------------------\n",
            "system : i found 6 cars for you . there is a standard honda accord available for pickup at santa fe depot on march 6th . user : okay , thanks . i also want to find a bus going to san francisco for two people on the 1st of this month . to service description : book bus journeys from the biggest bus network in the country to slot description : city where bus is going to\n",
            "from service description : car rental service with extensive coverage of locations and cars from slot description : location of rental car pickup: 0.00\tfrom service description : car rental service with extensive coverage of locations and cars from slot description : city where rental car will be picked up: 1.00\tCorrect\n",
            "-----------------------------------------------------------------------------\n",
            "system : the bus goes from union station to sales ##force transit center . user : great , thank you . i need a one ##way plane ticket , too . to service description : find one way and round trip flights to your favorite city to slot description : city in which the journey originates\n",
            "from service description : book bus journeys from the biggest bus network in the country from slot description : city where bus is leaving from: 0.01\tfrom service description : book bus journeys from the biggest bus network in the country from slot description : city where bus is going to: 0.99\tWrong\n",
            "-----------------------------------------------------------------------------\n",
            "system : shall i book the car ? user : not at the moment . help me look for a bus to get there . i need it for one person and i am going from ny . to service description : book bus journeys from the biggest bus network in the country to slot description : city where bus is going to\n",
            "from service description : car rental service with extensive coverage of locations and cars from slot description : location of rental car pickup: 0.00\tfrom service description : car rental service with extensive coverage of locations and cars from slot description : city where rental car will be picked up: 1.00\tCorrect\n",
            "-----------------------------------------------------------------------------\n",
            "system : another nice standard car is a sent ##ra , which can be picked up at clayton valley on march 4th . user : that seems nice . i also need to find an apartment in that area , so i will have a place to stay . i want the apartment to have three bedrooms , and for the pets to be welcomed there . to service description : a widely used service for finding apartments and scheduling visits to slot description : city where the apartment is\n",
            "from service description : car rental service with extensive coverage of locations and cars from slot description : location of rental car pickup: 0.00\tfrom service description : car rental service with extensive coverage of locations and cars from slot description : city where rental car will be picked up: 1.00\tCorrect\n",
            "-----------------------------------------------------------------------------\n",
            "system : okay , i found 4 buses . how about the 7 : 20 am bus with 0 transfers for $ 41 ? user : sounds good . are there any one - way flights ? to service description : find one way and round trip flights to your favorite city to slot description : city in which the journey originates\n",
            "from service description : book bus journeys from the biggest bus network in the country from slot description : city where bus is leaving from: 0.02\tfrom service description : book bus journeys from the biggest bus network in the country from slot description : city where bus is going to: 0.98\tWrong\n",
            "-----------------------------------------------------------------------------\n",
            "system : do you want to purchase a ticket user : not right now . can you find me a bus to get there to service description : book bus journeys from the biggest bus network in the country to slot description : city where bus is going to\n",
            "from service description : the comprehensive portal to find and reserve seats at events near you from slot description : city where event is happening: 1.00\tfrom service description : the comprehensive portal to find and reserve seats at events near you from slot description : name of event location: 0.00\tfrom service description : the comprehensive portal to find and reserve seats at events near you from slot description : street address of event location: 0.00\tCorrect\n",
            "-----------------------------------------------------------------------------\n",
            "system : i have 6 possible cars for you . there ' s a standard cam ##ry at lax international airport on march 12th . user : okay , thanks . i also need a bus ticket please . to service description : book bus journeys from the biggest bus network in the country to slot description : city where bus is going to\n",
            "from service description : car rental service with extensive coverage of locations and cars from slot description : location of rental car pickup: 0.00\tfrom service description : car rental service with extensive coverage of locations and cars from slot description : city where rental car will be picked up: 1.00\tCorrect\n",
            "-----------------------------------------------------------------------------\n",
            "system : would you like to purchases tickets for the bus ? user : no , let ' s not get tickets . let ' s search for round ##trip flights going there . to service description : find one way and round trip flights to your favorite city to slot description : city in which the journey originates\n",
            "from service description : book bus journeys from the biggest bus network in the country from slot description : city where bus is leaving from: 0.01\tfrom service description : book bus journeys from the biggest bus network in the country from slot description : city where bus is going to: 0.99\tWrong\n",
            "-----------------------------------------------------------------------------\n",
            "system : could i further assist you ? user : could you get me a hotel room there too ? to service description : a popular service for searching and res ##erving rooms in hotels to slot description : location of the hotel\n",
            "from service description : car rental service with extensive coverage of locations and cars from slot description : location of rental car pickup: 0.00\tfrom service description : car rental service with extensive coverage of locations and cars from slot description : city where rental car will be picked up: 1.00\tCorrect\n",
            "-----------------------------------------------------------------------------\n",
            "##################################################################################\n"
          ],
          "name": "stdout"
        },
        {
          "output_type": "stream",
          "text": [
            "train loss: 0.00\ttrain acc 1.00\tvalid loss: 0.26\tvalid acc 0.94\tbatch: 399\ttime: 3377.40                              "
          ],
          "name": "stderr"
        },
        {
          "output_type": "stream",
          "text": [
            "##################################################################################\n",
            "system : it ' s a blues event . user : sounds good . would you find me more hotels in that area ? to service description : accommodation searching and booking portal to slot description : city or town where the accommodation is located\n",
            "from service description : the comprehensive portal to find and reserve seats at events near you from slot description : city where event is happening: 1.00\tfrom service description : the comprehensive portal to find and reserve seats at events near you from slot description : name of event location: 0.00\tfrom service description : the comprehensive portal to find and reserve seats at events near you from slot description : street address of event location: 0.00\tCorrect\n",
            "-----------------------------------------------------------------------------\n",
            "system : should i buy the ticket ? user : no thanks . can you get me a one - way flight there with delta airlines on the 10th of this month ? i ' ll check zero bags . to service description : find one way and round trip flights to your favorite city to slot description : city in which the journey originates\n",
            "from service description : book bus journeys from the biggest bus network in the country from slot description : city where bus is leaving from: 0.04\tfrom service description : book bus journeys from the biggest bus network in the country from slot description : city where bus is going to: 0.96\tWrong\n",
            "-----------------------------------------------------------------------------\n",
            "system : do you need anything else ? user : i ' m looking for a 3 star hotel in that area to service description : accommodation searching and booking portal to slot description : city or town where the accommodation is located\n",
            "from service description : book bus journeys from the biggest bus network in the country from slot description : city where bus is leaving from: 0.00\tfrom service description : book bus journeys from the biggest bus network in the country from slot description : city where bus is going to: 1.00\tCorrect\n",
            "-----------------------------------------------------------------------------\n",
            "system : would you like to purchase tickets on this ride ? user : nope , i do not wish to purchase tickets right now . what about a round ##trip flight headed there , prefer ##ably on united airlines ? to service description : find one way and round trip flights to your favorite city to slot description : city in which the journey originates\n",
            "from service description : book bus journeys from the biggest bus network in the country from slot description : city where bus is leaving from: 0.03\tfrom service description : book bus journeys from the biggest bus network in the country from slot description : city where bus is going to: 0.97\tWrong\n",
            "-----------------------------------------------------------------------------\n",
            "system : it ' s at 8 : 30 pm . it will take place in 123 ##4 west 7th street . your ticket is booked ! have a good time there ! user : now i need a bus to go there to service description : book bus journeys from the biggest bus network in the country to slot description : city where bus is going to\n",
            "from service description : the comprehensive portal to find and reserve seats at events near you from slot description : city where event is happening: 1.00\tfrom service description : the comprehensive portal to find and reserve seats at events near you from slot description : name of event location: 0.00\tfrom service description : the comprehensive portal to find and reserve seats at events near you from slot description : street address of event location: 0.00\tCorrect\n",
            "-----------------------------------------------------------------------------\n",
            "system : shall i book the car ? user : not at the moment . help me look for a bus to get there . i need it for one person and i am going from ny . to service description : book bus journeys from the biggest bus network in the country to slot description : city where bus is going to\n",
            "from service description : car rental service with extensive coverage of locations and cars from slot description : location of rental car pickup: 0.00\tfrom service description : car rental service with extensive coverage of locations and cars from slot description : city where rental car will be picked up: 1.00\tCorrect\n",
            "-----------------------------------------------------------------------------\n",
            "system : should we reserve a table now ? user : yes , let ' s go ahead and book for that day as well . to service description : a popular restaurant search and reservation service to slot description : tentative date of restaurant reservation\n",
            "from service description : discover the right therapist for you and make reservations easily from slot description : date of the appointment: 1.00\tfrom service description : discover the right therapist for you and make reservations easily from slot description : time of the appointment: 0.00\tCorrect\n",
            "-----------------------------------------------------------------------------\n",
            "system : can i help you with anything else ? user : i ' d like to buy tickets to that event from earlier . to service description : the comprehensive portal to find and reserve seats at events near you to slot description : date of occurrence of event\n",
            "from service description : find one way and round trip flights to your favorite city from slot description : date of departure flight: 0.48\tfrom service description : find one way and round trip flights to your favorite city from slot description : date of return flight: 0.52\tfrom service description : find one way and round trip flights to your favorite city from slot description : local time of departure of flight from origin to destination: 0.00\tfrom service description : find one way and round trip flights to your favorite city from slot description : local time of arrival of flight from origin to destination: 0.00\tfrom service description : find one way and round trip flights to your favorite city from slot description : local time of arrival of flight from destination to origin: 0.00\tfrom service description : find one way and round trip flights to your favorite city from slot description : local time of departure of flight from destination to origin: 0.00\tWrong\n",
            "-----------------------------------------------------------------------------\n",
            "system : do you want to reserve a table ? user : yes , please . can you make it for 11 : 45 ? to service description : a popular restaurant search and reservation service to slot description : tentative date of restaurant reservation\n",
            "from service description : discover the right therapist for you and make reservations easily from slot description : date of the appointment: 1.00\tfrom service description : discover the right therapist for you and make reservations easily from slot description : time of the appointment: 0.00\tCorrect\n",
            "-----------------------------------------------------------------------------\n",
            "system : there are 10 buses leaving on that there . there is a bus that would be leaving at 6 : 10 am . it costs $ 30 and there are 0 transfers . user : that would be great . what about an one ##way flight to get there ? to service description : find one way and round trip flights to your favorite city to slot description : city in which the journey originates\n",
            "from service description : book bus journeys from the biggest bus network in the country from slot description : city where bus is leaving from: 0.15\tfrom service description : book bus journeys from the biggest bus network in the country from slot description : city where bus is going to: 0.85\tWrong\n",
            "-----------------------------------------------------------------------------\n",
            "system : it ' s been booked and will cost you $ 190 in total user : great , now find me a hotel room to service description : a popular service for searching and res ##erving rooms in hotels to slot description : location of the hotel\n",
            "from service description : car rental service with extensive coverage of locations and cars from slot description : location of rental car pickup: 0.00\tfrom service description : car rental service with extensive coverage of locations and cars from slot description : city where rental car will be picked up: 1.00\tCorrect\n",
            "-----------------------------------------------------------------------------\n",
            "system : there are 8 buses which match your selection . this bus will depart at 8 : 10 am and it will cost $ 32 with 0 transfers . user : that sounds good . how about a one ##way flight ? to service description : find one way and round trip flights to your favorite city to slot description : city in which the journey originates\n",
            "from service description : book bus journeys from the biggest bus network in the country from slot description : city where bus is leaving from: 0.10\tfrom service description : book bus journeys from the biggest bus network in the country from slot description : city where bus is going to: 0.90\tWrong\n",
            "-----------------------------------------------------------------------------\n",
            "system : the address is 111 ##1 south fig ##uer ##oa street . user : that sounds great ! can you find me a hotel in that area too ? to service description : accommodation searching and booking portal to slot description : city or town where the accommodation is located\n",
            "from service description : the comprehensive portal to find and reserve seats at events near you from slot description : city where event is happening: 1.00\tfrom service description : the comprehensive portal to find and reserve seats at events near you from slot description : name of event location: 0.00\tfrom service description : the comprehensive portal to find and reserve seats at events near you from slot description : street address of event location: 0.00\tCorrect\n",
            "-----------------------------------------------------------------------------\n",
            "system : your tickets are booked and you will be departing fresno station . user : thanks a bunch . i need a hotel near there too . to service description : accommodation searching and booking portal to slot description : city or town where the accommodation is located\n",
            "from service description : book bus journeys from the biggest bus network in the country from slot description : city where bus is leaving from: 0.00\tfrom service description : book bus journeys from the biggest bus network in the country from slot description : city where bus is going to: 1.00\tCorrect\n",
            "-----------------------------------------------------------------------------\n",
            "system : do you want to reserve it ? user : yes , but later . right now i want to find an apartment to service description : a widely used service for finding apartments and scheduling visits to slot description : city where the apartment is located\n",
            "from service description : car rental service with extensive coverage of locations and cars from slot description : location of rental car pickup: 0.00\tfrom service description : car rental service with extensive coverage of locations and cars from slot description : city where rental car will be picked up: 1.00\tCorrect\n",
            "-----------------------------------------------------------------------------\n",
            "system : would you like to buy a tick ##er for this bus ? user : no , not right now . can you find me a round trip flight going there ? to service description : find one way and round trip flights to your favorite city to slot description : city in which the journey originates\n",
            "from service description : book bus journeys from the biggest bus network in the country from slot description : city where bus is leaving from: 0.07\tfrom service description : book bus journeys from the biggest bus network in the country from slot description : city where bus is going to: 0.93\tWrong\n",
            "-----------------------------------------------------------------------------\n",
            "##################################################################################\n"
          ],
          "name": "stdout"
        },
        {
          "output_type": "stream",
          "text": [
            "train loss: 0.00\ttrain acc 1.00\tvalid loss: 0.25\tvalid acc 0.93\tbatch: 499\ttime: 4220.44                              "
          ],
          "name": "stderr"
        },
        {
          "output_type": "stream",
          "text": [
            "##################################################################################\n",
            "system : 123 - 01 roosevelt avenue at ci ##ti field . user : thanks . get a rental car to pick up 8th of march at 17 : 00 and return march 14th . to service description : car rental service with extensive coverage of locations and cars to slot description : city where rental car will be picked up\n",
            "from service description : the comprehensive portal to find and reserve seats at events near you from slot description : city where event is happening: 1.00\tfrom service description : the comprehensive portal to find and reserve seats at events near you from slot description : name of event location: 0.00\tfrom service description : the comprehensive portal to find and reserve seats at events near you from slot description : street address of event location: 0.00\tCorrect\n",
            "-----------------------------------------------------------------------------\n",
            "system : there is a 4 star hotel called hilton check ##ers los angeles . user : sure , could you purchase the event tickets now ? to service description : the comprehensive portal to find and reserve seats at events near you to slot description : date of occurrence of event\n",
            "from service description : find one way and round trip flights to your favorite city from slot description : date of departure flight: 0.49\tfrom service description : find one way and round trip flights to your favorite city from slot description : date of return flight: 0.50\tfrom service description : find one way and round trip flights to your favorite city from slot description : local time of departure of flight from origin to destination: 0.00\tfrom service description : find one way and round trip flights to your favorite city from slot description : local time of arrival of flight from origin to destination: 0.00\tfrom service description : find one way and round trip flights to your favorite city from slot description : local time of arrival of flight from destination to origin: 0.00\tfrom service description : find one way and round trip flights to your favorite city from slot description : local time of departure of flight from destination to origin: 0.00\tWrong\n",
            "-----------------------------------------------------------------------------\n",
            "system : i have a economy ticket user : fine and can you also try looking for 1 room in a 3 - star hotel in this area ? to service description : accommodation searching and booking portal to slot description : city or town where the accommodation is located\n",
            "from service description : find one way and round trip flights to your favorite city from slot description : city in which the journey originates: 0.49\tfrom service description : find one way and round trip flights to your favorite city from slot description : city in which the journey ends: 0.51\tfrom service description : find one way and round trip flights to your favorite city from slot description : number of the airport flying out from: 0.00\tfrom service description : find one way and round trip flights to your favorite city from slot description : number of the airport flying to: 0.00\tCorrect\n",
            "-----------------------------------------------------------------------------\n",
            "system : should we reserve a table now ? user : yes , let ' s go ahead and book for that day as well . to service description : a popular restaurant search and reservation service to slot description : tentative date of restaurant reservation\n",
            "from service description : discover the right therapist for you and make reservations easily from slot description : date of the appointment: 1.00\tfrom service description : discover the right therapist for you and make reservations easily from slot description : time of the appointment: 0.00\tCorrect\n",
            "-----------------------------------------------------------------------------\n",
            "system : is there anything else i can help you with ? user : i ' d like to find a one ##way flight going there . to service description : find one way and round trip flights to your favorite city to slot description : city in which the journey originates\n",
            "from service description : book bus journeys from the biggest bus network in the country from slot description : city where bus is leaving from: 0.00\tfrom service description : book bus journeys from the biggest bus network in the country from slot description : city where bus is going to: 1.00\tWrong\n",
            "-----------------------------------------------------------------------------\n",
            "system : should we reserve a table now ? user : yes , let ' s go ahead and book for that day as well . to service description : a popular restaurant search and reservation service to slot description : tentative date of restaurant reservation\n",
            "from service description : discover the right therapist for you and make reservations easily from slot description : date of the appointment: 1.00\tfrom service description : discover the right therapist for you and make reservations easily from slot description : time of the appointment: 0.00\tCorrect\n",
            "-----------------------------------------------------------------------------\n",
            "system : there is a bus that depart ##s at 8 : 40 am , it costs $ 29 and has 0 transfers . user : works for me , can you find me a round trip flight going there , prefer ##ably one that has an economy class with zero bags to check in . to service description : find one way and round trip flights to your favorite city to slot description : city in which the journey originates\n",
            "from service description : book bus journeys from the biggest bus network in the country from slot description : city where bus is leaving from: 0.03\tfrom service description : book bus journeys from the biggest bus network in the country from slot description : city where bus is going to: 0.97\tWrong\n",
            "-----------------------------------------------------------------------------\n",
            "system : would you like to purchase tickets on this ride ? user : nope , i do not wish to purchase tickets right now . what about a round ##trip flight headed there , prefer ##ably on united airlines ? to service description : find one way and round trip flights to your favorite city to slot description : city in which the journey ends\n",
            "from service description : book bus journeys from the biggest bus network in the country from slot description : city where bus is leaving from: 0.01\tfrom service description : book bus journeys from the biggest bus network in the country from slot description : city where bus is going to: 0.99\tCorrect\n",
            "-----------------------------------------------------------------------------\n",
            "system : there are 2 possible options , one is a standard co ##roll ##a ready for collection on march 9th from sunny ##vale cal ##train station . user : that would suit me , now can you help me find an apartment there ? to service description : a widely used service for finding apartments and scheduling visits to slot description : city where the apartment is located\n",
            "from service description : car rental service with extensive coverage of locations and cars from slot description : location of rental car pickup: 0.00\tfrom service description : car rental service with extensive coverage of locations and cars from slot description : city where rental car will be picked up: 1.00\tCorrect\n",
            "-----------------------------------------------------------------------------\n",
            "system : i found 8 possible buses . there is a 7 : 10 am bus with 0 transfers that costs $ 23 . user : okay , thanks . what about round ##trip flights ? to service description : find one way and round trip flights to your favorite city to slot description : city in which the journey originates\n",
            "from service description : book bus journeys from the biggest bus network in the country from slot description : city where bus is leaving from: 0.08\tfrom service description : book bus journeys from the biggest bus network in the country from slot description : city where bus is going to: 0.92\tWrong\n",
            "-----------------------------------------------------------------------------\n",
            "system : how about a standard cam ##ry that is ready to be picked up on march 2nd at lax international airport ? user : that is great . find me a bus to get there please . to service description : book bus journeys from the biggest bus network in the country to slot description : city where bus is going to\n",
            "from service description : car rental service with extensive coverage of locations and cars from slot description : location of rental car pickup: 0.00\tfrom service description : car rental service with extensive coverage of locations and cars from slot description : city where rental car will be picked up: 1.00\tCorrect\n",
            "-----------------------------------------------------------------------------\n",
            "system : i discovered 10 buses for you . what do you think about a bus costing $ 30 that depart ##s at 6 : 40 am with 0 transfers ? user : that ' s fine by me . what about a one ##way flight heading there ? to service description : find one way and round trip flights to your favorite city to slot description : city in which the journey originates\n",
            "from service description : book bus journeys from the biggest bus network in the country from slot description : city where bus is leaving from: 0.05\tfrom service description : book bus journeys from the biggest bus network in the country from slot description : city where bus is going to: 0.95\tWrong\n",
            "-----------------------------------------------------------------------------\n",
            "system : is there anything else i can help with ? user : i ' d like to find a hotel in that area . to service description : accommodation searching and booking portal to slot description : city or town where the accommodation is located\n",
            "from service description : the comprehensive portal to find and reserve seats at events near you from slot description : city where event is happening: 1.00\tfrom service description : the comprehensive portal to find and reserve seats at events near you from slot description : name of event location: 0.00\tfrom service description : the comprehensive portal to find and reserve seats at events near you from slot description : street address of event location: 0.00\tCorrect\n",
            "-----------------------------------------------------------------------------\n",
            "system : you will be leaving union station and arriving at port authority station . user : that ' s fine . i ' d like to compare a one - way flight there . can you check what an economy ticket would cost on the 2nd of march ? to service description : find one way and round trip flights to your favorite city to slot description : city in which the journey originates\n",
            "from service description : book bus journeys from the biggest bus network in the country from slot description : city where bus is leaving from: 0.10\tfrom service description : book bus journeys from the biggest bus network in the country from slot description : city where bus is going to: 0.90\tWrong\n",
            "-----------------------------------------------------------------------------\n",
            "system : do you want to reserve it ? user : yes , but later . right now i want to find an apartment to service description : a widely used service for finding apartments and scheduling visits to slot description : city where the apartment is located\n",
            "from service description : car rental service with extensive coverage of locations and cars from slot description : location of rental car pickup: 0.00\tfrom service description : car rental service with extensive coverage of locations and cars from slot description : city where rental car will be picked up: 1.00\tCorrect\n",
            "-----------------------------------------------------------------------------\n",
            "system : do you need help with anything else ? user : yes , i would lie ##k to know if there ' s a flight going there ? just one way . to service description : find one way and round trip flights to your favorite city to slot description : city in which the journey originates\n",
            "from service description : book bus journeys from the biggest bus network in the country from slot description : city where bus is leaving from: 0.02\tfrom service description : book bus journeys from the biggest bus network in the country from slot description : city where bus is going to: 0.98\tWrong\n",
            "-----------------------------------------------------------------------------\n",
            "system : it ' ll be $ 70 in total . user : sure . can you get me 4 tickets on a bus there from las vegas this sunday ? to service description : book bus journeys from the biggest bus network in the country to slot description : city where bus is going to\n",
            "from service description : car rental service with extensive coverage of locations and cars from slot description : location of rental car pickup: 0.00\tfrom service description : car rental service with extensive coverage of locations and cars from slot description : city where rental car will be picked up: 1.00\tCorrect\n",
            "-----------------------------------------------------------------------------\n",
            "##################################################################################\n"
          ],
          "name": "stdout"
        },
        {
          "output_type": "stream",
          "text": [
            "train loss: 0.00\ttrain acc 1.00\tvalid loss: 0.31\tvalid acc 0.92\tbatch: 599\ttime: 5063.81                              "
          ],
          "name": "stderr"
        },
        {
          "output_type": "stream",
          "text": [
            "##################################################################################\n",
            "system : should we reserve a table now ? user : yes , let ' s go ahead and book for that day as well . to service description : a popular restaurant search and reservation service to slot description : tentative date of restaurant reservation\n",
            "from service description : discover the right therapist for you and make reservations easily from slot description : date of the appointment: 1.00\tfrom service description : discover the right therapist for you and make reservations easily from slot description : time of the appointment: 0.00\tCorrect\n",
            "-----------------------------------------------------------------------------\n",
            "system : do you want to purchase a ticket user : not right now . can you find me a bus to get there to service description : book bus journeys from the biggest bus network in the country to slot description : city where bus is going to\n",
            "from service description : the comprehensive portal to find and reserve seats at events near you from slot description : city where event is happening: 1.00\tfrom service description : the comprehensive portal to find and reserve seats at events near you from slot description : name of event location: 0.00\tfrom service description : the comprehensive portal to find and reserve seats at events near you from slot description : street address of event location: 0.00\tCorrect\n",
            "-----------------------------------------------------------------------------\n",
            "system : okay , how about a bus departing at 8 : 10 am ? it has 0 transfers and costs $ 37 . user : that sounds okay , but how about a flight ? any return flights going there ? i ' d like 2 seats on a plane returning on the 7th of this month . to service description : find one way and round trip flights to your favorite city to slot description : city in which the journey originates\n",
            "from service description : book bus journeys from the biggest bus network in the country from slot description : city where bus is leaving from: 0.08\tfrom service description : book bus journeys from the biggest bus network in the country from slot description : city where bus is going to: 0.92\tWrong\n",
            "-----------------------------------------------------------------------------\n",
            "system : alaska airlines has 1 flight leaving at 9 : 05 am and with a leave return time of 4 : 55 am for $ 172 per person . user : i see . i also need 2 hotel rooms in that area . to service description : accommodation searching and booking portal to slot description : city or town where the accommodation is located\n",
            "from service description : find one way and round trip flights to your favorite city from slot description : city in which the journey originates: 0.48\tfrom service description : find one way and round trip flights to your favorite city from slot description : city in which the journey ends: 0.52\tfrom service description : find one way and round trip flights to your favorite city from slot description : number of the airport flying out from: 0.00\tfrom service description : find one way and round trip flights to your favorite city from slot description : number of the airport flying to: 0.00\tCorrect\n",
            "-----------------------------------------------------------------------------\n",
            "system : do you need me to purchase the bus tickets ? user : no need , could you help me find round trip flights there instead ? to service description : find one way and round trip flights to your favorite city to slot description : city in which the journey originates\n",
            "from service description : book bus journeys from the biggest bus network in the country from slot description : city where bus is leaving from: 0.01\tfrom service description : book bus journeys from the biggest bus network in the country from slot description : city where bus is going to: 0.99\tWrong\n",
            "-----------------------------------------------------------------------------\n",
            "system : the total cost of your reservation is $ 29 . user : that works for me . please also search for apartments in that area . to service description : a widely used service for finding apartments and scheduling visits to slot description : city where the apartment is located\n",
            "from service description : car rental service with extensive coverage of locations and cars from slot description : location of rental car pickup: 0.00\tfrom service description : car rental service with extensive coverage of locations and cars from slot description : city where rental car will be picked up: 1.00\tCorrect\n",
            "-----------------------------------------------------------------------------\n",
            "system : your car has been booked user : great , now find me a hotel room to service description : a popular service for searching and res ##erving rooms in hotels to slot description : location of the hotel\n",
            "from service description : car rental service with extensive coverage of locations and cars from slot description : location of rental car pickup: 0.00\tfrom service description : car rental service with extensive coverage of locations and cars from slot description : city where rental car will be picked up: 1.00\tCorrect\n",
            "-----------------------------------------------------------------------------\n",
            "system : any more help you want me to do ? user : yes , i want to find a one - way flight to go there and i need to book it for 3 persons . to service description : find one way and round trip flights to your favorite city to slot description : city in which the journey originates\n",
            "from service description : book bus journeys from the biggest bus network in the country from slot description : city where bus is leaving from: 0.01\tfrom service description : book bus journeys from the biggest bus network in the country from slot description : city where bus is going to: 0.99\tWrong\n",
            "-----------------------------------------------------------------------------\n",
            "system : do you want to book a table ? user : yes , please book me a table on that day . to service description : a popular restaurant search and reservation service to slot description : tentative date of restaurant reservation\n",
            "from service description : discover the right therapist for you and make reservations easily from slot description : date of the appointment: 1.00\tfrom service description : discover the right therapist for you and make reservations easily from slot description : time of the appointment: 0.00\tCorrect\n",
            "-----------------------------------------------------------------------------\n",
            "system : it goes from port authority station to intercity terminal . user : okay . i want to find a one ##way flight also , something in economy class on the 2nd of this month . maybe on southwest airlines ? to service description : find one way and round trip flights to your favorite city to slot description : city in which the journey originates\n",
            "from service description : book bus journeys from the biggest bus network in the country from slot description : city where bus is leaving from: 0.04\tfrom service description : book bus journeys from the biggest bus network in the country from slot description : city where bus is going to: 0.96\tWrong\n",
            "-----------------------------------------------------------------------------\n",
            "system : it ' s an american football game that will be held at 1 lincoln financial field way . user : i ' m interested in this . can you find me a hotel nearby ? to service description : accommodation searching and booking portal to slot description : city or town where the accommodation is located\n",
            "from service description : the comprehensive portal to find and reserve seats at events near you from slot description : city where event is happening: 1.00\tfrom service description : the comprehensive portal to find and reserve seats at events near you from slot description : name of event location: 0.00\tfrom service description : the comprehensive portal to find and reserve seats at events near you from slot description : street address of event location: 0.00\tCorrect\n",
            "-----------------------------------------------------------------------------\n",
            "system : would you like tickets ? user : no . i ' d like a one way flight there . to service description : find one way and round trip flights to your favorite city to slot description : city in which the journey originates\n",
            "from service description : book bus journeys from the biggest bus network in the country from slot description : city where bus is leaving from: 0.01\tfrom service description : book bus journeys from the biggest bus network in the country from slot description : city where bus is going to: 0.99\tWrong\n",
            "-----------------------------------------------------------------------------\n",
            "system : you ' re booked . it ' s in theater of the clouds at 1016 - 109 ##8 north center court street . user : get a rental car there . to service description : car rental service with extensive coverage of locations and cars to slot description : city where rental car will be picked up\n",
            "from service description : the comprehensive portal to find and reserve seats at events near you from slot description : city where event is happening: 1.00\tfrom service description : the comprehensive portal to find and reserve seats at events near you from slot description : name of event location: 0.00\tfrom service description : the comprehensive portal to find and reserve seats at events near you from slot description : street address of event location: 0.00\tCorrect\n",
            "-----------------------------------------------------------------------------\n",
            "system : okay , would you like to buy tickets for this bus ? user : not at the moment . are there any round trip flights going there ? i want to leave this saturday and plan on returning the 14th of this month . i also have zero bags to check . to service description : find one way and round trip flights to your favorite city to slot description : city in which the journey originates\n",
            "from service description : book bus journeys from the biggest bus network in the country from slot description : city where bus is leaving from: 0.03\tfrom service description : book bus journeys from the biggest bus network in the country from slot description : city where bus is going to: 0.97\tWrong\n",
            "-----------------------------------------------------------------------------\n",
            "system : it ' s been booked and will cost you $ 190 in total user : great , now find me a hotel room to service description : a popular service for searching and res ##erving rooms in hotels to slot description : location of the hotel\n",
            "from service description : car rental service with extensive coverage of locations and cars from slot description : location of rental car pickup: 0.00\tfrom service description : car rental service with extensive coverage of locations and cars from slot description : city where rental car will be picked up: 1.00\tCorrect\n",
            "-----------------------------------------------------------------------------\n",
            "system : is there anything else i can help you with ? user : are there possibly any round - trip flights going there ? to service description : find one way and round trip flights to your favorite city to slot description : city in which the journey originates\n",
            "from service description : book bus journeys from the biggest bus network in the country from slot description : city where bus is leaving from: 0.00\tfrom service description : book bus journeys from the biggest bus network in the country from slot description : city where bus is going to: 1.00\tWrong\n",
            "-----------------------------------------------------------------------------\n",
            "system : there are 8 buses which match your selection . this bus will depart at 8 : 10 am and it will cost $ 32 with 0 transfers . user : that sounds good . how about a one ##way flight ? to service description : find one way and round trip flights to your favorite city to slot description : city in which the journey ends\n",
            "from service description : book bus journeys from the biggest bus network in the country from slot description : city where bus is leaving from: 0.03\tfrom service description : book bus journeys from the biggest bus network in the country from slot description : city where bus is going to: 0.97\tCorrect\n",
            "-----------------------------------------------------------------------------\n",
            "system : union station will be your station of origin . user : that sounds fine . what about any round ##trip flights that are going there ? to service description : find one way and round trip flights to your favorite city to slot description : city in which the journey originates\n",
            "from service description : book bus journeys from the biggest bus network in the country from slot description : city where bus is leaving from: 0.03\tfrom service description : book bus journeys from the biggest bus network in the country from slot description : city where bus is going to: 0.97\tWrong\n",
            "-----------------------------------------------------------------------------\n",
            "##################################################################################\n"
          ],
          "name": "stdout"
        },
        {
          "output_type": "stream",
          "text": [
            "train loss: 0.00\ttrain acc 1.00\tvalid loss: 0.28\tvalid acc 0.93\tbatch: 699\ttime: 5907.00                              "
          ],
          "name": "stderr"
        },
        {
          "output_type": "stream",
          "text": [
            "##################################################################################\n",
            "system : your car has now been reserved . user : i need to find a hotel room there . i want it with wi ##fi and i need one room . to service description : a popular service for searching and res ##erving rooms in hotels to slot description : location of the hotel\n",
            "from service description : car rental service with extensive coverage of locations and cars from slot description : location of rental car pickup: 0.00\tfrom service description : car rental service with extensive coverage of locations and cars from slot description : city where rental car will be picked up: 1.00\tCorrect\n",
            "-----------------------------------------------------------------------------\n",
            "system : do you want to have tickets booked for this bus ? user : no , i am not interested in buying tickets for this bus now . can you find me a round trip flight to go there ? to service description : find one way and round trip flights to your favorite city to slot description : city in which the journey originates\n",
            "from service description : book bus journeys from the biggest bus network in the country from slot description : city where bus is leaving from: 0.02\tfrom service description : book bus journeys from the biggest bus network in the country from slot description : city where bus is going to: 0.98\tWrong\n",
            "-----------------------------------------------------------------------------\n",
            "system : shall i book the car ? user : not at the moment . help me look for a bus to get there . i need it for one person and i am going from ny . to service description : book bus journeys from the biggest bus network in the country to slot description : city where bus is going to\n",
            "from service description : car rental service with extensive coverage of locations and cars from slot description : location of rental car pickup: 0.00\tfrom service description : car rental service with extensive coverage of locations and cars from slot description : city where rental car will be picked up: 1.00\tCorrect\n",
            "-----------------------------------------------------------------------------\n",
            "system : would you like to purchase tickets on this ride ? user : nope , i do not wish to purchase tickets right now . what about a round ##trip flight headed there , prefer ##ably on united airlines ? to service description : find one way and round trip flights to your favorite city to slot description : city in which the journey originates\n",
            "from service description : book bus journeys from the biggest bus network in the country from slot description : city where bus is leaving from: 0.01\tfrom service description : book bus journeys from the biggest bus network in the country from slot description : city where bus is going to: 0.99\tWrong\n",
            "-----------------------------------------------------------------------------\n",
            "system : sorry , they do not have outdoor seating , the restaurant address is 91 ##4 main street . user : okay , it seems good to me . i need to book a table there on that day , it is for 4 people , book the table at 13 : 15 . to service description : a popular restaurant search and reservation service to slot description : tentative date of restaurant reservation\n",
            "from service description : discover the right therapist for you and make reservations easily from slot description : date of the appointment: 1.00\tfrom service description : discover the right therapist for you and make reservations easily from slot description : time of the appointment: 0.00\tCorrect\n",
            "-----------------------------------------------------------------------------\n",
            "system : is there anything else you need ? user : yes . can you please check one way flights going there ? to service description : find one way and round trip flights to your favorite city to slot description : city in which the journey originates\n",
            "from service description : book bus journeys from the biggest bus network in the country from slot description : city where bus is leaving from: 0.01\tfrom service description : book bus journeys from the biggest bus network in the country from slot description : city where bus is going to: 0.99\tWrong\n",
            "-----------------------------------------------------------------------------\n",
            "system : it ' s been booked and will cost you $ 190 in total user : great , now find me a hotel room to service description : a popular service for searching and res ##erving rooms in hotels to slot description : location of the hotel\n",
            "from service description : car rental service with extensive coverage of locations and cars from slot description : location of rental car pickup: 0.00\tfrom service description : car rental service with extensive coverage of locations and cars from slot description : city where rental car will be picked up: 1.00\tCorrect\n",
            "-----------------------------------------------------------------------------\n",
            "system : okay , i found 4 buses . how about the 7 : 20 am bus with 0 transfers for $ 41 ? user : sounds good . are there any one - way flights ? to service description : find one way and round trip flights to your favorite city to slot description : city in which the journey originates\n",
            "from service description : book bus journeys from the biggest bus network in the country from slot description : city where bus is leaving from: 0.03\tfrom service description : book bus journeys from the biggest bus network in the country from slot description : city where bus is going to: 0.97\tWrong\n",
            "-----------------------------------------------------------------------------\n",
            "system : it ' s been booked and will cost you $ 190 in total user : great , now find me a hotel room to service description : a popular service for searching and res ##erving rooms in hotels to slot description : location of the hotel\n",
            "from service description : car rental service with extensive coverage of locations and cars from slot description : location of rental car pickup: 0.00\tfrom service description : car rental service with extensive coverage of locations and cars from slot description : city where rental car will be picked up: 1.00\tCorrect\n",
            "-----------------------------------------------------------------------------\n",
            "system : there are 10 available buses , would you like one which depart ##s at 7 : 40 am with 0 transfers costing $ 28 ? user : that sounds great ! could you get me a round ##trip flight there too ? to service description : find one way and round trip flights to your favorite city to slot description : city in which the journey originates\n",
            "from service description : book bus journeys from the biggest bus network in the country from slot description : city where bus is leaving from: 0.03\tfrom service description : book bus journeys from the biggest bus network in the country from slot description : city where bus is going to: 0.97\tWrong\n",
            "-----------------------------------------------------------------------------\n",
            "system : 52 - 19 flushing avenue , mas ##pet ##h . user : great . find a a 2 star hotel there , one room . to service description : accommodation searching and booking portal to slot description : city or town where the accommodation is located\n",
            "from service description : the comprehensive portal to find and reserve seats at events near you from slot description : city where event is happening: 1.00\tfrom service description : the comprehensive portal to find and reserve seats at events near you from slot description : name of event location: 0.00\tfrom service description : the comprehensive portal to find and reserve seats at events near you from slot description : street address of event location: 0.00\tCorrect\n",
            "-----------------------------------------------------------------------------\n",
            "system : how about the nice 2 star ac hotel by marriott beverly hills . if you prefer something else i have 10 other options for you . user : awesome now i would like to buy tickets to the game . to service description : the comprehensive portal to find and reserve seats at events near you to slot description : city where event is happening\n",
            "from service description : find one way and round trip flights to your favorite city from slot description : city in which the journey originates: 0.04\tfrom service description : find one way and round trip flights to your favorite city from slot description : city in which the journey ends: 0.96\tfrom service description : find one way and round trip flights to your favorite city from slot description : number of the airport flying out from: 0.00\tfrom service description : find one way and round trip flights to your favorite city from slot description : number of the airport flying to: 0.00\tCorrect\n",
            "-----------------------------------------------------------------------------\n",
            "system : shall i book the car ? user : not at the moment . help me look for a bus to get there . i need it for one person and i am going from ny . to service description : book bus journeys from the biggest bus network in the country to slot description : city where bus is going to\n",
            "from service description : car rental service with extensive coverage of locations and cars from slot description : location of rental car pickup: 0.00\tfrom service description : car rental service with extensive coverage of locations and cars from slot description : city where rental car will be picked up: 1.00\tCorrect\n",
            "-----------------------------------------------------------------------------\n",
            "system : there is a bus leaving at 8 : 10 am with 0 transfers for $ 36 . does this work for you ? user : that sounds good . can you find me a round trip flight going there ? i have 0 bags and would like a premium economy class ticket . to service description : find one way and round trip flights to your favorite city to slot description : city in which the journey originates\n",
            "from service description : book bus journeys from the biggest bus network in the country from slot description : city where bus is leaving from: 0.03\tfrom service description : book bus journeys from the biggest bus network in the country from slot description : city where bus is going to: 0.97\tWrong\n",
            "-----------------------------------------------------------------------------\n",
            "system : the tickets have been purchased , have a great game ! user : thanks so much . i also need to get a rental car for when i ' m there . to service description : car rental service with extensive coverage of locations and cars to slot description : city where rental car will be picked up\n",
            "from service description : the comprehensive portal to find and reserve seats at events near you from slot description : city where event is happening: 1.00\tfrom service description : the comprehensive portal to find and reserve seats at events near you from slot description : name of event location: 0.00\tfrom service description : the comprehensive portal to find and reserve seats at events near you from slot description : street address of event location: 0.00\tCorrect\n",
            "-----------------------------------------------------------------------------\n",
            "system : do you need more help ? user : find me a one way flight there . to service description : find one way and round trip flights to your favorite city to slot description : city in which the journey originates\n",
            "from service description : book bus journeys from the biggest bus network in the country from slot description : city where bus is leaving from: 0.01\tfrom service description : book bus journeys from the biggest bus network in the country from slot description : city where bus is going to: 0.99\tWrong\n",
            "-----------------------------------------------------------------------------\n",
            "system : i ' ve found 4 different flights you might be interested in . do you like american airlines ? they have a flight leaving at 6 : 50 am that has 0 lay ##overs . it costs only $ 116 per ticket . user : okay . i also need to find a room out there . i ' m looking for 1 room with wi ##fi . to service description : a popular service for searching and res ##erving rooms in hotels to slot description\n",
            "from service description : find one way and round trip flights to your favorite city from slot description : city in which the journey originates: 0.15\tfrom service description : find one way and round trip flights to your favorite city from slot description : city in which the journey ends: 0.85\tfrom service description : find one way and round trip flights to your favorite city from slot description : number of the airport flying out from: 0.00\tfrom service description : find one way and round trip flights to your favorite city from slot description : number of the airport flying to: 0.00\tCorrect\n",
            "-----------------------------------------------------------------------------\n",
            "system : would you like to buy tickets ? user : no not right now . can you tell me the cost of a round trip flight on alaska airlines leaving on the 13th with an economy ticket . to service description : find one way and round trip flights to your favorite city to slot description : city in which the journey originates\n",
            "from service description : book bus journeys from the biggest bus network in the country from slot description : city where bus is leaving from: 0.01\tfrom service description : book bus journeys from the biggest bus network in the country from slot description : city where bus is going to: 0.99\tWrong\n",
            "-----------------------------------------------------------------------------\n"
          ],
          "name": "stdout"
        }
      ]
    },
    {
      "cell_type": "code",
      "metadata": {
        "id": "vgR8Ym5aFlAo",
        "colab": {
          "base_uri": "https://localhost:8080/",
          "height": 306
        },
        "outputId": "26b60e67-a10b-4d9e-9ea6-ee639da76fd4"
      },
      "source": [
        "!nvidia-smi"
      ],
      "execution_count": null,
      "outputs": [
        {
          "output_type": "stream",
          "text": [
            "Thu May 14 21:55:40 2020       \r\n",
            "+-----------------------------------------------------------------------------+\r\n",
            "| NVIDIA-SMI 440.64.00    Driver Version: 440.64.00    CUDA Version: 10.2     |\r\n",
            "|-------------------------------+----------------------+----------------------+\r\n",
            "| GPU  Name        Persistence-M| Bus-Id        Disp.A | Volatile Uncorr. ECC |\r\n",
            "| Fan  Temp  Perf  Pwr:Usage/Cap|         Memory-Usage | GPU-Util  Compute M. |\r\n",
            "|===============================+======================+======================|\r\n",
            "|   0  Tesla K80           Off  | 00002110:00:00.0 Off |                    0 |\r\n",
            "| N/A   63C    P0    61W / 149W |      0MiB / 11441MiB |     88%      Default |\r\n",
            "+-------------------------------+----------------------+----------------------+\r\n",
            "                                                                               \r\n",
            "+-----------------------------------------------------------------------------+\r\n",
            "| Processes:                                                       GPU Memory |\r\n",
            "|  GPU       PID   Type   Process name                             Usage      |\r\n",
            "|=============================================================================|\r\n",
            "|  No running processes found                                                 |\r\n",
            "+-----------------------------------------------------------------------------+\r\n"
          ],
          "name": "stdout"
        }
      ]
    },
    {
      "cell_type": "code",
      "metadata": {
        "id": "nO2DnZFM6Uey"
      },
      "source": [
        "%matplotlib inline\n",
        "%load_ext autoreload\n",
        "%autoreload 2\n",
        "import matplotlib.pyplot as plt"
      ],
      "execution_count": null,
      "outputs": []
    },
    {
      "cell_type": "code",
      "metadata": {
        "id": "VnbtQZVR6XRu",
        "colab": {
          "base_uri": "https://localhost:8080/",
          "height": 282
        },
        "outputId": "d5ff5cae-27d1-47ff-eda6-e2d82d2ebcae"
      },
      "source": [
        "plt.plot(run.records['valid_acc'])"
      ],
      "execution_count": null,
      "outputs": [
        {
          "output_type": "execute_result",
          "data": {
            "text/plain": [
              "[<matplotlib.lines.Line2D at 0x7f50078e37f0>]"
            ]
          },
          "metadata": {
            "tags": []
          },
          "execution_count": 6
        },
        {
          "output_type": "display_data",
          "data": {
            "image/png": "[encoded data removed]",
            "text/plain": [
              "<Figure size 432x288 with 1 Axes>"
            ]
          },
          "metadata": {
            "tags": [],
            "needs_background": "light"
          }
        }
      ]
    },
    {
      "cell_type": "code",
      "metadata": {
        "id": "cYDRIlZ174Mk",
        "colab": {
          "base_uri": "https://localhost:8080/",
          "height": 51
        },
        "outputId": "1310d024-f209-4bd6-a217-7fa0830b0811"
      },
      "source": [
        "trainable_parameters = ['LayerNorm', 'dropout.expand', 'dropout.squeeze', 'classifier']\n",
        "save_model(model, trainable_parameters, root + 'model-transfer-slot-512-15-05.pkl')"
      ],
      "execution_count": null,
      "outputs": [
        {
          "output_type": "stream",
          "text": [
            "/home/osman/anaconda3/lib/python3.7/site-packages/torch/storage.py:34: FutureWarning: pickle support for Storage will be removed in 1.5. Use `torch.save` instead\n",
            "  warnings.warn(\"pickle support for Storage will be removed in 1.5. Use `torch.save` instead\", FutureWarning)\n"
          ],
          "name": "stderr"
        }
      ]
    },
    {
      "cell_type": "code",
      "metadata": {
        "id": "sACwL_ZUUhNw",
        "colab": {
          "base_uri": "https://localhost:8080/",
          "height": 54
        },
        "outputId": "33e2ff05-f38e-4bff-ec4e-1e705a93a124"
      },
      "source": [
        "tokenizer, model = get_model('bert-base-uncased', None)\n",
        "model = add_adapter_layers(model, hidden_size=512)\n",
        "load_model(model, root + 'model_transfer_slot.pkl')"
      ],
      "execution_count": null,
      "outputs": [
        {
          "output_type": "execute_result",
          "data": {
            "text/plain": [
              "_IncompatibleKeys(missing_keys=['bert.embeddings.word_embeddings.weight', 'bert.embeddings.position_embeddings.weight', 'bert.embeddings.token_type_embeddings.weight', 'bert.encoder.layer.0.attention.self.query.weight', 'bert.encoder.layer.0.attention.self.query.bias', 'bert.encoder.layer.0.attention.self.key.weight', 'bert.encoder.layer.0.attention.self.key.bias', 'bert.encoder.layer.0.attention.self.value.weight', 'bert.encoder.layer.0.attention.self.value.bias', 'bert.encoder.layer.0.attention.output.dense.weight', 'bert.encoder.layer.0.attention.output.dense.bias', 'bert.encoder.layer.0.intermediate.dense.weight', 'bert.encoder.layer.0.intermediate.dense.bias', 'bert.encoder.layer.0.output.dense.weight', 'bert.encoder.layer.0.output.dense.bias', 'bert.encoder.layer.1.attention.self.query.weight', 'bert.encoder.layer.1.attention.self.query.bias', 'bert.encoder.layer.1.attention.self.key.weight', 'bert.encoder.layer.1.attention.self.key.bias', 'bert.encoder.layer.1.attention.self.value.weight', 'bert.encoder.layer.1.attention.self.value.bias', 'bert.encoder.layer.1.attention.output.dense.weight', 'bert.encoder.layer.1.attention.output.dense.bias', 'bert.encoder.layer.1.intermediate.dense.weight', 'bert.encoder.layer.1.intermediate.dense.bias', 'bert.encoder.layer.1.output.dense.weight', 'bert.encoder.layer.1.output.dense.bias', 'bert.encoder.layer.2.attention.self.query.weight', 'bert.encoder.layer.2.attention.self.query.bias', 'bert.encoder.layer.2.attention.self.key.weight', 'bert.encoder.layer.2.attention.self.key.bias', 'bert.encoder.layer.2.attention.self.value.weight', 'bert.encoder.layer.2.attention.self.value.bias', 'bert.encoder.layer.2.attention.output.dense.weight', 'bert.encoder.layer.2.attention.output.dense.bias', 'bert.encoder.layer.2.intermediate.dense.weight', 'bert.encoder.layer.2.intermediate.dense.bias', 'bert.encoder.layer.2.output.dense.weight', 'bert.encoder.layer.2.output.dense.bias', 'bert.encoder.layer.3.attention.self.query.weight', 'bert.encoder.layer.3.attention.self.query.bias', 'bert.encoder.layer.3.attention.self.key.weight', 'bert.encoder.layer.3.attention.self.key.bias', 'bert.encoder.layer.3.attention.self.value.weight', 'bert.encoder.layer.3.attention.self.value.bias', 'bert.encoder.layer.3.attention.output.dense.weight', 'bert.encoder.layer.3.attention.output.dense.bias', 'bert.encoder.layer.3.intermediate.dense.weight', 'bert.encoder.layer.3.intermediate.dense.bias', 'bert.encoder.layer.3.output.dense.weight', 'bert.encoder.layer.3.output.dense.bias', 'bert.encoder.layer.4.attention.self.query.weight', 'bert.encoder.layer.4.attention.self.query.bias', 'bert.encoder.layer.4.attention.self.key.weight', 'bert.encoder.layer.4.attention.self.key.bias', 'bert.encoder.layer.4.attention.self.value.weight', 'bert.encoder.layer.4.attention.self.value.bias', 'bert.encoder.layer.4.attention.output.dense.weight', 'bert.encoder.layer.4.attention.output.dense.bias', 'bert.encoder.layer.4.intermediate.dense.weight', 'bert.encoder.layer.4.intermediate.dense.bias', 'bert.encoder.layer.4.output.dense.weight', 'bert.encoder.layer.4.output.dense.bias', 'bert.encoder.layer.5.attention.self.query.weight', 'bert.encoder.layer.5.attention.self.query.bias', 'bert.encoder.layer.5.attention.self.key.weight', 'bert.encoder.layer.5.attention.self.key.bias', 'bert.encoder.layer.5.attention.self.value.weight', 'bert.encoder.layer.5.attention.self.value.bias', 'bert.encoder.layer.5.attention.output.dense.weight', 'bert.encoder.layer.5.attention.output.dense.bias', 'bert.encoder.layer.5.intermediate.dense.weight', 'bert.encoder.layer.5.intermediate.dense.bias', 'bert.encoder.layer.5.output.dense.weight', 'bert.encoder.layer.5.output.dense.bias', 'bert.encoder.layer.6.attention.self.query.weight', 'bert.encoder.layer.6.attention.self.query.bias', 'bert.encoder.layer.6.attention.self.key.weight', 'bert.encoder.layer.6.attention.self.key.bias', 'bert.encoder.layer.6.attention.self.value.weight', 'bert.encoder.layer.6.attention.self.value.bias', 'bert.encoder.layer.6.attention.output.dense.weight', 'bert.encoder.layer.6.attention.output.dense.bias', 'bert.encoder.layer.6.intermediate.dense.weight', 'bert.encoder.layer.6.intermediate.dense.bias', 'bert.encoder.layer.6.output.dense.weight', 'bert.encoder.layer.6.output.dense.bias', 'bert.encoder.layer.7.attention.self.query.weight', 'bert.encoder.layer.7.attention.self.query.bias', 'bert.encoder.layer.7.attention.self.key.weight', 'bert.encoder.layer.7.attention.self.key.bias', 'bert.encoder.layer.7.attention.self.value.weight', 'bert.encoder.layer.7.attention.self.value.bias', 'bert.encoder.layer.7.attention.output.dense.weight', 'bert.encoder.layer.7.attention.output.dense.bias', 'bert.encoder.layer.7.intermediate.dense.weight', 'bert.encoder.layer.7.intermediate.dense.bias', 'bert.encoder.layer.7.output.dense.weight', 'bert.encoder.layer.7.output.dense.bias', 'bert.encoder.layer.8.attention.self.query.weight', 'bert.encoder.layer.8.attention.self.query.bias', 'bert.encoder.layer.8.attention.self.key.weight', 'bert.encoder.layer.8.attention.self.key.bias', 'bert.encoder.layer.8.attention.self.value.weight', 'bert.encoder.layer.8.attention.self.value.bias', 'bert.encoder.layer.8.attention.output.dense.weight', 'bert.encoder.layer.8.attention.output.dense.bias', 'bert.encoder.layer.8.intermediate.dense.weight', 'bert.encoder.layer.8.intermediate.dense.bias', 'bert.encoder.layer.8.output.dense.weight', 'bert.encoder.layer.8.output.dense.bias', 'bert.encoder.layer.9.attention.self.query.weight', 'bert.encoder.layer.9.attention.self.query.bias', 'bert.encoder.layer.9.attention.self.key.weight', 'bert.encoder.layer.9.attention.self.key.bias', 'bert.encoder.layer.9.attention.self.value.weight', 'bert.encoder.layer.9.attention.self.value.bias', 'bert.encoder.layer.9.attention.output.dense.weight', 'bert.encoder.layer.9.attention.output.dense.bias', 'bert.encoder.layer.9.intermediate.dense.weight', 'bert.encoder.layer.9.intermediate.dense.bias', 'bert.encoder.layer.9.output.dense.weight', 'bert.encoder.layer.9.output.dense.bias', 'bert.encoder.layer.10.attention.self.query.weight', 'bert.encoder.layer.10.attention.self.query.bias', 'bert.encoder.layer.10.attention.self.key.weight', 'bert.encoder.layer.10.attention.self.key.bias', 'bert.encoder.layer.10.attention.self.value.weight', 'bert.encoder.layer.10.attention.self.value.bias', 'bert.encoder.layer.10.attention.output.dense.weight', 'bert.encoder.layer.10.attention.output.dense.bias', 'bert.encoder.layer.10.intermediate.dense.weight', 'bert.encoder.layer.10.intermediate.dense.bias', 'bert.encoder.layer.10.output.dense.weight', 'bert.encoder.layer.10.output.dense.bias', 'bert.encoder.layer.11.attention.self.query.weight', 'bert.encoder.layer.11.attention.self.query.bias', 'bert.encoder.layer.11.attention.self.key.weight', 'bert.encoder.layer.11.attention.self.key.bias', 'bert.encoder.layer.11.attention.self.value.weight', 'bert.encoder.layer.11.attention.self.value.bias', 'bert.encoder.layer.11.attention.output.dense.weight', 'bert.encoder.layer.11.attention.output.dense.bias', 'bert.encoder.layer.11.intermediate.dense.weight', 'bert.encoder.layer.11.intermediate.dense.bias', 'bert.encoder.layer.11.output.dense.weight', 'bert.encoder.layer.11.output.dense.bias', 'bert.pooler.dense.weight', 'bert.pooler.dense.bias'], unexpected_keys=[])"
            ]
          },
          "metadata": {
            "tags": []
          },
          "execution_count": 4
        }
      ]
    },
    {
      "cell_type": "code",
      "metadata": {
        "id": "N5JP4xMyVckQ"
      },
      "source": [
        "valid_dataset = D.SlotDataset(os.path.join(root, 'dev'), tokenizer, max_len=120)\n",
        "valid_data = valid_dataset.load_valid_data(batch_size=128)"
      ],
      "execution_count": null,
      "outputs": []
    },
    {
      "cell_type": "code",
      "metadata": {
        "id": "X3p7n83eV1i6"
      },
      "source": [
        "def evaluate_valid_data(model, valid_data):\n",
        "    model.eval()\n",
        "    with T.no_grad():\n",
        "        acc, count = 0, 0\n",
        "        scores, slots, ids = [], [], []\n",
        "        for i, batch in enumerate(valid_data):\n",
        "            batch = D.SlotDataset.map_to_cuda(batch)\n",
        "            scores_, _ = evaluate(model, batch)\n",
        "            acc_, _, _ = metrics(scores_, batch.y)\n",
        "            acc += (acc_*len(batch.y))\n",
        "            count += len(batch.y)\n",
        "            scores.append(scores_.cpu().numpy())\n",
        "            slots += batch.slot\n",
        "            ids += batch.id\n",
        "            sys.stderr.write(f'\\r{i+1}/{len(valid_data)} acc: {acc_}{\"\": <30}')\n",
        "        acc = acc/count\n",
        "        scores = np.concatenate(scores)\n",
        "    model.train()\n",
        "    return {'acc': acc, 'scores': scores.tolist(), 'labels': slots, 'ids': ids}"
      ],
      "execution_count": null,
      "outputs": []
    },
    {
      "cell_type": "code",
      "metadata": {
        "id": "V5mbJvenV3Vt",
        "colab": {
          "base_uri": "https://localhost:8080/",
          "height": 34
        },
        "outputId": "f735bb43-e7c0-49fa-be57-2205e20ed7a8"
      },
      "source": [
        "results = evaluate_valid_data(model.cuda(), valid_data)"
      ],
      "execution_count": null,
      "outputs": [
        {
          "output_type": "stream",
          "text": [
            "7/7 acc: 1.0                              "
          ],
          "name": "stderr"
        }
      ]
    },
    {
      "cell_type": "code",
      "metadata": {
        "id": "pV6Ixd62mQC0",
        "colab": {
          "base_uri": "https://localhost:8080/",
          "height": 34
        },
        "outputId": "5cfe688c-0545-4c99-8046-cb763a0abd31"
      },
      "source": [
        "print(results['acc'])"
      ],
      "execution_count": null,
      "outputs": [
        {
          "output_type": "stream",
          "text": [
            "0.8585858585858586\n"
          ],
          "name": "stdout"
        }
      ]
    },
    {
      "cell_type": "code",
      "metadata": {
        "id": "fkm4_biSiFS1",
        "colab": {
          "base_uri": "https://localhost:8080/",
          "height": 34
        },
        "outputId": "db628e4f-62f3-43d1-94b5-5830bb900566"
      },
      "source": [
        "print(results['acc'])"
      ],
      "execution_count": null,
      "outputs": [
        {
          "output_type": "stream",
          "text": [
            "0.8652392947103275\n"
          ],
          "name": "stdout"
        }
      ]
    },
    {
      "cell_type": "code",
      "metadata": {
        "id": "nEGt6Ix1dcMT",
        "colab": {
          "base_uri": "https://localhost:8080/",
          "height": 34
        },
        "outputId": "fcfd119f-d87b-4ec7-880a-10e16658bfc3"
      },
      "source": [
        "print(results['acc'])"
      ],
      "execution_count": null,
      "outputs": [
        {
          "output_type": "stream",
          "text": [
            "0.8702770780856424\n"
          ],
          "name": "stdout"
        }
      ]
    },
    {
      "cell_type": "code",
      "metadata": {
        "id": "gZaUptJGHqvX",
        "colab": {
          "base_uri": "https://localhost:8080/",
          "height": 34
        },
        "outputId": "4c877903-d5e6-4de9-f15c-350e45cc6b79"
      },
      "source": [
        "print(results['acc'])"
      ],
      "execution_count": null,
      "outputs": [
        {
          "output_type": "stream",
          "text": [
            "0.8838383838383839\n"
          ],
          "name": "stdout"
        }
      ]
    },
    {
      "cell_type": "code",
      "metadata": {
        "id": "jlls7qrYHRLz",
        "colab": {
          "base_uri": "https://localhost:8080/",
          "height": 34
        },
        "outputId": "925843fb-6ec1-4ed2-d428-da64381850fb"
      },
      "source": [
        "print(results['acc'])"
      ],
      "execution_count": null,
      "outputs": [
        {
          "output_type": "stream",
          "text": [
            "0.8686868686868687\n"
          ],
          "name": "stdout"
        }
      ]
    },
    {
      "cell_type": "code",
      "metadata": {
        "id": "lbs2LoU9Hp45"
      },
      "source": [
        ""
      ],
      "execution_count": null,
      "outputs": []
    },
    {
      "cell_type": "code",
      "metadata": {
        "id": "GwcedtTdnQc2",
        "colab": {
          "base_uri": "https://localhost:8080/",
          "height": 34
        },
        "outputId": "d9bb1496-9a73-4794-9105-eda4e6445f79"
      },
      "source": [
        "print(results['acc'])"
      ],
      "execution_count": null,
      "outputs": [
        {
          "output_type": "stream",
          "text": [
            "1.0\n"
          ],
          "name": "stdout"
        }
      ]
    },
    {
      "cell_type": "code",
      "metadata": {
        "id": "xVPpwGkjIcxt",
        "colab": {
          "base_uri": "https://localhost:8080/",
          "height": 34
        },
        "outputId": "9834341d-af90-46f8-9f4c-49d14c203f96"
      },
      "source": [
        "print(results['acc'])"
      ],
      "execution_count": null,
      "outputs": [
        {
          "output_type": "stream",
          "text": [
            "0.9994824016563147\n"
          ],
          "name": "stdout"
        }
      ]
    },
    {
      "cell_type": "code",
      "metadata": {
        "id": "V50vP56vWoFT",
        "colab": {
          "base_uri": "https://localhost:8080/",
          "height": 34
        },
        "outputId": "20e301a5-ad41-46ac-f6b2-a33587ef9fa2"
      },
      "source": [
        "print(results['acc'])"
      ],
      "execution_count": null,
      "outputs": [
        {
          "output_type": "stream",
          "text": [
            "1.0\n"
          ],
          "name": "stdout"
        }
      ]
    },
    {
      "cell_type": "code",
      "metadata": {
        "id": "F6QjQu4JXsry"
      },
      "source": [
        "import json\n",
        "with open(root + 'valid-transfer-value-scores.json', 'w') as f:\n",
        "    json.dump(results, f)\n",
        "#print(acc)"
      ],
      "execution_count": null,
      "outputs": []
    },
    {
      "cell_type": "code",
      "metadata": {
        "id": "uZhl78U4ZMS0"
      },
      "source": [
        ""
      ],
      "execution_count": null,
      "outputs": []
    }
  ]
}