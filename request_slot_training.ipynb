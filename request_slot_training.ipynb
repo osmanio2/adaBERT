{
  "nbformat": 4,
  "nbformat_minor": 0,
  "metadata": {
    "colab": {
      "name": "request-slot-training-29-05-20.ipynb",
      "provenance": [],
      "collapsed_sections": []
    },
    "kernelspec": {
      "name": "python3",
      "display_name": "Python 3"
    },
    "accelerator": "GPU",
    "widgets": {
      "application/vnd.jupyter.widget-state+json": {
        "a8d7aeaf64e44457b0d1d8eddde9574b": {
          "model_module": "@jupyter-widgets/controls",
          "model_name": "HBoxModel",
          "state": {
            "_view_name": "HBoxView",
            "_dom_classes": [],
            "_model_name": "HBoxModel",
            "_view_module": "@jupyter-widgets/controls",
            "_model_module_version": "1.5.0",
            "_view_count": null,
            "_view_module_version": "1.5.0",
            "box_style": "",
            "layout": "IPY_MODEL_c3c450544ce34dabbbc5dc7ad47057bd",
            "_model_module": "@jupyter-widgets/controls",
            "children": [
              "IPY_MODEL_b9fc2ace9f514e3b9ae5c4c1bfbb52ab",
              "IPY_MODEL_2648bea847574f3fb1f6fbae694887dd"
            ]
          }
        },
        "c3c450544ce34dabbbc5dc7ad47057bd": {
          "model_module": "@jupyter-widgets/base",
          "model_name": "LayoutModel",
          "state": {
            "_view_name": "LayoutView",
            "grid_template_rows": null,
            "right": null,
            "justify_content": null,
            "_view_module": "@jupyter-widgets/base",
            "overflow": null,
            "_model_module_version": "1.2.0",
            "_view_count": null,
            "flex_flow": null,
            "width": null,
            "min_width": null,
            "border": null,
            "align_items": null,
            "bottom": null,
            "_model_module": "@jupyter-widgets/base",
            "top": null,
            "grid_column": null,
            "overflow_y": null,
            "overflow_x": null,
            "grid_auto_flow": null,
            "grid_area": null,
            "grid_template_columns": null,
            "flex": null,
            "_model_name": "LayoutModel",
            "justify_items": null,
            "grid_row": null,
            "max_height": null,
            "align_content": null,
            "visibility": null,
            "align_self": null,
            "height": null,
            "min_height": null,
            "padding": null,
            "grid_auto_rows": null,
            "grid_gap": null,
            "max_width": null,
            "order": null,
            "_view_module_version": "1.2.0",
            "grid_template_areas": null,
            "object_position": null,
            "object_fit": null,
            "grid_auto_columns": null,
            "margin": null,
            "display": null,
            "left": null
          }
        },
        "b9fc2ace9f514e3b9ae5c4c1bfbb52ab": {
          "model_module": "@jupyter-widgets/controls",
          "model_name": "FloatProgressModel",
          "state": {
            "_view_name": "ProgressView",
            "style": "IPY_MODEL_c234c66907524819a37afe21e4042d23",
            "_dom_classes": [],
            "description": "Downloading: 100%",
            "_model_name": "FloatProgressModel",
            "bar_style": "success",
            "max": 231508,
            "_view_module": "@jupyter-widgets/controls",
            "_model_module_version": "1.5.0",
            "value": 231508,
            "_view_count": null,
            "_view_module_version": "1.5.0",
            "orientation": "horizontal",
            "min": 0,
            "description_tooltip": null,
            "_model_module": "@jupyter-widgets/controls",
            "layout": "IPY_MODEL_708375e9b4824ff7b260174a64b59856"
          }
        },
        "2648bea847574f3fb1f6fbae694887dd": {
          "model_module": "@jupyter-widgets/controls",
          "model_name": "HTMLModel",
          "state": {
            "_view_name": "HTMLView",
            "style": "IPY_MODEL_fed1a09632514c49941b52de624b7c23",
            "_dom_classes": [],
            "description": "",
            "_model_name": "HTMLModel",
            "placeholder": "​",
            "_view_module": "@jupyter-widgets/controls",
            "_model_module_version": "1.5.0",
            "value": " 232k/232k [00:00&lt;00:00, 768kB/s]",
            "_view_count": null,
            "_view_module_version": "1.5.0",
            "description_tooltip": null,
            "_model_module": "@jupyter-widgets/controls",
            "layout": "IPY_MODEL_8c8783e6fe87405280a174f3ad5352b3"
          }
        },
        "c234c66907524819a37afe21e4042d23": {
          "model_module": "@jupyter-widgets/controls",
          "model_name": "ProgressStyleModel",
          "state": {
            "_view_name": "StyleView",
            "_model_name": "ProgressStyleModel",
            "description_width": "initial",
            "_view_module": "@jupyter-widgets/base",
            "_model_module_version": "1.5.0",
            "_view_count": null,
            "_view_module_version": "1.2.0",
            "bar_color": null,
            "_model_module": "@jupyter-widgets/controls"
          }
        },
        "708375e9b4824ff7b260174a64b59856": {
          "model_module": "@jupyter-widgets/base",
          "model_name": "LayoutModel",
          "state": {
            "_view_name": "LayoutView",
            "grid_template_rows": null,
            "right": null,
            "justify_content": null,
            "_view_module": "@jupyter-widgets/base",
            "overflow": null,
            "_model_module_version": "1.2.0",
            "_view_count": null,
            "flex_flow": null,
            "width": null,
            "min_width": null,
            "border": null,
            "align_items": null,
            "bottom": null,
            "_model_module": "@jupyter-widgets/base",
            "top": null,
            "grid_column": null,
            "overflow_y": null,
            "overflow_x": null,
            "grid_auto_flow": null,
            "grid_area": null,
            "grid_template_columns": null,
            "flex": null,
            "_model_name": "LayoutModel",
            "justify_items": null,
            "grid_row": null,
            "max_height": null,
            "align_content": null,
            "visibility": null,
            "align_self": null,
            "height": null,
            "min_height": null,
            "padding": null,
            "grid_auto_rows": null,
            "grid_gap": null,
            "max_width": null,
            "order": null,
            "_view_module_version": "1.2.0",
            "grid_template_areas": null,
            "object_position": null,
            "object_fit": null,
            "grid_auto_columns": null,
            "margin": null,
            "display": null,
            "left": null
          }
        },
        "fed1a09632514c49941b52de624b7c23": {
          "model_module": "@jupyter-widgets/controls",
          "model_name": "DescriptionStyleModel",
          "state": {
            "_view_name": "StyleView",
            "_model_name": "DescriptionStyleModel",
            "description_width": "",
            "_view_module": "@jupyter-widgets/base",
            "_model_module_version": "1.5.0",
            "_view_count": null,
            "_view_module_version": "1.2.0",
            "_model_module": "@jupyter-widgets/controls"
          }
        },
        "8c8783e6fe87405280a174f3ad5352b3": {
          "model_module": "@jupyter-widgets/base",
          "model_name": "LayoutModel",
          "state": {
            "_view_name": "LayoutView",
            "grid_template_rows": null,
            "right": null,
            "justify_content": null,
            "_view_module": "@jupyter-widgets/base",
            "overflow": null,
            "_model_module_version": "1.2.0",
            "_view_count": null,
            "flex_flow": null,
            "width": null,
            "min_width": null,
            "border": null,
            "align_items": null,
            "bottom": null,
            "_model_module": "@jupyter-widgets/base",
            "top": null,
            "grid_column": null,
            "overflow_y": null,
            "overflow_x": null,
            "grid_auto_flow": null,
            "grid_area": null,
            "grid_template_columns": null,
            "flex": null,
            "_model_name": "LayoutModel",
            "justify_items": null,
            "grid_row": null,
            "max_height": null,
            "align_content": null,
            "visibility": null,
            "align_self": null,
            "height": null,
            "min_height": null,
            "padding": null,
            "grid_auto_rows": null,
            "grid_gap": null,
            "max_width": null,
            "order": null,
            "_view_module_version": "1.2.0",
            "grid_template_areas": null,
            "object_position": null,
            "object_fit": null,
            "grid_auto_columns": null,
            "margin": null,
            "display": null,
            "left": null
          }
        },
        "540214f965d84ff595eaad12c9b6f28b": {
          "model_module": "@jupyter-widgets/controls",
          "model_name": "HBoxModel",
          "state": {
            "_view_name": "HBoxView",
            "_dom_classes": [],
            "_model_name": "HBoxModel",
            "_view_module": "@jupyter-widgets/controls",
            "_model_module_version": "1.5.0",
            "_view_count": null,
            "_view_module_version": "1.5.0",
            "box_style": "",
            "layout": "IPY_MODEL_013795c6ce4643ee944ebf3324176578",
            "_model_module": "@jupyter-widgets/controls",
            "children": [
              "IPY_MODEL_6496c63c1350420d857db740d06bd7af",
              "IPY_MODEL_f8a2bfb487c549b29f9d744e59301dad"
            ]
          }
        },
        "013795c6ce4643ee944ebf3324176578": {
          "model_module": "@jupyter-widgets/base",
          "model_name": "LayoutModel",
          "state": {
            "_view_name": "LayoutView",
            "grid_template_rows": null,
            "right": null,
            "justify_content": null,
            "_view_module": "@jupyter-widgets/base",
            "overflow": null,
            "_model_module_version": "1.2.0",
            "_view_count": null,
            "flex_flow": null,
            "width": null,
            "min_width": null,
            "border": null,
            "align_items": null,
            "bottom": null,
            "_model_module": "@jupyter-widgets/base",
            "top": null,
            "grid_column": null,
            "overflow_y": null,
            "overflow_x": null,
            "grid_auto_flow": null,
            "grid_area": null,
            "grid_template_columns": null,
            "flex": null,
            "_model_name": "LayoutModel",
            "justify_items": null,
            "grid_row": null,
            "max_height": null,
            "align_content": null,
            "visibility": null,
            "align_self": null,
            "height": null,
            "min_height": null,
            "padding": null,
            "grid_auto_rows": null,
            "grid_gap": null,
            "max_width": null,
            "order": null,
            "_view_module_version": "1.2.0",
            "grid_template_areas": null,
            "object_position": null,
            "object_fit": null,
            "grid_auto_columns": null,
            "margin": null,
            "display": null,
            "left": null
          }
        },
        "6496c63c1350420d857db740d06bd7af": {
          "model_module": "@jupyter-widgets/controls",
          "model_name": "FloatProgressModel",
          "state": {
            "_view_name": "ProgressView",
            "style": "IPY_MODEL_471559cb84854065bea54aed1404bedd",
            "_dom_classes": [],
            "description": "Downloading: 100%",
            "_model_name": "FloatProgressModel",
            "bar_style": "success",
            "max": 433,
            "_view_module": "@jupyter-widgets/controls",
            "_model_module_version": "1.5.0",
            "value": 433,
            "_view_count": null,
            "_view_module_version": "1.5.0",
            "orientation": "horizontal",
            "min": 0,
            "description_tooltip": null,
            "_model_module": "@jupyter-widgets/controls",
            "layout": "IPY_MODEL_a8d7a34704f742929225816d9142723c"
          }
        },
        "f8a2bfb487c549b29f9d744e59301dad": {
          "model_module": "@jupyter-widgets/controls",
          "model_name": "HTMLModel",
          "state": {
            "_view_name": "HTMLView",
            "style": "IPY_MODEL_835e0f29b3e5425fa7fad32bc138523c",
            "_dom_classes": [],
            "description": "",
            "_model_name": "HTMLModel",
            "placeholder": "​",
            "_view_module": "@jupyter-widgets/controls",
            "_model_module_version": "1.5.0",
            "value": " 433/433 [00:06&lt;00:00, 64.8B/s]",
            "_view_count": null,
            "_view_module_version": "1.5.0",
            "description_tooltip": null,
            "_model_module": "@jupyter-widgets/controls",
            "layout": "IPY_MODEL_689f5989eb4c455d822669862fdbe693"
          }
        },
        "471559cb84854065bea54aed1404bedd": {
          "model_module": "@jupyter-widgets/controls",
          "model_name": "ProgressStyleModel",
          "state": {
            "_view_name": "StyleView",
            "_model_name": "ProgressStyleModel",
            "description_width": "initial",
            "_view_module": "@jupyter-widgets/base",
            "_model_module_version": "1.5.0",
            "_view_count": null,
            "_view_module_version": "1.2.0",
            "bar_color": null,
            "_model_module": "@jupyter-widgets/controls"
          }
        },
        "a8d7a34704f742929225816d9142723c": {
          "model_module": "@jupyter-widgets/base",
          "model_name": "LayoutModel",
          "state": {
            "_view_name": "LayoutView",
            "grid_template_rows": null,
            "right": null,
            "justify_content": null,
            "_view_module": "@jupyter-widgets/base",
            "overflow": null,
            "_model_module_version": "1.2.0",
            "_view_count": null,
            "flex_flow": null,
            "width": null,
            "min_width": null,
            "border": null,
            "align_items": null,
            "bottom": null,
            "_model_module": "@jupyter-widgets/base",
            "top": null,
            "grid_column": null,
            "overflow_y": null,
            "overflow_x": null,
            "grid_auto_flow": null,
            "grid_area": null,
            "grid_template_columns": null,
            "flex": null,
            "_model_name": "LayoutModel",
            "justify_items": null,
            "grid_row": null,
            "max_height": null,
            "align_content": null,
            "visibility": null,
            "align_self": null,
            "height": null,
            "min_height": null,
            "padding": null,
            "grid_auto_rows": null,
            "grid_gap": null,
            "max_width": null,
            "order": null,
            "_view_module_version": "1.2.0",
            "grid_template_areas": null,
            "object_position": null,
            "object_fit": null,
            "grid_auto_columns": null,
            "margin": null,
            "display": null,
            "left": null
          }
        },
        "835e0f29b3e5425fa7fad32bc138523c": {
          "model_module": "@jupyter-widgets/controls",
          "model_name": "DescriptionStyleModel",
          "state": {
            "_view_name": "StyleView",
            "_model_name": "DescriptionStyleModel",
            "description_width": "",
            "_view_module": "@jupyter-widgets/base",
            "_model_module_version": "1.5.0",
            "_view_count": null,
            "_view_module_version": "1.2.0",
            "_model_module": "@jupyter-widgets/controls"
          }
        },
        "689f5989eb4c455d822669862fdbe693": {
          "model_module": "@jupyter-widgets/base",
          "model_name": "LayoutModel",
          "state": {
            "_view_name": "LayoutView",
            "grid_template_rows": null,
            "right": null,
            "justify_content": null,
            "_view_module": "@jupyter-widgets/base",
            "overflow": null,
            "_model_module_version": "1.2.0",
            "_view_count": null,
            "flex_flow": null,
            "width": null,
            "min_width": null,
            "border": null,
            "align_items": null,
            "bottom": null,
            "_model_module": "@jupyter-widgets/base",
            "top": null,
            "grid_column": null,
            "overflow_y": null,
            "overflow_x": null,
            "grid_auto_flow": null,
            "grid_area": null,
            "grid_template_columns": null,
            "flex": null,
            "_model_name": "LayoutModel",
            "justify_items": null,
            "grid_row": null,
            "max_height": null,
            "align_content": null,
            "visibility": null,
            "align_self": null,
            "height": null,
            "min_height": null,
            "padding": null,
            "grid_auto_rows": null,
            "grid_gap": null,
            "max_width": null,
            "order": null,
            "_view_module_version": "1.2.0",
            "grid_template_areas": null,
            "object_position": null,
            "object_fit": null,
            "grid_auto_columns": null,
            "margin": null,
            "display": null,
            "left": null
          }
        },
        "94c1f1838bc546a28262656defcb34e0": {
          "model_module": "@jupyter-widgets/controls",
          "model_name": "HBoxModel",
          "state": {
            "_view_name": "HBoxView",
            "_dom_classes": [],
            "_model_name": "HBoxModel",
            "_view_module": "@jupyter-widgets/controls",
            "_model_module_version": "1.5.0",
            "_view_count": null,
            "_view_module_version": "1.5.0",
            "box_style": "",
            "layout": "IPY_MODEL_435ba76c30234cf6862a346577ef9ac0",
            "_model_module": "@jupyter-widgets/controls",
            "children": [
              "IPY_MODEL_cf1f0115de4948f389e5e3793090b68c",
              "IPY_MODEL_4803101bd742414dae50f3fbf2d1140f"
            ]
          }
        },
        "435ba76c30234cf6862a346577ef9ac0": {
          "model_module": "@jupyter-widgets/base",
          "model_name": "LayoutModel",
          "state": {
            "_view_name": "LayoutView",
            "grid_template_rows": null,
            "right": null,
            "justify_content": null,
            "_view_module": "@jupyter-widgets/base",
            "overflow": null,
            "_model_module_version": "1.2.0",
            "_view_count": null,
            "flex_flow": null,
            "width": null,
            "min_width": null,
            "border": null,
            "align_items": null,
            "bottom": null,
            "_model_module": "@jupyter-widgets/base",
            "top": null,
            "grid_column": null,
            "overflow_y": null,
            "overflow_x": null,
            "grid_auto_flow": null,
            "grid_area": null,
            "grid_template_columns": null,
            "flex": null,
            "_model_name": "LayoutModel",
            "justify_items": null,
            "grid_row": null,
            "max_height": null,
            "align_content": null,
            "visibility": null,
            "align_self": null,
            "height": null,
            "min_height": null,
            "padding": null,
            "grid_auto_rows": null,
            "grid_gap": null,
            "max_width": null,
            "order": null,
            "_view_module_version": "1.2.0",
            "grid_template_areas": null,
            "object_position": null,
            "object_fit": null,
            "grid_auto_columns": null,
            "margin": null,
            "display": null,
            "left": null
          }
        },
        "cf1f0115de4948f389e5e3793090b68c": {
          "model_module": "@jupyter-widgets/controls",
          "model_name": "FloatProgressModel",
          "state": {
            "_view_name": "ProgressView",
            "style": "IPY_MODEL_5fcc93833bdd4bbd860938193dad84c1",
            "_dom_classes": [],
            "description": "Downloading: 100%",
            "_model_name": "FloatProgressModel",
            "bar_style": "success",
            "max": 440473133,
            "_view_module": "@jupyter-widgets/controls",
            "_model_module_version": "1.5.0",
            "value": 440473133,
            "_view_count": null,
            "_view_module_version": "1.5.0",
            "orientation": "horizontal",
            "min": 0,
            "description_tooltip": null,
            "_model_module": "@jupyter-widgets/controls",
            "layout": "IPY_MODEL_ed6fd1cd503041b9aaa134289588e406"
          }
        },
        "4803101bd742414dae50f3fbf2d1140f": {
          "model_module": "@jupyter-widgets/controls",
          "model_name": "HTMLModel",
          "state": {
            "_view_name": "HTMLView",
            "style": "IPY_MODEL_bd2f40fae5c2422ba9692970631d2e54",
            "_dom_classes": [],
            "description": "",
            "_model_name": "HTMLModel",
            "placeholder": "​",
            "_view_module": "@jupyter-widgets/controls",
            "_model_module_version": "1.5.0",
            "value": " 440M/440M [00:06&lt;00:00, 68.9MB/s]",
            "_view_count": null,
            "_view_module_version": "1.5.0",
            "description_tooltip": null,
            "_model_module": "@jupyter-widgets/controls",
            "layout": "IPY_MODEL_8d451c82a3c541f0aaa2893beea9bb57"
          }
        },
        "5fcc93833bdd4bbd860938193dad84c1": {
          "model_module": "@jupyter-widgets/controls",
          "model_name": "ProgressStyleModel",
          "state": {
            "_view_name": "StyleView",
            "_model_name": "ProgressStyleModel",
            "description_width": "initial",
            "_view_module": "@jupyter-widgets/base",
            "_model_module_version": "1.5.0",
            "_view_count": null,
            "_view_module_version": "1.2.0",
            "bar_color": null,
            "_model_module": "@jupyter-widgets/controls"
          }
        },
        "ed6fd1cd503041b9aaa134289588e406": {
          "model_module": "@jupyter-widgets/base",
          "model_name": "LayoutModel",
          "state": {
            "_view_name": "LayoutView",
            "grid_template_rows": null,
            "right": null,
            "justify_content": null,
            "_view_module": "@jupyter-widgets/base",
            "overflow": null,
            "_model_module_version": "1.2.0",
            "_view_count": null,
            "flex_flow": null,
            "width": null,
            "min_width": null,
            "border": null,
            "align_items": null,
            "bottom": null,
            "_model_module": "@jupyter-widgets/base",
            "top": null,
            "grid_column": null,
            "overflow_y": null,
            "overflow_x": null,
            "grid_auto_flow": null,
            "grid_area": null,
            "grid_template_columns": null,
            "flex": null,
            "_model_name": "LayoutModel",
            "justify_items": null,
            "grid_row": null,
            "max_height": null,
            "align_content": null,
            "visibility": null,
            "align_self": null,
            "height": null,
            "min_height": null,
            "padding": null,
            "grid_auto_rows": null,
            "grid_gap": null,
            "max_width": null,
            "order": null,
            "_view_module_version": "1.2.0",
            "grid_template_areas": null,
            "object_position": null,
            "object_fit": null,
            "grid_auto_columns": null,
            "margin": null,
            "display": null,
            "left": null
          }
        },
        "bd2f40fae5c2422ba9692970631d2e54": {
          "model_module": "@jupyter-widgets/controls",
          "model_name": "DescriptionStyleModel",
          "state": {
            "_view_name": "StyleView",
            "_model_name": "DescriptionStyleModel",
            "description_width": "",
            "_view_module": "@jupyter-widgets/base",
            "_model_module_version": "1.5.0",
            "_view_count": null,
            "_view_module_version": "1.2.0",
            "_model_module": "@jupyter-widgets/controls"
          }
        },
        "8d451c82a3c541f0aaa2893beea9bb57": {
          "model_module": "@jupyter-widgets/base",
          "model_name": "LayoutModel",
          "state": {
            "_view_name": "LayoutView",
            "grid_template_rows": null,
            "right": null,
            "justify_content": null,
            "_view_module": "@jupyter-widgets/base",
            "overflow": null,
            "_model_module_version": "1.2.0",
            "_view_count": null,
            "flex_flow": null,
            "width": null,
            "min_width": null,
            "border": null,
            "align_items": null,
            "bottom": null,
            "_model_module": "@jupyter-widgets/base",
            "top": null,
            "grid_column": null,
            "overflow_y": null,
            "overflow_x": null,
            "grid_auto_flow": null,
            "grid_area": null,
            "grid_template_columns": null,
            "flex": null,
            "_model_name": "LayoutModel",
            "justify_items": null,
            "grid_row": null,
            "max_height": null,
            "align_content": null,
            "visibility": null,
            "align_self": null,
            "height": null,
            "min_height": null,
            "padding": null,
            "grid_auto_rows": null,
            "grid_gap": null,
            "max_width": null,
            "order": null,
            "_view_module_version": "1.2.0",
            "grid_template_areas": null,
            "object_position": null,
            "object_fit": null,
            "grid_auto_columns": null,
            "margin": null,
            "display": null,
            "left": null
          }
        }
      }
    }
  },
  "cells": [
    {
      "cell_type": "code",
      "metadata": {
        "id": "yqpz_6ses_7E",
        "colab": {
          "base_uri": "https://localhost:8080/",
          "height": 598
        },
        "outputId": "6bea017c-eaa6-4882-bba2-8ad334c4c55c"
      },
      "source": [
        "%load_ext autoreload\n",
        "%autoreload 2\n",
        "from google.colab import drive\n",
        "drive.mount('/content/drive')\n",
        "import sys\n",
        "root = '/content/drive/My Drive/dialog-data/'\n",
        "#root = 'drive/dialog-data/'\n",
        "sys.path.append(root)\n",
        "!{sys.executable} -m pip install transformers==2.10\n",
        "import time\n",
        "import sys\n",
        "import os\n",
        "import torch as T\n",
        "import numpy as np\n",
        "import transformers as tf\n",
        "import req_slot_data as D\n",
        "from collections import defaultdict\n",
        "import argparse\n",
        "import pickle\n",
        "from sklearn.metrics import precision_recall_fscore_support"
      ],
      "execution_count": null,
      "outputs": [
        {
          "output_type": "stream",
          "text": [
            "Drive already mounted at /content/drive; to attempt to forcibly remount, call drive.mount(\"/content/drive\", force_remount=True).\n",
            "Collecting transformers==2.10\n",
            "\u001b[?25l  Downloading https://files.pythonhosted.org/packages/12/b5/ac41e3e95205ebf53439e4dd087c58e9fd371fd8e3724f2b9b4cdb8282e5/transformers-2.10.0-py3-none-any.whl (660kB)\n",
            "\u001b[K     |████████████████████████████████| 665kB 4.8MB/s \n",
            "\u001b[?25hRequirement already satisfied: filelock in /usr/local/lib/python3.6/dist-packages (from transformers==2.10) (3.0.12)\n",
            "Collecting sentencepiece\n",
            "\u001b[?25l  Downloading https://files.pythonhosted.org/packages/d4/a4/d0a884c4300004a78cca907a6ff9a5e9fe4f090f5d95ab341c53d28cbc58/sentencepiece-0.1.91-cp36-cp36m-manylinux1_x86_64.whl (1.1MB)\n",
            "\u001b[K     |████████████████████████████████| 1.1MB 13.7MB/s \n",
            "\u001b[?25hCollecting tokenizers==0.7.0\n",
            "\u001b[?25l  Downloading https://files.pythonhosted.org/packages/14/e5/a26eb4716523808bb0a799fcfdceb6ebf77a18169d9591b2f46a9adb87d9/tokenizers-0.7.0-cp36-cp36m-manylinux1_x86_64.whl (3.8MB)\n",
            "\u001b[K     |████████████████████████████████| 3.8MB 24.4MB/s \n",
            "\u001b[?25hRequirement already satisfied: tqdm>=4.27 in /usr/local/lib/python3.6/dist-packages (from transformers==2.10) (4.41.1)\n",
            "Collecting sacremoses\n",
            "\u001b[?25l  Downloading https://files.pythonhosted.org/packages/7d/34/09d19aff26edcc8eb2a01bed8e98f13a1537005d31e95233fd48216eed10/sacremoses-0.0.43.tar.gz (883kB)\n",
            "\u001b[K     |████████████████████████████████| 890kB 50.2MB/s \n",
            "\u001b[?25hRequirement already satisfied: dataclasses; python_version < \"3.7\" in /usr/local/lib/python3.6/dist-packages (from transformers==2.10) (0.7)\n",
            "Requirement already satisfied: requests in /usr/local/lib/python3.6/dist-packages (from transformers==2.10) (2.23.0)\n",
            "Requirement already satisfied: numpy in /usr/local/lib/python3.6/dist-packages (from transformers==2.10) (1.18.5)\n",
            "Requirement already satisfied: regex!=2019.12.17 in /usr/local/lib/python3.6/dist-packages (from transformers==2.10) (2019.12.20)\n",
            "Requirement already satisfied: six in /usr/local/lib/python3.6/dist-packages (from sacremoses->transformers==2.10) (1.15.0)\n",
            "Requirement already satisfied: click in /usr/local/lib/python3.6/dist-packages (from sacremoses->transformers==2.10) (7.1.2)\n",
            "Requirement already satisfied: joblib in /usr/local/lib/python3.6/dist-packages (from sacremoses->transformers==2.10) (0.16.0)\n",
            "Requirement already satisfied: certifi>=2017.4.17 in /usr/local/lib/python3.6/dist-packages (from requests->transformers==2.10) (2020.6.20)\n",
            "Requirement already satisfied: idna<3,>=2.5 in /usr/local/lib/python3.6/dist-packages (from requests->transformers==2.10) (2.10)\n",
            "Requirement already satisfied: chardet<4,>=3.0.2 in /usr/local/lib/python3.6/dist-packages (from requests->transformers==2.10) (3.0.4)\n",
            "Requirement already satisfied: urllib3!=1.25.0,!=1.25.1,<1.26,>=1.21.1 in /usr/local/lib/python3.6/dist-packages (from requests->transformers==2.10) (1.24.3)\n",
            "Building wheels for collected packages: sacremoses\n",
            "  Building wheel for sacremoses (setup.py) ... \u001b[?25l\u001b[?25hdone\n",
            "  Created wheel for sacremoses: filename=sacremoses-0.0.43-cp36-none-any.whl size=893257 sha256=f0cfaf1b5f6db0442ecc8d18a53e2006471a957e3f2ab4869973684d2e828fe7\n",
            "  Stored in directory: /root/.cache/pip/wheels/29/3c/fd/7ce5c3f0666dab31a50123635e6fb5e19ceb42ce38d4e58f45\n",
            "Successfully built sacremoses\n",
            "Installing collected packages: sentencepiece, tokenizers, sacremoses, transformers\n",
            "Successfully installed sacremoses-0.0.43 sentencepiece-0.1.91 tokenizers-0.7.0 transformers-2.10.0\n"
          ],
          "name": "stdout"
        }
      ]
    },
    {
      "cell_type": "code",
      "metadata": {
        "id": "ylv6GOpWyIVS"
      },
      "source": [
        "class Run:\n",
        "    def __init__(self):\n",
        "        self.records = defaultdict(list)\n",
        "        \n",
        "    def log(self, key, value):\n",
        "        self.records[key].append(value)\n",
        "\n",
        "\n",
        "def evaluate(model, batch):\n",
        "    token_type_ids = batch.x.token_type_ids\n",
        "    scores = model(batch.x.input_ids, batch.x.attention_mask, batch.x.token_type_ids)[0]\n",
        "    mask = batch.x.attention_mask[..., 0] # B.C\n",
        "    scores = scores + (mask.float() - 1) * 1e8\n",
        "    #pos_weight = T.ones(scores.shape[1], device = scores.device) * 5\n",
        "    loss = T.nn.functional.binary_cross_entropy_with_logits(scores, batch.y.float(),\n",
        "                                                            reduction='sum')#, pos_weight=pos_weight)\n",
        "    loss = loss/mask.shape[0]\n",
        "    #loss = T.nn.functional.cross_entropy(scores, batch.y)\n",
        "    return scores, loss\n",
        "\n",
        "def metrics(scores, labels):\n",
        "    with T.no_grad():\n",
        "        preds = (T.sigmoid(scores) >= 0.5).float()\n",
        "        acc = T.all(preds == labels.float(), dim=-1)\n",
        "        preds = preds.view(-1).cpu().numpy()\n",
        "        labels = labels.view(-1).cpu().numpy()\n",
        "        precision, recall, f1score, _ = precision_recall_fscore_support(preds, labels,\n",
        "                                                                              average='binary')\n",
        "        correct = T.where(acc == True)[0]\n",
        "        wrong = T.where(acc == False)[0]\n",
        "        return [precision, recall, f1score], correct.cpu().numpy(), wrong.cpu().numpy()\n",
        "    \n",
        "def print_example(tokenizer, batch, idx, scores, correct):\n",
        "    with T.no_grad():\n",
        "        ids, token_type_ids, mask = batch.x.input_ids[idx], batch.x.token_type_ids[idx], batch.x.attention_mask[idx, :, 0]\n",
        "        scores = scores[idx]\n",
        "        state = ('Correct' if correct else 'Wrong')\n",
        "        print(' '.join(tokenizer.convert_ids_to_tokens(ids[0, token_type_ids[0] == 0], skip_special_tokens=True)))\n",
        "        total = int(mask.sum())\n",
        "        print('\\t'.join([' '.join(tokenizer.convert_ids_to_tokens(ids[i, token_type_ids[i] == 1],\n",
        "                                                                  skip_special_tokens=True))\n",
        "                         + ': {:.2f}'.format(T.sigmoid(scores)[i])\n",
        "                         for i in range(total)] + [state]))\n",
        "\n",
        "def train(model, optim, train_data, valid_data, no_batches, valid_duration=100,\n",
        "          cuda=True, verbose=False, tokenizer=None, max_grad_norm=1.0,\n",
        "          valid_size=1, run=None, batch_size=1, no_examples=10):\n",
        "    if cuda:\n",
        "        model = model.cuda()\n",
        "    optim, scheduler = optim\n",
        "    print(\"About to start training\")\n",
        "    start_time = time.time()\n",
        "    metric = ['percision', 'recall', 'fscore']\n",
        "    valid_loss, valid_acc, max_acc = 0, [0, 0, 0], 0\n",
        "    print_gpu = False\n",
        "    batch_size, total_batch_size = batch_size\n",
        "    no_iter = total_batch_size//batch_size\n",
        "    i = 0\n",
        "    while True:\n",
        "        optim.zero_grad()\n",
        "        scores, loss, acc = 0, 0, [0, 0, 0]\n",
        "        for k in range(no_iter):\n",
        "            batch = next(train_data)\n",
        "            scores_, loss_ = evaluate(model, batch)\n",
        "            scores += scores_/no_iter\n",
        "            loss_ /= no_iter\n",
        "            loss_.backward()\n",
        "            loss += loss_\n",
        "            acc_, _, _ = metrics(scores_ , batch.y)\n",
        "            acc = [a + acc_[j]/no_iter for j, a in enumerate(acc)]\n",
        "        if max_grad_norm > 0:\n",
        "            T.nn.utils.clip_grad_norm_(model.parameters(), max_grad_norm)\n",
        "        loss = float(loss)\n",
        "        optim.step()\n",
        "        scheduler.step()\n",
        "        \n",
        "        if  i % valid_duration == 0:\n",
        "            model.eval()\n",
        "            valid_acc, valid_loss = [0, 0, 0], 0\n",
        "            with T.no_grad():\n",
        "                if verbose:\n",
        "                    print(\"##################################################################################\")\n",
        "                for k in range(valid_size):\n",
        "                    batch = next(valid_data)\n",
        "                    valid_scores, valid_los = evaluate(model, batch)\n",
        "                    v_acc,  corr_ids, wrong_ids, = metrics(valid_scores, batch.y)\n",
        "                    valid_loss += float(valid_los)\n",
        "                    valid_acc = [a + v_acc[j]/valid_size for j, a in enumerate(valid_acc)]\n",
        "                    if verbose and k < no_examples:\n",
        "                        if len(corr_ids) > 0:\n",
        "                            idx = np.random.choice(corr_ids)\n",
        "                            print_example(tokenizer, batch, idx, valid_scores, correct=True)\n",
        "                            print(\"-----------------------------------------------------------------------------\")\n",
        "                        if len(wrong_ids) > 0:\n",
        "                            idx = np.random.choice(wrong_ids)\n",
        "                            print_example(tokenizer, batch, idx, valid_scores, correct=False)\n",
        "                            print(\"-----------------------------------------------------------------------------\")\n",
        "                if verbose:\n",
        "                    print(\"##################################################################################\")\n",
        "                valid_loss /= valid_size\n",
        "                if valid_acc[2] > max_acc:\n",
        "                    max_acc = valid_acc[2]\n",
        "                    model.save_model()        \n",
        "            model.train()\n",
        "        \n",
        "        if print_gpu:\n",
        "            print(nvgpu.gpu_info())\n",
        "            print_gpu = False\n",
        "        if run:\n",
        "            run.log(\"train_loss\", loss)\n",
        "            for m, a, v_a in zip(metric, acc, valid_acc):\n",
        "                run.log(\"valid_\" + m, v_a)\n",
        "                run.log(\"train_\" + m, a)\n",
        "            run.log(\"valid_loss\", valid_loss)\n",
        "            \n",
        "            run.log(\"batch\", i)\n",
        "        train_str = ', '.join([f'train {m}: {a:.2f}' for m, a in zip(metric, acc)])\n",
        "        valid_str = ', '.join([f'valid {m}: {a:.2f}' for m, a in zip(metric, valid_acc)])\n",
        "        sys.stderr.write(f'\\rtrain loss: {loss:.2f}\\t{train_str}\\t' + \n",
        "                         f'valid loss: {valid_loss:.2f}\\t{valid_str}\\t' +\n",
        "                         f'batch: {i}\\ttime: {time.time()-start_time:.2f}{\"\": <30}')\n",
        "        i += 1\n",
        "        if i >= no_batches - 1:\n",
        "            break\n",
        "    return model\n",
        "\n",
        "def _in(n, trainable_parameters):\n",
        "    return any(nd in n for nd in trainable_parameters)\n",
        "\n",
        "def get_model(name, trainable_parameters=None):\n",
        "    model_name = name.split('-')[0].capitalize()\n",
        "    tokenizer = getattr(tf, f'{model_name}Tokenizer').from_pretrained(name)\n",
        "    model = getattr(tf, f'{model_name}ForMultipleChoice').from_pretrained(name,\n",
        "                                                                                  num_labels=4)\n",
        "    if trainable_parameters is not None:\n",
        "        for name, param in model.named_parameters():\n",
        "            if not _in(name, trainable_parameters):\n",
        "                param.requires_grad = False\n",
        "    return tokenizer, model\n",
        "\n",
        "\n",
        "class AdapterLayer(T.nn.Module):\n",
        "    \n",
        "    def __init__(self, input_size, dropout, hidden_size=64, init_scale=1e-3, act='gelu'):\n",
        "        super().__init__()\n",
        "        self.act = getattr(T.nn.functional, act)\n",
        "        self.squeeze = T.nn.Linear(input_size, hidden_size)\n",
        "        self.squeeze.weight.data.normal_(mean=0.0, std=init_scale)\n",
        "        T.nn.init.zeros_(self.squeeze.bias.data)\n",
        "        self.expand = T.nn.Linear(hidden_size, input_size)\n",
        "        self.expand.weight.data.normal_(mean=0.0, std=init_scale)\n",
        "        T.nn.init.zeros_(self.expand.bias.data)\n",
        "        self.dropout = dropout\n",
        "        \n",
        "    def forward(self, x):\n",
        "        x = self.dropout(x)\n",
        "        return self.expand(self.act(self.squeeze(x))) + x\n",
        "    \n",
        "\n",
        "def add_adapter_layers(model, **kwargs):\n",
        "    input_size = model.config.hidden_size\n",
        "    layers = model.bert.encoder.layer\n",
        "    for layer in layers:\n",
        "        adapter1 = AdapterLayer(input_size, layer.attention.output.dropout, **kwargs)\n",
        "        adapter2 = AdapterLayer(input_size, layer.output.dropout, **kwargs)\n",
        "        layer.attention.output.add_module('dropout', adapter1)\n",
        "        layer.output.add_module('dropout', adapter2)\n",
        "    return model\n",
        "\n",
        "\n",
        "def save_model(model, trainable_parameters, url):\n",
        "    with open(url, 'wb') as f:\n",
        "        params_to_save = {k: v.detach().cpu() for k, v in model.state_dict().items()\n",
        "                          if _in(k, trainable_parameters)}\n",
        "        pickle.dump(params_to_save, f)\n",
        "\n",
        "\n",
        "def load_model(model, url):\n",
        "    with open(url, 'rb') as f:\n",
        "        return model.load_state_dict(pickle.load(f), False)\n",
        "\n",
        "\n",
        "def main(args):\n",
        "    \n",
        "    data_dir = args.data_url\n",
        "    trainable_parameters = (args.trainable_parameters.split(' ') if args.trainable_parameters != '' \n",
        "                                                                 else None)\n",
        "    \n",
        "    print(\"data directory is: \" + data_dir)\n",
        "    # Load the model\n",
        "    tokenizer, model = get_model(args.model_name, trainable_parameters)\n",
        "    # Load the data\n",
        "    train_itr = D.RequestSlotDataset(os.path.join(data_dir,'train'), tokenizer, \n",
        "                            max_len=args.max_len).dataLoader(batch_size=args.batch_size,\n",
        "                                                             shuffle=True, pin_memory=True,\n",
        "                                                             cuda=True, loop=True, drop_last=True)\n",
        "    valid_itr = D.RequestSlotDataset(os.path.join(data_dir,'dev'), tokenizer,\n",
        "                              max_len=args.max_len).dataLoader(batch_size=args.batch_size,\n",
        "                                                               shuffle=True, pin_memory=True,\n",
        "                                                               cuda=True, loop=True, drop_last=True)\n",
        "    # Train only adapter layers\n",
        "    model = add_adapter_layers(model, hidden_size=args.adapter_size)\n",
        "    if args.checkpoint:\n",
        "        model.load_state_dict(pickle.load(open(os.path.join(data_dir, args.checkpoint), 'rb')), False)\n",
        "    # Parallise if required\n",
        "    if T.cuda.device_count() > 1:\n",
        "        print(\"Let's use\", T.cuda.device_count(), \"GPUs!\")\n",
        "        model = T.nn.DataParallel(model)    \n",
        "    # Create the optimizer\n",
        "    # Prepare optimizer and schedule (linear warmup and decay)\n",
        "    no_decay = [\"bias\", \"LayerNorm.weight\"]\n",
        "    optimizer_grouped_parameters = [\n",
        "        {\n",
        "            \"params\": [p for n, p in model.named_parameters() \n",
        "                       if _in(n, trainable_parameters) and not _in(n, no_decay)],\n",
        "            \"weight_decay\": args.weight_decay,\n",
        "        },\n",
        "        {\n",
        "            \"params\": [p for n, p in model.named_parameters() \n",
        "                       if _in(n, trainable_parameters) and _in(n, no_decay)],\n",
        "            \"weight_decay\": 0.0\n",
        "        },\n",
        "    ]\n",
        "    if args.model_url is not None:\n",
        "        save_fn = lambda : save_model(model, trainable_parameters, \n",
        "                                      os.path.join(data_dir, args.model_url))\n",
        "    else:\n",
        "        save_fn = type(None)\n",
        "    setattr(model, 'save_model', save_fn)\n",
        "    optimizer = tf.AdamW(optimizer_grouped_parameters, lr=args.lr, eps=1e-8)\n",
        "    scheduler = tf.get_linear_schedule_with_warmup(\n",
        "        optimizer, num_warmup_steps=int(0.1*args.num_batches), num_training_steps=args.num_batches\n",
        "    )\n",
        "    \n",
        "    optim = [optimizer, scheduler]\n",
        "    run = Run()\n",
        "    model = train(model, optim, train_itr, valid_itr, args.num_batches, args.valid_duration,\n",
        "                  verbose=args.verbose, tokenizer=tokenizer, max_grad_norm=args.max_grad_norm,\n",
        "                  valid_size=args.valid_size, run=run, cuda=True,\n",
        "                  batch_size=[args.batch_size, args.total_batch_size])\n",
        "    return model, run"
      ],
      "execution_count": null,
      "outputs": []
    },
    {
      "cell_type": "code",
      "metadata": {
        "id": "EuBMt03VzOsq",
        "colab": {
          "base_uri": "https://localhost:8080/",
          "height": 785
        },
        "outputId": "0320ee8e-e387-413f-8775-34970a3abe80"
      },
      "source": [
        "# get command-line arguments\n",
        "trainable_parameters = ['LayerNorm', 'dropout.expand', 'dropout.squeeze', 'classifier']\n",
        "parser = argparse.ArgumentParser()\n",
        "parser.add_argument('--model_name', type=str, default='bert-base-uncased')\n",
        "parser.add_argument('--trainable_parameters', type=str, help='space separated parameters to train',\n",
        "                    default=' '.join(trainable_parameters))\n",
        "parser.add_argument('--total_batch_size', type=int, default=64, help='The total batch size')\n",
        "parser.add_argument('--batch_size', type=int, default=64, help='The batch size')\n",
        "parser.add_argument('--num_batches', type=int, default=1000, help='number of batches to train')\n",
        "parser.add_argument('--max_len', type=int, default=120, help='Maximum length of the context')\n",
        "parser.add_argument('--adapter_size', type=int, default=256, help='hidden size of the adapter layers')\n",
        "parser.add_argument('--data_url', type=str, help='data directory')\n",
        "parser.add_argument('--pos_prob', type=float, default=0.5, help='Probability of sampling positive examples')\n",
        "parser.add_argument('--optim', type=str, default='Adam', help='data directory')\n",
        "parser.add_argument('--lr', type=float, default=6e-5, help='Learning rate')\n",
        "parser.add_argument('--amsgrad', type=bool, default=False, help=' whether to use the AMSGrad variant')\n",
        "parser.add_argument('--weight_decay', type=float, default=0.006, help='L2 Regularization weight decay')\n",
        "parser.add_argument('--max_grad_norm', default=1.0, type=float, help=\"Max gradient norm.\")\n",
        "parser.add_argument('--valid_duration', type=int, default=100, help='The number of batches before validating')\n",
        "parser.add_argument('--verbose', type=bool, default=True, help='Show Live valid examples with prediction during validating')\n",
        "parser.add_argument('--valid_size', type=int, default=50, help='The number of valid batches to evaluate')\n",
        "parser.add_argument('--model_url', type=str, default='model.pkl', help='URL to save the model')\n",
        "parser.add_argument('--checkpoint', type=str, help='Start training from a checkpoint')\n",
        "\n",
        "args = parser.parse_args(['--data_url', root, '--adapter_size', '256', '--checkpoint', 'model_req_slot2.pkl',\n",
        "                          '--batch_size', '12', '--total_batch_size', '120', '--num_batches', '3000',\n",
        "                            '--model_url', 'model_req_slot2.pkl', '--max_len', '60',#, '--lr', '2e-5'\n",
        "                            #'--weight_decay', '0.009'\n",
        "                            ])\n",
        "model, run = main(args)"
      ],
      "execution_count": null,
      "outputs": [
        {
          "output_type": "stream",
          "text": [
            "data directory is: /content/drive/My Drive/dialog-data/\n",
            "About to start training\n"
          ],
          "name": "stdout"
        },
        {
          "output_type": "stream",
          "text": [
            "/usr/local/lib/python3.6/dist-packages/sklearn/metrics/_classification.py:1272: UndefinedMetricWarning: Precision and F-score are ill-defined and being set to 0.0 due to no predicted samples. Use `zero_division` parameter to control this behavior.\n",
            "  _warn_prf(average, modifier, msg_start, len(result))\n",
            "/usr/local/lib/python3.6/dist-packages/sklearn/metrics/_classification.py:1272: UndefinedMetricWarning: Recall and F-score are ill-defined and being set to 0.0 due to no true samples. Use `zero_division` parameter to control this behavior.\n",
            "  _warn_prf(average, modifier, msg_start, len(result))\n"
          ],
          "name": "stderr"
        },
        {
          "output_type": "stream",
          "text": [
            "##################################################################################\n",
            "user : ok , good service description : find one way and round trip flights to your favorite city\n",
            "number of passengers to find flight seats for: 0.00\tfare class of flight booking: 0.00\tcity in which the journey originates: 0.00\tcity in which the journey ends: 0.00\tnumber of the airport flying out from: 0.00\tnumber of the airport flying to: 0.00\tdate of departure flight: 0.00\tdate of return flight: 0.00\tnumber of stops in the it ##iner ##ary: 0.00\tlocal time of departure of flight from origin to destination: 0.00\tlocal time of arrival of flight from origin to destination: 0.00\tlocal time of arrival of flight from destination to origin: 0.00\tlocal time of departure of flight from destination to origin: 0.00\tprice per passenger of the it ##iner ##ary: 0.00\tnumber of bags to check in: 0.00\tname of airline operating the flight: 0.00\twhether the flight arrives the next day: 0.00\tCorrect\n",
            "-----------------------------------------------------------------------------\n",
            "user : yes that works service description : car rental service with extensive coverage of locations and cars\n",
            "category to which rental car belongs: 0.00\tmodel name of rental car: 0.00\tlocation of rental car pickup: 0.00\tdate of rental car pickup: 0.00\ttime of rental car pickup: 0.00\tcity where rental car will be picked up: 0.00\tdate of rental car drop - off: 0.00\ttotal price of car rental: 0.03\tCorrect\n",
            "-----------------------------------------------------------------------------\n",
            "user : okay , please do . service description : book bus journeys from the biggest bus network in the country\n",
            "city where bus is leaving from: 0.00\tcity where bus is going to: 0.00\tstation where bus is leaving from: 0.00\tstation where bus is going to: 0.00\tdate of bus leaving for journey: 0.00\ttime of bus leaving for journey: 0.00\tfare per ticket for journey: 0.00\tnumber of travelers for journey: 0.00\tnumber of transfers in journey: 0.00\tCorrect\n",
            "-----------------------------------------------------------------------------\n",
            "user : yes , that ' s right . service description : accommodation searching and booking portal\n",
            "city or town where the accommodation is located: 0.00\tnumber of rooms to reserve: 0.00\tcheck in date for reservation: 0.00\tlength of stay in days: 0.00\tstar rating of the accommodation: 0.00\tname of the accommodation: 0.00\tstreet address of the accommodation: 0.00\tcontact phone number of the accommodation: 0.00\tprice per night for the stay: 0.00\twhether or not smoking is allowed inside the place: 0.00\tCorrect\n",
            "-----------------------------------------------------------------------------\n",
            "user : it ' s for 710 dollars . service description : service to manage your bank accounts and finances\n",
            "the user ' s account type: 0.00\tthe account type of the recipient to transfer the money to: 0.00\tthe balance in the specified account: 0.00\tthe amount of money to transfer: 0.00\tthe name of the recipient to transfer the money to: 0.00\tnumber of days for the transfer to go through: 0.00\tCorrect\n",
            "-----------------------------------------------------------------------------\n",
            "user : can you tell me who stars in it ? service description : the wide ##st selection and lowest prices for movie rental ##s\n",
            "name of the movie: 0.00\tmain genre of the movie: 0.00\tlanguage to use for sub ##titles ( or none for no sub ##titles ): 0.00\tname of the director of the movie: 1.00\tname of an actor starring in the movie: 1.00\tcost of rent ##ing movie: 0.00\tWrong\n",
            "-----------------------------------------------------------------------------\n",
            "user : ar ##oun ##f 6 : 30 in the evening . search for a full - size car . service description : car rental service with extensive coverage of locations and cars\n",
            "category to which rental car belongs: 0.00\tmodel name of rental car: 0.00\tlocation of rental car pickup: 0.00\tdate of rental car pickup: 0.00\ttime of rental car pickup: 0.00\tcity where rental car will be picked up: 0.00\tdate of rental car drop - off: 0.00\ttotal price of car rental: 0.00\tCorrect\n",
            "-----------------------------------------------------------------------------\n",
            "user : the actress , elsa palmer , comes to my mind . she was in this drama film . i can ' t think of the title . service description : the wide ##st selection and lowest prices for movie rental ##s\n",
            "name of the movie: 0.00\tmain genre of the movie: 0.00\tlanguage to use for sub ##titles ( or none for no sub ##titles ): 0.00\tname of the director of the movie: 0.00\tname of an actor starring in the movie: 0.00\tcost of rent ##ing movie: 0.00\tCorrect\n",
            "-----------------------------------------------------------------------------\n",
            "user : i would like to know how the weather is in nairobi , kenya . service description : check the weather for any place and any date\n",
            "the possibility of rain or snow in percentage: 0.00\tpercentage humidity: 0.00\twind speed in miles per hour: 0.00\ttemperature in fa ##hre ##nh ##eit: 0.00\tname of the city: 0.00\tdate for the weather: 0.00\tCorrect\n",
            "-----------------------------------------------------------------------------\n",
            "user : how long will the ride take ? service description : on - demand taxi calling service\n",
            "destination for taxi ride: 0.00\tboo ##lean flag whether ride is shared with other passengers: 0.00\ttotal fare for taxi ride: 0.01\tapproximate duration of ride to the destination: 1.00\tnumber of riders to call taxi for: 0.00\tCorrect\n",
            "-----------------------------------------------------------------------------\n",
            "user : i will get the car in atlanta and return it next thursday . service description : car rental service with extensive coverage of locations and cars\n",
            "category to which rental car belongs: 0.00\tmodel name of rental car: 0.00\tlocation of rental car pickup: 0.00\tdate of rental car pickup: 0.00\ttime of rental car pickup: 0.00\tcity where rental car will be picked up: 0.00\tdate of rental car drop - off: 0.00\ttotal price of car rental: 0.00\tCorrect\n",
            "-----------------------------------------------------------------------------\n",
            "##################################################################################\n"
          ],
          "name": "stdout"
        },
        {
          "output_type": "stream",
          "text": [
            "/usr/local/lib/python3.6/dist-packages/torch/storage.py:34: FutureWarning: pickle support for Storage will be removed in 1.5. Use `torch.save` instead\n",
            "  warnings.warn(\"pickle support for Storage will be removed in 1.5. Use `torch.save` instead\", FutureWarning)\n",
            "train loss: 0.00\ttrain percision: 0.70, train recall: 0.70, train fscore: 0.70\tvalid loss: 0.05\tvalid percision: 0.82, valid recall: 0.83, valid fscore: 0.82\tbatch: 66\ttime: 1107.53                              "
          ],
          "name": "stderr"
        }
      ]
    },
    {
      "cell_type": "code",
      "metadata": {
        "id": "SOCu4_NdzS7X",
        "colab": {
          "base_uri": "https://localhost:8080/",
          "height": 306
        },
        "outputId": "9fd15bbc-d29e-4665-b28b-04d7a0a341e1"
      },
      "source": [
        "!nvidia-smi"
      ],
      "execution_count": null,
      "outputs": [
        {
          "output_type": "stream",
          "text": [
            "Sat May 30 20:00:54 2020       \n",
            "+-----------------------------------------------------------------------------+\n",
            "| NVIDIA-SMI 440.82       Driver Version: 418.67       CUDA Version: 10.1     |\n",
            "|-------------------------------+----------------------+----------------------+\n",
            "| GPU  Name        Persistence-M| Bus-Id        Disp.A | Volatile Uncorr. ECC |\n",
            "| Fan  Temp  Perf  Pwr:Usage/Cap|         Memory-Usage | GPU-Util  Compute M. |\n",
            "|===============================+======================+======================|\n",
            "|   0  Tesla P100-PCIE...  Off  | 00000000:00:04.0 Off |                    0 |\n",
            "| N/A   35C    P0    26W / 250W |      0MiB / 16280MiB |      0%      Default |\n",
            "+-------------------------------+----------------------+----------------------+\n",
            "                                                                               \n",
            "+-----------------------------------------------------------------------------+\n",
            "| Processes:                                                       GPU Memory |\n",
            "|  GPU       PID   Type   Process name                             Usage      |\n",
            "|=============================================================================|\n",
            "|  No running processes found                                                 |\n",
            "+-----------------------------------------------------------------------------+\n"
          ],
          "name": "stdout"
        }
      ]
    },
    {
      "cell_type": "code",
      "metadata": {
        "id": "9V9MIgkX7bjF"
      },
      "source": [
        "#save_model(model, trainable_parameters, root + 'model-cat-slot-best2.pkl')"
      ],
      "execution_count": null,
      "outputs": []
    },
    {
      "cell_type": "code",
      "metadata": {
        "id": "5Is-QFHK3iLa",
        "colab": {
          "base_uri": "https://localhost:8080/",
          "height": 51
        },
        "outputId": "22ca9016-b75c-47df-9b06-baa940932fcf"
      },
      "source": [
        "%matplotlib inline\n",
        "%load_ext autoreload\n",
        "%autoreload 2\n",
        "import matplotlib.pyplot as plt"
      ],
      "execution_count": null,
      "outputs": [
        {
          "output_type": "stream",
          "text": [
            "The autoreload extension is already loaded. To reload it, use:\n",
            "  %reload_ext autoreload\n"
          ],
          "name": "stdout"
        }
      ]
    },
    {
      "cell_type": "code",
      "metadata": {
        "id": "wpyxzXGKaQDI",
        "colab": {
          "base_uri": "https://localhost:8080/",
          "height": 282
        },
        "outputId": "f0b84214-1a12-486f-eb03-2187b65d6be0"
      },
      "source": [
        "plt.plot(run.records['valid_acc'])"
      ],
      "execution_count": null,
      "outputs": [
        {
          "output_type": "execute_result",
          "data": {
            "text/plain": [
              "[<matplotlib.lines.Line2D at 0x7f3a883d7710>]"
            ]
          },
          "metadata": {
            "tags": []
          },
          "execution_count": 5
        },
        {
          "output_type": "display_data",
          "data": {
            "image/png": "[encoded data removed]",
            "text/plain": [
              "<Figure size 432x288 with 1 Axes>"
            ]
          },
          "metadata": {
            "tags": [],
            "needs_background": "light"
          }
        }
      ]
    },
    {
      "cell_type": "code",
      "metadata": {
        "id": "F3TmHJcCdWE8",
        "colab": {
          "base_uri": "https://localhost:8080/",
          "height": 282
        },
        "outputId": "14419dfa-0f85-4992-bbde-869f2405654f"
      },
      "source": [
        "plt.plot(run.records['train_acc'])"
      ],
      "execution_count": null,
      "outputs": [
        {
          "output_type": "execute_result",
          "data": {
            "text/plain": [
              "[<matplotlib.lines.Line2D at 0x7f3a87ebc4e0>]"
            ]
          },
          "metadata": {
            "tags": []
          },
          "execution_count": 6
        },
        {
          "output_type": "display_data",
          "data": {
            "image/png": "[encoded data removed]",
            "text/plain": [
              "<Figure size 432x288 with 1 Axes>"
            ]
          },
          "metadata": {
            "tags": [],
            "needs_background": "light"
          }
        }
      ]
    },
    {
      "cell_type": "code",
      "metadata": {
        "id": "iJyOOcyJeI6Q",
        "colab": {
          "base_uri": "https://localhost:8080/",
          "height": 71
        },
        "outputId": "39797478-8503-41cd-fba5-3f533282ba36"
      },
      "source": [
        "trainable_parameters = ['LayerNorm', 'dropout.expand', 'dropout.squeeze', 'classifier']\n",
        "save_model(model, trainable_parameters, root + 'model-cat-slot-best-512-14-05.pkl')"
      ],
      "execution_count": null,
      "outputs": [
        {
          "output_type": "stream",
          "text": [
            "/home/osman/anaconda3/lib/python3.7/site-packages/torch/storage.py:34: FutureWarning: pickle support for Storage will be removed in 1.5. Use `torch.save` instead\n",
            "  warnings.warn(\"pickle support for Storage will be removed in 1.5. Use `torch.save` instead\", FutureWarning)\n"
          ],
          "name": "stderr"
        }
      ]
    },
    {
      "cell_type": "code",
      "metadata": {
        "id": "Pqy67PYKeYwY",
        "colab": {
          "base_uri": "https://localhost:8080/",
          "height": 201,
          "referenced_widgets": [
            "a8d7aeaf64e44457b0d1d8eddde9574b",
            "c3c450544ce34dabbbc5dc7ad47057bd",
            "b9fc2ace9f514e3b9ae5c4c1bfbb52ab",
            "2648bea847574f3fb1f6fbae694887dd",
            "c234c66907524819a37afe21e4042d23",
            "708375e9b4824ff7b260174a64b59856",
            "fed1a09632514c49941b52de624b7c23",
            "8c8783e6fe87405280a174f3ad5352b3",
            "540214f965d84ff595eaad12c9b6f28b",
            "013795c6ce4643ee944ebf3324176578",
            "6496c63c1350420d857db740d06bd7af",
            "f8a2bfb487c549b29f9d744e59301dad",
            "471559cb84854065bea54aed1404bedd",
            "a8d7a34704f742929225816d9142723c",
            "835e0f29b3e5425fa7fad32bc138523c",
            "689f5989eb4c455d822669862fdbe693",
            "94c1f1838bc546a28262656defcb34e0",
            "435ba76c30234cf6862a346577ef9ac0",
            "cf1f0115de4948f389e5e3793090b68c",
            "4803101bd742414dae50f3fbf2d1140f",
            "5fcc93833bdd4bbd860938193dad84c1",
            "ed6fd1cd503041b9aaa134289588e406",
            "bd2f40fae5c2422ba9692970631d2e54",
            "8d451c82a3c541f0aaa2893beea9bb57"
          ]
        },
        "outputId": "890d1851-308d-472b-98cc-6d3fd814c44c"
      },
      "source": [
        "tokenizer, model = get_model('bert-base-uncased', None)\n",
        "model = add_adapter_layers(model, hidden_size=256)\n",
        "load_model(model, root + 'model_req_slot2.pkl')"
      ],
      "execution_count": null,
      "outputs": [
        {
          "output_type": "display_data",
          "data": {
            "application/vnd.jupyter.widget-view+json": {
              "model_id": "a8d7aeaf64e44457b0d1d8eddde9574b",
              "version_minor": 0,
              "version_major": 2
            },
            "text/plain": [
              "HBox(children=(FloatProgress(value=0.0, description='Downloading', max=231508.0, style=ProgressStyle(descripti…"
            ]
          },
          "metadata": {
            "tags": []
          }
        },
        {
          "output_type": "stream",
          "text": [
            "\n"
          ],
          "name": "stdout"
        },
        {
          "output_type": "display_data",
          "data": {
            "application/vnd.jupyter.widget-view+json": {
              "model_id": "540214f965d84ff595eaad12c9b6f28b",
              "version_minor": 0,
              "version_major": 2
            },
            "text/plain": [
              "HBox(children=(FloatProgress(value=0.0, description='Downloading', max=433.0, style=ProgressStyle(description_…"
            ]
          },
          "metadata": {
            "tags": []
          }
        },
        {
          "output_type": "stream",
          "text": [
            "\n"
          ],
          "name": "stdout"
        },
        {
          "output_type": "display_data",
          "data": {
            "application/vnd.jupyter.widget-view+json": {
              "model_id": "94c1f1838bc546a28262656defcb34e0",
              "version_minor": 0,
              "version_major": 2
            },
            "text/plain": [
              "HBox(children=(FloatProgress(value=0.0, description='Downloading', max=440473133.0, style=ProgressStyle(descri…"
            ]
          },
          "metadata": {
            "tags": []
          }
        },
        {
          "output_type": "stream",
          "text": [
            "\n"
          ],
          "name": "stdout"
        },
        {
          "output_type": "execute_result",
          "data": {
            "text/plain": [
              "_IncompatibleKeys(missing_keys=['bert.embeddings.word_embeddings.weight', 'bert.embeddings.position_embeddings.weight', 'bert.embeddings.token_type_embeddings.weight', 'bert.encoder.layer.0.attention.self.query.weight', 'bert.encoder.layer.0.attention.self.query.bias', 'bert.encoder.layer.0.attention.self.key.weight', 'bert.encoder.layer.0.attention.self.key.bias', 'bert.encoder.layer.0.attention.self.value.weight', 'bert.encoder.layer.0.attention.self.value.bias', 'bert.encoder.layer.0.attention.output.dense.weight', 'bert.encoder.layer.0.attention.output.dense.bias', 'bert.encoder.layer.0.intermediate.dense.weight', 'bert.encoder.layer.0.intermediate.dense.bias', 'bert.encoder.layer.0.output.dense.weight', 'bert.encoder.layer.0.output.dense.bias', 'bert.encoder.layer.1.attention.self.query.weight', 'bert.encoder.layer.1.attention.self.query.bias', 'bert.encoder.layer.1.attention.self.key.weight', 'bert.encoder.layer.1.attention.self.key.bias', 'bert.encoder.layer.1.attention.self.value.weight', 'bert.encoder.layer.1.attention.self.value.bias', 'bert.encoder.layer.1.attention.output.dense.weight', 'bert.encoder.layer.1.attention.output.dense.bias', 'bert.encoder.layer.1.intermediate.dense.weight', 'bert.encoder.layer.1.intermediate.dense.bias', 'bert.encoder.layer.1.output.dense.weight', 'bert.encoder.layer.1.output.dense.bias', 'bert.encoder.layer.2.attention.self.query.weight', 'bert.encoder.layer.2.attention.self.query.bias', 'bert.encoder.layer.2.attention.self.key.weight', 'bert.encoder.layer.2.attention.self.key.bias', 'bert.encoder.layer.2.attention.self.value.weight', 'bert.encoder.layer.2.attention.self.value.bias', 'bert.encoder.layer.2.attention.output.dense.weight', 'bert.encoder.layer.2.attention.output.dense.bias', 'bert.encoder.layer.2.intermediate.dense.weight', 'bert.encoder.layer.2.intermediate.dense.bias', 'bert.encoder.layer.2.output.dense.weight', 'bert.encoder.layer.2.output.dense.bias', 'bert.encoder.layer.3.attention.self.query.weight', 'bert.encoder.layer.3.attention.self.query.bias', 'bert.encoder.layer.3.attention.self.key.weight', 'bert.encoder.layer.3.attention.self.key.bias', 'bert.encoder.layer.3.attention.self.value.weight', 'bert.encoder.layer.3.attention.self.value.bias', 'bert.encoder.layer.3.attention.output.dense.weight', 'bert.encoder.layer.3.attention.output.dense.bias', 'bert.encoder.layer.3.intermediate.dense.weight', 'bert.encoder.layer.3.intermediate.dense.bias', 'bert.encoder.layer.3.output.dense.weight', 'bert.encoder.layer.3.output.dense.bias', 'bert.encoder.layer.4.attention.self.query.weight', 'bert.encoder.layer.4.attention.self.query.bias', 'bert.encoder.layer.4.attention.self.key.weight', 'bert.encoder.layer.4.attention.self.key.bias', 'bert.encoder.layer.4.attention.self.value.weight', 'bert.encoder.layer.4.attention.self.value.bias', 'bert.encoder.layer.4.attention.output.dense.weight', 'bert.encoder.layer.4.attention.output.dense.bias', 'bert.encoder.layer.4.intermediate.dense.weight', 'bert.encoder.layer.4.intermediate.dense.bias', 'bert.encoder.layer.4.output.dense.weight', 'bert.encoder.layer.4.output.dense.bias', 'bert.encoder.layer.5.attention.self.query.weight', 'bert.encoder.layer.5.attention.self.query.bias', 'bert.encoder.layer.5.attention.self.key.weight', 'bert.encoder.layer.5.attention.self.key.bias', 'bert.encoder.layer.5.attention.self.value.weight', 'bert.encoder.layer.5.attention.self.value.bias', 'bert.encoder.layer.5.attention.output.dense.weight', 'bert.encoder.layer.5.attention.output.dense.bias', 'bert.encoder.layer.5.intermediate.dense.weight', 'bert.encoder.layer.5.intermediate.dense.bias', 'bert.encoder.layer.5.output.dense.weight', 'bert.encoder.layer.5.output.dense.bias', 'bert.encoder.layer.6.attention.self.query.weight', 'bert.encoder.layer.6.attention.self.query.bias', 'bert.encoder.layer.6.attention.self.key.weight', 'bert.encoder.layer.6.attention.self.key.bias', 'bert.encoder.layer.6.attention.self.value.weight', 'bert.encoder.layer.6.attention.self.value.bias', 'bert.encoder.layer.6.attention.output.dense.weight', 'bert.encoder.layer.6.attention.output.dense.bias', 'bert.encoder.layer.6.intermediate.dense.weight', 'bert.encoder.layer.6.intermediate.dense.bias', 'bert.encoder.layer.6.output.dense.weight', 'bert.encoder.layer.6.output.dense.bias', 'bert.encoder.layer.7.attention.self.query.weight', 'bert.encoder.layer.7.attention.self.query.bias', 'bert.encoder.layer.7.attention.self.key.weight', 'bert.encoder.layer.7.attention.self.key.bias', 'bert.encoder.layer.7.attention.self.value.weight', 'bert.encoder.layer.7.attention.self.value.bias', 'bert.encoder.layer.7.attention.output.dense.weight', 'bert.encoder.layer.7.attention.output.dense.bias', 'bert.encoder.layer.7.intermediate.dense.weight', 'bert.encoder.layer.7.intermediate.dense.bias', 'bert.encoder.layer.7.output.dense.weight', 'bert.encoder.layer.7.output.dense.bias', 'bert.encoder.layer.8.attention.self.query.weight', 'bert.encoder.layer.8.attention.self.query.bias', 'bert.encoder.layer.8.attention.self.key.weight', 'bert.encoder.layer.8.attention.self.key.bias', 'bert.encoder.layer.8.attention.self.value.weight', 'bert.encoder.layer.8.attention.self.value.bias', 'bert.encoder.layer.8.attention.output.dense.weight', 'bert.encoder.layer.8.attention.output.dense.bias', 'bert.encoder.layer.8.intermediate.dense.weight', 'bert.encoder.layer.8.intermediate.dense.bias', 'bert.encoder.layer.8.output.dense.weight', 'bert.encoder.layer.8.output.dense.bias', 'bert.encoder.layer.9.attention.self.query.weight', 'bert.encoder.layer.9.attention.self.query.bias', 'bert.encoder.layer.9.attention.self.key.weight', 'bert.encoder.layer.9.attention.self.key.bias', 'bert.encoder.layer.9.attention.self.value.weight', 'bert.encoder.layer.9.attention.self.value.bias', 'bert.encoder.layer.9.attention.output.dense.weight', 'bert.encoder.layer.9.attention.output.dense.bias', 'bert.encoder.layer.9.intermediate.dense.weight', 'bert.encoder.layer.9.intermediate.dense.bias', 'bert.encoder.layer.9.output.dense.weight', 'bert.encoder.layer.9.output.dense.bias', 'bert.encoder.layer.10.attention.self.query.weight', 'bert.encoder.layer.10.attention.self.query.bias', 'bert.encoder.layer.10.attention.self.key.weight', 'bert.encoder.layer.10.attention.self.key.bias', 'bert.encoder.layer.10.attention.self.value.weight', 'bert.encoder.layer.10.attention.self.value.bias', 'bert.encoder.layer.10.attention.output.dense.weight', 'bert.encoder.layer.10.attention.output.dense.bias', 'bert.encoder.layer.10.intermediate.dense.weight', 'bert.encoder.layer.10.intermediate.dense.bias', 'bert.encoder.layer.10.output.dense.weight', 'bert.encoder.layer.10.output.dense.bias', 'bert.encoder.layer.11.attention.self.query.weight', 'bert.encoder.layer.11.attention.self.query.bias', 'bert.encoder.layer.11.attention.self.key.weight', 'bert.encoder.layer.11.attention.self.key.bias', 'bert.encoder.layer.11.attention.self.value.weight', 'bert.encoder.layer.11.attention.self.value.bias', 'bert.encoder.layer.11.attention.output.dense.weight', 'bert.encoder.layer.11.attention.output.dense.bias', 'bert.encoder.layer.11.intermediate.dense.weight', 'bert.encoder.layer.11.intermediate.dense.bias', 'bert.encoder.layer.11.output.dense.weight', 'bert.encoder.layer.11.output.dense.bias', 'bert.pooler.dense.weight', 'bert.pooler.dense.bias'], unexpected_keys=[])"
            ]
          },
          "metadata": {
            "tags": []
          },
          "execution_count": 3
        }
      ]
    },
    {
      "cell_type": "code",
      "metadata": {
        "id": "A6yBPhSEILjj"
      },
      "source": [
        "tokenizer = tf.BertTokenizer.from_pretrained('bert-base-uncased')"
      ],
      "execution_count": null,
      "outputs": []
    },
    {
      "cell_type": "code",
      "metadata": {
        "id": "SZpKM6oa65Ob"
      },
      "source": [
        "valid_dataset = D.RequestSlotDataset(os.path.join(root, 'dev'), tokenizer, max_len=120)\n",
        "valid_data = valid_dataset.load_valid_data(batch_size=128)"
      ],
      "execution_count": null,
      "outputs": []
    },
    {
      "cell_type": "code",
      "metadata": {
        "id": "VyFpkkP2Lft7",
        "colab": {
          "base_uri": "https://localhost:8080/",
          "height": 54
        },
        "outputId": "c10fa172-bbd2-4ab5-8769-479b83daf7c4"
      },
      "source": [
        "# Train only adapter layers\n",
        "model = add_adapter_layers(model, hidden_size=256)\n",
        "model.load_state_dict(pickle.load(open(os.path.join(root, 'model-cat-slot.pkl'), 'rb')), False)"
      ],
      "execution_count": null,
      "outputs": [
        {
          "output_type": "execute_result",
          "data": {
            "text/plain": [
              "_IncompatibleKeys(missing_keys=['bert.embeddings.word_embeddings.weight', 'bert.embeddings.position_embeddings.weight', 'bert.embeddings.token_type_embeddings.weight', 'bert.encoder.layer.0.attention.self.query.weight', 'bert.encoder.layer.0.attention.self.query.bias', 'bert.encoder.layer.0.attention.self.key.weight', 'bert.encoder.layer.0.attention.self.key.bias', 'bert.encoder.layer.0.attention.self.value.weight', 'bert.encoder.layer.0.attention.self.value.bias', 'bert.encoder.layer.0.attention.output.dense.weight', 'bert.encoder.layer.0.attention.output.dense.bias', 'bert.encoder.layer.0.intermediate.dense.weight', 'bert.encoder.layer.0.intermediate.dense.bias', 'bert.encoder.layer.0.output.dense.weight', 'bert.encoder.layer.0.output.dense.bias', 'bert.encoder.layer.1.attention.self.query.weight', 'bert.encoder.layer.1.attention.self.query.bias', 'bert.encoder.layer.1.attention.self.key.weight', 'bert.encoder.layer.1.attention.self.key.bias', 'bert.encoder.layer.1.attention.self.value.weight', 'bert.encoder.layer.1.attention.self.value.bias', 'bert.encoder.layer.1.attention.output.dense.weight', 'bert.encoder.layer.1.attention.output.dense.bias', 'bert.encoder.layer.1.intermediate.dense.weight', 'bert.encoder.layer.1.intermediate.dense.bias', 'bert.encoder.layer.1.output.dense.weight', 'bert.encoder.layer.1.output.dense.bias', 'bert.encoder.layer.2.attention.self.query.weight', 'bert.encoder.layer.2.attention.self.query.bias', 'bert.encoder.layer.2.attention.self.key.weight', 'bert.encoder.layer.2.attention.self.key.bias', 'bert.encoder.layer.2.attention.self.value.weight', 'bert.encoder.layer.2.attention.self.value.bias', 'bert.encoder.layer.2.attention.output.dense.weight', 'bert.encoder.layer.2.attention.output.dense.bias', 'bert.encoder.layer.2.intermediate.dense.weight', 'bert.encoder.layer.2.intermediate.dense.bias', 'bert.encoder.layer.2.output.dense.weight', 'bert.encoder.layer.2.output.dense.bias', 'bert.encoder.layer.3.attention.self.query.weight', 'bert.encoder.layer.3.attention.self.query.bias', 'bert.encoder.layer.3.attention.self.key.weight', 'bert.encoder.layer.3.attention.self.key.bias', 'bert.encoder.layer.3.attention.self.value.weight', 'bert.encoder.layer.3.attention.self.value.bias', 'bert.encoder.layer.3.attention.output.dense.weight', 'bert.encoder.layer.3.attention.output.dense.bias', 'bert.encoder.layer.3.intermediate.dense.weight', 'bert.encoder.layer.3.intermediate.dense.bias', 'bert.encoder.layer.3.output.dense.weight', 'bert.encoder.layer.3.output.dense.bias', 'bert.encoder.layer.4.attention.self.query.weight', 'bert.encoder.layer.4.attention.self.query.bias', 'bert.encoder.layer.4.attention.self.key.weight', 'bert.encoder.layer.4.attention.self.key.bias', 'bert.encoder.layer.4.attention.self.value.weight', 'bert.encoder.layer.4.attention.self.value.bias', 'bert.encoder.layer.4.attention.output.dense.weight', 'bert.encoder.layer.4.attention.output.dense.bias', 'bert.encoder.layer.4.intermediate.dense.weight', 'bert.encoder.layer.4.intermediate.dense.bias', 'bert.encoder.layer.4.output.dense.weight', 'bert.encoder.layer.4.output.dense.bias', 'bert.encoder.layer.5.attention.self.query.weight', 'bert.encoder.layer.5.attention.self.query.bias', 'bert.encoder.layer.5.attention.self.key.weight', 'bert.encoder.layer.5.attention.self.key.bias', 'bert.encoder.layer.5.attention.self.value.weight', 'bert.encoder.layer.5.attention.self.value.bias', 'bert.encoder.layer.5.attention.output.dense.weight', 'bert.encoder.layer.5.attention.output.dense.bias', 'bert.encoder.layer.5.intermediate.dense.weight', 'bert.encoder.layer.5.intermediate.dense.bias', 'bert.encoder.layer.5.output.dense.weight', 'bert.encoder.layer.5.output.dense.bias', 'bert.encoder.layer.6.attention.self.query.weight', 'bert.encoder.layer.6.attention.self.query.bias', 'bert.encoder.layer.6.attention.self.key.weight', 'bert.encoder.layer.6.attention.self.key.bias', 'bert.encoder.layer.6.attention.self.value.weight', 'bert.encoder.layer.6.attention.self.value.bias', 'bert.encoder.layer.6.attention.output.dense.weight', 'bert.encoder.layer.6.attention.output.dense.bias', 'bert.encoder.layer.6.intermediate.dense.weight', 'bert.encoder.layer.6.intermediate.dense.bias', 'bert.encoder.layer.6.output.dense.weight', 'bert.encoder.layer.6.output.dense.bias', 'bert.encoder.layer.7.attention.self.query.weight', 'bert.encoder.layer.7.attention.self.query.bias', 'bert.encoder.layer.7.attention.self.key.weight', 'bert.encoder.layer.7.attention.self.key.bias', 'bert.encoder.layer.7.attention.self.value.weight', 'bert.encoder.layer.7.attention.self.value.bias', 'bert.encoder.layer.7.attention.output.dense.weight', 'bert.encoder.layer.7.attention.output.dense.bias', 'bert.encoder.layer.7.intermediate.dense.weight', 'bert.encoder.layer.7.intermediate.dense.bias', 'bert.encoder.layer.7.output.dense.weight', 'bert.encoder.layer.7.output.dense.bias', 'bert.encoder.layer.8.attention.self.query.weight', 'bert.encoder.layer.8.attention.self.query.bias', 'bert.encoder.layer.8.attention.self.key.weight', 'bert.encoder.layer.8.attention.self.key.bias', 'bert.encoder.layer.8.attention.self.value.weight', 'bert.encoder.layer.8.attention.self.value.bias', 'bert.encoder.layer.8.attention.output.dense.weight', 'bert.encoder.layer.8.attention.output.dense.bias', 'bert.encoder.layer.8.intermediate.dense.weight', 'bert.encoder.layer.8.intermediate.dense.bias', 'bert.encoder.layer.8.output.dense.weight', 'bert.encoder.layer.8.output.dense.bias', 'bert.encoder.layer.9.attention.self.query.weight', 'bert.encoder.layer.9.attention.self.query.bias', 'bert.encoder.layer.9.attention.self.key.weight', 'bert.encoder.layer.9.attention.self.key.bias', 'bert.encoder.layer.9.attention.self.value.weight', 'bert.encoder.layer.9.attention.self.value.bias', 'bert.encoder.layer.9.attention.output.dense.weight', 'bert.encoder.layer.9.attention.output.dense.bias', 'bert.encoder.layer.9.intermediate.dense.weight', 'bert.encoder.layer.9.intermediate.dense.bias', 'bert.encoder.layer.9.output.dense.weight', 'bert.encoder.layer.9.output.dense.bias', 'bert.encoder.layer.10.attention.self.query.weight', 'bert.encoder.layer.10.attention.self.query.bias', 'bert.encoder.layer.10.attention.self.key.weight', 'bert.encoder.layer.10.attention.self.key.bias', 'bert.encoder.layer.10.attention.self.value.weight', 'bert.encoder.layer.10.attention.self.value.bias', 'bert.encoder.layer.10.attention.output.dense.weight', 'bert.encoder.layer.10.attention.output.dense.bias', 'bert.encoder.layer.10.intermediate.dense.weight', 'bert.encoder.layer.10.intermediate.dense.bias', 'bert.encoder.layer.10.output.dense.weight', 'bert.encoder.layer.10.output.dense.bias', 'bert.encoder.layer.11.attention.self.query.weight', 'bert.encoder.layer.11.attention.self.query.bias', 'bert.encoder.layer.11.attention.self.key.weight', 'bert.encoder.layer.11.attention.self.key.bias', 'bert.encoder.layer.11.attention.self.value.weight', 'bert.encoder.layer.11.attention.self.value.bias', 'bert.encoder.layer.11.attention.output.dense.weight', 'bert.encoder.layer.11.attention.output.dense.bias', 'bert.encoder.layer.11.intermediate.dense.weight', 'bert.encoder.layer.11.intermediate.dense.bias', 'bert.encoder.layer.11.output.dense.weight', 'bert.encoder.layer.11.output.dense.bias', 'bert.pooler.dense.weight', 'bert.pooler.dense.bias'], unexpected_keys=[])"
            ]
          },
          "metadata": {
            "tags": []
          },
          "execution_count": 10
        }
      ]
    },
    {
      "cell_type": "code",
      "metadata": {
        "id": "Hy1_pxjzNqY8"
      },
      "source": [
        "def evaluate_valid_data(model, valid_data):\n",
        "    model.eval()\n",
        "    with T.no_grad():\n",
        "        acc, count = 0, 0\n",
        "        scores, slots, ids = [], [], []\n",
        "        for i, batch in enumerate(valid_data):\n",
        "            batch = D.RequestSlotDataset.map_to_cuda(batch)\n",
        "            scores_, _ = evaluate(model, batch)\n",
        "            acc_, _, _ = metrics(scores_, batch.y)\n",
        "            acc += (acc_[-1]*len(batch.y))\n",
        "            count += len(batch.y)\n",
        "            scores.append(scores_.cpu().numpy())\n",
        "            slots += batch.req_slot\n",
        "            ids += batch.id\n",
        "            sys.stderr.write(f'\\r{i+1}/{len(valid_data)} acc: {acc_}{\"\": <30}')\n",
        "        acc = acc/count\n",
        "        scores = np.concatenate(scores)\n",
        "    model.train()\n",
        "    return {'acc': acc, 'scores': scores.tolist(), 'labels': slots, 'ids': ids}"
      ],
      "execution_count": null,
      "outputs": []
    },
    {
      "cell_type": "code",
      "metadata": {
        "id": "eQPRf94RN4GE",
        "colab": {
          "base_uri": "https://localhost:8080/",
          "height": 122
        },
        "outputId": "556836de-dc2d-4d52-a2bc-e476d4808134"
      },
      "source": [
        "results = evaluate_valid_data(model.cuda(), valid_data)"
      ],
      "execution_count": null,
      "outputs": [
        {
          "output_type": "stream",
          "text": [
            "163/204 acc: [1.0, 0.7241379310344828, 0.8400000000000001]                              /usr/local/lib/python3.6/dist-packages/sklearn/metrics/_classification.py:1272: UndefinedMetricWarning: Precision and F-score are ill-defined and being set to 0.0 due to no predicted samples. Use `zero_division` parameter to control this behavior.\n",
            "  _warn_prf(average, modifier, msg_start, len(result))\n",
            "/usr/local/lib/python3.6/dist-packages/sklearn/metrics/_classification.py:1272: UndefinedMetricWarning: Recall and F-score are ill-defined and being set to 0.0 due to no true samples. Use `zero_division` parameter to control this behavior.\n",
            "  _warn_prf(average, modifier, msg_start, len(result))\n",
            "204/204 acc: [1.0, 1.0, 1.0]                              "
          ],
          "name": "stderr"
        }
      ]
    },
    {
      "cell_type": "code",
      "metadata": {
        "id": "7L5YMs5tF0TC",
        "colab": {
          "base_uri": "https://localhost:8080/",
          "height": 34
        },
        "outputId": "adbc5265-8467-4197-ab60-8f7412eacdba"
      },
      "source": [
        "print(results['acc'])"
      ],
      "execution_count": null,
      "outputs": [
        {
          "output_type": "stream",
          "text": [
            "0.9310477156426169\n"
          ],
          "name": "stdout"
        }
      ]
    },
    {
      "cell_type": "code",
      "metadata": {
        "id": "KIas-IwDJ0Fk",
        "colab": {
          "base_uri": "https://localhost:8080/",
          "height": 34
        },
        "outputId": "4b81c1ee-bc24-4497-aea5-13afb9080200"
      },
      "source": [
        "print(results['acc'])"
      ],
      "execution_count": null,
      "outputs": [
        {
          "output_type": "stream",
          "text": [
            "0.9819954988747187\n"
          ],
          "name": "stdout"
        }
      ]
    },
    {
      "cell_type": "code",
      "metadata": {
        "id": "THXoymIdxx2D",
        "colab": {
          "base_uri": "https://localhost:8080/",
          "height": 34
        },
        "outputId": "35034fea-746d-4afc-a8a4-9a05087140d2"
      },
      "source": [
        "print(results['acc'])"
      ],
      "execution_count": null,
      "outputs": [
        {
          "output_type": "stream",
          "text": [
            "0.9515173280660801\n"
          ],
          "name": "stdout"
        }
      ]
    },
    {
      "cell_type": "code",
      "metadata": {
        "id": "NWRMQX77e40U",
        "colab": {
          "base_uri": "https://localhost:8080/",
          "height": 34
        },
        "outputId": "d124925b-7865-4ab7-96aa-84e92b8d8d7a"
      },
      "source": [
        "print(results['acc']) 46"
      ],
      "execution_count": null,
      "outputs": [
        {
          "output_type": "stream",
          "text": [
            "0.9921810699588477\n"
          ],
          "name": "stdout"
        }
      ]
    },
    {
      "cell_type": "code",
      "metadata": {
        "id": "WYeB1kK3uLWg",
        "colab": {
          "base_uri": "https://localhost:8080/",
          "height": 34
        },
        "outputId": "0a9e1863-558d-4c68-9a0e-884f373fa3e2"
      },
      "source": [
        "print(results['acc'])"
      ],
      "execution_count": null,
      "outputs": [
        {
          "output_type": "stream",
          "text": [
            "0.9285349668198061\n"
          ],
          "name": "stdout"
        }
      ]
    },
    {
      "cell_type": "code",
      "metadata": {
        "id": "TfmD5mGJD_uO",
        "colab": {
          "base_uri": "https://localhost:8080/",
          "height": 34
        },
        "outputId": "d026b0d1-c35a-4196-baee-e632afbf104e"
      },
      "source": [
        "print(results['acc'])"
      ],
      "execution_count": null,
      "outputs": [
        {
          "output_type": "stream",
          "text": [
            "0.9215586183426918\n"
          ],
          "name": "stdout"
        }
      ]
    },
    {
      "cell_type": "code",
      "metadata": {
        "id": "1c9UV1sNNFrZ",
        "colab": {
          "base_uri": "https://localhost:8080/",
          "height": 34
        },
        "outputId": "235b1f19-12bb-48de-e13e-929530d74384"
      },
      "source": [
        "print(results['labels'][403])"
      ],
      "execution_count": null,
      "outputs": [
        {
          "output_type": "stream",
          "text": [
            "RideSharing_1--number_of_riders--1--2--3--4--0\n"
          ],
          "name": "stdout"
        }
      ]
    },
    {
      "cell_type": "code",
      "metadata": {
        "id": "45y_M4hnOUuc"
      },
      "source": [
        "import json\n",
        "with open(root + 'valid-cat-value-scores-512-14-05.json', 'w') as f:\n",
        "    json.dump(results, f)\n",
        "#print(acc)"
      ],
      "execution_count": null,
      "outputs": []
    },
    {
      "cell_type": "code",
      "metadata": {
        "id": "JOfwAHcmE-Fc",
        "colab": {
          "base_uri": "https://localhost:8080/",
          "height": 34
        },
        "outputId": "0a17c6e8-b484-40c6-9cf7-e8948b942664"
      },
      "source": [
        "print(acc)"
      ],
      "execution_count": null,
      "outputs": [
        {
          "output_type": "stream",
          "text": [
            "0.8336131631967764\n"
          ],
          "name": "stdout"
        }
      ]
    },
    {
      "cell_type": "code",
      "metadata": {
        "id": "1BzbSNXyNX2U"
      },
      "source": [
        "import data as D\n",
        "import json\n",
        "\n",
        "schema = D.SlotDataset._extract_categorical_schema(json.load(open(root + 'train/schema.json')))\n",
        "data = [result for dialog in json.load(open(root + 'train/dialogues.json')) \n",
        "for result in D.extract_labels(dialog)\n",
        "        if any([r[0] in schema for r in result['labels']['new_values']])]"
      ],
      "execution_count": null,
      "outputs": []
    },
    {
      "cell_type": "code",
      "metadata": {
        "id": "1e15i_mZqPUC",
        "colab": {
          "base_uri": "https://localhost:8080/",
          "height": 391
        },
        "outputId": "da6668a9-eabf-4911-de52-7d9fe679d57e"
      },
      "source": [
        "data[300]"
      ],
      "execution_count": null,
      "outputs": [
        {
          "output_type": "execute_result",
          "data": {
            "text/plain": [
              "{'context': {'acts': {'Flights_3--OFFER--airlines--Delta Airlines',\n",
              "   'Flights_3--OFFER--number_stops--1',\n",
              "   'Flights_3--OFFER--outbound_departure_time--6:40 am',\n",
              "   'Flights_3--OFFER--price--$335'},\n",
              "  'dialog_hist_intents': {'Flights_3--SearchOnewayFlight'},\n",
              "  'dialog_hist_services': {'Flights_3'},\n",
              "  'prev_turn_intents': {'Flights_3--SearchOnewayFlight'},\n",
              "  'prev_turn_services': {'Flights_3'}},\n",
              " 'correct': False,\n",
              " 'labels': {'intents': {'Flights_3--SearchRoundtripFlights'},\n",
              "  'new_values': {('Flights_3--airlines', 'Delta Airlines', 'Delta Airlines'),\n",
              "   ('Flights_3--flight_class', 'dontcare', 'Economy')},\n",
              "  'req_slots': set(),\n",
              "  'services': {'Flights_3'},\n",
              "  'values': {'Flights_3--airlines--Delta Airlines',\n",
              "   'Flights_3--departure_date--9th of March',\n",
              "   'Flights_3--destination_city--New York',\n",
              "   'Flights_3--flight_class--dontcare',\n",
              "   'Flights_3--number_checked_bags--0',\n",
              "   'Flights_3--origin_city--Vancouver'}},\n",
              " 'system': 'How about Delta Airlines at $335 per passenger that takes off at 6:40 am and has 1 layover?',\n",
              " 'user': 'Sounds great. Will you find round trip flights?'}"
            ]
          },
          "metadata": {
            "tags": []
          },
          "execution_count": 24
        }
      ]
    },
    {
      "cell_type": "code",
      "metadata": {
        "id": "gi5rhshFqTw1"
      },
      "source": [
        "[scores, slots] = json.load(open(root + 'valid-scores.json'))"
      ],
      "execution_count": null,
      "outputs": []
    },
    {
      "cell_type": "code",
      "metadata": {
        "id": "sZd5nHntsAQ4",
        "colab": {
          "base_uri": "https://localhost:8080/",
          "height": 255
        },
        "outputId": "16a18b6e-911b-4542-92c7-2b2fb0ef7a83"
      },
      "source": [
        "scores[315]"
      ],
      "execution_count": null,
      "outputs": [
        {
          "output_type": "execute_result",
          "data": {
            "text/plain": [
              "[3.5242717266082764,\n",
              " 3.93858003616333,\n",
              " -2.261160135269165,\n",
              " -2.1685099601745605,\n",
              " -3.6290156841278076,\n",
              " -0.06675952672958374,\n",
              " -100000000.0,\n",
              " -100000000.0,\n",
              " -100000000.0,\n",
              " -100000000.0,\n",
              " -100000000.0,\n",
              " -100000000.0,\n",
              " -100000000.0,\n",
              " -100000000.0]"
            ]
          },
          "metadata": {
            "tags": []
          },
          "execution_count": 60
        }
      ]
    },
    {
      "cell_type": "code",
      "metadata": {
        "id": "HoH5D1fTtcO6"
      },
      "source": [
        "import numpy as np\n",
        "def attach_predictions(data, slots, scores, schema):\n",
        "    i = 0\n",
        "    for j, datum in enumerate(data):\n",
        "        correct = True\n",
        "        new_values = set()\n",
        "        labels = datum['labels']['new_values']\n",
        "        num_slots = len([label for label in labels if label[0] in schema])\n",
        "        for _ in range(num_slots):\n",
        "            slot, score = slots[i], scores[i]\n",
        "            idx = int(np.argmax(score))\n",
        "            prediction = list(schema[slot][-1])[idx]\n",
        "            value = [label[1] for label in labels if label[0]==slot][0]\n",
        "            correct = correct and (prediction == value)\n",
        "            new_values.add((slot, value, prediction))\n",
        "            i += 1\n",
        "        datum['labels']['new_values'] = new_values\n",
        "        datum['correct'] = correct"
      ],
      "execution_count": null,
      "outputs": []
    },
    {
      "cell_type": "code",
      "metadata": {
        "id": "eTE4DAm-yRly"
      },
      "source": [
        "attach_predictions(data, slots, scores, schema)"
      ],
      "execution_count": null,
      "outputs": []
    },
    {
      "cell_type": "code",
      "metadata": {
        "id": "D2soyv4gR8qy"
      },
      "source": [
        "import pickle\n",
        "with open(root + 'train-slot-dialogues.json', 'wb') as f:\n",
        "    pickle.dump(data, f)"
      ],
      "execution_count": null,
      "outputs": []
    },
    {
      "cell_type": "code",
      "metadata": {
        "id": "4SEzQTaNyUKd",
        "colab": {
          "base_uri": "https://localhost:8080/",
          "height": 34
        },
        "outputId": "65944c1d-8d7a-4626-d979-8c9827e00d01"
      },
      "source": [
        "np.mean([v[1]==v[2] for d in data for v in d['labels']['new_values']])"
      ],
      "execution_count": null,
      "outputs": [
        {
          "output_type": "execute_result",
          "data": {
            "text/plain": [
              "0.8770060441850771"
            ]
          },
          "metadata": {
            "tags": []
          },
          "execution_count": 18
        }
      ]
    },
    {
      "cell_type": "code",
      "metadata": {
        "id": "-lDEAnSTNNX0",
        "colab": {
          "base_uri": "https://localhost:8080/",
          "height": 34
        },
        "outputId": "7d1bbcb2-2a3f-449f-e2fe-24be0035ed70"
      },
      "source": [
        "np.mean([d['correct'] for d in data])"
      ],
      "execution_count": null,
      "outputs": [
        {
          "output_type": "execute_result",
          "data": {
            "text/plain": [
              "0.8640337833819068"
            ]
          },
          "metadata": {
            "tags": []
          },
          "execution_count": 19
        }
      ]
    },
    {
      "cell_type": "code",
      "metadata": {
        "id": "Oh5agV2lP6Hn"
      },
      "source": [
        "incorrect = [d for d in data if not d['correct']]"
      ],
      "execution_count": null,
      "outputs": []
    },
    {
      "cell_type": "code",
      "metadata": {
        "id": "kvlDVmULTQG9"
      },
      "source": [
        "wrong_slots = [v[0].split('--')[1] for d in incorrect for v in d['labels']['new_values'] if v[1] != v[2]]"
      ],
      "execution_count": null,
      "outputs": []
    },
    {
      "cell_type": "code",
      "metadata": {
        "id": "SxNLRTDtTUuf"
      },
      "source": [
        "incrrpect"
      ],
      "execution_count": null,
      "outputs": []
    }
  ]
}