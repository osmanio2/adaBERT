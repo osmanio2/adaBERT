{
  "nbformat": 4,
  "nbformat_minor": 0,
  "metadata": {
    "colab": {
      "name": "slot-classification-train-22-03-20.ipynb",
      "provenance": [],
      "collapsed_sections": []
    },
    "kernelspec": {
      "name": "python3",
      "display_name": "Python 3"
    },
    "accelerator": "GPU",
    "widgets": {
      "application/vnd.jupyter.widget-state+json": {
        "781246ae9c184cb58092f4cfde08eb9f": {
          "model_module": "@jupyter-widgets/controls",
          "model_name": "HBoxModel",
          "state": {
            "_view_name": "HBoxView",
            "_dom_classes": [],
            "_model_name": "HBoxModel",
            "_view_module": "@jupyter-widgets/controls",
            "_model_module_version": "1.5.0",
            "_view_count": null,
            "_view_module_version": "1.5.0",
            "box_style": "",
            "layout": "IPY_MODEL_e3b1eb895f1846788802580e4eafa6a8",
            "_model_module": "@jupyter-widgets/controls",
            "children": [
              "IPY_MODEL_337fc059c1fa407386a5a420c25ca6d4",
              "IPY_MODEL_85ddb12b24c345f793120cf156d01b7b"
            ]
          }
        },
        "e3b1eb895f1846788802580e4eafa6a8": {
          "model_module": "@jupyter-widgets/base",
          "model_name": "LayoutModel",
          "state": {
            "_view_name": "LayoutView",
            "grid_template_rows": null,
            "right": null,
            "justify_content": null,
            "_view_module": "@jupyter-widgets/base",
            "overflow": null,
            "_model_module_version": "1.2.0",
            "_view_count": null,
            "flex_flow": null,
            "width": null,
            "min_width": null,
            "border": null,
            "align_items": null,
            "bottom": null,
            "_model_module": "@jupyter-widgets/base",
            "top": null,
            "grid_column": null,
            "overflow_y": null,
            "overflow_x": null,
            "grid_auto_flow": null,
            "grid_area": null,
            "grid_template_columns": null,
            "flex": null,
            "_model_name": "LayoutModel",
            "justify_items": null,
            "grid_row": null,
            "max_height": null,
            "align_content": null,
            "visibility": null,
            "align_self": null,
            "height": null,
            "min_height": null,
            "padding": null,
            "grid_auto_rows": null,
            "grid_gap": null,
            "max_width": null,
            "order": null,
            "_view_module_version": "1.2.0",
            "grid_template_areas": null,
            "object_position": null,
            "object_fit": null,
            "grid_auto_columns": null,
            "margin": null,
            "display": null,
            "left": null
          }
        },
        "337fc059c1fa407386a5a420c25ca6d4": {
          "model_module": "@jupyter-widgets/controls",
          "model_name": "FloatProgressModel",
          "state": {
            "_view_name": "ProgressView",
            "style": "IPY_MODEL_aafd467edc4940e5ba203869a4e47687",
            "_dom_classes": [],
            "description": "Downloading: 100%",
            "_model_name": "FloatProgressModel",
            "bar_style": "success",
            "max": 231508,
            "_view_module": "@jupyter-widgets/controls",
            "_model_module_version": "1.5.0",
            "value": 231508,
            "_view_count": null,
            "_view_module_version": "1.5.0",
            "orientation": "horizontal",
            "min": 0,
            "description_tooltip": null,
            "_model_module": "@jupyter-widgets/controls",
            "layout": "IPY_MODEL_3046f9fc61a042708f0c1a1dfcaa3769"
          }
        },
        "85ddb12b24c345f793120cf156d01b7b": {
          "model_module": "@jupyter-widgets/controls",
          "model_name": "HTMLModel",
          "state": {
            "_view_name": "HTMLView",
            "style": "IPY_MODEL_f51677f9dee24530a4c91d7ca7283249",
            "_dom_classes": [],
            "description": "",
            "_model_name": "HTMLModel",
            "placeholder": "​",
            "_view_module": "@jupyter-widgets/controls",
            "_model_module_version": "1.5.0",
            "value": " 232k/232k [00:00&lt;00:00, 573kB/s]",
            "_view_count": null,
            "_view_module_version": "1.5.0",
            "description_tooltip": null,
            "_model_module": "@jupyter-widgets/controls",
            "layout": "IPY_MODEL_54ac74f8d2e041fc9f9e59c1d35187eb"
          }
        },
        "aafd467edc4940e5ba203869a4e47687": {
          "model_module": "@jupyter-widgets/controls",
          "model_name": "ProgressStyleModel",
          "state": {
            "_view_name": "StyleView",
            "_model_name": "ProgressStyleModel",
            "description_width": "initial",
            "_view_module": "@jupyter-widgets/base",
            "_model_module_version": "1.5.0",
            "_view_count": null,
            "_view_module_version": "1.2.0",
            "bar_color": null,
            "_model_module": "@jupyter-widgets/controls"
          }
        },
        "3046f9fc61a042708f0c1a1dfcaa3769": {
          "model_module": "@jupyter-widgets/base",
          "model_name": "LayoutModel",
          "state": {
            "_view_name": "LayoutView",
            "grid_template_rows": null,
            "right": null,
            "justify_content": null,
            "_view_module": "@jupyter-widgets/base",
            "overflow": null,
            "_model_module_version": "1.2.0",
            "_view_count": null,
            "flex_flow": null,
            "width": null,
            "min_width": null,
            "border": null,
            "align_items": null,
            "bottom": null,
            "_model_module": "@jupyter-widgets/base",
            "top": null,
            "grid_column": null,
            "overflow_y": null,
            "overflow_x": null,
            "grid_auto_flow": null,
            "grid_area": null,
            "grid_template_columns": null,
            "flex": null,
            "_model_name": "LayoutModel",
            "justify_items": null,
            "grid_row": null,
            "max_height": null,
            "align_content": null,
            "visibility": null,
            "align_self": null,
            "height": null,
            "min_height": null,
            "padding": null,
            "grid_auto_rows": null,
            "grid_gap": null,
            "max_width": null,
            "order": null,
            "_view_module_version": "1.2.0",
            "grid_template_areas": null,
            "object_position": null,
            "object_fit": null,
            "grid_auto_columns": null,
            "margin": null,
            "display": null,
            "left": null
          }
        },
        "f51677f9dee24530a4c91d7ca7283249": {
          "model_module": "@jupyter-widgets/controls",
          "model_name": "DescriptionStyleModel",
          "state": {
            "_view_name": "StyleView",
            "_model_name": "DescriptionStyleModel",
            "description_width": "",
            "_view_module": "@jupyter-widgets/base",
            "_model_module_version": "1.5.0",
            "_view_count": null,
            "_view_module_version": "1.2.0",
            "_model_module": "@jupyter-widgets/controls"
          }
        },
        "54ac74f8d2e041fc9f9e59c1d35187eb": {
          "model_module": "@jupyter-widgets/base",
          "model_name": "LayoutModel",
          "state": {
            "_view_name": "LayoutView",
            "grid_template_rows": null,
            "right": null,
            "justify_content": null,
            "_view_module": "@jupyter-widgets/base",
            "overflow": null,
            "_model_module_version": "1.2.0",
            "_view_count": null,
            "flex_flow": null,
            "width": null,
            "min_width": null,
            "border": null,
            "align_items": null,
            "bottom": null,
            "_model_module": "@jupyter-widgets/base",
            "top": null,
            "grid_column": null,
            "overflow_y": null,
            "overflow_x": null,
            "grid_auto_flow": null,
            "grid_area": null,
            "grid_template_columns": null,
            "flex": null,
            "_model_name": "LayoutModel",
            "justify_items": null,
            "grid_row": null,
            "max_height": null,
            "align_content": null,
            "visibility": null,
            "align_self": null,
            "height": null,
            "min_height": null,
            "padding": null,
            "grid_auto_rows": null,
            "grid_gap": null,
            "max_width": null,
            "order": null,
            "_view_module_version": "1.2.0",
            "grid_template_areas": null,
            "object_position": null,
            "object_fit": null,
            "grid_auto_columns": null,
            "margin": null,
            "display": null,
            "left": null
          }
        },
        "41be7e7f38d24b1fa2f415b6cda260b9": {
          "model_module": "@jupyter-widgets/controls",
          "model_name": "HBoxModel",
          "state": {
            "_view_name": "HBoxView",
            "_dom_classes": [],
            "_model_name": "HBoxModel",
            "_view_module": "@jupyter-widgets/controls",
            "_model_module_version": "1.5.0",
            "_view_count": null,
            "_view_module_version": "1.5.0",
            "box_style": "",
            "layout": "IPY_MODEL_3d3d74d211a049c68a95f69941895e8b",
            "_model_module": "@jupyter-widgets/controls",
            "children": [
              "IPY_MODEL_bda909e3ecbe441089b946bcd1c91b7d",
              "IPY_MODEL_85dc9ace79ef4546bd432c86ad4f1c49"
            ]
          }
        },
        "3d3d74d211a049c68a95f69941895e8b": {
          "model_module": "@jupyter-widgets/base",
          "model_name": "LayoutModel",
          "state": {
            "_view_name": "LayoutView",
            "grid_template_rows": null,
            "right": null,
            "justify_content": null,
            "_view_module": "@jupyter-widgets/base",
            "overflow": null,
            "_model_module_version": "1.2.0",
            "_view_count": null,
            "flex_flow": null,
            "width": null,
            "min_width": null,
            "border": null,
            "align_items": null,
            "bottom": null,
            "_model_module": "@jupyter-widgets/base",
            "top": null,
            "grid_column": null,
            "overflow_y": null,
            "overflow_x": null,
            "grid_auto_flow": null,
            "grid_area": null,
            "grid_template_columns": null,
            "flex": null,
            "_model_name": "LayoutModel",
            "justify_items": null,
            "grid_row": null,
            "max_height": null,
            "align_content": null,
            "visibility": null,
            "align_self": null,
            "height": null,
            "min_height": null,
            "padding": null,
            "grid_auto_rows": null,
            "grid_gap": null,
            "max_width": null,
            "order": null,
            "_view_module_version": "1.2.0",
            "grid_template_areas": null,
            "object_position": null,
            "object_fit": null,
            "grid_auto_columns": null,
            "margin": null,
            "display": null,
            "left": null
          }
        },
        "bda909e3ecbe441089b946bcd1c91b7d": {
          "model_module": "@jupyter-widgets/controls",
          "model_name": "FloatProgressModel",
          "state": {
            "_view_name": "ProgressView",
            "style": "IPY_MODEL_a8d12a086dfa4239a46b1d1e99b14788",
            "_dom_classes": [],
            "description": "Downloading: 100%",
            "_model_name": "FloatProgressModel",
            "bar_style": "success",
            "max": 433,
            "_view_module": "@jupyter-widgets/controls",
            "_model_module_version": "1.5.0",
            "value": 433,
            "_view_count": null,
            "_view_module_version": "1.5.0",
            "orientation": "horizontal",
            "min": 0,
            "description_tooltip": null,
            "_model_module": "@jupyter-widgets/controls",
            "layout": "IPY_MODEL_ea1433c9a67b4c8d9f6ddadd4643e6c9"
          }
        },
        "85dc9ace79ef4546bd432c86ad4f1c49": {
          "model_module": "@jupyter-widgets/controls",
          "model_name": "HTMLModel",
          "state": {
            "_view_name": "HTMLView",
            "style": "IPY_MODEL_9bee2f299ddf4e4aa20694ebdb317c36",
            "_dom_classes": [],
            "description": "",
            "_model_name": "HTMLModel",
            "placeholder": "​",
            "_view_module": "@jupyter-widgets/controls",
            "_model_module_version": "1.5.0",
            "value": " 433/433 [00:21&lt;00:00, 20.1B/s]",
            "_view_count": null,
            "_view_module_version": "1.5.0",
            "description_tooltip": null,
            "_model_module": "@jupyter-widgets/controls",
            "layout": "IPY_MODEL_6ce05f4b5c73469a84fa11514a3a2090"
          }
        },
        "a8d12a086dfa4239a46b1d1e99b14788": {
          "model_module": "@jupyter-widgets/controls",
          "model_name": "ProgressStyleModel",
          "state": {
            "_view_name": "StyleView",
            "_model_name": "ProgressStyleModel",
            "description_width": "initial",
            "_view_module": "@jupyter-widgets/base",
            "_model_module_version": "1.5.0",
            "_view_count": null,
            "_view_module_version": "1.2.0",
            "bar_color": null,
            "_model_module": "@jupyter-widgets/controls"
          }
        },
        "ea1433c9a67b4c8d9f6ddadd4643e6c9": {
          "model_module": "@jupyter-widgets/base",
          "model_name": "LayoutModel",
          "state": {
            "_view_name": "LayoutView",
            "grid_template_rows": null,
            "right": null,
            "justify_content": null,
            "_view_module": "@jupyter-widgets/base",
            "overflow": null,
            "_model_module_version": "1.2.0",
            "_view_count": null,
            "flex_flow": null,
            "width": null,
            "min_width": null,
            "border": null,
            "align_items": null,
            "bottom": null,
            "_model_module": "@jupyter-widgets/base",
            "top": null,
            "grid_column": null,
            "overflow_y": null,
            "overflow_x": null,
            "grid_auto_flow": null,
            "grid_area": null,
            "grid_template_columns": null,
            "flex": null,
            "_model_name": "LayoutModel",
            "justify_items": null,
            "grid_row": null,
            "max_height": null,
            "align_content": null,
            "visibility": null,
            "align_self": null,
            "height": null,
            "min_height": null,
            "padding": null,
            "grid_auto_rows": null,
            "grid_gap": null,
            "max_width": null,
            "order": null,
            "_view_module_version": "1.2.0",
            "grid_template_areas": null,
            "object_position": null,
            "object_fit": null,
            "grid_auto_columns": null,
            "margin": null,
            "display": null,
            "left": null
          }
        },
        "9bee2f299ddf4e4aa20694ebdb317c36": {
          "model_module": "@jupyter-widgets/controls",
          "model_name": "DescriptionStyleModel",
          "state": {
            "_view_name": "StyleView",
            "_model_name": "DescriptionStyleModel",
            "description_width": "",
            "_view_module": "@jupyter-widgets/base",
            "_model_module_version": "1.5.0",
            "_view_count": null,
            "_view_module_version": "1.2.0",
            "_model_module": "@jupyter-widgets/controls"
          }
        },
        "6ce05f4b5c73469a84fa11514a3a2090": {
          "model_module": "@jupyter-widgets/base",
          "model_name": "LayoutModel",
          "state": {
            "_view_name": "LayoutView",
            "grid_template_rows": null,
            "right": null,
            "justify_content": null,
            "_view_module": "@jupyter-widgets/base",
            "overflow": null,
            "_model_module_version": "1.2.0",
            "_view_count": null,
            "flex_flow": null,
            "width": null,
            "min_width": null,
            "border": null,
            "align_items": null,
            "bottom": null,
            "_model_module": "@jupyter-widgets/base",
            "top": null,
            "grid_column": null,
            "overflow_y": null,
            "overflow_x": null,
            "grid_auto_flow": null,
            "grid_area": null,
            "grid_template_columns": null,
            "flex": null,
            "_model_name": "LayoutModel",
            "justify_items": null,
            "grid_row": null,
            "max_height": null,
            "align_content": null,
            "visibility": null,
            "align_self": null,
            "height": null,
            "min_height": null,
            "padding": null,
            "grid_auto_rows": null,
            "grid_gap": null,
            "max_width": null,
            "order": null,
            "_view_module_version": "1.2.0",
            "grid_template_areas": null,
            "object_position": null,
            "object_fit": null,
            "grid_auto_columns": null,
            "margin": null,
            "display": null,
            "left": null
          }
        },
        "d8ff72c4a34241359eb2a5679d15313f": {
          "model_module": "@jupyter-widgets/controls",
          "model_name": "HBoxModel",
          "state": {
            "_view_name": "HBoxView",
            "_dom_classes": [],
            "_model_name": "HBoxModel",
            "_view_module": "@jupyter-widgets/controls",
            "_model_module_version": "1.5.0",
            "_view_count": null,
            "_view_module_version": "1.5.0",
            "box_style": "",
            "layout": "IPY_MODEL_a6397678d5c64335a0ad6babe655ab85",
            "_model_module": "@jupyter-widgets/controls",
            "children": [
              "IPY_MODEL_8d070438a1074f268390df5e6c8f3f4c",
              "IPY_MODEL_4091354d19714667b529dc6badd8d019"
            ]
          }
        },
        "a6397678d5c64335a0ad6babe655ab85": {
          "model_module": "@jupyter-widgets/base",
          "model_name": "LayoutModel",
          "state": {
            "_view_name": "LayoutView",
            "grid_template_rows": null,
            "right": null,
            "justify_content": null,
            "_view_module": "@jupyter-widgets/base",
            "overflow": null,
            "_model_module_version": "1.2.0",
            "_view_count": null,
            "flex_flow": null,
            "width": null,
            "min_width": null,
            "border": null,
            "align_items": null,
            "bottom": null,
            "_model_module": "@jupyter-widgets/base",
            "top": null,
            "grid_column": null,
            "overflow_y": null,
            "overflow_x": null,
            "grid_auto_flow": null,
            "grid_area": null,
            "grid_template_columns": null,
            "flex": null,
            "_model_name": "LayoutModel",
            "justify_items": null,
            "grid_row": null,
            "max_height": null,
            "align_content": null,
            "visibility": null,
            "align_self": null,
            "height": null,
            "min_height": null,
            "padding": null,
            "grid_auto_rows": null,
            "grid_gap": null,
            "max_width": null,
            "order": null,
            "_view_module_version": "1.2.0",
            "grid_template_areas": null,
            "object_position": null,
            "object_fit": null,
            "grid_auto_columns": null,
            "margin": null,
            "display": null,
            "left": null
          }
        },
        "8d070438a1074f268390df5e6c8f3f4c": {
          "model_module": "@jupyter-widgets/controls",
          "model_name": "FloatProgressModel",
          "state": {
            "_view_name": "ProgressView",
            "style": "IPY_MODEL_c9d0383197a4413dab98e91dffbae476",
            "_dom_classes": [],
            "description": "Downloading: 100%",
            "_model_name": "FloatProgressModel",
            "bar_style": "success",
            "max": 440473133,
            "_view_module": "@jupyter-widgets/controls",
            "_model_module_version": "1.5.0",
            "value": 440473133,
            "_view_count": null,
            "_view_module_version": "1.5.0",
            "orientation": "horizontal",
            "min": 0,
            "description_tooltip": null,
            "_model_module": "@jupyter-widgets/controls",
            "layout": "IPY_MODEL_a82e73858d19476aa6ef4b70dc49ba82"
          }
        },
        "4091354d19714667b529dc6badd8d019": {
          "model_module": "@jupyter-widgets/controls",
          "model_name": "HTMLModel",
          "state": {
            "_view_name": "HTMLView",
            "style": "IPY_MODEL_267933ceb948419fb82f2d8adabb8552",
            "_dom_classes": [],
            "description": "",
            "_model_name": "HTMLModel",
            "placeholder": "​",
            "_view_module": "@jupyter-widgets/controls",
            "_model_module_version": "1.5.0",
            "value": " 440M/440M [00:11&lt;00:00, 38.6MB/s]",
            "_view_count": null,
            "_view_module_version": "1.5.0",
            "description_tooltip": null,
            "_model_module": "@jupyter-widgets/controls",
            "layout": "IPY_MODEL_1fdb5e4ca70c4facb38d98777243d1c5"
          }
        },
        "c9d0383197a4413dab98e91dffbae476": {
          "model_module": "@jupyter-widgets/controls",
          "model_name": "ProgressStyleModel",
          "state": {
            "_view_name": "StyleView",
            "_model_name": "ProgressStyleModel",
            "description_width": "initial",
            "_view_module": "@jupyter-widgets/base",
            "_model_module_version": "1.5.0",
            "_view_count": null,
            "_view_module_version": "1.2.0",
            "bar_color": null,
            "_model_module": "@jupyter-widgets/controls"
          }
        },
        "a82e73858d19476aa6ef4b70dc49ba82": {
          "model_module": "@jupyter-widgets/base",
          "model_name": "LayoutModel",
          "state": {
            "_view_name": "LayoutView",
            "grid_template_rows": null,
            "right": null,
            "justify_content": null,
            "_view_module": "@jupyter-widgets/base",
            "overflow": null,
            "_model_module_version": "1.2.0",
            "_view_count": null,
            "flex_flow": null,
            "width": null,
            "min_width": null,
            "border": null,
            "align_items": null,
            "bottom": null,
            "_model_module": "@jupyter-widgets/base",
            "top": null,
            "grid_column": null,
            "overflow_y": null,
            "overflow_x": null,
            "grid_auto_flow": null,
            "grid_area": null,
            "grid_template_columns": null,
            "flex": null,
            "_model_name": "LayoutModel",
            "justify_items": null,
            "grid_row": null,
            "max_height": null,
            "align_content": null,
            "visibility": null,
            "align_self": null,
            "height": null,
            "min_height": null,
            "padding": null,
            "grid_auto_rows": null,
            "grid_gap": null,
            "max_width": null,
            "order": null,
            "_view_module_version": "1.2.0",
            "grid_template_areas": null,
            "object_position": null,
            "object_fit": null,
            "grid_auto_columns": null,
            "margin": null,
            "display": null,
            "left": null
          }
        },
        "267933ceb948419fb82f2d8adabb8552": {
          "model_module": "@jupyter-widgets/controls",
          "model_name": "DescriptionStyleModel",
          "state": {
            "_view_name": "StyleView",
            "_model_name": "DescriptionStyleModel",
            "description_width": "",
            "_view_module": "@jupyter-widgets/base",
            "_model_module_version": "1.5.0",
            "_view_count": null,
            "_view_module_version": "1.2.0",
            "_model_module": "@jupyter-widgets/controls"
          }
        },
        "1fdb5e4ca70c4facb38d98777243d1c5": {
          "model_module": "@jupyter-widgets/base",
          "model_name": "LayoutModel",
          "state": {
            "_view_name": "LayoutView",
            "grid_template_rows": null,
            "right": null,
            "justify_content": null,
            "_view_module": "@jupyter-widgets/base",
            "overflow": null,
            "_model_module_version": "1.2.0",
            "_view_count": null,
            "flex_flow": null,
            "width": null,
            "min_width": null,
            "border": null,
            "align_items": null,
            "bottom": null,
            "_model_module": "@jupyter-widgets/base",
            "top": null,
            "grid_column": null,
            "overflow_y": null,
            "overflow_x": null,
            "grid_auto_flow": null,
            "grid_area": null,
            "grid_template_columns": null,
            "flex": null,
            "_model_name": "LayoutModel",
            "justify_items": null,
            "grid_row": null,
            "max_height": null,
            "align_content": null,
            "visibility": null,
            "align_self": null,
            "height": null,
            "min_height": null,
            "padding": null,
            "grid_auto_rows": null,
            "grid_gap": null,
            "max_width": null,
            "order": null,
            "_view_module_version": "1.2.0",
            "grid_template_areas": null,
            "object_position": null,
            "object_fit": null,
            "grid_auto_columns": null,
            "margin": null,
            "display": null,
            "left": null
          }
        }
      }
    }
  },
  "cells": [
    {
      "cell_type": "code",
      "metadata": {
        "id": "Lk-B0z4pFeoS",
        "colab": {
          "base_uri": "https://localhost:8080/",
          "height": 598
        },
        "outputId": "af1ba4f2-66ff-4c94-a599-def9dda5d56a"
      },
      "source": [
        "from google.colab import drive\n",
        "drive.mount('/content/drive')\n",
        "import sys\n",
        "import os\n",
        "import json\n",
        "import random\n",
        "import time\n",
        "import argparse\n",
        "import pickle\n",
        "#!{sys.executable} -m pip install torch==1.5.0+cu101 torchvision==0.6.0+cu101 -f https://download.pytorch.org/whl/torch_stable.html\n",
        "import torch as T\n",
        "import numpy as np\n",
        "from collections import defaultdict\n",
        "from torch.utils.data import Dataset, DataLoader\n",
        "from collections import defaultdict, namedtuple\n",
        "root = '/content/drive/My Drive/dialog-data/'\n",
        "#root = 'drive/dialog-data/'\n",
        "sys.path.append(root)\n",
        "import slot_class_data3 as D\n",
        "!{sys.executable} -m pip install transformers\n",
        "import transformers as tf"
      ],
      "execution_count": null,
      "outputs": [
        {
          "output_type": "stream",
          "text": [
            "Drive already mounted at /content/drive; to attempt to forcibly remount, call drive.mount(\"/content/drive\", force_remount=True).\n",
            "Collecting transformers\n",
            "\u001b[?25l  Downloading https://files.pythonhosted.org/packages/12/b5/ac41e3e95205ebf53439e4dd087c58e9fd371fd8e3724f2b9b4cdb8282e5/transformers-2.10.0-py3-none-any.whl (660kB)\n",
            "\u001b[K     |████████████████████████████████| 665kB 8.9MB/s \n",
            "\u001b[?25hRequirement already satisfied: dataclasses; python_version < \"3.7\" in /usr/local/lib/python3.6/dist-packages (from transformers) (0.7)\n",
            "Requirement already satisfied: requests in /usr/local/lib/python3.6/dist-packages (from transformers) (2.23.0)\n",
            "Collecting sacremoses\n",
            "\u001b[?25l  Downloading https://files.pythonhosted.org/packages/7d/34/09d19aff26edcc8eb2a01bed8e98f13a1537005d31e95233fd48216eed10/sacremoses-0.0.43.tar.gz (883kB)\n",
            "\u001b[K     |████████████████████████████████| 890kB 23.2MB/s \n",
            "\u001b[?25hRequirement already satisfied: numpy in /usr/local/lib/python3.6/dist-packages (from transformers) (1.18.4)\n",
            "Requirement already satisfied: filelock in /usr/local/lib/python3.6/dist-packages (from transformers) (3.0.12)\n",
            "Requirement already satisfied: tqdm>=4.27 in /usr/local/lib/python3.6/dist-packages (from transformers) (4.41.1)\n",
            "Collecting sentencepiece\n",
            "\u001b[?25l  Downloading https://files.pythonhosted.org/packages/d4/a4/d0a884c4300004a78cca907a6ff9a5e9fe4f090f5d95ab341c53d28cbc58/sentencepiece-0.1.91-cp36-cp36m-manylinux1_x86_64.whl (1.1MB)\n",
            "\u001b[K     |████████████████████████████████| 1.1MB 16.4MB/s \n",
            "\u001b[?25hRequirement already satisfied: regex!=2019.12.17 in /usr/local/lib/python3.6/dist-packages (from transformers) (2019.12.20)\n",
            "Collecting tokenizers==0.7.0\n",
            "\u001b[?25l  Downloading https://files.pythonhosted.org/packages/14/e5/a26eb4716523808bb0a799fcfdceb6ebf77a18169d9591b2f46a9adb87d9/tokenizers-0.7.0-cp36-cp36m-manylinux1_x86_64.whl (3.8MB)\n",
            "\u001b[K     |████████████████████████████████| 3.8MB 50.9MB/s \n",
            "\u001b[?25hRequirement already satisfied: urllib3!=1.25.0,!=1.25.1,<1.26,>=1.21.1 in /usr/local/lib/python3.6/dist-packages (from requests->transformers) (1.24.3)\n",
            "Requirement already satisfied: chardet<4,>=3.0.2 in /usr/local/lib/python3.6/dist-packages (from requests->transformers) (3.0.4)\n",
            "Requirement already satisfied: certifi>=2017.4.17 in /usr/local/lib/python3.6/dist-packages (from requests->transformers) (2020.4.5.1)\n",
            "Requirement already satisfied: idna<3,>=2.5 in /usr/local/lib/python3.6/dist-packages (from requests->transformers) (2.9)\n",
            "Requirement already satisfied: six in /usr/local/lib/python3.6/dist-packages (from sacremoses->transformers) (1.12.0)\n",
            "Requirement already satisfied: click in /usr/local/lib/python3.6/dist-packages (from sacremoses->transformers) (7.1.2)\n",
            "Requirement already satisfied: joblib in /usr/local/lib/python3.6/dist-packages (from sacremoses->transformers) (0.15.1)\n",
            "Building wheels for collected packages: sacremoses\n",
            "  Building wheel for sacremoses (setup.py) ... \u001b[?25l\u001b[?25hdone\n",
            "  Created wheel for sacremoses: filename=sacremoses-0.0.43-cp36-none-any.whl size=893260 sha256=681de8efcc7b9d9108ee77abc22d8f8595398e34e7dd41dff25dceafb4f0ae4d\n",
            "  Stored in directory: /root/.cache/pip/wheels/29/3c/fd/7ce5c3f0666dab31a50123635e6fb5e19ceb42ce38d4e58f45\n",
            "Successfully built sacremoses\n",
            "Installing collected packages: sacremoses, sentencepiece, tokenizers, transformers\n",
            "Successfully installed sacremoses-0.0.43 sentencepiece-0.1.91 tokenizers-0.7.0 transformers-2.10.0\n"
          ],
          "name": "stdout"
        }
      ]
    },
    {
      "cell_type": "code",
      "metadata": {
        "id": "TimbI3tFGaEb"
      },
      "source": [
        "class Run:\n",
        "    def __init__(self):\n",
        "        self.records = defaultdict(list)\n",
        "        \n",
        "    def log(self, key, value):\n",
        "        self.records[key].append(value)\n",
        "\n",
        "def metrics(scores, labels):\n",
        "    with T.no_grad():\n",
        "        preds = T.max(scores, dim=-1)[1] == labels\n",
        "        correct = T.where(preds == True)[0]\n",
        "        wrong = T.where(preds == False)[0]\n",
        "        return correct.shape[0]/scores.shape[0], correct.cpu().numpy(), wrong.cpu().numpy()\n",
        "\n",
        "def evaluate(model, batch, test=False):\n",
        "    scores = model(**batch.x._asdict())[0]\n",
        "    loss = T.nn.functional.cross_entropy(scores, batch.y, reduction='none') # B\n",
        "    \n",
        "    with T.no_grad():\n",
        "        preds = T.max(scores, dim=-1)[1] == batch.y\n",
        "        i, corr, batch_size = 0, 0, 0\n",
        "        mask = T.zeros_like(loss)\n",
        "        while i < scores.shape[0]:\n",
        "            j = batch.range[i].item()\n",
        "            val = T.all(preds[i:j]).float().item()\n",
        "            mask[i:j] = val\n",
        "            corr += val\n",
        "            i = j\n",
        "            batch_size += 1\n",
        "    loss = ((1 - mask) * loss).sum()/batch_size\n",
        "    joint_acc = corr/batch_size\n",
        "    if test:\n",
        "        return loss, joint_acc, scores\n",
        "    return loss, joint_acc\n",
        "    \n",
        "def print_example(tokenizer, batch, idx, scores, correct):\n",
        "    id2label = sorted(D.SlotDataset.LABEL2ID.keys(), key=lambda x: D.SlotDataset.LABEL2ID[x])\n",
        "    with T.no_grad():\n",
        "        ids = batch.x.input_ids[idx]\n",
        "        scores = T.softmax(scores[idx], dim=-1)\n",
        "        state = ('Correct' if correct else 'Wrong')\n",
        "        print(' '.join(tokenizer.convert_ids_to_tokens(ids, skip_special_tokens=True)))\n",
        "        print('\\t'.join([f'{id2label[i]}: {score:.2f}' for i, score in enumerate(scores)]+[state]))\n",
        "\n",
        "def train(model, optim, train_data, valid_data, no_batches, valid_duration=100,\n",
        "          cuda=True, verbose=False, tokenizer=None, max_grad_norm=1.0,\n",
        "          valid_size=1, run=None, batch_size=1, no_examples=10):\n",
        "    if cuda:\n",
        "        model = model.cuda()\n",
        "    optim, scheduler = optim\n",
        "    print(\"About to start training\")\n",
        "    start_time = time.time()\n",
        "    valid_loss, valid_acc, max_acc = 0, 0, 0\n",
        "    print_gpu = False\n",
        "    batch_size, total_batch_size = batch_size\n",
        "    no_iter = total_batch_size//batch_size\n",
        "    i = 0\n",
        "    loss_fct = T.nn.CrossEntropyLoss(weight=T.tensor([1., 5.97, 181., 1]).cuda())\n",
        "    while True:\n",
        "        optim.zero_grad()\n",
        "        scores, loss, acc = 0, 0, 0\n",
        "        for k in range(no_iter):\n",
        "            batch = next(train_data)\n",
        "            #loss_, scores_= model(**batch.x._asdict(), labels=batch.y)[:2]\n",
        "            #scores_ = model(**batch.x._asdict())[0]\n",
        "            #loss_ = loss_fct(scores_.view(-1, 4), batch.y.view(-1))\n",
        "            loss_, acc_ = evaluate(model, batch)\n",
        "            #scores_ = scores_.detach()\n",
        "            #scores += scores_/no_iter\n",
        "            loss_ /= no_iter\n",
        "            loss_.backward()\n",
        "            loss += loss_.item()\n",
        "            #acc_, _, _ = metrics(scores_ , batch.y)\n",
        "            acc += acc_/no_iter\n",
        "        if max_grad_norm > 0:\n",
        "            T.nn.utils.clip_grad_norm_(model.parameters(), max_grad_norm)\n",
        "        optim.step()\n",
        "        scheduler.step()\n",
        "        \n",
        "        if  i % valid_duration == 0:\n",
        "            model.eval()\n",
        "            valid_acc, valid_loss = 0, 0\n",
        "            with T.no_grad():\n",
        "                if verbose:\n",
        "                    print(\"##################################################################################\")\n",
        "                for k in range(valid_size):\n",
        "                    batch = next(valid_data)\n",
        "                    #valid_los, valid_scores = model(**batch.x._asdict(), labels=batch.y)[:2]\n",
        "                    valid_los, v_acc, valid_scores = evaluate(model, batch, test=True)\n",
        "                    _,  corr_ids, wrong_ids, = metrics(valid_scores, batch.y)\n",
        "                    valid_loss += float(valid_los)\n",
        "                    valid_acc += v_acc\n",
        "                    if verbose and k < no_examples:\n",
        "                        if len(corr_ids) > 0:\n",
        "                            idx = np.random.choice(corr_ids)\n",
        "                            print_example(tokenizer, batch, idx, valid_scores, correct=True)\n",
        "                            print(\"-----------------------------------------------------------------------------\")\n",
        "                        if len(wrong_ids) > 0:\n",
        "                            idx = np.random.choice(wrong_ids)\n",
        "                            print_example(tokenizer, batch, idx, valid_scores, correct=False)\n",
        "                            print(\"-----------------------------------------------------------------------------\")\n",
        "                if verbose:\n",
        "                    print(\"##################################################################################\")\n",
        "                valid_loss /= valid_size\n",
        "                valid_acc /= valid_size\n",
        "                if valid_acc > max_acc:\n",
        "                    max_acc = valid_acc\n",
        "                    model.save_model()        \n",
        "            model.train()\n",
        "        \n",
        "        if print_gpu:\n",
        "            print(nvgpu.gpu_info())\n",
        "            print_gpu = False\n",
        "        if run:\n",
        "            run.log(\"train_loss\", loss)\n",
        "            run.log(\"train_acc\", acc)\n",
        "            run.log(\"valid_loss\", valid_loss)\n",
        "            run.log(\"valid_acc\", valid_acc)\n",
        "            run.log(\"batch\", i)\n",
        "        sys.stderr.write(f'\\rtrain loss: {loss:.2f}\\ttrain acc {acc:.2f}\\t' + \n",
        "                         f'valid loss: {valid_loss:.2f}\\tvalid acc {valid_acc:.2f}' +\n",
        "                         f'\\tbatch: {i}\\ttime: {time.time()-start_time:.2f}{\"\": <30}')\n",
        "        i += 1\n",
        "        if i >= no_batches - 1:\n",
        "            break\n",
        "    return model\n",
        "\n",
        "def _in(n, trainable_parameters):\n",
        "    return any(nd in n for nd in trainable_parameters)\n",
        "\n",
        "def get_model(name, trainable_parameters=None):\n",
        "    model_name = name.split('-')[0].capitalize()\n",
        "    tokenizer = getattr(tf, f'{model_name}Tokenizer').from_pretrained(name)\n",
        "    model = getattr(tf, f'{model_name}ForSequenceClassification').from_pretrained(name,\n",
        "                                                                                  num_labels=4)\n",
        "    if trainable_parameters is not None:\n",
        "        for name, param in model.named_parameters():\n",
        "            if not _in(name, trainable_parameters):\n",
        "                param.requires_grad = False\n",
        "    return tokenizer, model\n",
        "\n",
        "\n",
        "class AdapterLayer(T.nn.Module):\n",
        "    \n",
        "    def __init__(self, input_size, dropout, hidden_size=64, init_scale=1e-3, act='gelu'):\n",
        "        super().__init__()\n",
        "        self.act = getattr(T.nn.functional, act)\n",
        "        self.squeeze = T.nn.Linear(input_size, hidden_size)\n",
        "        self.squeeze.weight.data.normal_(mean=0.0, std=init_scale)\n",
        "        T.nn.init.zeros_(self.squeeze.bias.data)\n",
        "        self.expand = T.nn.Linear(hidden_size, input_size)\n",
        "        self.expand.weight.data.normal_(mean=0.0, std=init_scale)\n",
        "        T.nn.init.zeros_(self.expand.bias.data)\n",
        "        self.dropout = dropout\n",
        "        \n",
        "    def forward(self, x):\n",
        "        x = self.dropout(x)\n",
        "        return self.expand(self.act(self.squeeze(x))) + x\n",
        "    \n",
        "\n",
        "def add_adapter_layers(model, **kwargs):\n",
        "    input_size = model.config.hidden_size\n",
        "    layers = model.bert.encoder.layer\n",
        "    for layer in layers:\n",
        "        adapter1 = AdapterLayer(input_size, layer.attention.output.dropout, **kwargs)\n",
        "        adapter2 = AdapterLayer(input_size, layer.output.dropout, **kwargs)\n",
        "        layer.attention.output.add_module('dropout', adapter1)\n",
        "        layer.output.add_module('dropout', adapter2)\n",
        "    return model\n",
        "\n",
        "\n",
        "def save_model(model, trainable_parameters, url):\n",
        "    with open(url, 'wb') as f:\n",
        "        params_to_save = {k: v.detach().cpu() for k, v in model.state_dict().items()\n",
        "                          if _in(k, trainable_parameters)}\n",
        "        pickle.dump(params_to_save, f)\n",
        "\n",
        "\n",
        "def load_model(model, url):\n",
        "    with open(url, 'rb') as f:\n",
        "        return model.load_state_dict(pickle.load(f), False)\n",
        "\n",
        "\n",
        "def main(args):\n",
        "    \n",
        "    data_dir = args.data_url\n",
        "    trainable_parameters = (args.trainable_parameters.split(' ') if args.trainable_parameters != '' \n",
        "                                                                 else None)\n",
        "    print(\"data directory is: \" + data_dir)\n",
        "    # Load the model\n",
        "    tokenizer, model = get_model(args.model_name, trainable_parameters)\n",
        "    # Load the data\n",
        "    train_itr = D.SlotDataset(os.path.join(data_dir,'train'), tokenizer, pos_prob=args.pos_prob, \n",
        "                              max_len=args.max_len).dataLoader(batch_size=args.batch_size,\n",
        "                                                               shuffle=True,\n",
        "                                                               pin_memory=True, cuda=True,\n",
        "                                                               loop=True, drop_last=True)\n",
        "    valid_itr = D.SlotDataset(os.path.join(data_dir,'dev'), tokenizer, pos_prob=args.pos_prob, \n",
        "                              max_len=args.max_len).dataLoader(batch_size=args.batch_size,\n",
        "                                                               shuffle=True,\n",
        "                                                               pin_memory=True, cuda=True, \n",
        "                                                               loop=True, drop_last=True)\n",
        "    # Train only adapter layers\n",
        "    model = add_adapter_layers(model, hidden_size=args.adapter_size)\n",
        "    if args.checkpoint:\n",
        "        model.load_state_dict(pickle.load(open(os.path.join(data_dir, args.checkpoint), 'rb')),\n",
        "                              False)\n",
        "    # Parallise if required\n",
        "    if T.cuda.device_count() > 1:\n",
        "        print(\"Let's use\", T.cuda.device_count(), \"GPUs!\")\n",
        "        model = T.nn.DataParallel(model)    \n",
        "    # Create the optimizer\n",
        "    # Prepare optimizer and schedule (linear warmup and decay)\n",
        "    no_decay = [\"bias\", \"LayerNorm.weight\"]\n",
        "    optimizer_grouped_parameters = [\n",
        "        {\n",
        "            \"params\": [p for n, p in model.named_parameters() \n",
        "                       if _in(n, trainable_parameters) and not _in(n, no_decay)],\n",
        "            \"weight_decay\": args.weight_decay,\n",
        "        },\n",
        "        {\n",
        "            \"params\": [p for n, p in model.named_parameters() \n",
        "                       if _in(n, trainable_parameters) and _in(n, no_decay)],\n",
        "            \"weight_decay\": 0.0\n",
        "        },\n",
        "    ]\n",
        "    if args.model_url is not None:\n",
        "        save_fn = lambda : save_model(model, trainable_parameters, \n",
        "                                      os.path.join(data_dir, args.model_url))\n",
        "    else:\n",
        "        save_fn = type(None)\n",
        "    setattr(model, 'save_model', save_fn)\n",
        "    optimizer = tf.AdamW(optimizer_grouped_parameters, lr=args.lr, eps=1e-8)\n",
        "    scheduler = tf.get_linear_schedule_with_warmup(\n",
        "        optimizer, num_warmup_steps=int(0.1*args.num_batches), num_training_steps=args.num_batches\n",
        "    )\n",
        "    \n",
        "    \n",
        "    optim = [optimizer, scheduler]\n",
        "    run = Run()\n",
        "    model = train(model, optim, train_itr, valid_itr, args.num_batches, args.valid_duration,\n",
        "                  cuda=True, verbose=args.verbose, tokenizer=tokenizer,\n",
        "                  max_grad_norm=args.max_grad_norm, valid_size=args.valid_size,\n",
        "                  run=run, batch_size=[args.batch_size, args.total_batch_size])\n",
        "    return model, run"
      ],
      "execution_count": null,
      "outputs": []
    },
    {
      "cell_type": "code",
      "metadata": {
        "id": "YVfu9DQKIrtm",
        "colab": {
          "base_uri": "https://localhost:8080/",
          "height": 1000
        },
        "outputId": "96a7e564-19ee-4fd2-f351-90949e2de5d4"
      },
      "source": [
        "trainable_parameters = ['LayerNorm', 'dropout.expand', 'dropout.squeeze', 'classifier']\n",
        "# get command-line arguments\n",
        "parser = argparse.ArgumentParser()\n",
        "parser.add_argument('--model_name', type=str, default='bert-base-uncased')\n",
        "parser.add_argument('--trainable_parameters', type=str, help='space separated parameters to train',\n",
        "                    default=' '.join(trainable_parameters))\n",
        "parser.add_argument('--total_batch_size', type=int, default=64, help='The total batch size')\n",
        "parser.add_argument('--batch_size', type=int, default=64, help='The batch size')\n",
        "parser.add_argument('--num_batches', type=int, default=1000, help='number of batches to train')\n",
        "parser.add_argument('--max_len', type=int, default=120, help='Maximum length of the context')\n",
        "parser.add_argument('--adapter_size', type=int, default=256, help='hidden size of the adapter layers')\n",
        "parser.add_argument('--data_url', type=str, help='data directory')\n",
        "parser.add_argument('--pos_prob', type=float, default=0.5, help='Probability of sampling positive examples')\n",
        "parser.add_argument('--optim', type=str, default='Adam', help='data directory')\n",
        "parser.add_argument('--lr', type=float, default=6e-5, help='Learning rate')\n",
        "parser.add_argument('--amsgrad', type=bool, default=False, help=' whether to use the AMSGrad variant')\n",
        "parser.add_argument('--weight_decay', type=float, default=0.006, help='L2 Regularization weight decay')\n",
        "parser.add_argument('--max_grad_norm', default=1.0, type=float, help=\"Max gradient norm.\")\n",
        "parser.add_argument('--valid_duration', type=int, default=100, help='The number of batches before validating')\n",
        "parser.add_argument('--verbose', type=bool, default=True, help='Show Live valid examples with prediction during validating')\n",
        "parser.add_argument('--valid_size', type=int, default=50, help='The number of valid batches to evaluate')\n",
        "parser.add_argument('--model_url', type=str, default='model.pkl', help='URL to save the model')\n",
        "parser.add_argument('--checkpoint', type=str, help='Start training from a checkpoint')\n",
        "\n",
        "args = parser.parse_args(['--data_url', root, '--model_url', 'model-slot-class3.pkl',\n",
        "                          '--num_batches', '10000', '--adapter_size', '256', '--checkpoint', 'model-slot-class.pkl',\n",
        "                          '--lr', '4e-5', '--batch_size', '6', '--total_batch_size', '60',\n",
        "                          '--pos_prob', '0.5'])\n",
        "model, run = main(args)"
      ],
      "execution_count": null,
      "outputs": [
        {
          "output_type": "stream",
          "text": [
            "data directory is: /content/drive/My Drive/dialog-data/\n",
            "About to start training\n",
            "##################################################################################\n",
            "system : the ticket is confirmed . user : please look for hotels in that area too . service description : accommodation searching and booking portal slot description : number of rooms to reserve\n",
            "filled: 0.00\ttransferred: 0.00\tdontcare: 0.00\tNone: 1.00\tCorrect\n",
            "-----------------------------------------------------------------------------\n",
            "system : please confirm transfer of $ 1 , 03 ##0 from your savings to the checking of justin . user : that ' s right . how many days will it take ? service description : service to manage your bank accounts and finances slot description : number of days for the transfer to go through\n",
            "filled: 1.00\ttransferred: 0.00\tdontcare: 0.00\tNone: 0.00\tWrong\n",
            "-----------------------------------------------------------------------------\n",
            "system : 7 : 10 am 10 buses $ 45 0 transfers user : that is good service description : book bus journeys from the biggest bus network in the country slot description : fare per ticket for journey\n",
            "filled: 0.00\ttransferred: 0.00\tdontcare: 0.00\tNone: 1.00\tCorrect\n",
            "-----------------------------------------------------------------------------\n",
            "system : when would you like to take the return flight ? user : i ' m planning on returning on the 14th of this month . service description : find one way and round trip flights to your favorite city slot description : number of the airport flying to\n",
            "filled: 0.00\ttransferred: 0.00\tdontcare: 0.00\tNone: 1.00\tCorrect\n",
            "-----------------------------------------------------------------------------\n",
            "system : please confirm you will be picking up a standard car at mcc ##ar ##ran international airport on march 6th at 5 pm and dropping off on march 10th . user : yes , that is correct , can you give me the total cost ? service description : car rental service with extensive coverage of locations and cars slot description : model name of rental car mentioned in offer car name civic\n",
            "filled: 0.00\ttransferred: 0.00\tdontcare: 0.00\tNone: 1.00\tCorrect\n",
            "-----------------------------------------------------------------------------\n",
            "system : do you want to add another alarm . user : yes please , add an alarm and call it grocery run at 4 : 45 pm service description : manage alarms by getting and setting them easily slot description : name of the alarm mentioned in offer alarm name wake up\n",
            "filled: 0.08\ttransferred: 0.92\tdontcare: 0.00\tNone: 0.00\tWrong\n",
            "-----------------------------------------------------------------------------\n",
            "system : hello , how can i help ? user : i need 3 rooms in a 3 star hotel in los angeles service description : a popular service for searching and res ##erving rooms in hotels slot description : boo ##lean flag indicating if the hotel has wi ##fi\n",
            "filled: 0.31\ttransferred: 0.00\tdontcare: 0.00\tNone: 0.69\tCorrect\n",
            "-----------------------------------------------------------------------------\n",
            "system : music or sports user : i like games service description : the comprehensive portal to find and reserve seats at events near you slot description : date of occurrence of event\n",
            "filled: 0.02\ttransferred: 0.00\tdontcare: 0.01\tNone: 0.97\tCorrect\n",
            "-----------------------------------------------------------------------------\n",
            "system : yes , they do offer wi ##fi . they are located at 60 fur ##man street , brooklyn . user : okay , thanks that sounds good . service description : a popular service for searching and res ##erving rooms in hotels slot description : phone number of the hotel\n",
            "filled: 0.00\ttransferred: 0.00\tdontcare: 0.00\tNone: 1.00\tCorrect\n",
            "-----------------------------------------------------------------------------\n",
            "system : hello , how can i help ? user : can you help me find 3 tickets for a one way flight for the 2nd of march ? service description : find one way and round trip flights to your favorite city slot description : number of bags to check in\n",
            "filled: 0.97\ttransferred: 0.00\tdontcare: 0.00\tNone: 0.03\tWrong\n",
            "-----------------------------------------------------------------------------\n",
            "system : what date do you want to check in ? user : i want to check in on the 3rd of march . service description : a popular service for searching and res ##erving rooms in hotels slot description : start date for the reservation\n",
            "filled: 0.59\ttransferred: 0.00\tdontcare: 0.00\tNone: 0.41\tCorrect\n",
            "-----------------------------------------------------------------------------\n",
            "system : sure , there are 3 available flights , would you like an american airlines flight at 10 : 10 am with 0 lay ##overs costing $ 81 ? user : could you find some alternatives instead for three ? service description : find one way and round trip flights to your favorite city slot description : date of return flight\n",
            "filled: 0.00\ttransferred: 0.00\tdontcare: 0.00\tNone: 1.00\tCorrect\n",
            "-----------------------------------------------------------------------------\n",
            "system : would you like to reserve this hotel ? user : maybe later . i want to check the weather there on march 12th . service description : check the weather for any place and any date slot description : percentage humidity\n",
            "filled: 0.00\ttransferred: 0.00\tdontcare: 0.00\tNone: 1.00\tCorrect\n",
            "-----------------------------------------------------------------------------\n",
            "##################################################################################\n"
          ],
          "name": "stdout"
        },
        {
          "output_type": "stream",
          "text": [
            "/usr/local/lib/python3.6/dist-packages/torch/storage.py:34: FutureWarning: pickle support for Storage will be removed in 1.5. Use `torch.save` instead\n",
            "  warnings.warn(\"pickle support for Storage will be removed in 1.5. Use `torch.save` instead\", FutureWarning)\n",
            "train loss: 0.07\ttrain acc 0.93\tvalid loss: 0.35\tvalid acc 0.88\tbatch: 99\ttime: 449.01                              "
          ],
          "name": "stderr"
        },
        {
          "output_type": "stream",
          "text": [
            "##################################################################################\n",
            "system : what event are you interested in ? and what city are you looking in ? user : it ' s the mariners vs rays . it should be in seattle . service description : the comprehensive portal to find and reserve seats at events near you slot description : sub ##cate ##gor ##y of event , either a music genre or sport name\n",
            "filled: 0.00\ttransferred: 0.00\tdontcare: 0.00\tNone: 1.00\tCorrect\n",
            "-----------------------------------------------------------------------------\n",
            "system : in which location are you searching for and what kind of food are you looking for ? user : find some good restaurants in sunny ##vale ? find hal ##al kind of food ? service description : a popular restaurant search and reservation service slot description : whether the restaurant has adequate vegetarian options\n",
            "filled: 0.73\ttransferred: 0.00\tdontcare: 0.00\tNone: 0.27\tWrong\n",
            "-----------------------------------------------------------------------------\n",
            "system : what account do you want me to check ? user : i ' d like to see the balance of my savings account , please . service description : service to manage your bank accounts and finances slot description : number of days for the transfer to go through mentioned in departure date march 1st\n",
            "filled: 0.00\ttransferred: 0.04\tdontcare: 0.00\tNone: 0.96\tCorrect\n",
            "-----------------------------------------------------------------------------\n",
            "system : what account do you want me to check ? user : i ' d like to see the balance of my savings account , please . service description : service to manage your bank accounts and finances slot description : the account type of the recipient to transfer the money to\n",
            "filled: 0.56\ttransferred: 0.00\tdontcare: 0.00\tNone: 0.43\tWrong\n",
            "-----------------------------------------------------------------------------\n",
            "system : yes , smoking is allowed , and the address is 55 shelley street . user : okay . service description : accommodation searching and booking portal slot description : star rating of the accommodation mentioned in offer star rating 4\n",
            "filled: 0.00\ttransferred: 0.09\tdontcare: 0.00\tNone: 0.91\tCorrect\n",
            "-----------------------------------------------------------------------------\n",
            "system : yes , the date is march 14th in castro valley . user : yes , that is perfect . service description : a popular restaurant search and reservation service slot description : number of seats to reserve at the restaurant mentioned in confirm number of seats 2\n",
            "filled: 0.02\ttransferred: 0.49\tdontcare: 0.00\tNone: 0.50\tWrong\n",
            "-----------------------------------------------------------------------------\n",
            "system : what is the name of the person you would ike to make the transfer to ? user : i would like to make the transfer to k ##had ##ija . service description : service to manage your bank accounts and finances slot description : the name of the recipient to transfer the money to\n",
            "filled: 0.99\ttransferred: 0.00\tdontcare: 0.00\tNone: 0.00\tCorrect\n",
            "-----------------------------------------------------------------------------\n",
            "system : hello , how can i help ? user : i plan to relocate to another part of the city with my sister , and need help finding an apartment with 2 baths . service description : a widely used service for finding apartments and scheduling visits slot description : city where the apartment is located\n",
            "filled: 0.99\ttransferred: 0.00\tdontcare: 0.00\tNone: 0.01\tWrong\n",
            "-----------------------------------------------------------------------------\n",
            "system : until when do you want the vehicle ? user : i require it until the 14th of march . service description : car rental service with extensive coverage of locations and cars slot description : category to which rental car belongs\n",
            "filled: 0.00\ttransferred: 0.00\tdontcare: 0.01\tNone: 0.99\tCorrect\n",
            "-----------------------------------------------------------------------------\n",
            "system : you can pick up an alt ##ima , standard on march 9th at 30th street station . user : fine , that ' ll be all . service description : car rental service with extensive coverage of locations and cars slot description : model name of rental car\n",
            "filled: 0.00\ttransferred: 0.00\tdontcare: 0.00\tNone: 1.00\tCorrect\n",
            "-----------------------------------------------------------------------------\n",
            "system : your tickets have been booked and i ' m sure you will enjoy yourself . it starts at 8 : 30 pm at 17 eastern parkway , brooklyn . user : i think i ' ll take the bus there . can you help me find tickets for the 2nd of march ? service description : book bus journeys from the biggest bus network in the country slot description : city where bus is leaving from mentioned in city of event new york\n",
            "filled: 0.00\ttransferred: 0.69\tdontcare: 0.00\tNone: 0.31\tWrong\n",
            "-----------------------------------------------------------------------------\n",
            "system : there are 10 attractions which you might like . you can consider visiting crystal springs r ##ho ##do ##den ##dron garden , which is a park . user : alright , good . now i need to find 1 room in a two star hotel , so that i can have a place to sleep there . the hotel i am looking for should have wi ##fi . service description : a popular service for searching and res ##erving rooms in hotels slot description : start date for the reservation\n",
            "filled: 0.00\ttransferred: 0.00\tdontcare: 0.00\tNone: 1.00\tCorrect\n",
            "-----------------------------------------------------------------------------\n",
            "system : you want a shared ride ? user : that ' s fine . service description : on - demand taxi calling service slot description : destination for taxi ride\n",
            "filled: 0.58\ttransferred: 0.00\tdontcare: 0.00\tNone: 0.42\tWrong\n",
            "-----------------------------------------------------------------------------\n",
            "system : so i ' ll change the booking to tomorrow for 1 day , okay ? user : yes , that ' s good . service description : a popular service for searching and res ##erving rooms in hotels slot description : price per night for the reservation\n",
            "filled: 0.00\ttransferred: 0.00\tdontcare: 0.00\tNone: 1.00\tCorrect\n",
            "-----------------------------------------------------------------------------\n",
            "system : would you like to have the car from march 7th ? if so , what time would you like to pick it up ? user : no , i need the car from the 12th , and i ' d like to pick it up at 10 : 00 on that day . service description : car rental service with extensive coverage of locations and cars slot description : date of rental car drop - off\n",
            "filled: 0.62\ttransferred: 0.00\tdontcare: 0.00\tNone: 0.37\tWrong\n",
            "-----------------------------------------------------------------------------\n",
            "system : hacker ##s , dog ##man and high life are choices of the 10 movies found . user : i would like other movie choices . i want to watch a funny movie with miss ##i p ##yle in it . service description : the wide ##st selection and lowest prices for movie rental ##s slot description : cost of rent ##ing movie\n",
            "filled: 0.00\ttransferred: 0.00\tdontcare: 0.00\tNone: 1.00\tCorrect\n",
            "-----------------------------------------------------------------------------\n",
            "system : sorry , i wasn ' t able to set it , is there anything else i can do for you ? user : can you add one for 5 : 15 in the evening ? service description : manage alarms by getting and setting them easily slot description : name of the alarm mentioned in offer alarm name pick up kids\n",
            "filled: 0.01\ttransferred: 0.83\tdontcare: 0.00\tNone: 0.16\tWrong\n",
            "-----------------------------------------------------------------------------\n",
            "system : sure , what genre . user : i ' d go for something violent . service description : the wide ##st selection and lowest prices for movie rental ##s slot description : name of the movie\n",
            "filled: 0.00\ttransferred: 0.00\tdontcare: 0.00\tNone: 1.00\tCorrect\n",
            "-----------------------------------------------------------------------------\n",
            "system : sure , when do you need ? user : i need the car till the 2nd . service description : car rental service with extensive coverage of locations and cars slot description : date of rental car pickup\n",
            "filled: 0.52\ttransferred: 0.00\tdontcare: 0.00\tNone: 0.48\tWrong\n",
            "-----------------------------------------------------------------------------\n",
            "##################################################################################\n"
          ],
          "name": "stdout"
        },
        {
          "output_type": "stream",
          "text": [
            "train loss: 0.20\ttrain acc 0.85\tvalid loss: 0.35\tvalid acc 0.85\tbatch: 199\ttime: 898.63                              "
          ],
          "name": "stderr"
        },
        {
          "output_type": "stream",
          "text": [
            "##################################################################################\n",
            "system : there ' s 10 events meeting your criteria out of which i recommend arizona vs la dodgers at chase field on march 1st at 6 pm . user : sounds nice , but please find me something on the 12th . service description : the comprehensive portal to find and reserve seats at events near you slot description : name of event\n",
            "filled: 0.26\ttransferred: 0.00\tdontcare: 0.00\tNone: 0.74\tCorrect\n",
            "-----------------------------------------------------------------------------\n",
            "system : there is $ 16 , 950 . 67 in your savings account . user : what about the balance of my checking account ? service description : service to manage your bank accounts and finances slot description : the balance in the specified account\n",
            "filled: 0.08\ttransferred: 0.00\tdontcare: 0.00\tNone: 0.91\tCorrect\n",
            "-----------------------------------------------------------------------------\n",
            "system : the room is $ 240 per night . user : that sounds good . service description : a popular service for searching and res ##erving rooms in hotels slot description : address of the hotel\n",
            "filled: 0.00\ttransferred: 0.00\tdontcare: 0.00\tNone: 1.00\tCorrect\n",
            "-----------------------------------------------------------------------------\n",
            "system : please confirm : booking a standard car from march 4th to march 9th . available for pickup at sunny ##vale cal ##train station at 12 : 30 pm . user : that is correct . service description : car rental service with extensive coverage of locations and cars slot description : date of rental car drop - off\n",
            "filled: 0.99\ttransferred: 0.00\tdontcare: 0.00\tNone: 0.00\tCorrect\n",
            "-----------------------------------------------------------------------------\n",
            "system : your bill will be $ 108 overall . user : can you find me a car to get on the 9th of this month ? service description : car rental service with extensive coverage of locations and cars slot description : location of rental car pickup mentioned in offer pickup location fresno yo ##se ##mite international airport\n",
            "filled: 0.00\ttransferred: 0.70\tdontcare: 0.00\tNone: 0.29\tWrong\n",
            "-----------------------------------------------------------------------------\n",
            "system : they have a policy of no pets , sorry . the phone number is 510 - 352 - 322 ##4 . user : it ' s fine , i was only asking because my neighbour right now has a dog that won ' t be quiet . no pets would be better anyway ##s . this apartment sounds good . service description : a widely used service for finding apartments and scheduling visits slot description : address of the apartment mentioned in offer address 56 ##6 est ##udi ##llo avenue\n",
            "filled: 0.00\ttransferred: 0.00\tdontcare: 0.00\tNone: 1.00\tCorrect\n",
            "-----------------------------------------------------------------------------\n",
            "system : they have a policy of no pets , sorry . the phone number is 510 - 352 - 322 ##4 . user : it ' s fine , i was only asking because my neighbour right now has a dog that won ' t be quiet . no pets would be better anyway ##s . this apartment sounds good . service description : a widely used service for finding apartments and scheduling visits slot description : boo ##lean flag indicating if pets are allowed\n",
            "filled: 0.51\ttransferred: 0.00\tdontcare: 0.00\tNone: 0.49\tWrong\n",
            "-----------------------------------------------------------------------------\n",
            "system : please confirm the following information : book a table at cu ##gin ##i restaurant in the city of berkeley . the reservation is at 4 : 30 pm . it is for 2 people on march 1st . user : okay , that works . service description : a popular restaurant search and reservation service slot description : average user rating for restaurant on a scale of 5\n",
            "filled: 0.00\ttransferred: 0.00\tdontcare: 0.00\tNone: 1.00\tCorrect\n",
            "-----------------------------------------------------------------------------\n",
            "system : give me the details . time , place . user : we ' re leaving for fresno around 11 in the morning on saturday this week . service description : book bus journeys from the biggest bus network in the country slot description : city where bus is leaving from\n",
            "filled: 0.55\ttransferred: 0.00\tdontcare: 0.00\tNone: 0.44\tWrong\n",
            "-----------------------------------------------------------------------------\n",
            "system : am ##eric ##o at la boom on march 6th at 6 : 30 pm is something that people like . user : i ' m very interested in that . service description : the comprehensive portal to find and reserve seats at events near you slot description : number of seats to find event tickets for\n",
            "filled: 0.00\ttransferred: 0.00\tdontcare: 0.00\tNone: 1.00\tCorrect\n",
            "-----------------------------------------------------------------------------\n",
            "system : what time should i set the new alarm for ? user : set it for four in the evening . service description : manage alarms by getting and setting them easily slot description : name to use for the new alarm\n",
            "filled: 0.16\ttransferred: 0.00\tdontcare: 0.00\tNone: 0.84\tCorrect\n",
            "-----------------------------------------------------------------------------\n",
            "system : confirming a transfer of $ 1 , 490 from your savings account to the savings account belonging to yu ##mi . user : thanks . how long will that take to go through ? service description : service to manage your bank accounts and finances slot description : number of days for the transfer to go through\n",
            "filled: 0.97\ttransferred: 0.00\tdontcare: 0.00\tNone: 0.03\tWrong\n",
            "-----------------------------------------------------------------------------\n",
            "system : which account do you want me to look at ? user : my savings . service description : service to manage your bank accounts and finances slot description : number of days for the transfer to go through\n",
            "filled: 0.00\ttransferred: 0.00\tdontcare: 0.00\tNone: 1.00\tCorrect\n",
            "-----------------------------------------------------------------------------\n",
            "system : hello , how can i help ? user : what ' s my checking account balance ? service description : service to manage your bank accounts and finances slot description : the user ' s account type\n",
            "filled: 0.48\ttransferred: 0.00\tdontcare: 0.01\tNone: 0.52\tWrong\n",
            "-----------------------------------------------------------------------------\n",
            "system : they can be reached at 510 - 38 ##3 - 510 ##0 . user : thank you . service description : discover the right therapist for you and make reservations easily slot description : name of the therapist mentioned in offer therapist name alam ##eda children ' s specialized\n",
            "filled: 0.00\ttransferred: 0.99\tdontcare: 0.00\tNone: 0.00\tCorrect\n",
            "-----------------------------------------------------------------------------\n",
            "system : the wind speed is 11 miles per hour . user : sure , could you get me an appointment with the therapist on that day ? service description : discover the right therapist for you and make reservations easily slot description : area where user wants to search for a therapist mentioned in city martinez\n",
            "filled: 0.10\ttransferred: 0.38\tdontcare: 0.00\tNone: 0.52\tWrong\n",
            "-----------------------------------------------------------------------------\n",
            "##################################################################################\n"
          ],
          "name": "stdout"
        },
        {
          "output_type": "stream",
          "text": [
            "train loss: 0.15\ttrain acc 0.93\tvalid loss: 0.33\tvalid acc 0.87\tbatch: 299\ttime: 1348.80                              "
          ],
          "name": "stderr"
        },
        {
          "output_type": "stream",
          "text": [
            "##################################################################################\n",
            "system : where will you leave from ? user : nairobi is the departure city . service description : find one way and round trip flights to your favorite city slot description : number of bags to check in\n",
            "filled: 0.00\ttransferred: 0.00\tdontcare: 0.00\tNone: 1.00\tCorrect\n",
            "-----------------------------------------------------------------------------\n",
            "system : where will you leave from ? user : nairobi is the departure city . service description : find one way and round trip flights to your favorite city slot description : city in which the journey ends\n",
            "filled: 0.72\ttransferred: 0.00\tdontcare: 0.00\tNone: 0.28\tWrong\n",
            "-----------------------------------------------------------------------------\n",
            "system : what kind of restaurant ? user : i ' m in the mood for italian food . service description : a popular restaurant search and reservation service slot description : number of seats to reserve at the restaurant\n",
            "filled: 0.00\ttransferred: 0.00\tdontcare: 0.00\tNone: 1.00\tCorrect\n",
            "-----------------------------------------------------------------------------\n",
            "system : the humidity will be around 34 percent . user : alright . i would like to reserve the hotel you found . service description : accommodation searching and booking portal slot description : number of rooms to reserve\n",
            "filled: 0.35\ttransferred: 0.00\tdontcare: 0.00\tNone: 0.65\tWrong\n",
            "-----------------------------------------------------------------------------\n",
            "system : what type of movie ? user : funny movies , please . service description : the wide ##st selection and lowest prices for movie rental ##s slot description : cost of rent ##ing movie\n",
            "filled: 0.00\ttransferred: 0.00\tdontcare: 0.00\tNone: 1.00\tCorrect\n",
            "-----------------------------------------------------------------------------\n",
            "system : 0 checked bags are allowed . the flight depart ##s from sf ##o international airport . user : okay . can you find me a small rental car to pick up in phil ##ly ? i need it from the 11th . service description : find one way and round trip flights to your favorite city slot description : fare class of flight booking\n",
            "filled: 0.93\ttransferred: 0.00\tdontcare: 0.01\tNone: 0.06\tWrong\n",
            "-----------------------------------------------------------------------------\n",
            "system : can you tell me the date you prefer to have the appointment on ? user : i want the appointment to be scheduled for march 10th . service description : discover the right therapist for you and make reservations easily slot description : address of the therapist\n",
            "filled: 0.00\ttransferred: 0.00\tdontcare: 0.00\tNone: 1.00\tCorrect\n",
            "-----------------------------------------------------------------------------\n",
            "system : okay , so you would like me to schedule a walk through at ae ##gen ##a on march 8th , correct ? user : yes , that ' s great . service description : a widely used service for finding apartments and scheduling visits slot description : phone number of the apartment\n",
            "filled: 0.00\ttransferred: 0.00\tdontcare: 0.00\tNone: 1.00\tCorrect\n",
            "-----------------------------------------------------------------------------\n",
            "system : there is also air ##tel plaza hotel , it has a 3 star rating . user : that one sounds great . for now just get me a round trip flight . i will need it to get there . service description : a popular service for searching and res ##erving rooms in hotels slot description : start date for the reservation\n",
            "filled: 0.01\ttransferred: 0.00\tdontcare: 0.00\tNone: 0.99\tCorrect\n",
            "-----------------------------------------------------------------------------\n",
            "system : there is also air ##tel plaza hotel , it has a 3 star rating . user : that one sounds great . for now just get me a round trip flight . i will need it to get there . service description : find one way and round trip flights to your favorite city slot description : city in which the journey originates mentioned in destination los angeles\n",
            "filled: 0.00\ttransferred: 1.00\tdontcare: 0.00\tNone: 0.00\tWrong\n",
            "-----------------------------------------------------------------------------\n",
            "system : where would you like me to find a restaurant ? user : i ' d like to get a restaurant in va ##ca ##ville service description : a popular restaurant search and reservation service slot description : number of seats to reserve at the restaurant\n",
            "filled: 0.00\ttransferred: 0.00\tdontcare: 0.00\tNone: 1.00\tCorrect\n",
            "-----------------------------------------------------------------------------\n",
            "system : what is your favorite food to search for ? user : search for something like asian fusion . service description : a popular restaurant search and reservation service slot description : whether the restaurant has adequate vegetarian options\n",
            "filled: 0.50\ttransferred: 0.00\tdontcare: 0.01\tNone: 0.49\tWrong\n",
            "-----------------------------------------------------------------------------\n",
            "system : sadly , this is an un ##fur ##nished apartment . you can try contact ##ing them at 92 ##5 - 68 ##2 - 96 ##6 ##1 . user : yes , this apartment is perfect ! service description : a widely used service for finding apartments and scheduling visits slot description : boo ##lean flag indicating if the property is furnished\n",
            "filled: 0.00\ttransferred: 0.00\tdontcare: 0.00\tNone: 1.00\tCorrect\n",
            "-----------------------------------------------------------------------------\n",
            "system : do you want to book a room there ? user : no , i don ' t need to book a room right now . i do want to get a ticket to the event . service description : the comprehensive portal to find and reserve seats at events near you slot description : sub ##cate ##gor ##y of event , either a music genre or sport name\n",
            "filled: 0.54\ttransferred: 0.00\tdontcare: 0.01\tNone: 0.45\tWrong\n",
            "-----------------------------------------------------------------------------\n",
            "system : which city are you departing from ? user : i ' m looking for flight from toronto . service description : find one way and round trip flights to your favorite city slot description : local time of departure of flight from destination to origin\n",
            "filled: 0.00\ttransferred: 0.00\tdontcare: 0.00\tNone: 1.00\tCorrect\n",
            "-----------------------------------------------------------------------------\n",
            "system : ok please check and review the details for confirmation . table need to be booked at tuba authentic turkish restaurant in the city san francisco at time 1 pm and number of people is 2 for the date is today . user : no find restaurants in liver ##more and book a table at simply fond ##ue ? service description : a popular restaurant search and reservation service slot description : number of seats to reserve at the restaurant\n",
            "filled: 0.52\ttransferred: 0.00\tdontcare: 0.00\tNone: 0.48\tWrong\n",
            "-----------------------------------------------------------------------------\n",
            "system : please confirm : playing curious on the tv . user : that is correct . what year did it came out ? what is the genre ? service description : a popular provider of a wide range of music content for searching and listening slot description : playback device on which the song is to be played\n",
            "filled: 0.99\ttransferred: 0.00\tdontcare: 0.00\tNone: 0.00\tCorrect\n",
            "-----------------------------------------------------------------------------\n",
            "##################################################################################\n"
          ],
          "name": "stdout"
        },
        {
          "output_type": "stream",
          "text": [
            "train loss: 0.14\ttrain acc 0.92\tvalid loss: 0.32\tvalid acc 0.88\tbatch: 399\ttime: 1792.90                              "
          ],
          "name": "stderr"
        },
        {
          "output_type": "stream",
          "text": [
            "##################################################################################\n",
            "system : there is 10 songs . do you like dance mac ##ab ##re by ghost from the album prequel ##le ? user : yes , i like that song . service description : a popular provider of a wide range of music content for searching and listening slot description : year in which the song was released\n",
            "filled: 0.00\ttransferred: 0.00\tdontcare: 0.00\tNone: 1.00\tCorrect\n",
            "-----------------------------------------------------------------------------\n",
            "system : hello , how can i help ? user : can you help me find a hotel in at ##l ? service description : accommodation searching and booking portal slot description : number of rooms to reserve\n",
            "filled: 0.00\ttransferred: 0.00\tdontcare: 0.00\tNone: 0.99\tCorrect\n",
            "-----------------------------------------------------------------------------\n",
            "system : their phone number is 70 ##7 - 44 ##8 - 38 ##48 . user : that ' s great . i don ' t need anything else . service description : a widely used service for finding apartments and scheduling visits slot description : date for the visit to the apartment\n",
            "filled: 0.01\ttransferred: 0.00\tdontcare: 0.00\tNone: 0.98\tCorrect\n",
            "-----------------------------------------------------------------------------\n",
            "system : the number is + 33 1 84 82 49 09 . user : okay , good to know . service description : a popular service for searching and res ##erving rooms in hotels slot description : name of the hotel mentioned in offer hotel name ac hotel by marriott paris porte mail ##lot\n",
            "filled: 0.00\ttransferred: 1.00\tdontcare: 0.00\tNone: 0.00\tCorrect\n",
            "-----------------------------------------------------------------------------\n",
            "system : hello , how can i help ? user : i need to find a therapist in lafayette . which one do you recommend ? service description : discover the right therapist for you and make reservations easily slot description : area where user wants to search for a therapist\n",
            "filled: 0.42\ttransferred: 0.00\tdontcare: 0.02\tNone: 0.57\tWrong\n",
            "-----------------------------------------------------------------------------\n",
            "system : can you tell me the time for when you want the reservation be made for ? user : i want the table to be booked for 5 : 30 in the evening . service description : a popular restaurant search and reservation service slot description : phone number to contact restaurant\n",
            "filled: 0.00\ttransferred: 0.00\tdontcare: 0.00\tNone: 1.00\tCorrect\n",
            "-----------------------------------------------------------------------------\n",
            "system : can i assist you with anything else ? user : i would like to search to fly round trip with delta airlines . service description : find one way and round trip flights to your favorite city slot description : city in which the journey originates mentioned in destination london\n",
            "filled: 0.00\ttransferred: 0.95\tdontcare: 0.00\tNone: 0.05\tWrong\n",
            "-----------------------------------------------------------------------------\n",
            "system : sure , how about the 4 star 1 hotel brooklyn bridge ? user : sounds great . that ' s all , thanks . service description : a popular service for searching and res ##erving rooms in hotels slot description : boo ##lean flag indicating if the hotel has wi ##fi\n",
            "filled: 0.01\ttransferred: 0.00\tdontcare: 0.00\tNone: 0.99\tCorrect\n",
            "-----------------------------------------------------------------------------\n",
            "system : search revealed 10 results . apart ##hot ##el ada ##gio paris mont ##mart ##re is a 3 star hotel that allows smoking . user : that works for me . service description : accommodation searching and booking portal slot description : street address of the accommodation\n",
            "filled: 0.00\ttransferred: 0.00\tdontcare: 0.00\tNone: 1.00\tCorrect\n",
            "-----------------------------------------------------------------------------\n",
            "system : where are you going ? user : atlanta march 1st portland service description : find one way and round trip flights to your favorite city slot description : number of passengers to find flight seats for\n",
            "filled: 0.02\ttransferred: 0.00\tdontcare: 0.00\tNone: 0.98\tCorrect\n",
            "-----------------------------------------------------------------------------\n",
            "system : okay , please confirm that you ' d like a shared ride cab for 2 to le garage . user : no , actually , we ' re going to 37 ##40 el cam ##ino real . service description : on - demand taxi calling service slot description : destination for taxi ride\n",
            "filled: 0.89\ttransferred: 0.00\tdontcare: 0.00\tNone: 0.11\tCorrect\n",
            "-----------------------------------------------------------------------------\n",
            "system : acoustic al ##che ##my is a popular event taking place at the blue note nap ##a on march 11th at 6 pm . user : sounds awesome . please book tickets . service description : the comprehensive portal to find and reserve seats at events near you slot description : name of event\n",
            "filled: 0.97\ttransferred: 0.00\tdontcare: 0.00\tNone: 0.03\tCorrect\n",
            "-----------------------------------------------------------------------------\n",
            "system : anything else for you ? user : afternoon 1 : 30 next wednesday service description : car rental service with extensive coverage of locations and cars slot description : city where rental car will be picked up mentioned in location lax\n",
            "filled: 0.00\ttransferred: 0.41\tdontcare: 0.00\tNone: 0.59\tWrong\n",
            "-----------------------------------------------------------------------------\n",
            "##################################################################################\n"
          ],
          "name": "stdout"
        },
        {
          "output_type": "stream",
          "text": [
            "train loss: 0.17\ttrain acc 0.88\tvalid loss: 0.33\tvalid acc 0.88\tbatch: 499\ttime: 2241.92                              "
          ],
          "name": "stderr"
        },
        {
          "output_type": "stream",
          "text": [
            "##################################################################################\n",
            "system : do you need more help ? user : find me a one way flight there . service description : find one way and round trip flights to your favorite city slot description : number of the airport flying to mentioned in to location sf ##o\n",
            "filled: 0.00\ttransferred: 0.00\tdontcare: 0.00\tNone: 1.00\tCorrect\n",
            "-----------------------------------------------------------------------------\n",
            "system : it costs $ 261 per nights . the address is ci ##ra centre south , 292 ##9 walnut street . user : what else is there ? i need 1 room . service description : a popular service for searching and res ##erving rooms in hotels slot description : name of the hotel mentioned in offer hotel name aka university city\n",
            "filled: 0.00\ttransferred: 0.01\tdontcare: 0.00\tNone: 0.99\tCorrect\n",
            "-----------------------------------------------------------------------------\n",
            "system : the atrium inn vancouver is rated 3 stars . does this work for you ? user : that sounds good . can i purchase tickets to the event you found now ? service description : the comprehensive portal to find and reserve seats at events near you slot description : number of seats to find event tickets for mentioned in passengers 1\n",
            "filled: 0.00\ttransferred: 0.32\tdontcare: 0.00\tNone: 0.68\tWrong\n",
            "-----------------------------------------------------------------------------\n",
            "system : how about flores michelle m . they ' re a family counselor in campbell . user : i ' ll try them . service description : discover the right therapist for you and make reservations easily slot description : time of the appointment\n",
            "filled: 0.00\ttransferred: 0.00\tdontcare: 0.00\tNone: 1.00\tCorrect\n",
            "-----------------------------------------------------------------------------\n",
            "system : best western mission bay 2 stars user : sounds very good service description : accommodation searching and booking portal slot description : name of the accommodation\n",
            "filled: 0.37\ttransferred: 0.00\tdontcare: 0.00\tNone: 0.63\tWrong\n",
            "-----------------------------------------------------------------------------\n",
            "system : what is your destination ? where are you leaving from and when ? user : the date is march 14th and the destination is sacramento . the departure is from las vegas . service description : book bus journeys from the biggest bus network in the country slot description : station where bus is leaving from\n",
            "filled: 0.00\ttransferred: 0.00\tdontcare: 0.00\tNone: 1.00\tCorrect\n",
            "-----------------------------------------------------------------------------\n",
            "system : there is ace hotel london it ' s a 4 star hotel . user : i want to purchase 3 tickets for the previous event . service description : the comprehensive portal to find and reserve seats at events near you slot description : type of event\n",
            "filled: 0.48\ttransferred: 0.00\tdontcare: 0.00\tNone: 0.52\tWrong\n",
            "-----------------------------------------------------------------------------\n",
            "system : what time are you going to leave ? user : it is for 2 people leaving at 9 : 30 in the morning . service description : book bus journeys from the biggest bus network in the country slot description : time of bus leaving for journey\n",
            "filled: 0.99\ttransferred: 0.00\tdontcare: 0.00\tNone: 0.00\tCorrect\n",
            "-----------------------------------------------------------------------------\n",
            "system : there are 10 of them , and 71 saint peter is one of them in san jose user : please book me a table there service description : a popular restaurant search and reservation service slot description : name of the restaurant\n",
            "filled: 0.13\ttransferred: 0.00\tdontcare: 0.00\tNone: 0.87\tWrong\n",
            "-----------------------------------------------------------------------------\n",
            "system : las vegas los angeles march 6th 7 : 40 am 3 people user : yes that works service description : book bus journeys from the biggest bus network in the country slot description : station where bus is leaving from\n",
            "filled: 0.00\ttransferred: 0.00\tdontcare: 0.00\tNone: 1.00\tCorrect\n",
            "-----------------------------------------------------------------------------\n",
            "system : do you have a specific time for when you want the table booked ? user : i will be eating in the afternoon so make the booking to be for afternoon 1 . service description : a popular restaurant search and reservation service slot description : whether the restaurant has outdoor seating available\n",
            "filled: 0.02\ttransferred: 0.00\tdontcare: 0.00\tNone: 0.98\tCorrect\n",
            "-----------------------------------------------------------------------------\n",
            "system : el ga ##to penthouse is a nice property situated at 20 east main street . it has 4 bed rooms and 3 baths . the rent is $ 4 , 750 per month . user : it is nice . i wish to schedule a visit to the apartment on the 11th . service description : a widely used service for finding apartments and scheduling visits slot description : rent per month of the apartment\n",
            "filled: 0.00\ttransferred: 0.00\tdontcare: 0.00\tNone: 1.00\tCorrect\n",
            "-----------------------------------------------------------------------------\n",
            "system : i was unable to book the table . can i do anything else for you ? user : can you try again for 5 : 30 in the evening ? service description : a popular restaurant search and reservation service slot description : average user rating for restaurant on a scale of 5\n",
            "filled: 0.00\ttransferred: 0.00\tdontcare: 0.00\tNone: 1.00\tCorrect\n",
            "-----------------------------------------------------------------------------\n",
            "system : you want an appointment for march 11th at 12 : 30 pm ? user : yeah , that ' s right . service description : discover the right therapist for you and make reservations easily slot description : contact number of the therapist\n",
            "filled: 0.00\ttransferred: 0.00\tdontcare: 0.00\tNone: 1.00\tCorrect\n",
            "-----------------------------------------------------------------------------\n",
            "##################################################################################\n"
          ],
          "name": "stdout"
        },
        {
          "output_type": "stream",
          "text": [
            "train loss: 0.08\ttrain acc 0.97\tvalid loss: 0.35\tvalid acc 0.89\tbatch: 599\ttime: 2692.08                              "
          ],
          "name": "stderr"
        },
        {
          "output_type": "stream",
          "text": [
            "##################################################################################\n",
            "system : the average temperature will be 86 degrees fa ##hre ##nh ##eit with a 21 percent chance of rain user : ok , what about the weather in las vegas service description : check the weather for any place and any date slot description : the possibility of rain or snow in percentage\n",
            "filled: 0.00\ttransferred: 0.00\tdontcare: 0.00\tNone: 1.00\tCorrect\n",
            "-----------------------------------------------------------------------------\n",
            "system : you can reach them at 70 ##7 - 226 - 99 ##12 and visit them at 57 ##5 lincoln avenue # 305 ##c user : can you book me an apartment on the 13th of march ? service description : discover the right therapist for you and make reservations easily slot description : contact number of the therapist\n",
            "filled: 0.00\ttransferred: 0.00\tdontcare: 0.00\tNone: 1.00\tCorrect\n",
            "-----------------------------------------------------------------------------\n",
            "system : hello , how can i help ? user : i am interested in finding a movie that i can watch . the movie i am looking for should be directed by tim burton , and for the movie to be a fantasy genre . also in the movie frank bo ##ur ##ke should be starring . service description : the definitive database to discover new movies to watch slot description : name of actor starring in movie\n",
            "filled: 0.99\ttransferred: 0.00\tdontcare: 0.00\tNone: 0.01\tCorrect\n",
            "-----------------------------------------------------------------------------\n",
            "system : how about a cam ##ry , standard . pick it up at lax international airport on next thursday ? user : what else can i get ? service description : car rental service with extensive coverage of locations and cars slot description : model name of rental car\n",
            "filled: 0.00\ttransferred: 0.00\tdontcare: 0.00\tNone: 1.00\tCorrect\n",
            "-----------------------------------------------------------------------------\n",
            "system : can i help you with anything else ? user : i ' d like to buy tickets to that event from earlier . service description : the comprehensive portal to find and reserve seats at events near you slot description : number of seats to find event tickets for mentioned in passengers 2\n",
            "filled: 0.01\ttransferred: 0.41\tdontcare: 0.00\tNone: 0.58\tWrong\n",
            "-----------------------------------------------------------------------------\n",
            "system : to review : you ' d like to visit the apr ##ico ##t pit apartments next tuesday ? user : yeah - hey , is it a furnished apartment ? service description : a widely used service for finding apartments and scheduling visits slot description : rent per month of the apartment mentioned in offer rent $ 4 , 150\n",
            "filled: 0.00\ttransferred: 0.00\tdontcare: 0.00\tNone: 1.00\tCorrect\n",
            "-----------------------------------------------------------------------------\n",
            "system : there are 2 flights for you . there is a flight with delta airlines , the departure takes off at 3 : 55 pm and the returning flight takes off at 4 : 35 pm . it has a cost of $ 38 ##6 . user : thanks a lot . service description : find one way and round trip flights to your favorite city slot description : number of passengers to find flight seats for\n",
            "filled: 0.09\ttransferred: 0.00\tdontcare: 0.01\tNone: 0.90\tCorrect\n",
            "-----------------------------------------------------------------------------\n",
            "system : it ' s scheduled . no pets , sorry . and call them at 510 - 65 ##6 - 230 ##3 if you want user : can we book that car from earlier ? service description : car rental service with extensive coverage of locations and cars slot description : time of rental car pickup\n",
            "filled: 0.01\ttransferred: 0.00\tdontcare: 0.00\tNone: 0.99\tWrong\n",
            "-----------------------------------------------------------------------------\n",
            "system : are you leaving on march 5th ? when will you want to return ? user : i want to leave on this saturday and come back march 8th . service description : find one way and round trip flights to your favorite city slot description : local time of departure of flight from origin to destination mentioned in leaving date next tuesday\n",
            "filled: 0.00\ttransferred: 0.00\tdontcare: 0.00\tNone: 1.00\tCorrect\n",
            "-----------------------------------------------------------------------------\n",
            "system : i have found 10 hotels that would work . there ' s a 3 star hotel called ac hotel by marriott chicago downtown . user : are there any other four star options ? service description : accommodation searching and booking portal slot description : price per night for the stay\n",
            "filled: 0.00\ttransferred: 0.00\tdontcare: 0.00\tNone: 1.00\tCorrect\n",
            "-----------------------------------------------------------------------------\n",
            "system : your reservation has been made . user : i need a cab for us to get there please . service description : on - demand taxi calling service slot description : approximate duration of ride to the destination\n",
            "filled: 0.00\ttransferred: 0.00\tdontcare: 0.00\tNone: 1.00\tCorrect\n",
            "-----------------------------------------------------------------------------\n",
            "system : you could try she loves control by cam ##ila cab ##ello from her album cam ##ila . user : what about a song from wake up dreaming ? service description : a popular provider of a wide range of music content for searching and listening slot description : genre of the song\n",
            "filled: 0.05\ttransferred: 0.00\tdontcare: 0.06\tNone: 0.89\tCorrect\n",
            "-----------------------------------------------------------------------------\n",
            "##################################################################################\n"
          ],
          "name": "stdout"
        },
        {
          "output_type": "stream",
          "text": [
            "train loss: 0.28\ttrain acc 0.88\tvalid loss: 0.38\tvalid acc 0.90\tbatch: 661\ttime: 2976.62                              "
          ],
          "name": "stderr"
        }
      ]
    },
    {
      "cell_type": "code",
      "metadata": {
        "id": "kP85RvJDUGXp",
        "colab": {
          "base_uri": "https://localhost:8080/",
          "height": 306
        },
        "outputId": "900181d7-c250-499d-a5a9-acad5bd809e4"
      },
      "source": [
        "!nvidia-smi"
      ],
      "execution_count": null,
      "outputs": [
        {
          "output_type": "stream",
          "text": [
            "Tue Jun  2 01:55:21 2020       \n",
            "+-----------------------------------------------------------------------------+\n",
            "| NVIDIA-SMI 440.82       Driver Version: 418.67       CUDA Version: 10.1     |\n",
            "|-------------------------------+----------------------+----------------------+\n",
            "| GPU  Name        Persistence-M| Bus-Id        Disp.A | Volatile Uncorr. ECC |\n",
            "| Fan  Temp  Perf  Pwr:Usage/Cap|         Memory-Usage | GPU-Util  Compute M. |\n",
            "|===============================+======================+======================|\n",
            "|   0  Tesla P100-PCIE...  Off  | 00000000:00:04.0 Off |                    0 |\n",
            "| N/A   33C    P0    27W / 250W |      0MiB / 16280MiB |      0%      Default |\n",
            "+-------------------------------+----------------------+----------------------+\n",
            "                                                                               \n",
            "+-----------------------------------------------------------------------------+\n",
            "| Processes:                                                       GPU Memory |\n",
            "|  GPU       PID   Type   Process name                             Usage      |\n",
            "|=============================================================================|\n",
            "|  No running processes found                                                 |\n",
            "+-----------------------------------------------------------------------------+\n"
          ],
          "name": "stdout"
        }
      ]
    },
    {
      "cell_type": "code",
      "metadata": {
        "id": "4gS3Y-OzSYHj",
        "colab": {
          "base_uri": "https://localhost:8080/",
          "height": 71
        },
        "outputId": "04d074dd-a2d1-4dc6-bd0b-ecb0bf073183"
      },
      "source": [
        "save_model(model, trainable_parameters, root + 'model-slot-class-joint-best.pkl')"
      ],
      "execution_count": null,
      "outputs": [
        {
          "output_type": "stream",
          "text": [
            "/home/osman/anaconda3/lib/python3.7/site-packages/torch/storage.py:34: FutureWarning: pickle support for Storage will be removed in 1.5. Use `torch.save` instead\n",
            "  warnings.warn(\"pickle support for Storage will be removed in 1.5. Use `torch.save` instead\", FutureWarning)\n"
          ],
          "name": "stderr"
        }
      ]
    },
    {
      "cell_type": "code",
      "metadata": {
        "id": "VxizqzENoDKc",
        "colab": {
          "base_uri": "https://localhost:8080/",
          "height": 66,
          "referenced_widgets": [
            "781246ae9c184cb58092f4cfde08eb9f",
            "e3b1eb895f1846788802580e4eafa6a8",
            "337fc059c1fa407386a5a420c25ca6d4",
            "85ddb12b24c345f793120cf156d01b7b",
            "aafd467edc4940e5ba203869a4e47687",
            "3046f9fc61a042708f0c1a1dfcaa3769",
            "f51677f9dee24530a4c91d7ca7283249",
            "54ac74f8d2e041fc9f9e59c1d35187eb"
          ]
        },
        "outputId": "06cfc908-a755-4b81-ab57-ddb723bb940a"
      },
      "source": [
        "import transformers as tf\n",
        "import slot_class_data2 as D\n",
        "tokenizer = tf.BertTokenizer.from_pretrained('bert-base-uncased')\n",
        "dataset = D.SlotDataset(root + 'test', tokenizer, max_len=120)"
      ],
      "execution_count": null,
      "outputs": [
        {
          "output_type": "display_data",
          "data": {
            "application/vnd.jupyter.widget-view+json": {
              "model_id": "781246ae9c184cb58092f4cfde08eb9f",
              "version_minor": 0,
              "version_major": 2
            },
            "text/plain": [
              "HBox(children=(FloatProgress(value=0.0, description='Downloading', max=231508.0, style=ProgressStyle(descripti…"
            ]
          },
          "metadata": {
            "tags": []
          }
        },
        {
          "output_type": "stream",
          "text": [
            "\n"
          ],
          "name": "stdout"
        }
      ]
    },
    {
      "cell_type": "code",
      "metadata": {
        "id": "fpkjZ4GxG_aq"
      },
      "source": [
        "batches = dataset.load_valid_data(128)"
      ],
      "execution_count": null,
      "outputs": []
    },
    {
      "cell_type": "code",
      "metadata": {
        "id": "-PI4FbEeJQ2-",
        "colab": {
          "base_uri": "https://localhost:8080/",
          "height": 152,
          "referenced_widgets": [
            "41be7e7f38d24b1fa2f415b6cda260b9",
            "3d3d74d211a049c68a95f69941895e8b",
            "bda909e3ecbe441089b946bcd1c91b7d",
            "85dc9ace79ef4546bd432c86ad4f1c49",
            "a8d12a086dfa4239a46b1d1e99b14788",
            "ea1433c9a67b4c8d9f6ddadd4643e6c9",
            "9bee2f299ddf4e4aa20694ebdb317c36",
            "6ce05f4b5c73469a84fa11514a3a2090",
            "d8ff72c4a34241359eb2a5679d15313f",
            "a6397678d5c64335a0ad6babe655ab85",
            "8d070438a1074f268390df5e6c8f3f4c",
            "4091354d19714667b529dc6badd8d019",
            "c9d0383197a4413dab98e91dffbae476",
            "a82e73858d19476aa6ef4b70dc49ba82",
            "267933ceb948419fb82f2d8adabb8552",
            "1fdb5e4ca70c4facb38d98777243d1c5"
          ]
        },
        "outputId": "1d431dde-f0e8-4e72-d695-0e1c2f9b4b2f"
      },
      "source": [
        "model = tf.BertForSequenceClassification.from_pretrained('bert-base-uncased', num_labels=4)\n",
        "model = add_adapter_layers(model, hidden_size=256)\n",
        "load_model(model, root + 'model-slot-class3.pkl')"
      ],
      "execution_count": null,
      "outputs": [
        {
          "output_type": "display_data",
          "data": {
            "application/vnd.jupyter.widget-view+json": {
              "model_id": "41be7e7f38d24b1fa2f415b6cda260b9",
              "version_minor": 0,
              "version_major": 2
            },
            "text/plain": [
              "HBox(children=(FloatProgress(value=0.0, description='Downloading', max=433.0, style=ProgressStyle(description_…"
            ]
          },
          "metadata": {
            "tags": []
          }
        },
        {
          "output_type": "stream",
          "text": [
            "\n"
          ],
          "name": "stdout"
        },
        {
          "output_type": "display_data",
          "data": {
            "application/vnd.jupyter.widget-view+json": {
              "model_id": "d8ff72c4a34241359eb2a5679d15313f",
              "version_minor": 0,
              "version_major": 2
            },
            "text/plain": [
              "HBox(children=(FloatProgress(value=0.0, description='Downloading', max=440473133.0, style=ProgressStyle(descri…"
            ]
          },
          "metadata": {
            "tags": []
          }
        },
        {
          "output_type": "stream",
          "text": [
            "\n"
          ],
          "name": "stdout"
        },
        {
          "output_type": "execute_result",
          "data": {
            "text/plain": [
              "_IncompatibleKeys(missing_keys=['bert.embeddings.word_embeddings.weight', 'bert.embeddings.position_embeddings.weight', 'bert.embeddings.token_type_embeddings.weight', 'bert.encoder.layer.0.attention.self.query.weight', 'bert.encoder.layer.0.attention.self.query.bias', 'bert.encoder.layer.0.attention.self.key.weight', 'bert.encoder.layer.0.attention.self.key.bias', 'bert.encoder.layer.0.attention.self.value.weight', 'bert.encoder.layer.0.attention.self.value.bias', 'bert.encoder.layer.0.attention.output.dense.weight', 'bert.encoder.layer.0.attention.output.dense.bias', 'bert.encoder.layer.0.intermediate.dense.weight', 'bert.encoder.layer.0.intermediate.dense.bias', 'bert.encoder.layer.0.output.dense.weight', 'bert.encoder.layer.0.output.dense.bias', 'bert.encoder.layer.1.attention.self.query.weight', 'bert.encoder.layer.1.attention.self.query.bias', 'bert.encoder.layer.1.attention.self.key.weight', 'bert.encoder.layer.1.attention.self.key.bias', 'bert.encoder.layer.1.attention.self.value.weight', 'bert.encoder.layer.1.attention.self.value.bias', 'bert.encoder.layer.1.attention.output.dense.weight', 'bert.encoder.layer.1.attention.output.dense.bias', 'bert.encoder.layer.1.intermediate.dense.weight', 'bert.encoder.layer.1.intermediate.dense.bias', 'bert.encoder.layer.1.output.dense.weight', 'bert.encoder.layer.1.output.dense.bias', 'bert.encoder.layer.2.attention.self.query.weight', 'bert.encoder.layer.2.attention.self.query.bias', 'bert.encoder.layer.2.attention.self.key.weight', 'bert.encoder.layer.2.attention.self.key.bias', 'bert.encoder.layer.2.attention.self.value.weight', 'bert.encoder.layer.2.attention.self.value.bias', 'bert.encoder.layer.2.attention.output.dense.weight', 'bert.encoder.layer.2.attention.output.dense.bias', 'bert.encoder.layer.2.intermediate.dense.weight', 'bert.encoder.layer.2.intermediate.dense.bias', 'bert.encoder.layer.2.output.dense.weight', 'bert.encoder.layer.2.output.dense.bias', 'bert.encoder.layer.3.attention.self.query.weight', 'bert.encoder.layer.3.attention.self.query.bias', 'bert.encoder.layer.3.attention.self.key.weight', 'bert.encoder.layer.3.attention.self.key.bias', 'bert.encoder.layer.3.attention.self.value.weight', 'bert.encoder.layer.3.attention.self.value.bias', 'bert.encoder.layer.3.attention.output.dense.weight', 'bert.encoder.layer.3.attention.output.dense.bias', 'bert.encoder.layer.3.intermediate.dense.weight', 'bert.encoder.layer.3.intermediate.dense.bias', 'bert.encoder.layer.3.output.dense.weight', 'bert.encoder.layer.3.output.dense.bias', 'bert.encoder.layer.4.attention.self.query.weight', 'bert.encoder.layer.4.attention.self.query.bias', 'bert.encoder.layer.4.attention.self.key.weight', 'bert.encoder.layer.4.attention.self.key.bias', 'bert.encoder.layer.4.attention.self.value.weight', 'bert.encoder.layer.4.attention.self.value.bias', 'bert.encoder.layer.4.attention.output.dense.weight', 'bert.encoder.layer.4.attention.output.dense.bias', 'bert.encoder.layer.4.intermediate.dense.weight', 'bert.encoder.layer.4.intermediate.dense.bias', 'bert.encoder.layer.4.output.dense.weight', 'bert.encoder.layer.4.output.dense.bias', 'bert.encoder.layer.5.attention.self.query.weight', 'bert.encoder.layer.5.attention.self.query.bias', 'bert.encoder.layer.5.attention.self.key.weight', 'bert.encoder.layer.5.attention.self.key.bias', 'bert.encoder.layer.5.attention.self.value.weight', 'bert.encoder.layer.5.attention.self.value.bias', 'bert.encoder.layer.5.attention.output.dense.weight', 'bert.encoder.layer.5.attention.output.dense.bias', 'bert.encoder.layer.5.intermediate.dense.weight', 'bert.encoder.layer.5.intermediate.dense.bias', 'bert.encoder.layer.5.output.dense.weight', 'bert.encoder.layer.5.output.dense.bias', 'bert.encoder.layer.6.attention.self.query.weight', 'bert.encoder.layer.6.attention.self.query.bias', 'bert.encoder.layer.6.attention.self.key.weight', 'bert.encoder.layer.6.attention.self.key.bias', 'bert.encoder.layer.6.attention.self.value.weight', 'bert.encoder.layer.6.attention.self.value.bias', 'bert.encoder.layer.6.attention.output.dense.weight', 'bert.encoder.layer.6.attention.output.dense.bias', 'bert.encoder.layer.6.intermediate.dense.weight', 'bert.encoder.layer.6.intermediate.dense.bias', 'bert.encoder.layer.6.output.dense.weight', 'bert.encoder.layer.6.output.dense.bias', 'bert.encoder.layer.7.attention.self.query.weight', 'bert.encoder.layer.7.attention.self.query.bias', 'bert.encoder.layer.7.attention.self.key.weight', 'bert.encoder.layer.7.attention.self.key.bias', 'bert.encoder.layer.7.attention.self.value.weight', 'bert.encoder.layer.7.attention.self.value.bias', 'bert.encoder.layer.7.attention.output.dense.weight', 'bert.encoder.layer.7.attention.output.dense.bias', 'bert.encoder.layer.7.intermediate.dense.weight', 'bert.encoder.layer.7.intermediate.dense.bias', 'bert.encoder.layer.7.output.dense.weight', 'bert.encoder.layer.7.output.dense.bias', 'bert.encoder.layer.8.attention.self.query.weight', 'bert.encoder.layer.8.attention.self.query.bias', 'bert.encoder.layer.8.attention.self.key.weight', 'bert.encoder.layer.8.attention.self.key.bias', 'bert.encoder.layer.8.attention.self.value.weight', 'bert.encoder.layer.8.attention.self.value.bias', 'bert.encoder.layer.8.attention.output.dense.weight', 'bert.encoder.layer.8.attention.output.dense.bias', 'bert.encoder.layer.8.intermediate.dense.weight', 'bert.encoder.layer.8.intermediate.dense.bias', 'bert.encoder.layer.8.output.dense.weight', 'bert.encoder.layer.8.output.dense.bias', 'bert.encoder.layer.9.attention.self.query.weight', 'bert.encoder.layer.9.attention.self.query.bias', 'bert.encoder.layer.9.attention.self.key.weight', 'bert.encoder.layer.9.attention.self.key.bias', 'bert.encoder.layer.9.attention.self.value.weight', 'bert.encoder.layer.9.attention.self.value.bias', 'bert.encoder.layer.9.attention.output.dense.weight', 'bert.encoder.layer.9.attention.output.dense.bias', 'bert.encoder.layer.9.intermediate.dense.weight', 'bert.encoder.layer.9.intermediate.dense.bias', 'bert.encoder.layer.9.output.dense.weight', 'bert.encoder.layer.9.output.dense.bias', 'bert.encoder.layer.10.attention.self.query.weight', 'bert.encoder.layer.10.attention.self.query.bias', 'bert.encoder.layer.10.attention.self.key.weight', 'bert.encoder.layer.10.attention.self.key.bias', 'bert.encoder.layer.10.attention.self.value.weight', 'bert.encoder.layer.10.attention.self.value.bias', 'bert.encoder.layer.10.attention.output.dense.weight', 'bert.encoder.layer.10.attention.output.dense.bias', 'bert.encoder.layer.10.intermediate.dense.weight', 'bert.encoder.layer.10.intermediate.dense.bias', 'bert.encoder.layer.10.output.dense.weight', 'bert.encoder.layer.10.output.dense.bias', 'bert.encoder.layer.11.attention.self.query.weight', 'bert.encoder.layer.11.attention.self.query.bias', 'bert.encoder.layer.11.attention.self.key.weight', 'bert.encoder.layer.11.attention.self.key.bias', 'bert.encoder.layer.11.attention.self.value.weight', 'bert.encoder.layer.11.attention.self.value.bias', 'bert.encoder.layer.11.attention.output.dense.weight', 'bert.encoder.layer.11.attention.output.dense.bias', 'bert.encoder.layer.11.intermediate.dense.weight', 'bert.encoder.layer.11.intermediate.dense.bias', 'bert.encoder.layer.11.output.dense.weight', 'bert.encoder.layer.11.output.dense.bias', 'bert.pooler.dense.weight', 'bert.pooler.dense.bias'], unexpected_keys=[])"
            ]
          },
          "metadata": {
            "tags": []
          },
          "execution_count": 5
        }
      ]
    },
    {
      "cell_type": "code",
      "metadata": {
        "id": "FTS4kvnrKxL_"
      },
      "source": [
        "def evaluate_valid_data(model, valid_data):\n",
        "    model.eval()\n",
        "    with T.no_grad():\n",
        "        acc, count = 0, 0\n",
        "        scores, slots, ids = [], [], []\n",
        "        for i, batch in enumerate(valid_data):\n",
        "            batch = D.SlotDataset.map_to_cuda(batch)\n",
        "            scores_ = model(**batch.x._asdict(), labels=batch.y)[1]\n",
        "            acc_, _, _ = metrics(scores_, batch.y)\n",
        "            acc += (acc_*len(batch.y))\n",
        "            count += len(batch.y)\n",
        "            scores.append(scores_.cpu().numpy())\n",
        "            slots += batch.slot\n",
        "            ids += batch.id\n",
        "            sys.stderr.write(f'\\r{i}/{len(valid_data)} acc: {acc_}{\"\": <30}')\n",
        "        acc = acc/count\n",
        "        scores = np.concatenate(scores)\n",
        "    model.train()\n",
        "    return {'acc': acc, 'scores': scores.tolist(), 'labels': slots, 'ids': ids}"
      ],
      "execution_count": null,
      "outputs": []
    },
    {
      "cell_type": "code",
      "metadata": {
        "id": "OoDAJ6UnK5wZ",
        "colab": {
          "base_uri": "https://localhost:8080/",
          "height": 34
        },
        "outputId": "40a35579-6cf6-418c-b95d-7f153e2f44c7"
      },
      "source": [
        "results = evaluate_valid_data(model.cuda(), batches)"
      ],
      "execution_count": null,
      "outputs": [
        {
          "output_type": "stream",
          "text": [
            "1429/1430 acc: 0.975                              "
          ],
          "name": "stderr"
        }
      ]
    },
    {
      "cell_type": "code",
      "metadata": {
        "id": "GCqp6NhpXICS",
        "colab": {
          "base_uri": "https://localhost:8080/",
          "height": 34
        },
        "outputId": "6585b9ba-a65e-4398-e1de-77e750971f02"
      },
      "source": [
        "print(results['acc']) # test set model-slot-class3"
      ],
      "execution_count": null,
      "outputs": [
        {
          "output_type": "stream",
          "text": [
            "0.9509213517530821\n"
          ],
          "name": "stdout"
        }
      ]
    },
    {
      "cell_type": "code",
      "metadata": {
        "id": "Hhs3NvAeN7ok",
        "colab": {
          "base_uri": "https://localhost:8080/",
          "height": 34
        },
        "outputId": "b60faf9d-2724-4e49-911f-098b07e72e6a"
      },
      "source": [
        "print(results['acc'])# test set model-slot-class2"
      ],
      "execution_count": null,
      "outputs": [
        {
          "output_type": "stream",
          "text": [
            "0.9481780624289586\n"
          ],
          "name": "stdout"
        }
      ]
    },
    {
      "cell_type": "code",
      "metadata": {
        "id": "c3w8sD1xz9U2",
        "colab": {
          "base_uri": "https://localhost:8080/",
          "height": 34
        },
        "outputId": "0984b613-8908-43d0-9351-3bc5ae877c1f"
      },
      "source": [
        "print(results['acc'])# test set model-slot-class"
      ],
      "execution_count": null,
      "outputs": [
        {
          "output_type": "stream",
          "text": [
            "0.9518667482731485\n"
          ],
          "name": "stdout"
        }
      ]
    },
    {
      "cell_type": "code",
      "metadata": {
        "id": "DVtvI6qWdo_S",
        "colab": {
          "base_uri": "https://localhost:8080/",
          "height": 34
        },
        "outputId": "4be0bf69-606d-4a85-9ad9-8a84c288c37c"
      },
      "source": [
        "print(results['acc'])#joint-acc from start 29-05"
      ],
      "execution_count": null,
      "outputs": [
        {
          "output_type": "stream",
          "text": [
            "0.9749626274471189\n"
          ],
          "name": "stdout"
        }
      ]
    },
    {
      "cell_type": "code",
      "metadata": {
        "id": "eaKWSZXD8OJz",
        "colab": {
          "base_uri": "https://localhost:8080/",
          "height": 34
        },
        "outputId": "7871f0d0-1720-4c2f-ac7d-f4e1857c7b4c"
      },
      "source": [
        "print(results['acc'])#joint-acc and better 0.9786596009416988 for 25-05"
      ],
      "execution_count": null,
      "outputs": [
        {
          "output_type": "stream",
          "text": [
            "0.975813020865969\n"
          ],
          "name": "stdout"
        }
      ]
    },
    {
      "cell_type": "code",
      "metadata": {
        "id": "lcBc_sQjyjxL",
        "colab": {
          "base_uri": "https://localhost:8080/",
          "height": 34
        },
        "outputId": "f8fc86e0-31a4-45d8-df79-28ef69f78f40"
      },
      "source": [
        "print(results['acc'])#18-05"
      ],
      "execution_count": null,
      "outputs": [
        {
          "output_type": "stream",
          "text": [
            "0.962323095790105\n"
          ],
          "name": "stdout"
        }
      ]
    },
    {
      "cell_type": "code",
      "metadata": {
        "id": "DwP26cXO371u",
        "colab": {
          "base_uri": "https://localhost:8080/",
          "height": 34
        },
        "outputId": "96d36320-5548-462d-f2fe-3fe679d4f855"
      },
      "source": [
        "print(results['acc'])#best 2"
      ],
      "execution_count": null,
      "outputs": [
        {
          "output_type": "stream",
          "text": [
            "0.9106562888987452\n"
          ],
          "name": "stdout"
        }
      ]
    },
    {
      "cell_type": "code",
      "metadata": {
        "id": "4muHs7N-uwPP",
        "colab": {
          "base_uri": "https://localhost:8080/",
          "height": 34
        },
        "outputId": "21bea1a2-78e2-4ed6-bd8a-07dafdb73c58"
      },
      "source": [
        "print(results['acc'])"
      ],
      "execution_count": null,
      "outputs": [
        {
          "output_type": "stream",
          "text": [
            "0.9557323337100997\n"
          ],
          "name": "stdout"
        }
      ]
    },
    {
      "cell_type": "code",
      "metadata": {
        "id": "m7uBWRSkQhkX",
        "colab": {
          "base_uri": "https://localhost:8080/",
          "height": 34
        },
        "outputId": "50a43991-d983-4380-ea83-7f99c7352324"
      },
      "source": [
        "print(results['acc'])"
      ],
      "execution_count": null,
      "outputs": [
        {
          "output_type": "stream",
          "text": [
            "0.961441059905856\n"
          ],
          "name": "stdout"
        }
      ]
    },
    {
      "cell_type": "code",
      "metadata": {
        "id": "Tdg32gn5hHZX",
        "colab": {
          "base_uri": "https://localhost:8080/",
          "height": 34
        },
        "outputId": "5b12fb00-c056-444a-e281-e6b6dd095584"
      },
      "source": [
        "print(results['acc'])"
      ],
      "execution_count": null,
      "outputs": [
        {
          "output_type": "stream",
          "text": [
            "0.9614339061136309\n"
          ],
          "name": "stdout"
        }
      ]
    },
    {
      "cell_type": "code",
      "metadata": {
        "id": "h3BsR5CXhXNN",
        "colab": {
          "base_uri": "https://localhost:8080/",
          "height": 34
        },
        "outputId": "4776b6c8-c86a-43c4-8141-f10d9aa33978"
      },
      "source": [
        "print(results['acc'])"
      ],
      "execution_count": null,
      "outputs": [
        {
          "output_type": "stream",
          "text": [
            "0.9503240667878042\n"
          ],
          "name": "stdout"
        }
      ]
    },
    {
      "cell_type": "code",
      "metadata": {
        "id": "6cYGQ14rfmGW",
        "colab": {
          "base_uri": "https://localhost:8080/",
          "height": 34
        },
        "outputId": "912759dc-c915-4a52-dfd3-69ff25fed04f"
      },
      "source": [
        "print(results['acc'])"
      ],
      "execution_count": null,
      "outputs": [
        {
          "output_type": "stream",
          "text": [
            "0.9465897872462192\n"
          ],
          "name": "stdout"
        }
      ]
    },
    {
      "cell_type": "code",
      "metadata": {
        "id": "YTi08E7PZKE0",
        "colab": {
          "base_uri": "https://localhost:8080/",
          "height": 34
        },
        "outputId": "3a930ecb-4216-47ab-bece-a5c13d19b0e5"
      },
      "source": [
        "print(results['acc'])"
      ],
      "execution_count": null,
      "outputs": [
        {
          "output_type": "stream",
          "text": [
            "0.9110497474711344\n"
          ],
          "name": "stdout"
        }
      ]
    },
    {
      "cell_type": "code",
      "metadata": {
        "id": "jWHZBxqGWBJC",
        "colab": {
          "base_uri": "https://localhost:8080/",
          "height": 34
        },
        "outputId": "ac261909-e23c-4d44-db1e-e0dd266a9a44"
      },
      "source": [
        "print(results['acc'])"
      ],
      "execution_count": null,
      "outputs": [
        {
          "output_type": "stream",
          "text": [
            "0.9256434836106621\n"
          ],
          "name": "stdout"
        }
      ]
    },
    {
      "cell_type": "code",
      "metadata": {
        "id": "msn5DwpOwp4V",
        "colab": {
          "base_uri": "https://localhost:8080/",
          "height": 34
        },
        "outputId": "cedc42a9-c728-47ca-a35e-aaffdad24a6e"
      },
      "source": [
        "print(results['acc'])"
      ],
      "execution_count": null,
      "outputs": [
        {
          "output_type": "stream",
          "text": [
            "0.9163149385489248\n"
          ],
          "name": "stdout"
        }
      ]
    },
    {
      "cell_type": "code",
      "metadata": {
        "id": "PoI1_dozapqr",
        "colab": {
          "base_uri": "https://localhost:8080/",
          "height": 34
        },
        "outputId": "e5a07305-4d38-41c5-ce8f-4538de6c17b3"
      },
      "source": [
        "print(results['acc'])"
      ],
      "execution_count": null,
      "outputs": [
        {
          "output_type": "stream",
          "text": [
            "0.9445938792153721\n"
          ],
          "name": "stdout"
        }
      ]
    },
    {
      "cell_type": "code",
      "metadata": {
        "id": "KE1-KB9VBz5F",
        "colab": {
          "base_uri": "https://localhost:8080/",
          "height": 34
        },
        "outputId": "be910fe9-2776-4152-f44e-72a8c4459396"
      },
      "source": [
        "print(results['acc'])"
      ],
      "execution_count": null,
      "outputs": [
        {
          "output_type": "stream",
          "text": [
            "0.9462645383125192\n"
          ],
          "name": "stdout"
        }
      ]
    },
    {
      "cell_type": "code",
      "metadata": {
        "id": "8cOjyFD7v9UX",
        "colab": {
          "base_uri": "https://localhost:8080/",
          "height": 34
        },
        "outputId": "ee76fb98-3d30-4749-ad72-e516464bd6c9"
      },
      "source": [
        "print(results['acc'])"
      ],
      "execution_count": null,
      "outputs": [
        {
          "output_type": "stream",
          "text": [
            "0.9107792606995546\n"
          ],
          "name": "stdout"
        }
      ]
    },
    {
      "cell_type": "code",
      "metadata": {
        "id": "vk6Hc2_xMJP0",
        "colab": {
          "base_uri": "https://localhost:8080/",
          "height": 34
        },
        "outputId": "09170bcf-67c5-43c7-ef44-09556d37aeb9"
      },
      "source": [
        "print(results['acc'])"
      ],
      "execution_count": null,
      "outputs": [
        {
          "output_type": "stream",
          "text": [
            "0.925441418257202\n"
          ],
          "name": "stdout"
        }
      ]
    },
    {
      "cell_type": "code",
      "metadata": {
        "id": "P0kSx3ttVKxU"
      },
      "source": [
        "import json\n",
        "with open(root + 'test-slot-scores-02-06.json', 'w') as f:\n",
        "    json.dump(results, f)"
      ],
      "execution_count": null,
      "outputs": []
    },
    {
      "cell_type": "code",
      "metadata": {
        "id": "CnteBN1RsnC2",
        "colab": {
          "base_uri": "https://localhost:8080/",
          "height": 71
        },
        "outputId": "0e97d927-6e39-4d8a-d9b8-af2e3b84424b"
      },
      "source": [
        "trainable_parameters = ['LayerNorm', 'dropout.expand', 'dropout.squeeze', 'classifier']\n",
        "save_model(model, trainable_parameters, root + 'model-slot-class-24-05.pkl')"
      ],
      "execution_count": null,
      "outputs": [
        {
          "output_type": "stream",
          "text": [
            "/usr/local/lib/python3.6/dist-packages/torch/storage.py:34: FutureWarning: pickle support for Storage will be removed in 1.5. Use `torch.save` instead\n",
            "  warnings.warn(\"pickle support for Storage will be removed in 1.5. Use `torch.save` instead\", FutureWarning)\n"
          ],
          "name": "stderr"
        }
      ]
    },
    {
      "cell_type": "code",
      "metadata": {
        "id": "3-DO47MAK64_"
      },
      "source": [
        "CLASSES = ['filled', 'transferred', 'dontcare', 'None']\n",
        "import numpy as np\n",
        "def softmax(x):\n",
        "    return np.exp(x)/sum(np.exp(x))\n",
        "def get_per_class_acc(results):\n",
        "    total = {k: 0 for k in CLASSES}\n",
        "    correct = {k: 0 for k in CLASSES}\n",
        "    for score, label in zip(results['scores'], results['labels']):\n",
        "        correct_idx = int(label.split('--')[-1])\n",
        "        #if correct_idx == 1:\n",
        "        #    correct_idx = 0\n",
        "        total[CLASSES[correct_idx]] += 1\n",
        "        #score = softmax(score).tolist()\n",
        "        #score = [score[0] + score[1]] + score[2:]\n",
        "        pred_idx = int(np.argmax(score))# + 1\n",
        "        #if pred_idx == 1:\n",
        "        #    pred_idx = 0\n",
        "        if pred_idx == correct_idx:\n",
        "            correct[CLASSES[correct_idx]] += 1\n",
        "    return {k: (v/(total[k]+1e-25), total[k]) for k, v in correct.items()}"
      ],
      "execution_count": null,
      "outputs": []
    },
    {
      "cell_type": "code",
      "metadata": {
        "id": "wZfiyaiU4Rch",
        "colab": {
          "base_uri": "https://localhost:8080/",
          "height": 85
        },
        "outputId": "7257f42f-a76d-4914-a012-b7f6c4f3bc8c"
      },
      "source": [
        "get_per_class_acc(results) # joint-acc 29-05"
      ],
      "execution_count": null,
      "outputs": [
        {
          "output_type": "execute_result",
          "data": {
            "text/plain": [
              "{'filled': (0.9579210345841089, 20414),\n",
              " 'transferred': (0.9747545582047685, 3565),\n",
              " 'dontcare': (0.67, 100),\n",
              " 'None': (0.9792888604879385, 87634)}"
            ]
          },
          "metadata": {
            "tags": []
          },
          "execution_count": 18
        }
      ]
    },
    {
      "cell_type": "code",
      "metadata": {
        "id": "rXnJ8ZHf8o9p",
        "colab": {
          "base_uri": "https://localhost:8080/",
          "height": 85
        },
        "outputId": "771ad0cf-522b-40e2-d038-fd005aef7eba"
      },
      "source": [
        "get_per_class_acc(results) # joint-acc 24-05"
      ],
      "execution_count": null,
      "outputs": [
        {
          "output_type": "execute_result",
          "data": {
            "text/plain": [
              "{'None': (0.9809206472373736, 87634),\n",
              " 'dontcare': (0.63, 100),\n",
              " 'filled': (0.964828059175076, 20414),\n",
              " 'transferred': (0.9228611500701263, 3565)}"
            ]
          },
          "metadata": {
            "tags": []
          },
          "execution_count": 13
        }
      ]
    },
    {
      "cell_type": "code",
      "metadata": {
        "id": "rEGnWvIyf4Nq",
        "colab": {
          "base_uri": "https://localhost:8080/",
          "height": 85
        },
        "outputId": "43ba9659-8c45-4eb2-d521-7aa9115dbe6a"
      },
      "source": [
        "get_per_class_acc(results) # 18-05"
      ],
      "execution_count": null,
      "outputs": [
        {
          "output_type": "execute_result",
          "data": {
            "text/plain": [
              "{'filled': (0.9715391398060155, 20414),\n",
              " 'transferred': (0.9506311360448808, 3565),\n",
              " 'dontcare': (0.71, 100),\n",
              " 'None': (0.9609398178789055, 87634)}"
            ]
          },
          "metadata": {
            "tags": []
          },
          "execution_count": 17
        }
      ]
    },
    {
      "cell_type": "code",
      "metadata": {
        "id": "BmWDJIfDypyR",
        "colab": {
          "base_uri": "https://localhost:8080/",
          "height": 85
        },
        "outputId": "12ea1fdf-169b-4eeb-be0b-3eb9a2a5c98d"
      },
      "source": [
        "get_per_class_acc(results) # 18-05"
      ],
      "execution_count": null,
      "outputs": [
        {
          "output_type": "execute_result",
          "data": {
            "text/plain": [
              "{'filled': (0.9704741648942825, 23979),\n",
              " 'transferred': (0.0, 0),\n",
              " 'dontcare': (0.71, 100),\n",
              " 'None': (0.9609398178789055, 87634)}"
            ]
          },
          "metadata": {
            "tags": []
          },
          "execution_count": 12
        }
      ]
    },
    {
      "cell_type": "code",
      "metadata": {
        "id": "cpdI8BvDkroB",
        "colab": {
          "base_uri": "https://localhost:8080/",
          "height": 85
        },
        "outputId": "fbc91971-e0b7-45b0-f6da-5c54b1311bfe"
      },
      "source": [
        "get_per_class_acc(results) # 'model-slot-class-512-11-05-prev-states.pkl'"
      ],
      "execution_count": null,
      "outputs": [
        {
          "output_type": "execute_result",
          "data": {
            "text/plain": [
              "{'filled': (0.9044067466120698, 20514),\n",
              " 'transferred': (0.862914862914863, 3465),\n",
              " 'dontcare': (0.52, 100),\n",
              " 'None': (0.9748848384280986, 115707)}"
            ]
          },
          "metadata": {
            "tags": []
          },
          "execution_count": 14
        }
      ]
    },
    {
      "cell_type": "code",
      "metadata": {
        "id": "u_Pw1WQ-kr5o",
        "colab": {
          "base_uri": "https://localhost:8080/",
          "height": 85
        },
        "outputId": "ab81cb2d-d268-4baa-c2d9-a9cc33f72634"
      },
      "source": [
        "get_per_class_acc(results)"
      ],
      "execution_count": null,
      "outputs": [
        {
          "output_type": "execute_result",
          "data": {
            "text/plain": [
              "{'filled': (0.910254806288836, 23979),\n",
              " 'transferred': (0.0, 0),\n",
              " 'dontcare': (0.52, 100),\n",
              " 'None': (0.9748848384280986, 115707)}"
            ]
          },
          "metadata": {
            "tags": []
          },
          "execution_count": 16
        }
      ]
    },
    {
      "cell_type": "code",
      "metadata": {
        "id": "IQq3VbF2xQ17",
        "colab": {
          "base_uri": "https://localhost:8080/",
          "height": 85
        },
        "outputId": "4751a9ad-7245-4c1c-f90e-4261ddc145f3"
      },
      "source": [
        "get_per_class_acc(results) # best4"
      ],
      "execution_count": null,
      "outputs": [
        {
          "output_type": "execute_result",
          "data": {
            "text/plain": [
              "{'None': (0.9644360323921629, 115707),\n",
              " 'dontcare': (0.45, 100),\n",
              " 'filled': (0.8900755913191905, 20505),\n",
              " 'transferred': (0.8503166378814048, 3474)}"
            ]
          },
          "metadata": {
            "tags": []
          },
          "execution_count": 39
        }
      ]
    },
    {
      "cell_type": "code",
      "metadata": {
        "id": "EJcyDhAQZBaV",
        "colab": {
          "base_uri": "https://localhost:8080/",
          "height": 85
        },
        "outputId": "ed9771b4-f46a-4665-9d2a-54e162af581a"
      },
      "source": [
        "get_per_class_acc(results) # best1"
      ],
      "execution_count": null,
      "outputs": [
        {
          "output_type": "execute_result",
          "data": {
            "text/plain": [
              "{'None': (0.9306869938724537, 115707),\n",
              " 'dontcare': (0.76, 100),\n",
              " 'filled': (0.9569206388923641, 23979),\n",
              " 'transferred': (0.0, 0)}"
            ]
          },
          "metadata": {
            "tags": []
          },
          "execution_count": 10
        }
      ]
    },
    {
      "cell_type": "code",
      "metadata": {
        "id": "EMxUf0WPfdDD",
        "colab": {
          "base_uri": "https://localhost:8080/",
          "height": 85
        },
        "outputId": "141c7313-e256-4fd8-e493-0b10af9d993b"
      },
      "source": [
        "get_per_class_acc(results) # best2"
      ],
      "execution_count": null,
      "outputs": [
        {
          "output_type": "execute_result",
          "data": {
            "text/plain": [
              "{'None': (0.901198717450111, 115707),\n",
              " 'dontcare': (0.79, 100),\n",
              " 'filled': (0.9739772300763168, 23979),\n",
              " 'transferred': (0.0, 0)}"
            ]
          },
          "metadata": {
            "tags": []
          },
          "execution_count": 15
        }
      ]
    },
    {
      "cell_type": "code",
      "metadata": {
        "id": "MJYYldrQqBdT",
        "colab": {
          "base_uri": "https://localhost:8080/",
          "height": 85
        },
        "outputId": "5f51b245-8701-4644-aa1f-c748c30f5f91"
      },
      "source": [
        "get_per_class_acc(results) # best2"
      ],
      "execution_count": null,
      "outputs": [
        {
          "output_type": "execute_result",
          "data": {
            "text/plain": [
              "{'None': (0.901198717450111, 115707),\n",
              " 'dontcare': (0.79, 100),\n",
              " 'filled': (0.9628940669669082, 20428),\n",
              " 'transferred': (0.9372007885102788, 3551)}"
            ]
          },
          "metadata": {
            "tags": []
          },
          "execution_count": 27
        }
      ]
    },
    {
      "cell_type": "code",
      "metadata": {
        "id": "0iytIY0elMco",
        "colab": {
          "base_uri": "https://localhost:8080/",
          "height": 85
        },
        "outputId": "e603d181-091c-4009-84b0-4b19a51751f7"
      },
      "source": [
        "get_per_class_acc(results) # best3"
      ],
      "execution_count": null,
      "outputs": [
        {
          "output_type": "execute_result",
          "data": {
            "text/plain": [
              "{'None': (0.9529241964617525, 115707),\n",
              " 'dontcare': (0.71, 100),\n",
              " 'filled': (0.9306059468701781, 23979),\n",
              " 'transferred': (0.0, 0)}"
            ]
          },
          "metadata": {
            "tags": []
          },
          "execution_count": 20
        }
      ]
    },
    {
      "cell_type": "code",
      "metadata": {
        "id": "9QKN-xEJlXZN",
        "colab": {
          "base_uri": "https://localhost:8080/",
          "height": 85
        },
        "outputId": "fc77a0fc-579d-4de1-d8e2-d77e3caac6e8"
      },
      "source": [
        "get_per_class_acc(results)"
      ],
      "execution_count": null,
      "outputs": [
        {
          "output_type": "execute_result",
          "data": {
            "text/plain": [
              "{'None': (0.9529241964617525, 115707),\n",
              " 'dontcare': (0.71, 100),\n",
              " 'filled': (0.9205012727628745, 20428),\n",
              " 'transferred': (0.8969304421289778, 3551)}"
            ]
          },
          "metadata": {
            "tags": []
          },
          "execution_count": 22
        }
      ]
    },
    {
      "cell_type": "code",
      "metadata": {
        "id": "y9upYx67LRjT"
      },
      "source": [
        "%matplotlib inline\n",
        "%load_ext autoreload\n",
        "%autoreload 2\n",
        "import matplotlib.pyplot as plt"
      ],
      "execution_count": null,
      "outputs": []
    },
    {
      "cell_type": "code",
      "metadata": {
        "id": "XXvqYUaM8f6E",
        "colab": {
          "base_uri": "https://localhost:8080/",
          "height": 282
        },
        "outputId": "c05150f7-2ebd-4d19-c04e-3e7799349e26"
      },
      "source": [
        "plt.plot(run.records['train_acc'])"
      ],
      "execution_count": null,
      "outputs": [
        {
          "output_type": "execute_result",
          "data": {
            "text/plain": [
              "[<matplotlib.lines.Line2D at 0x7fa847fe2450>]"
            ]
          },
          "metadata": {
            "tags": []
          },
          "execution_count": 7
        },
        {
          "output_type": "display_data",
          "data": {
            "text/plain": [
              "<Figure size 432x288 with 1 Axes>"
            ],
            "image/png": "[encoded data removed]"
          },
          "metadata": {
            "tags": [],
            "needs_background": "light"
          }
        }
      ]
    },
    {
      "cell_type": "code",
      "metadata": {
        "id": "3-Tit098NalN",
        "colab": {
          "base_uri": "https://localhost:8080/",
          "height": 282
        },
        "outputId": "88d90892-c89b-48ad-8b90-bbd508e1c9a1"
      },
      "source": [
        "plt.plot(run.records['valid_acc'])"
      ],
      "execution_count": null,
      "outputs": [
        {
          "output_type": "execute_result",
          "data": {
            "text/plain": [
              "[<matplotlib.lines.Line2D at 0x7fa82f6e8450>]"
            ]
          },
          "metadata": {
            "tags": []
          },
          "execution_count": 8
        },
        {
          "output_type": "display_data",
          "data": {
            "text/plain": [
              "<Figure size 432x288 with 1 Axes>"
            ],
            "image/png": "[encoded data removed]"
          },
          "metadata": {
            "tags": [],
            "needs_background": "light"
          }
        }
      ]
    },
    {
      "cell_type": "code",
      "metadata": {
        "id": "NY6uwlUuNd8V"
      },
      "source": [
        "DataLoader()"
      ],
      "execution_count": null,
      "outputs": []
    },
    {
      "cell_type": "code",
      "metadata": {
        "id": "AIilyEaDNnFu",
        "colab": {
          "base_uri": "https://localhost:8080/",
          "height": 71
        },
        "outputId": "48c2545d-ef95-45c4-a470-13c6c3eb3fce"
      },
      "source": [
        "print_example(tokenizer, b, 0, output[1], False)"
      ],
      "execution_count": null,
      "outputs": [
        {
          "output_type": "stream",
          "text": [
            "system : hello , how can i help ? user : i wish to search a movie to watch online . drama movie service description : the wide ##st selection and lowest prices for movie rental ##s slot description : name of an actor starring\n",
            "filled: 0.22\ttransferred: 0.21\tdontcare: 0.16\tNone: 0.40\tWrong\n"
          ],
          "name": "stdout"
        }
      ]
    },
    {
      "cell_type": "code",
      "metadata": {
        "id": "utTKJmyyODfk",
        "colab": {
          "base_uri": "https://localhost:8080/",
          "height": 34
        },
        "outputId": "5d7dde50-5115-4247-9fc0-fa576365b508"
      },
      "source": [
        "b.y"
      ],
      "execution_count": null,
      "outputs": [
        {
          "output_type": "execute_result",
          "data": {
            "text/plain": [
              "tensor([0, 3, 0, 3, 0, 0, 3, 0, 3, 3])"
            ]
          },
          "metadata": {
            "tags": []
          },
          "execution_count": 104
        }
      ]
    },
    {
      "cell_type": "code",
      "metadata": {
        "id": "a-2_58q4OONP"
      },
      "source": [
        "import slot_class_data as D"
      ],
      "execution_count": null,
      "outputs": []
    },
    {
      "cell_type": "code",
      "metadata": {
        "id": "cMOiJxgAHLr7",
        "colab": {
          "base_uri": "https://localhost:8080/",
          "height": 1000
        },
        "outputId": "7cb4bc03-83ab-48a9-a573-5ca38e457226"
      },
      "source": [
        "model"
      ],
      "execution_count": null,
      "outputs": [
        {
          "output_type": "execute_result",
          "data": {
            "text/plain": [
              "BertForSequenceClassification(\n",
              "  (bert): BertModel(\n",
              "    (embeddings): BertEmbeddings(\n",
              "      (word_embeddings): Embedding(30522, 768, padding_idx=0)\n",
              "      (position_embeddings): Embedding(512, 768)\n",
              "      (token_type_embeddings): Embedding(2, 768)\n",
              "      (LayerNorm): LayerNorm((768,), eps=1e-12, elementwise_affine=True)\n",
              "      (dropout): Dropout(p=0.1, inplace=False)\n",
              "    )\n",
              "    (encoder): BertEncoder(\n",
              "      (layer): ModuleList(\n",
              "        (0): BertLayer(\n",
              "          (attention): BertAttention(\n",
              "            (self): BertSelfAttention(\n",
              "              (query): Linear(in_features=768, out_features=768, bias=True)\n",
              "              (key): Linear(in_features=768, out_features=768, bias=True)\n",
              "              (value): Linear(in_features=768, out_features=768, bias=True)\n",
              "              (dropout): Dropout(p=0.1, inplace=False)\n",
              "            )\n",
              "            (output): BertSelfOutput(\n",
              "              (dense): Linear(in_features=768, out_features=768, bias=True)\n",
              "              (LayerNorm): LayerNorm((768,), eps=1e-12, elementwise_affine=True)\n",
              "              (dropout): Dropout(p=0.1, inplace=False)\n",
              "            )\n",
              "          )\n",
              "          (intermediate): BertIntermediate(\n",
              "            (dense): Linear(in_features=768, out_features=3072, bias=True)\n",
              "          )\n",
              "          (output): BertOutput(\n",
              "            (dense): Linear(in_features=3072, out_features=768, bias=True)\n",
              "            (LayerNorm): LayerNorm((768,), eps=1e-12, elementwise_affine=True)\n",
              "            (dropout): Dropout(p=0.1, inplace=False)\n",
              "          )\n",
              "        )\n",
              "        (1): BertLayer(\n",
              "          (attention): BertAttention(\n",
              "            (self): BertSelfAttention(\n",
              "              (query): Linear(in_features=768, out_features=768, bias=True)\n",
              "              (key): Linear(in_features=768, out_features=768, bias=True)\n",
              "              (value): Linear(in_features=768, out_features=768, bias=True)\n",
              "              (dropout): Dropout(p=0.1, inplace=False)\n",
              "            )\n",
              "            (output): BertSelfOutput(\n",
              "              (dense): Linear(in_features=768, out_features=768, bias=True)\n",
              "              (LayerNorm): LayerNorm((768,), eps=1e-12, elementwise_affine=True)\n",
              "              (dropout): Dropout(p=0.1, inplace=False)\n",
              "            )\n",
              "          )\n",
              "          (intermediate): BertIntermediate(\n",
              "            (dense): Linear(in_features=768, out_features=3072, bias=True)\n",
              "          )\n",
              "          (output): BertOutput(\n",
              "            (dense): Linear(in_features=3072, out_features=768, bias=True)\n",
              "            (LayerNorm): LayerNorm((768,), eps=1e-12, elementwise_affine=True)\n",
              "            (dropout): Dropout(p=0.1, inplace=False)\n",
              "          )\n",
              "        )\n",
              "        (2): BertLayer(\n",
              "          (attention): BertAttention(\n",
              "            (self): BertSelfAttention(\n",
              "              (query): Linear(in_features=768, out_features=768, bias=True)\n",
              "              (key): Linear(in_features=768, out_features=768, bias=True)\n",
              "              (value): Linear(in_features=768, out_features=768, bias=True)\n",
              "              (dropout): Dropout(p=0.1, inplace=False)\n",
              "            )\n",
              "            (output): BertSelfOutput(\n",
              "              (dense): Linear(in_features=768, out_features=768, bias=True)\n",
              "              (LayerNorm): LayerNorm((768,), eps=1e-12, elementwise_affine=True)\n",
              "              (dropout): Dropout(p=0.1, inplace=False)\n",
              "            )\n",
              "          )\n",
              "          (intermediate): BertIntermediate(\n",
              "            (dense): Linear(in_features=768, out_features=3072, bias=True)\n",
              "          )\n",
              "          (output): BertOutput(\n",
              "            (dense): Linear(in_features=3072, out_features=768, bias=True)\n",
              "            (LayerNorm): LayerNorm((768,), eps=1e-12, elementwise_affine=True)\n",
              "            (dropout): Dropout(p=0.1, inplace=False)\n",
              "          )\n",
              "        )\n",
              "        (3): BertLayer(\n",
              "          (attention): BertAttention(\n",
              "            (self): BertSelfAttention(\n",
              "              (query): Linear(in_features=768, out_features=768, bias=True)\n",
              "              (key): Linear(in_features=768, out_features=768, bias=True)\n",
              "              (value): Linear(in_features=768, out_features=768, bias=True)\n",
              "              (dropout): Dropout(p=0.1, inplace=False)\n",
              "            )\n",
              "            (output): BertSelfOutput(\n",
              "              (dense): Linear(in_features=768, out_features=768, bias=True)\n",
              "              (LayerNorm): LayerNorm((768,), eps=1e-12, elementwise_affine=True)\n",
              "              (dropout): Dropout(p=0.1, inplace=False)\n",
              "            )\n",
              "          )\n",
              "          (intermediate): BertIntermediate(\n",
              "            (dense): Linear(in_features=768, out_features=3072, bias=True)\n",
              "          )\n",
              "          (output): BertOutput(\n",
              "            (dense): Linear(in_features=3072, out_features=768, bias=True)\n",
              "            (LayerNorm): LayerNorm((768,), eps=1e-12, elementwise_affine=True)\n",
              "            (dropout): Dropout(p=0.1, inplace=False)\n",
              "          )\n",
              "        )\n",
              "        (4): BertLayer(\n",
              "          (attention): BertAttention(\n",
              "            (self): BertSelfAttention(\n",
              "              (query): Linear(in_features=768, out_features=768, bias=True)\n",
              "              (key): Linear(in_features=768, out_features=768, bias=True)\n",
              "              (value): Linear(in_features=768, out_features=768, bias=True)\n",
              "              (dropout): Dropout(p=0.1, inplace=False)\n",
              "            )\n",
              "            (output): BertSelfOutput(\n",
              "              (dense): Linear(in_features=768, out_features=768, bias=True)\n",
              "              (LayerNorm): LayerNorm((768,), eps=1e-12, elementwise_affine=True)\n",
              "              (dropout): Dropout(p=0.1, inplace=False)\n",
              "            )\n",
              "          )\n",
              "          (intermediate): BertIntermediate(\n",
              "            (dense): Linear(in_features=768, out_features=3072, bias=True)\n",
              "          )\n",
              "          (output): BertOutput(\n",
              "            (dense): Linear(in_features=3072, out_features=768, bias=True)\n",
              "            (LayerNorm): LayerNorm((768,), eps=1e-12, elementwise_affine=True)\n",
              "            (dropout): Dropout(p=0.1, inplace=False)\n",
              "          )\n",
              "        )\n",
              "        (5): BertLayer(\n",
              "          (attention): BertAttention(\n",
              "            (self): BertSelfAttention(\n",
              "              (query): Linear(in_features=768, out_features=768, bias=True)\n",
              "              (key): Linear(in_features=768, out_features=768, bias=True)\n",
              "              (value): Linear(in_features=768, out_features=768, bias=True)\n",
              "              (dropout): Dropout(p=0.1, inplace=False)\n",
              "            )\n",
              "            (output): BertSelfOutput(\n",
              "              (dense): Linear(in_features=768, out_features=768, bias=True)\n",
              "              (LayerNorm): LayerNorm((768,), eps=1e-12, elementwise_affine=True)\n",
              "              (dropout): Dropout(p=0.1, inplace=False)\n",
              "            )\n",
              "          )\n",
              "          (intermediate): BertIntermediate(\n",
              "            (dense): Linear(in_features=768, out_features=3072, bias=True)\n",
              "          )\n",
              "          (output): BertOutput(\n",
              "            (dense): Linear(in_features=3072, out_features=768, bias=True)\n",
              "            (LayerNorm): LayerNorm((768,), eps=1e-12, elementwise_affine=True)\n",
              "            (dropout): Dropout(p=0.1, inplace=False)\n",
              "          )\n",
              "        )\n",
              "        (6): BertLayer(\n",
              "          (attention): BertAttention(\n",
              "            (self): BertSelfAttention(\n",
              "              (query): Linear(in_features=768, out_features=768, bias=True)\n",
              "              (key): Linear(in_features=768, out_features=768, bias=True)\n",
              "              (value): Linear(in_features=768, out_features=768, bias=True)\n",
              "              (dropout): Dropout(p=0.1, inplace=False)\n",
              "            )\n",
              "            (output): BertSelfOutput(\n",
              "              (dense): Linear(in_features=768, out_features=768, bias=True)\n",
              "              (LayerNorm): LayerNorm((768,), eps=1e-12, elementwise_affine=True)\n",
              "              (dropout): Dropout(p=0.1, inplace=False)\n",
              "            )\n",
              "          )\n",
              "          (intermediate): BertIntermediate(\n",
              "            (dense): Linear(in_features=768, out_features=3072, bias=True)\n",
              "          )\n",
              "          (output): BertOutput(\n",
              "            (dense): Linear(in_features=3072, out_features=768, bias=True)\n",
              "            (LayerNorm): LayerNorm((768,), eps=1e-12, elementwise_affine=True)\n",
              "            (dropout): Dropout(p=0.1, inplace=False)\n",
              "          )\n",
              "        )\n",
              "        (7): BertLayer(\n",
              "          (attention): BertAttention(\n",
              "            (self): BertSelfAttention(\n",
              "              (query): Linear(in_features=768, out_features=768, bias=True)\n",
              "              (key): Linear(in_features=768, out_features=768, bias=True)\n",
              "              (value): Linear(in_features=768, out_features=768, bias=True)\n",
              "              (dropout): Dropout(p=0.1, inplace=False)\n",
              "            )\n",
              "            (output): BertSelfOutput(\n",
              "              (dense): Linear(in_features=768, out_features=768, bias=True)\n",
              "              (LayerNorm): LayerNorm((768,), eps=1e-12, elementwise_affine=True)\n",
              "              (dropout): Dropout(p=0.1, inplace=False)\n",
              "            )\n",
              "          )\n",
              "          (intermediate): BertIntermediate(\n",
              "            (dense): Linear(in_features=768, out_features=3072, bias=True)\n",
              "          )\n",
              "          (output): BertOutput(\n",
              "            (dense): Linear(in_features=3072, out_features=768, bias=True)\n",
              "            (LayerNorm): LayerNorm((768,), eps=1e-12, elementwise_affine=True)\n",
              "            (dropout): Dropout(p=0.1, inplace=False)\n",
              "          )\n",
              "        )\n",
              "        (8): BertLayer(\n",
              "          (attention): BertAttention(\n",
              "            (self): BertSelfAttention(\n",
              "              (query): Linear(in_features=768, out_features=768, bias=True)\n",
              "              (key): Linear(in_features=768, out_features=768, bias=True)\n",
              "              (value): Linear(in_features=768, out_features=768, bias=True)\n",
              "              (dropout): Dropout(p=0.1, inplace=False)\n",
              "            )\n",
              "            (output): BertSelfOutput(\n",
              "              (dense): Linear(in_features=768, out_features=768, bias=True)\n",
              "              (LayerNorm): LayerNorm((768,), eps=1e-12, elementwise_affine=True)\n",
              "              (dropout): Dropout(p=0.1, inplace=False)\n",
              "            )\n",
              "          )\n",
              "          (intermediate): BertIntermediate(\n",
              "            (dense): Linear(in_features=768, out_features=3072, bias=True)\n",
              "          )\n",
              "          (output): BertOutput(\n",
              "            (dense): Linear(in_features=3072, out_features=768, bias=True)\n",
              "            (LayerNorm): LayerNorm((768,), eps=1e-12, elementwise_affine=True)\n",
              "            (dropout): Dropout(p=0.1, inplace=False)\n",
              "          )\n",
              "        )\n",
              "        (9): BertLayer(\n",
              "          (attention): BertAttention(\n",
              "            (self): BertSelfAttention(\n",
              "              (query): Linear(in_features=768, out_features=768, bias=True)\n",
              "              (key): Linear(in_features=768, out_features=768, bias=True)\n",
              "              (value): Linear(in_features=768, out_features=768, bias=True)\n",
              "              (dropout): Dropout(p=0.1, inplace=False)\n",
              "            )\n",
              "            (output): BertSelfOutput(\n",
              "              (dense): Linear(in_features=768, out_features=768, bias=True)\n",
              "              (LayerNorm): LayerNorm((768,), eps=1e-12, elementwise_affine=True)\n",
              "              (dropout): Dropout(p=0.1, inplace=False)\n",
              "            )\n",
              "          )\n",
              "          (intermediate): BertIntermediate(\n",
              "            (dense): Linear(in_features=768, out_features=3072, bias=True)\n",
              "          )\n",
              "          (output): BertOutput(\n",
              "            (dense): Linear(in_features=3072, out_features=768, bias=True)\n",
              "            (LayerNorm): LayerNorm((768,), eps=1e-12, elementwise_affine=True)\n",
              "            (dropout): Dropout(p=0.1, inplace=False)\n",
              "          )\n",
              "        )\n",
              "        (10): BertLayer(\n",
              "          (attention): BertAttention(\n",
              "            (self): BertSelfAttention(\n",
              "              (query): Linear(in_features=768, out_features=768, bias=True)\n",
              "              (key): Linear(in_features=768, out_features=768, bias=True)\n",
              "              (value): Linear(in_features=768, out_features=768, bias=True)\n",
              "              (dropout): Dropout(p=0.1, inplace=False)\n",
              "            )\n",
              "            (output): BertSelfOutput(\n",
              "              (dense): Linear(in_features=768, out_features=768, bias=True)\n",
              "              (LayerNorm): LayerNorm((768,), eps=1e-12, elementwise_affine=True)\n",
              "              (dropout): Dropout(p=0.1, inplace=False)\n",
              "            )\n",
              "          )\n",
              "          (intermediate): BertIntermediate(\n",
              "            (dense): Linear(in_features=768, out_features=3072, bias=True)\n",
              "          )\n",
              "          (output): BertOutput(\n",
              "            (dense): Linear(in_features=3072, out_features=768, bias=True)\n",
              "            (LayerNorm): LayerNorm((768,), eps=1e-12, elementwise_affine=True)\n",
              "            (dropout): Dropout(p=0.1, inplace=False)\n",
              "          )\n",
              "        )\n",
              "        (11): BertLayer(\n",
              "          (attention): BertAttention(\n",
              "            (self): BertSelfAttention(\n",
              "              (query): Linear(in_features=768, out_features=768, bias=True)\n",
              "              (key): Linear(in_features=768, out_features=768, bias=True)\n",
              "              (value): Linear(in_features=768, out_features=768, bias=True)\n",
              "              (dropout): Dropout(p=0.1, inplace=False)\n",
              "            )\n",
              "            (output): BertSelfOutput(\n",
              "              (dense): Linear(in_features=768, out_features=768, bias=True)\n",
              "              (LayerNorm): LayerNorm((768,), eps=1e-12, elementwise_affine=True)\n",
              "              (dropout): Dropout(p=0.1, inplace=False)\n",
              "            )\n",
              "          )\n",
              "          (intermediate): BertIntermediate(\n",
              "            (dense): Linear(in_features=768, out_features=3072, bias=True)\n",
              "          )\n",
              "          (output): BertOutput(\n",
              "            (dense): Linear(in_features=3072, out_features=768, bias=True)\n",
              "            (LayerNorm): LayerNorm((768,), eps=1e-12, elementwise_affine=True)\n",
              "            (dropout): Dropout(p=0.1, inplace=False)\n",
              "          )\n",
              "        )\n",
              "      )\n",
              "    )\n",
              "    (pooler): BertPooler(\n",
              "      (dense): Linear(in_features=768, out_features=768, bias=True)\n",
              "      (activation): Tanh()\n",
              "    )\n",
              "  )\n",
              "  (dropout): Dropout(p=0.1, inplace=False)\n",
              "  (classifier): Linear(in_features=768, out_features=4, bias=True)\n",
              ")"
            ]
          },
          "metadata": {
            "tags": []
          },
          "execution_count": 111
        }
      ]
    },
    {
      "cell_type": "code",
      "metadata": {
        "id": "rpx5-xaLLkzH"
      },
      "source": [
        ""
      ],
      "execution_count": null,
      "outputs": []
    }
  ]
}