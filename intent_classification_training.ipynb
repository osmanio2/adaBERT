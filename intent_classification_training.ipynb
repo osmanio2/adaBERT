{
  "nbformat": 4,
  "nbformat_minor": 0,
  "metadata": {
    "colab": {
      "name": "intent-classification-training-27-05-20.ipynb",
      "provenance": [],
      "collapsed_sections": []
    },
    "kernelspec": {
      "name": "python3",
      "display_name": "Python 3"
    },
    "accelerator": "GPU",
    "widgets": {
      "application/vnd.jupyter.widget-state+json": {
        "669e0c29299441809cc980752165cda8": {
          "model_module": "@jupyter-widgets/controls",
          "model_name": "HBoxModel",
          "state": {
            "_view_name": "HBoxView",
            "_dom_classes": [],
            "_model_name": "HBoxModel",
            "_view_module": "@jupyter-widgets/controls",
            "_model_module_version": "1.5.0",
            "_view_count": null,
            "_view_module_version": "1.5.0",
            "box_style": "",
            "layout": "IPY_MODEL_b46fdeb01b3c440c8946ef26640c7ae5",
            "_model_module": "@jupyter-widgets/controls",
            "children": [
              "IPY_MODEL_5a4aa1253ca44839b7ccad5dfd265bb3",
              "IPY_MODEL_e1507d4a2b9c43b88be854f1f698e13a"
            ]
          }
        },
        "b46fdeb01b3c440c8946ef26640c7ae5": {
          "model_module": "@jupyter-widgets/base",
          "model_name": "LayoutModel",
          "state": {
            "_view_name": "LayoutView",
            "grid_template_rows": null,
            "right": null,
            "justify_content": null,
            "_view_module": "@jupyter-widgets/base",
            "overflow": null,
            "_model_module_version": "1.2.0",
            "_view_count": null,
            "flex_flow": null,
            "width": null,
            "min_width": null,
            "border": null,
            "align_items": null,
            "bottom": null,
            "_model_module": "@jupyter-widgets/base",
            "top": null,
            "grid_column": null,
            "overflow_y": null,
            "overflow_x": null,
            "grid_auto_flow": null,
            "grid_area": null,
            "grid_template_columns": null,
            "flex": null,
            "_model_name": "LayoutModel",
            "justify_items": null,
            "grid_row": null,
            "max_height": null,
            "align_content": null,
            "visibility": null,
            "align_self": null,
            "height": null,
            "min_height": null,
            "padding": null,
            "grid_auto_rows": null,
            "grid_gap": null,
            "max_width": null,
            "order": null,
            "_view_module_version": "1.2.0",
            "grid_template_areas": null,
            "object_position": null,
            "object_fit": null,
            "grid_auto_columns": null,
            "margin": null,
            "display": null,
            "left": null
          }
        },
        "5a4aa1253ca44839b7ccad5dfd265bb3": {
          "model_module": "@jupyter-widgets/controls",
          "model_name": "FloatProgressModel",
          "state": {
            "_view_name": "ProgressView",
            "style": "IPY_MODEL_e84c4887a2244583871b965aef899930",
            "_dom_classes": [],
            "description": "Downloading: 100%",
            "_model_name": "FloatProgressModel",
            "bar_style": "success",
            "max": 231508,
            "_view_module": "@jupyter-widgets/controls",
            "_model_module_version": "1.5.0",
            "value": 231508,
            "_view_count": null,
            "_view_module_version": "1.5.0",
            "orientation": "horizontal",
            "min": 0,
            "description_tooltip": null,
            "_model_module": "@jupyter-widgets/controls",
            "layout": "IPY_MODEL_013ca51307cf4e4baad7244231100406"
          }
        },
        "e1507d4a2b9c43b88be854f1f698e13a": {
          "model_module": "@jupyter-widgets/controls",
          "model_name": "HTMLModel",
          "state": {
            "_view_name": "HTMLView",
            "style": "IPY_MODEL_37f0e146892f42c3a7bb638d902671af",
            "_dom_classes": [],
            "description": "",
            "_model_name": "HTMLModel",
            "placeholder": "​",
            "_view_module": "@jupyter-widgets/controls",
            "_model_module_version": "1.5.0",
            "value": " 232k/232k [00:00&lt;00:00, 909kB/s]",
            "_view_count": null,
            "_view_module_version": "1.5.0",
            "description_tooltip": null,
            "_model_module": "@jupyter-widgets/controls",
            "layout": "IPY_MODEL_599460648fbb41fab96ebf51fe5ebb05"
          }
        },
        "e84c4887a2244583871b965aef899930": {
          "model_module": "@jupyter-widgets/controls",
          "model_name": "ProgressStyleModel",
          "state": {
            "_view_name": "StyleView",
            "_model_name": "ProgressStyleModel",
            "description_width": "initial",
            "_view_module": "@jupyter-widgets/base",
            "_model_module_version": "1.5.0",
            "_view_count": null,
            "_view_module_version": "1.2.0",
            "bar_color": null,
            "_model_module": "@jupyter-widgets/controls"
          }
        },
        "013ca51307cf4e4baad7244231100406": {
          "model_module": "@jupyter-widgets/base",
          "model_name": "LayoutModel",
          "state": {
            "_view_name": "LayoutView",
            "grid_template_rows": null,
            "right": null,
            "justify_content": null,
            "_view_module": "@jupyter-widgets/base",
            "overflow": null,
            "_model_module_version": "1.2.0",
            "_view_count": null,
            "flex_flow": null,
            "width": null,
            "min_width": null,
            "border": null,
            "align_items": null,
            "bottom": null,
            "_model_module": "@jupyter-widgets/base",
            "top": null,
            "grid_column": null,
            "overflow_y": null,
            "overflow_x": null,
            "grid_auto_flow": null,
            "grid_area": null,
            "grid_template_columns": null,
            "flex": null,
            "_model_name": "LayoutModel",
            "justify_items": null,
            "grid_row": null,
            "max_height": null,
            "align_content": null,
            "visibility": null,
            "align_self": null,
            "height": null,
            "min_height": null,
            "padding": null,
            "grid_auto_rows": null,
            "grid_gap": null,
            "max_width": null,
            "order": null,
            "_view_module_version": "1.2.0",
            "grid_template_areas": null,
            "object_position": null,
            "object_fit": null,
            "grid_auto_columns": null,
            "margin": null,
            "display": null,
            "left": null
          }
        },
        "37f0e146892f42c3a7bb638d902671af": {
          "model_module": "@jupyter-widgets/controls",
          "model_name": "DescriptionStyleModel",
          "state": {
            "_view_name": "StyleView",
            "_model_name": "DescriptionStyleModel",
            "description_width": "",
            "_view_module": "@jupyter-widgets/base",
            "_model_module_version": "1.5.0",
            "_view_count": null,
            "_view_module_version": "1.2.0",
            "_model_module": "@jupyter-widgets/controls"
          }
        },
        "599460648fbb41fab96ebf51fe5ebb05": {
          "model_module": "@jupyter-widgets/base",
          "model_name": "LayoutModel",
          "state": {
            "_view_name": "LayoutView",
            "grid_template_rows": null,
            "right": null,
            "justify_content": null,
            "_view_module": "@jupyter-widgets/base",
            "overflow": null,
            "_model_module_version": "1.2.0",
            "_view_count": null,
            "flex_flow": null,
            "width": null,
            "min_width": null,
            "border": null,
            "align_items": null,
            "bottom": null,
            "_model_module": "@jupyter-widgets/base",
            "top": null,
            "grid_column": null,
            "overflow_y": null,
            "overflow_x": null,
            "grid_auto_flow": null,
            "grid_area": null,
            "grid_template_columns": null,
            "flex": null,
            "_model_name": "LayoutModel",
            "justify_items": null,
            "grid_row": null,
            "max_height": null,
            "align_content": null,
            "visibility": null,
            "align_self": null,
            "height": null,
            "min_height": null,
            "padding": null,
            "grid_auto_rows": null,
            "grid_gap": null,
            "max_width": null,
            "order": null,
            "_view_module_version": "1.2.0",
            "grid_template_areas": null,
            "object_position": null,
            "object_fit": null,
            "grid_auto_columns": null,
            "margin": null,
            "display": null,
            "left": null
          }
        },
        "ed3355aead064635ba3fd4b34974d5ca": {
          "model_module": "@jupyter-widgets/controls",
          "model_name": "HBoxModel",
          "state": {
            "_view_name": "HBoxView",
            "_dom_classes": [],
            "_model_name": "HBoxModel",
            "_view_module": "@jupyter-widgets/controls",
            "_model_module_version": "1.5.0",
            "_view_count": null,
            "_view_module_version": "1.5.0",
            "box_style": "",
            "layout": "IPY_MODEL_fe5411dccfed40aca5a4c1e9ca1f7359",
            "_model_module": "@jupyter-widgets/controls",
            "children": [
              "IPY_MODEL_593fd127e51d4a008b87bc9bff631c4c",
              "IPY_MODEL_912b3b3fbb7247f6b0a3baf6977f595b"
            ]
          }
        },
        "fe5411dccfed40aca5a4c1e9ca1f7359": {
          "model_module": "@jupyter-widgets/base",
          "model_name": "LayoutModel",
          "state": {
            "_view_name": "LayoutView",
            "grid_template_rows": null,
            "right": null,
            "justify_content": null,
            "_view_module": "@jupyter-widgets/base",
            "overflow": null,
            "_model_module_version": "1.2.0",
            "_view_count": null,
            "flex_flow": null,
            "width": null,
            "min_width": null,
            "border": null,
            "align_items": null,
            "bottom": null,
            "_model_module": "@jupyter-widgets/base",
            "top": null,
            "grid_column": null,
            "overflow_y": null,
            "overflow_x": null,
            "grid_auto_flow": null,
            "grid_area": null,
            "grid_template_columns": null,
            "flex": null,
            "_model_name": "LayoutModel",
            "justify_items": null,
            "grid_row": null,
            "max_height": null,
            "align_content": null,
            "visibility": null,
            "align_self": null,
            "height": null,
            "min_height": null,
            "padding": null,
            "grid_auto_rows": null,
            "grid_gap": null,
            "max_width": null,
            "order": null,
            "_view_module_version": "1.2.0",
            "grid_template_areas": null,
            "object_position": null,
            "object_fit": null,
            "grid_auto_columns": null,
            "margin": null,
            "display": null,
            "left": null
          }
        },
        "593fd127e51d4a008b87bc9bff631c4c": {
          "model_module": "@jupyter-widgets/controls",
          "model_name": "FloatProgressModel",
          "state": {
            "_view_name": "ProgressView",
            "style": "IPY_MODEL_474e516f8a624095acf192a663cb6fab",
            "_dom_classes": [],
            "description": "Downloading: 100%",
            "_model_name": "FloatProgressModel",
            "bar_style": "success",
            "max": 433,
            "_view_module": "@jupyter-widgets/controls",
            "_model_module_version": "1.5.0",
            "value": 433,
            "_view_count": null,
            "_view_module_version": "1.5.0",
            "orientation": "horizontal",
            "min": 0,
            "description_tooltip": null,
            "_model_module": "@jupyter-widgets/controls",
            "layout": "IPY_MODEL_0550f6ac254344f48aafc2cd2a43fbad"
          }
        },
        "912b3b3fbb7247f6b0a3baf6977f595b": {
          "model_module": "@jupyter-widgets/controls",
          "model_name": "HTMLModel",
          "state": {
            "_view_name": "HTMLView",
            "style": "IPY_MODEL_acd0c1c8cb344654b5912a3c0c35052a",
            "_dom_classes": [],
            "description": "",
            "_model_name": "HTMLModel",
            "placeholder": "​",
            "_view_module": "@jupyter-widgets/controls",
            "_model_module_version": "1.5.0",
            "value": " 433/433 [00:06&lt;00:00, 63.7B/s]",
            "_view_count": null,
            "_view_module_version": "1.5.0",
            "description_tooltip": null,
            "_model_module": "@jupyter-widgets/controls",
            "layout": "IPY_MODEL_8249eb671bc84af892436ea1ebc55548"
          }
        },
        "474e516f8a624095acf192a663cb6fab": {
          "model_module": "@jupyter-widgets/controls",
          "model_name": "ProgressStyleModel",
          "state": {
            "_view_name": "StyleView",
            "_model_name": "ProgressStyleModel",
            "description_width": "initial",
            "_view_module": "@jupyter-widgets/base",
            "_model_module_version": "1.5.0",
            "_view_count": null,
            "_view_module_version": "1.2.0",
            "bar_color": null,
            "_model_module": "@jupyter-widgets/controls"
          }
        },
        "0550f6ac254344f48aafc2cd2a43fbad": {
          "model_module": "@jupyter-widgets/base",
          "model_name": "LayoutModel",
          "state": {
            "_view_name": "LayoutView",
            "grid_template_rows": null,
            "right": null,
            "justify_content": null,
            "_view_module": "@jupyter-widgets/base",
            "overflow": null,
            "_model_module_version": "1.2.0",
            "_view_count": null,
            "flex_flow": null,
            "width": null,
            "min_width": null,
            "border": null,
            "align_items": null,
            "bottom": null,
            "_model_module": "@jupyter-widgets/base",
            "top": null,
            "grid_column": null,
            "overflow_y": null,
            "overflow_x": null,
            "grid_auto_flow": null,
            "grid_area": null,
            "grid_template_columns": null,
            "flex": null,
            "_model_name": "LayoutModel",
            "justify_items": null,
            "grid_row": null,
            "max_height": null,
            "align_content": null,
            "visibility": null,
            "align_self": null,
            "height": null,
            "min_height": null,
            "padding": null,
            "grid_auto_rows": null,
            "grid_gap": null,
            "max_width": null,
            "order": null,
            "_view_module_version": "1.2.0",
            "grid_template_areas": null,
            "object_position": null,
            "object_fit": null,
            "grid_auto_columns": null,
            "margin": null,
            "display": null,
            "left": null
          }
        },
        "acd0c1c8cb344654b5912a3c0c35052a": {
          "model_module": "@jupyter-widgets/controls",
          "model_name": "DescriptionStyleModel",
          "state": {
            "_view_name": "StyleView",
            "_model_name": "DescriptionStyleModel",
            "description_width": "",
            "_view_module": "@jupyter-widgets/base",
            "_model_module_version": "1.5.0",
            "_view_count": null,
            "_view_module_version": "1.2.0",
            "_model_module": "@jupyter-widgets/controls"
          }
        },
        "8249eb671bc84af892436ea1ebc55548": {
          "model_module": "@jupyter-widgets/base",
          "model_name": "LayoutModel",
          "state": {
            "_view_name": "LayoutView",
            "grid_template_rows": null,
            "right": null,
            "justify_content": null,
            "_view_module": "@jupyter-widgets/base",
            "overflow": null,
            "_model_module_version": "1.2.0",
            "_view_count": null,
            "flex_flow": null,
            "width": null,
            "min_width": null,
            "border": null,
            "align_items": null,
            "bottom": null,
            "_model_module": "@jupyter-widgets/base",
            "top": null,
            "grid_column": null,
            "overflow_y": null,
            "overflow_x": null,
            "grid_auto_flow": null,
            "grid_area": null,
            "grid_template_columns": null,
            "flex": null,
            "_model_name": "LayoutModel",
            "justify_items": null,
            "grid_row": null,
            "max_height": null,
            "align_content": null,
            "visibility": null,
            "align_self": null,
            "height": null,
            "min_height": null,
            "padding": null,
            "grid_auto_rows": null,
            "grid_gap": null,
            "max_width": null,
            "order": null,
            "_view_module_version": "1.2.0",
            "grid_template_areas": null,
            "object_position": null,
            "object_fit": null,
            "grid_auto_columns": null,
            "margin": null,
            "display": null,
            "left": null
          }
        },
        "ee48c312d838480da10d94832f6637ce": {
          "model_module": "@jupyter-widgets/controls",
          "model_name": "HBoxModel",
          "state": {
            "_view_name": "HBoxView",
            "_dom_classes": [],
            "_model_name": "HBoxModel",
            "_view_module": "@jupyter-widgets/controls",
            "_model_module_version": "1.5.0",
            "_view_count": null,
            "_view_module_version": "1.5.0",
            "box_style": "",
            "layout": "IPY_MODEL_fc857f4c13d34ae3bb5f363a4cb0182f",
            "_model_module": "@jupyter-widgets/controls",
            "children": [
              "IPY_MODEL_4471a8f93a494a509f3898cc30c529fd",
              "IPY_MODEL_387307f7dbc048059c6e170a77f4a89d"
            ]
          }
        },
        "fc857f4c13d34ae3bb5f363a4cb0182f": {
          "model_module": "@jupyter-widgets/base",
          "model_name": "LayoutModel",
          "state": {
            "_view_name": "LayoutView",
            "grid_template_rows": null,
            "right": null,
            "justify_content": null,
            "_view_module": "@jupyter-widgets/base",
            "overflow": null,
            "_model_module_version": "1.2.0",
            "_view_count": null,
            "flex_flow": null,
            "width": null,
            "min_width": null,
            "border": null,
            "align_items": null,
            "bottom": null,
            "_model_module": "@jupyter-widgets/base",
            "top": null,
            "grid_column": null,
            "overflow_y": null,
            "overflow_x": null,
            "grid_auto_flow": null,
            "grid_area": null,
            "grid_template_columns": null,
            "flex": null,
            "_model_name": "LayoutModel",
            "justify_items": null,
            "grid_row": null,
            "max_height": null,
            "align_content": null,
            "visibility": null,
            "align_self": null,
            "height": null,
            "min_height": null,
            "padding": null,
            "grid_auto_rows": null,
            "grid_gap": null,
            "max_width": null,
            "order": null,
            "_view_module_version": "1.2.0",
            "grid_template_areas": null,
            "object_position": null,
            "object_fit": null,
            "grid_auto_columns": null,
            "margin": null,
            "display": null,
            "left": null
          }
        },
        "4471a8f93a494a509f3898cc30c529fd": {
          "model_module": "@jupyter-widgets/controls",
          "model_name": "FloatProgressModel",
          "state": {
            "_view_name": "ProgressView",
            "style": "IPY_MODEL_60e5ae0e837a4df9a0b4573c2acde501",
            "_dom_classes": [],
            "description": "Downloading: 100%",
            "_model_name": "FloatProgressModel",
            "bar_style": "success",
            "max": 440473133,
            "_view_module": "@jupyter-widgets/controls",
            "_model_module_version": "1.5.0",
            "value": 440473133,
            "_view_count": null,
            "_view_module_version": "1.5.0",
            "orientation": "horizontal",
            "min": 0,
            "description_tooltip": null,
            "_model_module": "@jupyter-widgets/controls",
            "layout": "IPY_MODEL_a475f0f6f07443cb9f7294c40b0fe8e6"
          }
        },
        "387307f7dbc048059c6e170a77f4a89d": {
          "model_module": "@jupyter-widgets/controls",
          "model_name": "HTMLModel",
          "state": {
            "_view_name": "HTMLView",
            "style": "IPY_MODEL_212d275775554193952197d5e8b4549d",
            "_dom_classes": [],
            "description": "",
            "_model_name": "HTMLModel",
            "placeholder": "​",
            "_view_module": "@jupyter-widgets/controls",
            "_model_module_version": "1.5.0",
            "value": " 440M/440M [00:06&lt;00:00, 68.0MB/s]",
            "_view_count": null,
            "_view_module_version": "1.5.0",
            "description_tooltip": null,
            "_model_module": "@jupyter-widgets/controls",
            "layout": "IPY_MODEL_5305ff8922be47f3991d7cfda6f7754f"
          }
        },
        "60e5ae0e837a4df9a0b4573c2acde501": {
          "model_module": "@jupyter-widgets/controls",
          "model_name": "ProgressStyleModel",
          "state": {
            "_view_name": "StyleView",
            "_model_name": "ProgressStyleModel",
            "description_width": "initial",
            "_view_module": "@jupyter-widgets/base",
            "_model_module_version": "1.5.0",
            "_view_count": null,
            "_view_module_version": "1.2.0",
            "bar_color": null,
            "_model_module": "@jupyter-widgets/controls"
          }
        },
        "a475f0f6f07443cb9f7294c40b0fe8e6": {
          "model_module": "@jupyter-widgets/base",
          "model_name": "LayoutModel",
          "state": {
            "_view_name": "LayoutView",
            "grid_template_rows": null,
            "right": null,
            "justify_content": null,
            "_view_module": "@jupyter-widgets/base",
            "overflow": null,
            "_model_module_version": "1.2.0",
            "_view_count": null,
            "flex_flow": null,
            "width": null,
            "min_width": null,
            "border": null,
            "align_items": null,
            "bottom": null,
            "_model_module": "@jupyter-widgets/base",
            "top": null,
            "grid_column": null,
            "overflow_y": null,
            "overflow_x": null,
            "grid_auto_flow": null,
            "grid_area": null,
            "grid_template_columns": null,
            "flex": null,
            "_model_name": "LayoutModel",
            "justify_items": null,
            "grid_row": null,
            "max_height": null,
            "align_content": null,
            "visibility": null,
            "align_self": null,
            "height": null,
            "min_height": null,
            "padding": null,
            "grid_auto_rows": null,
            "grid_gap": null,
            "max_width": null,
            "order": null,
            "_view_module_version": "1.2.0",
            "grid_template_areas": null,
            "object_position": null,
            "object_fit": null,
            "grid_auto_columns": null,
            "margin": null,
            "display": null,
            "left": null
          }
        },
        "212d275775554193952197d5e8b4549d": {
          "model_module": "@jupyter-widgets/controls",
          "model_name": "DescriptionStyleModel",
          "state": {
            "_view_name": "StyleView",
            "_model_name": "DescriptionStyleModel",
            "description_width": "",
            "_view_module": "@jupyter-widgets/base",
            "_model_module_version": "1.5.0",
            "_view_count": null,
            "_view_module_version": "1.2.0",
            "_model_module": "@jupyter-widgets/controls"
          }
        },
        "5305ff8922be47f3991d7cfda6f7754f": {
          "model_module": "@jupyter-widgets/base",
          "model_name": "LayoutModel",
          "state": {
            "_view_name": "LayoutView",
            "grid_template_rows": null,
            "right": null,
            "justify_content": null,
            "_view_module": "@jupyter-widgets/base",
            "overflow": null,
            "_model_module_version": "1.2.0",
            "_view_count": null,
            "flex_flow": null,
            "width": null,
            "min_width": null,
            "border": null,
            "align_items": null,
            "bottom": null,
            "_model_module": "@jupyter-widgets/base",
            "top": null,
            "grid_column": null,
            "overflow_y": null,
            "overflow_x": null,
            "grid_auto_flow": null,
            "grid_area": null,
            "grid_template_columns": null,
            "flex": null,
            "_model_name": "LayoutModel",
            "justify_items": null,
            "grid_row": null,
            "max_height": null,
            "align_content": null,
            "visibility": null,
            "align_self": null,
            "height": null,
            "min_height": null,
            "padding": null,
            "grid_auto_rows": null,
            "grid_gap": null,
            "max_width": null,
            "order": null,
            "_view_module_version": "1.2.0",
            "grid_template_areas": null,
            "object_position": null,
            "object_fit": null,
            "grid_auto_columns": null,
            "margin": null,
            "display": null,
            "left": null
          }
        }
      }
    }
  },
  "cells": [
    {
      "cell_type": "code",
      "metadata": {
        "id": "yqpz_6ses_7E",
        "colab": {
          "base_uri": "https://localhost:8080/",
          "height": 666
        },
        "outputId": "dfcaf758-5490-4393-8328-59a8d4a9c727"
      },
      "source": [
        "%load_ext autoreload\n",
        "%autoreload 2\n",
        "!git clone https://github.com/osmanio2/modular-bert-dst.git\n",
        "import sys\n",
        "root = '/content/modular-bert-dst'\n",
        "sys.path.append(root)\n",
        "!gdown https://drive.google.com/uc?id=1-6vYegAJyMd5O9qXccl_cnUAMXspldj8 -O {root}/data/train/dailogues.json\n",
        "!{sys.executable} -m pip install torch==1.5.0+cu101 torchvision==0.6.0+cu101 -f https://download.pytorch.org/whl/torch_stable.html\n",
        "!{sys.executable} -m pip install transformers==2.10\n",
        "import time\n",
        "import sys\n",
        "import os\n",
        "import torch as T\n",
        "import numpy as np\n",
        "import transformers as tf\n",
        "import intent_data as D\n",
        "from collections import defaultdict\n",
        "import argparse\n",
        "import pickle"
      ],
      "execution_count": null,
      "outputs": [
        {
          "output_type": "stream",
          "text": [
            "Go to this URL in a browser: https://accounts.google.com/o/oauth2/auth?client_id=947318989803-6bn6qk8qdgf4n4g3pfee6491hc0brc4i.apps.googleusercontent.com&redirect_uri=urn%3aietf%3awg%3aoauth%3a2.0%3aoob&scope=email%20https%3a%2f%2fwww.googleapis.com%2fauth%2fdocs.test%20https%3a%2f%2fwww.googleapis.com%2fauth%2fdrive%20https%3a%2f%2fwww.googleapis.com%2fauth%2fdrive.photos.readonly%20https%3a%2f%2fwww.googleapis.com%2fauth%2fpeopleapi.readonly&response_type=code\n",
            "\n",
            "Enter your authorization code:\n",
            "··········\n",
            "Mounted at /content/drive\n",
            "Collecting transformers==2.10\n",
            "\u001b[?25l  Downloading https://files.pythonhosted.org/packages/12/b5/ac41e3e95205ebf53439e4dd087c58e9fd371fd8e3724f2b9b4cdb8282e5/transformers-2.10.0-py3-none-any.whl (660kB)\n",
            "\u001b[K     |████████████████████████████████| 665kB 4.7MB/s \n",
            "\u001b[?25hRequirement already satisfied: requests in /usr/local/lib/python3.6/dist-packages (from transformers==2.10) (2.23.0)\n",
            "Requirement already satisfied: numpy in /usr/local/lib/python3.6/dist-packages (from transformers==2.10) (1.18.5)\n",
            "Requirement already satisfied: regex!=2019.12.17 in /usr/local/lib/python3.6/dist-packages (from transformers==2.10) (2019.12.20)\n",
            "Collecting sacremoses\n",
            "\u001b[?25l  Downloading https://files.pythonhosted.org/packages/7d/34/09d19aff26edcc8eb2a01bed8e98f13a1537005d31e95233fd48216eed10/sacremoses-0.0.43.tar.gz (883kB)\n",
            "\u001b[K     |████████████████████████████████| 890kB 19.8MB/s \n",
            "\u001b[?25hRequirement already satisfied: tqdm>=4.27 in /usr/local/lib/python3.6/dist-packages (from transformers==2.10) (4.41.1)\n",
            "Requirement already satisfied: dataclasses; python_version < \"3.7\" in /usr/local/lib/python3.6/dist-packages (from transformers==2.10) (0.7)\n",
            "Collecting sentencepiece\n",
            "\u001b[?25l  Downloading https://files.pythonhosted.org/packages/d4/a4/d0a884c4300004a78cca907a6ff9a5e9fe4f090f5d95ab341c53d28cbc58/sentencepiece-0.1.91-cp36-cp36m-manylinux1_x86_64.whl (1.1MB)\n",
            "\u001b[K     |████████████████████████████████| 1.1MB 29.6MB/s \n",
            "\u001b[?25hCollecting tokenizers==0.7.0\n",
            "\u001b[?25l  Downloading https://files.pythonhosted.org/packages/14/e5/a26eb4716523808bb0a799fcfdceb6ebf77a18169d9591b2f46a9adb87d9/tokenizers-0.7.0-cp36-cp36m-manylinux1_x86_64.whl (3.8MB)\n",
            "\u001b[K     |████████████████████████████████| 3.8MB 47.4MB/s \n",
            "\u001b[?25hRequirement already satisfied: filelock in /usr/local/lib/python3.6/dist-packages (from transformers==2.10) (3.0.12)\n",
            "Requirement already satisfied: certifi>=2017.4.17 in /usr/local/lib/python3.6/dist-packages (from requests->transformers==2.10) (2020.6.20)\n",
            "Requirement already satisfied: chardet<4,>=3.0.2 in /usr/local/lib/python3.6/dist-packages (from requests->transformers==2.10) (3.0.4)\n",
            "Requirement already satisfied: idna<3,>=2.5 in /usr/local/lib/python3.6/dist-packages (from requests->transformers==2.10) (2.10)\n",
            "Requirement already satisfied: urllib3!=1.25.0,!=1.25.1,<1.26,>=1.21.1 in /usr/local/lib/python3.6/dist-packages (from requests->transformers==2.10) (1.24.3)\n",
            "Requirement already satisfied: six in /usr/local/lib/python3.6/dist-packages (from sacremoses->transformers==2.10) (1.15.0)\n",
            "Requirement already satisfied: click in /usr/local/lib/python3.6/dist-packages (from sacremoses->transformers==2.10) (7.1.2)\n",
            "Requirement already satisfied: joblib in /usr/local/lib/python3.6/dist-packages (from sacremoses->transformers==2.10) (0.16.0)\n",
            "Building wheels for collected packages: sacremoses\n",
            "  Building wheel for sacremoses (setup.py) ... \u001b[?25l\u001b[?25hdone\n",
            "  Created wheel for sacremoses: filename=sacremoses-0.0.43-cp36-none-any.whl size=893257 sha256=abc7e0d6fc3ccc0a07d616db7c29f8c60fda1601e27ae06dae112bdb32fe499b\n",
            "  Stored in directory: /root/.cache/pip/wheels/29/3c/fd/7ce5c3f0666dab31a50123635e6fb5e19ceb42ce38d4e58f45\n",
            "Successfully built sacremoses\n",
            "Installing collected packages: sacremoses, sentencepiece, tokenizers, transformers\n",
            "Successfully installed sacremoses-0.0.43 sentencepiece-0.1.91 tokenizers-0.7.0 transformers-2.10.0\n"
          ],
          "name": "stdout"
        }
      ]
    },
    {
      "cell_type": "code",
      "metadata": {
        "id": "ylv6GOpWyIVS"
      },
      "source": [
        "class Run:\n",
        "    def __init__(self):\n",
        "        self.records = defaultdict(list)\n",
        "        \n",
        "    def log(self, key, value):\n",
        "        self.records[key].append(value)\n",
        "\n",
        "\n",
        "def evaluate(model, batch):\n",
        "    token_type_ids = batch.x.token_type_ids\n",
        "    scores = model(batch.x.input_ids, batch.x.attention_mask, batch.x.token_type_ids)[0]\n",
        "    mask = batch.x.attention_mask[..., 0] # B.C\n",
        "    scores = scores + (mask.float() - 1) * 1e8\n",
        "    loss = T.nn.functional.cross_entropy(scores, batch.y)\n",
        "    return scores, loss\n",
        "\n",
        "def metrics(scores, labels):\n",
        "    with T.no_grad():\n",
        "        preds = T.max(scores, dim=-1)[1] == labels\n",
        "        correct = T.where(preds == True)[0]\n",
        "        wrong = T.where(preds == False)[0]\n",
        "        return correct.shape[0]/scores.shape[0], correct.cpu().numpy(), wrong.cpu().numpy()\n",
        "    \n",
        "def print_example(tokenizer, batch, idx, scores, correct):\n",
        "    with T.no_grad():\n",
        "        ids, token_type_ids, mask = batch.x.input_ids[idx], batch.x.token_type_ids[idx], batch.x.attention_mask[idx, :, 0]\n",
        "        scores = scores[idx]\n",
        "        state = ('Correct' if correct else 'Wrong')\n",
        "        print(' '.join(tokenizer.convert_ids_to_tokens(ids[0, token_type_ids[0] == 0], skip_special_tokens=True)))\n",
        "        total = int(mask.sum())\n",
        "        print('\\t'.join([' '.join(tokenizer.convert_ids_to_tokens(ids[i, token_type_ids[i] == 1],\n",
        "                                                                  skip_special_tokens=True))\n",
        "                         + ': {:.2f}'.format(T.softmax(scores, dim=0)[i])\n",
        "                         for i in range(total)] + [state]))\n",
        "\n",
        "def train(model, optim, train_data, valid_data, no_batches, valid_duration=100,\n",
        "          cuda=True, verbose=False, tokenizer=None, max_grad_norm=1.0,\n",
        "          valid_size=1, run=None, batch_size=1, no_examples=10):\n",
        "    if cuda:\n",
        "        model = model.cuda()\n",
        "    optim, scheduler = optim\n",
        "    print(\"About to start training\")\n",
        "    start_time = time.time()\n",
        "    valid_loss, valid_acc, max_acc = 0, 0, 0\n",
        "    print_gpu = False\n",
        "    batch_size, total_batch_size = batch_size\n",
        "    no_iter = total_batch_size//batch_size\n",
        "    i = 0\n",
        "    while True:\n",
        "        optim.zero_grad()\n",
        "        scores, loss, acc = 0, 0, 0\n",
        "        for k in range(no_iter):\n",
        "            batch = next(train_data)\n",
        "            scores_, loss_ = evaluate(model, batch)\n",
        "            scores += scores_/no_iter\n",
        "            loss_ /= no_iter\n",
        "            loss_.backward()\n",
        "            loss += loss_\n",
        "            acc_, _, _ = metrics(scores_ , batch.y)\n",
        "            acc += acc_/no_iter\n",
        "        if max_grad_norm > 0:\n",
        "            T.nn.utils.clip_grad_norm_(model.parameters(), max_grad_norm)\n",
        "        loss = float(loss)\n",
        "        optim.step()\n",
        "        scheduler.step()\n",
        "        \n",
        "        if  i % valid_duration == 0:\n",
        "            model.eval()\n",
        "            valid_acc, valid_loss = 0, 0\n",
        "            with T.no_grad():\n",
        "                if verbose:\n",
        "                    print(\"##################################################################################\")\n",
        "                for k in range(valid_size):\n",
        "                    batch = next(valid_data)\n",
        "                    valid_scores, valid_los = evaluate(model, batch)\n",
        "                    v_acc,  corr_ids, wrong_ids, = metrics(valid_scores, batch.y)\n",
        "                    valid_loss += float(valid_los)\n",
        "                    valid_acc += v_acc\n",
        "                    if verbose and k < no_examples:\n",
        "                        if len(corr_ids) > 0:\n",
        "                            idx = np.random.choice(corr_ids)\n",
        "                            print_example(tokenizer, batch, idx, valid_scores, correct=True)\n",
        "                            print(\"-----------------------------------------------------------------------------\")\n",
        "                        if len(wrong_ids) > 0:\n",
        "                            idx = np.random.choice(wrong_ids)\n",
        "                            print_example(tokenizer, batch, idx, valid_scores, correct=False)\n",
        "                            print(\"-----------------------------------------------------------------------------\")\n",
        "                if verbose:\n",
        "                    print(\"##################################################################################\")\n",
        "                valid_loss /= valid_size\n",
        "                valid_acc /= valid_size\n",
        "                if valid_acc > max_acc:\n",
        "                    max_acc = valid_acc\n",
        "                    model.save_model()        \n",
        "            model.train()\n",
        "        \n",
        "        if print_gpu:\n",
        "            print(nvgpu.gpu_info())\n",
        "            print_gpu = False\n",
        "        if run:\n",
        "            run.log(\"train_loss\", loss)\n",
        "            run.log(\"train_acc\", acc)\n",
        "            run.log(\"valid_loss\", valid_loss)\n",
        "            run.log(\"valid_acc\", valid_acc)\n",
        "            run.log(\"batch\", i)\n",
        "        sys.stderr.write(f'\\rtrain loss: {loss:.2f}\\ttrain acc {acc:.2f}\\t' + \n",
        "                         f'valid loss: {valid_loss:.2f}\\tvalid acc {valid_acc:.2f}' +\n",
        "                         f'\\tbatch: {i}\\ttime: {time.time()-start_time:.2f}{\"\": <30}')\n",
        "        i += 1\n",
        "        if i >= no_batches - 1:\n",
        "            break\n",
        "    return model\n",
        "\n",
        "def _in(n, trainable_parameters):\n",
        "    return any(nd in n for nd in trainable_parameters)\n",
        "\n",
        "def get_model(name, trainable_parameters=None):\n",
        "    model_name = name.split('-')[0].capitalize()\n",
        "    tokenizer = getattr(tf, f'{model_name}Tokenizer').from_pretrained(name)\n",
        "    model = getattr(tf, f'{model_name}ForMultipleChoice').from_pretrained(name,\n",
        "                                                                                  num_labels=4)\n",
        "    if trainable_parameters is not None:\n",
        "        for name, param in model.named_parameters():\n",
        "            if not _in(name, trainable_parameters):\n",
        "                param.requires_grad = False\n",
        "    return tokenizer, model\n",
        "\n",
        "\n",
        "class AdapterLayer(T.nn.Module):\n",
        "    \n",
        "    def __init__(self, input_size, dropout, hidden_size=64, init_scale=1e-3, act='gelu'):\n",
        "        super().__init__()\n",
        "        self.act = getattr(T.nn.functional, act)\n",
        "        self.squeeze = T.nn.Linear(input_size, hidden_size)\n",
        "        self.squeeze.weight.data.normal_(mean=0.0, std=init_scale)\n",
        "        T.nn.init.zeros_(self.squeeze.bias.data)\n",
        "        self.expand = T.nn.Linear(hidden_size, input_size)\n",
        "        self.expand.weight.data.normal_(mean=0.0, std=init_scale)\n",
        "        T.nn.init.zeros_(self.expand.bias.data)\n",
        "        self.dropout = dropout\n",
        "        \n",
        "    def forward(self, x):\n",
        "        x = self.dropout(x)\n",
        "        return self.expand(self.act(self.squeeze(x))) + x\n",
        "    \n",
        "\n",
        "def add_adapter_layers(model, **kwargs):\n",
        "    input_size = model.config.hidden_size\n",
        "    layers = model.bert.encoder.layer\n",
        "    for layer in layers:\n",
        "        adapter1 = AdapterLayer(input_size, layer.attention.output.dropout, **kwargs)\n",
        "        adapter2 = AdapterLayer(input_size, layer.output.dropout, **kwargs)\n",
        "        layer.attention.output.add_module('dropout', adapter1)\n",
        "        layer.output.add_module('dropout', adapter2)\n",
        "    return model\n",
        "\n",
        "\n",
        "def save_model(model, trainable_parameters, url):\n",
        "    with open(url, 'wb') as f:\n",
        "        params_to_save = {k: v.detach().cpu() for k, v in model.state_dict().items()\n",
        "                          if _in(k, trainable_parameters)}\n",
        "        pickle.dump(params_to_save, f)\n",
        "\n",
        "\n",
        "def load_model(model, url):\n",
        "    with open(url, 'rb') as f:\n",
        "        return model.load_state_dict(pickle.load(f), False)\n",
        "\n",
        "\n",
        "def main(args):\n",
        "    \n",
        "    data_dir = args.data_url\n",
        "    trainable_parameters = (args.trainable_parameters.split(' ') if args.trainable_parameters != '' \n",
        "                                                                 else None)\n",
        "    \n",
        "    print(\"data directory is: \" + data_dir)\n",
        "    # Load the model\n",
        "    tokenizer, model = get_model(args.model_name, trainable_parameters)\n",
        "    # Load the data\n",
        "    train_itr = D.IntentDataset(os.path.join(data_dir,'train'), tokenizer, # pos_prob=args.pos_prob,\n",
        "                            max_len=args.max_len).dataLoader(batch_size=args.batch_size,\n",
        "                                                             shuffle=True, pin_memory=True,\n",
        "                                                             cuda=True, loop=True, drop_last=True)\n",
        "    valid_itr = D.IntentDataset(os.path.join(data_dir,'dev'), tokenizer, # pos_prob=1.0, \n",
        "                              max_len=args.max_len).dataLoader(batch_size=args.batch_size,\n",
        "                                                               shuffle=True, pin_memory=True,\n",
        "                                                               cuda=True, loop=True, drop_last=True)\n",
        "    # Train only adapter layers\n",
        "    model = add_adapter_layers(model, hidden_size=args.adapter_size)\n",
        "    if args.checkpoint:\n",
        "        model.load_state_dict(pickle.load(open(os.path.join(data_dir, args.checkpoint), 'rb')), False)\n",
        "    # Parallise if required\n",
        "    if T.cuda.device_count() > 1:\n",
        "        print(\"Let's use\", T.cuda.device_count(), \"GPUs!\")\n",
        "        model = T.nn.DataParallel(model)    \n",
        "    # Create the optimizer\n",
        "    # Prepare optimizer and schedule (linear warmup and decay)\n",
        "    no_decay = [\"bias\", \"LayerNorm.weight\"]\n",
        "    optimizer_grouped_parameters = [\n",
        "        {\n",
        "            \"params\": [p for n, p in model.named_parameters() \n",
        "                       if _in(n, trainable_parameters) and not _in(n, no_decay)],\n",
        "            \"weight_decay\": args.weight_decay,\n",
        "        },\n",
        "        {\n",
        "            \"params\": [p for n, p in model.named_parameters() \n",
        "                       if _in(n, trainable_parameters) and _in(n, no_decay)],\n",
        "            \"weight_decay\": 0.0\n",
        "        },\n",
        "    ]\n",
        "    if args.model_url is not None:\n",
        "        save_fn = lambda : save_model(model, trainable_parameters, \n",
        "                                      os.path.join(data_dir, args.model_url))\n",
        "    else:\n",
        "        save_fn = type(None)\n",
        "    setattr(model, 'save_model', save_fn)\n",
        "    optimizer = tf.AdamW(optimizer_grouped_parameters, lr=args.lr, eps=1e-8)\n",
        "    scheduler = tf.get_linear_schedule_with_warmup(\n",
        "        optimizer, num_warmup_steps=int(0.1*args.num_batches), num_training_steps=args.num_batches\n",
        "    )\n",
        "    \n",
        "    optim = [optimizer, scheduler]\n",
        "    run = Run()\n",
        "    model = train(model, optim, train_itr, valid_itr, args.num_batches, args.valid_duration,\n",
        "                  verbose=args.verbose, tokenizer=tokenizer, max_grad_norm=args.max_grad_norm,\n",
        "                  valid_size=args.valid_size, run=run, cuda=True,\n",
        "                  batch_size=[args.batch_size, args.total_batch_size])\n",
        "    return model, run"
      ],
      "execution_count": null,
      "outputs": []
    },
    {
      "cell_type": "code",
      "metadata": {
        "id": "EuBMt03VzOsq",
        "colab": {
          "base_uri": "https://localhost:8080/",
          "height": 1000
        },
        "outputId": "384e0d60-9e3b-4cae-d029-7224aa8c6f99"
      },
      "source": [
        "# get command-line arguments\n",
        "trainable_parameters = ['LayerNorm', 'dropout.expand', 'dropout.squeeze', 'classifier']\n",
        "parser = argparse.ArgumentParser()\n",
        "parser.add_argument('--model_name', type=str, default='bert-base-uncased')\n",
        "parser.add_argument('--trainable_parameters', type=str, help='space separated parameters to train',\n",
        "                    default=' '.join(trainable_parameters))\n",
        "parser.add_argument('--total_batch_size', type=int, default=64, help='The total batch size')\n",
        "parser.add_argument('--batch_size', type=int, default=64, help='The batch size')\n",
        "parser.add_argument('--num_batches', type=int, default=1000, help='number of batches to train')\n",
        "parser.add_argument('--max_len', type=int, default=120, help='Maximum length of the context')\n",
        "parser.add_argument('--adapter_size', type=int, default=256, help='hidden size of the adapter layers')\n",
        "parser.add_argument('--data_url', type=str, help='data directory')\n",
        "parser.add_argument('--pos_prob', type=float, default=0.5, help='Probability of sampling positive examples')\n",
        "parser.add_argument('--optim', type=str, default='Adam', help='data directory')\n",
        "parser.add_argument('--lr', type=float, default=6e-5, help='Learning rate')\n",
        "parser.add_argument('--amsgrad', type=bool, default=False, help=' whether to use the AMSGrad variant')\n",
        "parser.add_argument('--weight_decay', type=float, default=0.006, help='L2 Regularization weight decay')\n",
        "parser.add_argument('--max_grad_norm', default=1.0, type=float, help=\"Max gradient norm.\")\n",
        "parser.add_argument('--valid_duration', type=int, default=100, help='The number of batches before validating')\n",
        "parser.add_argument('--verbose', type=bool, default=True, help='Show Live valid examples with prediction during validating')\n",
        "parser.add_argument('--valid_size', type=int, default=50, help='The number of valid batches to evaluate')\n",
        "parser.add_argument('--model_url', type=str, default='model.pkl', help='URL to save the model')\n",
        "parser.add_argument('--checkpoint', type=str, help='Start training from a checkpoint')\n",
        "\n",
        "args = parser.parse_args(['--data_url', root, '--adapter_size', '256', '--checkpoint', 'model_intent.pkl',\n",
        "                          '--batch_size', '10', '--total_batch_size', '30', '--num_batches', '10000',\n",
        "                            '--model_url', 'model_intent.pkl', \n",
        "                            ])\n",
        "model, run = main(args)"
      ],
      "execution_count": null,
      "outputs": [
        {
          "output_type": "stream",
          "text": [
            "data directory is: drive/dialog-data/\n",
            "About to start training\n"
          ],
          "name": "stdout"
        },
        {
          "output_type": "stream",
          "text": [
            "/pytorch/torch/csrc/utils/python_arg_parser.cpp:756: UserWarning: This overload of add_ is deprecated:\n",
            "\tadd_(Number alpha, Tensor other)\n",
            "Consider using one of the following signatures instead:\n",
            "\tadd_(Tensor other, *, Number alpha)\n"
          ],
          "name": "stderr"
        },
        {
          "output_type": "stream",
          "text": [
            "##################################################################################\n",
            "system : ace hotel london is a 4 star hotel in the area . user : do you have a contact number ? service description : accommodation searching and booking portal\n",
            "none of the intentions are active: 0.00\treserve rooms at a selected place for given dates: 0.00\tlook for accommodation in a city of choice previous user intention: 1.00\tCorrect\n",
            "-----------------------------------------------------------------------------\n",
            "system : the phone number is 40 ##8 - 298 - 65 ##33 . user : are there vegetarian options in the restaurant ? and do they have outdoor seating ? service description : a popular restaurant search and reservation service\n",
            "none of the intentions are active: 0.00\tmake a table reservation at a restaurant: 0.00\tfind restaurants by location and by category previous user intention: 1.00\tCorrect\n",
            "-----------------------------------------------------------------------------\n",
            "system : i found 10 places for you . there ' s a 5 star hotel called 45 park lane . user : that works for me . service description : a popular service for searching and res ##erving rooms in hotels\n",
            "none of the intentions are active: 0.00\treserve a selected hotel for given dates: 0.00\tfind a hotel at a given location previous user intention: 1.00\tCorrect\n",
            "-----------------------------------------------------------------------------\n",
            "system : sure , please confirm your transfer of $ 1 , 440 from your checking account to the checking account of ja ##sb ##ir . user : yes please , how long will the transfer t ak ##e ? service description : service to manage your bank accounts and finances\n",
            "none of the intentions are active: 0.00\tget the balance of an account: 0.00\ttransfer money to another user previous user intention: 1.00\tCorrect\n",
            "-----------------------------------------------------------------------------\n",
            "system : acoustic al ##che ##my is a popular event taking place at the blue note nap ##a on march 11th at 6 pm . user : sounds awesome . please book tickets . service description : the comprehensive portal to find and reserve seats at events near you\n",
            "none of the intentions are active: 0.00\tfind events in a given city previous user intention: 0.00\tbuy tickets for an event: 1.00\tCorrect\n",
            "-----------------------------------------------------------------------------\n",
            "system : do you need any additional help ? user : no , thanks for the help once again . service description : on - demand taxi calling service\n",
            "none of the intentions are active: 1.00\tcall a taxi to head to a given destination previous user intention: 0.00\tCorrect\n",
            "-----------------------------------------------------------------------------\n",
            "system : how can i help you further ? user : i want to search for a bus and i need your help to find the one in philadelphia which the place i want to leave from . service description : book bus journeys from the biggest bus network in the country\n",
            "none of the intentions are active: 0.01\tfind a bus journey for a given pair of cities: 0.98\tbuy tickets for a bus journey: 0.02\tCorrect\n",
            "-----------------------------------------------------------------------------\n",
            "system : can i help with anything else for you ? user : no that ' s it for now service description : a widely used service for finding apartments and scheduling visits\n",
            "none of the intentions are active: 1.00\tfind an apartment in a city for a given number of bedrooms: 0.00\tschedule a visit for a given property on a particular date previous user intention: 0.00\tCorrect\n",
            "-----------------------------------------------------------------------------\n",
            "system : what kind of therapist ? user : i ' m looking for a family counselor in campbell service description : discover the right therapist for you and make reservations easily\n",
            "none of the intentions are active: 0.00\tmake a reservation with the therapist based on user ' s wish: 0.02\tdiscover therapist according to user ' s conditions previous user intention: 0.98\tCorrect\n",
            "-----------------------------------------------------------------------------\n",
            "system : hello , how can i help ? user : hi , i ' m having friends over and need a movie to watch . can you help me find one ? service description : the wide ##st selection and lowest prices for movie rental ##s\n",
            "none of the intentions are active: 0.00\tfind movies to watch by genre and , optional ##ly , director or actors: 0.99\trent a movie to watch , with optional sub ##titles: 0.01\tCorrect\n",
            "-----------------------------------------------------------------------------\n",
            "##################################################################################\n"
          ],
          "name": "stdout"
        },
        {
          "output_type": "stream",
          "text": [
            "/home/osman/anaconda3/lib/python3.7/site-packages/torch/storage.py:34: FutureWarning: pickle support for Storage will be removed in 1.5. Use `torch.save` instead\n",
            "  warnings.warn(\"pickle support for Storage will be removed in 1.5. Use `torch.save` instead\", FutureWarning)\n",
            "train loss: 0.05\ttrain acc 0.97\tvalid loss: 0.07\tvalid acc 0.98\tbatch: 99\ttime: 482.59                              "
          ],
          "name": "stderr"
        },
        {
          "output_type": "stream",
          "text": [
            "##################################################################################\n",
            "system : is there anything else i can help you with ? user : not at this time . i appreciate your help . service description : a popular service for searching and res ##erving rooms in hotels\n",
            "none of the intentions are active: 1.00\treserve a selected hotel for given dates: 0.00\tfind a hotel at a given location previous user intention: 0.00\tCorrect\n",
            "-----------------------------------------------------------------------------\n",
            "system : bryan adams is well liked . the activity begins at 8 : 30 pm , march 2nd , at the theater of the clouds . user : where is the location for the activity ? service description : the comprehensive portal to find and reserve seats at events near you\n",
            "none of the intentions are active: 0.00\tfind events in a given city previous user intention: 1.00\tbuy tickets for an event: 0.00\tCorrect\n",
            "-----------------------------------------------------------------------------\n",
            "system : 4000 ##1 fremont boulevard boulevard 1 bed 1 bath $ 1 , 850 user : that works for me service description : a widely used service for finding apartments and scheduling visits\n",
            "none of the intentions are active: 0.00\tfind an apartment in a city for a given number of bedrooms previous user intention: 1.00\tschedule a visit for a given property on a particular date: 0.00\tCorrect\n",
            "-----------------------------------------------------------------------------\n",
            "system : there is a ar ##gon ##au ##t hotel is rated 4 stars user : sounds good . looking for 2 rooms for 2 days from march 8th service description : a popular service for searching and res ##erving rooms in hotels\n",
            "none of the intentions are active: 0.00\treserve a selected hotel for given dates: 0.02\tfind a hotel at a given location previous user intention: 0.98\tWrong\n",
            "-----------------------------------------------------------------------------\n",
            "system : do you want to make a reservation ? user : no , not now . service description : car rental service with extensive coverage of locations and cars\n",
            "none of the intentions are active: 1.00\tsearch for available rental cars by city and date previous user intention: 0.00\treserve car rental for given dates and location: 0.00\tCorrect\n",
            "-----------------------------------------------------------------------------\n",
            "system : hello , how can i help ? user : i am looking for 2 tickets to giants vs dodgers on saturday this week service description : the comprehensive portal to find and reserve seats at events near you\n",
            "none of the intentions are active: 0.00\tfind events in a given city: 0.17\tbuy tickets for an event: 0.82\tCorrect\n",
            "-----------------------------------------------------------------------------\n",
            "system : your cab will arrive shortly . the trip is 15 minutes and the price is $ 25 . 44 . user : thanks . that would be all . service description : on - demand taxi calling service\n",
            "none of the intentions are active: 0.00\tcall a taxi to head to a given destination previous user intention: 1.00\tCorrect\n",
            "-----------------------------------------------------------------------------\n",
            "system : are you going to 83 ##39 church street ? is a shared ride good ? user : yes that works , and shared is fine service description : on - demand taxi calling service\n",
            "none of the intentions are active: 0.00\tcall a taxi to head to a given destination previous user intention: 1.00\tCorrect\n",
            "-----------------------------------------------------------------------------\n",
            "system : what else would you like ? user : nothing . i ' m all set . service description : on - demand taxi calling service\n",
            "none of the intentions are active: 1.00\tcall a taxi to head to a given destination previous user intention: 0.00\tCorrect\n",
            "-----------------------------------------------------------------------------\n",
            "system : what type of food you like to be ? user : i would like something that serve diner . service description : a popular restaurant search and reservation service\n",
            "none of the intentions are active: 0.00\tmake a table reservation at a restaurant: 0.00\tfind restaurants by location and by category previous user intention: 1.00\tCorrect\n",
            "-----------------------------------------------------------------------------\n",
            "system : to verify : you would like 3 tickets to the giants vs diamond ##backs game on march 13th in san francisco . user : you got it . service description : the comprehensive portal to find and reserve seats at events near you\n",
            "none of the intentions are active: 0.00\tfind events in a given city: 0.00\tbuy tickets for an event previous user intention: 1.00\tCorrect\n",
            "-----------------------------------------------------------------------------\n",
            "##################################################################################\n"
          ],
          "name": "stdout"
        },
        {
          "output_type": "stream",
          "text": [
            "train loss: 0.19\ttrain acc 0.93\tvalid loss: 0.06\tvalid acc 0.98\tbatch: 199\ttime: 968.19                              "
          ],
          "name": "stderr"
        },
        {
          "output_type": "stream",
          "text": [
            "##################################################################################\n",
            "system : how about a historical landmark called 30 st mary axe ( the g ##her ##kin ) ? user : sure , could you help me search for songs now ? service description : a popular provider of a wide range of music content for searching and listening\n",
            "none of the intentions are active: 0.00\tsearch for a song: 0.97\tplay the selected song on the device: 0.03\tCorrect\n",
            "-----------------------------------------------------------------------------\n",
            "system : what day ? how many tickets ? user : i need 2 tickets for next monday . service description : the comprehensive portal to find and reserve seats at events near you\n",
            "none of the intentions are active: 0.00\tfind events in a given city: 0.00\tbuy tickets for an event previous user intention: 1.00\tCorrect\n",
            "-----------------------------------------------------------------------------\n",
            "system : it is pop user : thanks a lot service description : a popular provider of a wide range of music content for searching and listening\n",
            "none of the intentions are active: 0.00\tsearch for a song: 0.00\tplay the selected song on the device previous user intention: 1.00\tCorrect\n",
            "-----------------------------------------------------------------------------\n",
            "system : please check the details here ; booking at california cafe in los ga ##tos at 11 am for 2 people on march 1st . user : i ' ll invite my father so that should be for 3 persons and make it on 12 : 45 pm instead of 11 am . service description : a popular restaurant search and reservation service\n",
            "none of the intentions are active: 0.00\tmake a table reservation at a restaurant previous user intention: 1.00\tfind restaurants by location and by category: 0.00\tCorrect\n",
            "-----------------------------------------------------------------------------\n",
            "system : hello , how can i help ? user : i want to watch a movie service description : the definitive database to discover new movies to watch\n",
            "none of the intentions are active: 0.00\tdiscover movies by genre , director and actors: 1.00\tCorrect\n",
            "-----------------------------------------------------------------------------\n",
            "system : there are 10 therapist ##s available in santa rosa . would you like to see psychologist called bert epstein ? user : what is the address for the office ? service description : discover the right therapist for you and make reservations easily\n",
            "none of the intentions are active: 0.00\tmake a reservation with the therapist based on user ' s wish: 0.01\tdiscover therapist according to user ' s conditions previous user intention: 0.99\tCorrect\n",
            "-----------------------------------------------------------------------------\n",
            "system : hello , how can i help ? user : i would like to know how much money i have in my checking account . service description : service to manage your bank accounts and finances\n",
            "none of the intentions are active: 0.03\tget the balance of an account: 0.46\ttransfer money to another user: 0.51\tWrong\n",
            "-----------------------------------------------------------------------------\n",
            "system : there are 5 . emily rosen ##baum is a family counselor in los ga ##tos . user : what is the address and phone number please . service description : discover the right therapist for you and make reservations easily\n",
            "none of the intentions are active: 0.00\tmake a reservation with the therapist based on user ' s wish: 0.01\tdiscover therapist according to user ' s conditions previous user intention: 0.99\tCorrect\n",
            "-----------------------------------------------------------------------------\n",
            "system : i can let you have a table there if you like user : that would be very kind from you , find me one table for that day service description : a popular restaurant search and reservation service\n",
            "none of the intentions are active: 0.00\tmake a table reservation at a restaurant: 0.07\tfind restaurants by location and by category previous user intention: 0.93\tWrong\n",
            "-----------------------------------------------------------------------------\n",
            "system : are you sure you want to transfer $ 1 , 170 from your savings account to the savings account of ja ##sb ##ir ? user : yeah . how long will it take to transfer ? service description : service to manage your bank accounts and finances\n",
            "none of the intentions are active: 0.00\tget the balance of an account: 0.00\ttransfer money to another user previous user intention: 1.00\tCorrect\n",
            "-----------------------------------------------------------------------------\n",
            "system : this event is located at 240 ##0 east capitol street southeast , and it is also a football match . user : on second thought , can you find me music events instead ? service description : the comprehensive portal to find and reserve seats at events near you\n",
            "none of the intentions are active: 0.00\tfind events in a given city previous user intention: 1.00\tbuy tickets for an event: 0.00\tCorrect\n",
            "-----------------------------------------------------------------------------\n",
            "system : i see , when do you plan to depart then ? user : on the 9th of this month . service description : book bus journeys from the biggest bus network in the country\n",
            "none of the intentions are active: 0.00\tfind a bus journey for a given pair of cities: 0.00\tbuy tickets for a bus journey previous user intention: 1.00\tCorrect\n",
            "-----------------------------------------------------------------------------\n",
            "##################################################################################\n"
          ],
          "name": "stdout"
        },
        {
          "output_type": "stream",
          "text": [
            "train loss: 0.06\ttrain acc 0.97\tvalid loss: 0.07\tvalid acc 0.98\tbatch: 299\ttime: 1457.95                              "
          ],
          "name": "stderr"
        },
        {
          "output_type": "stream",
          "text": [
            "##################################################################################\n",
            "system : how about the one departing 8 : 30 am , it has 1 transfer and costs $ 65 ? user : what is my goal station and where will i depart from ? service description : book bus journeys from the biggest bus network in the country\n",
            "none of the intentions are active: 0.00\tfind a bus journey for a given pair of cities previous user intention: 1.00\tbuy tickets for a bus journey: 0.00\tCorrect\n",
            "-----------------------------------------------------------------------------\n",
            "system : to confirm , you want to play small town boy on the tv . user : yes , that would be perfect . service description : a popular provider of a wide range of music content for searching and listening\n",
            "none of the intentions are active: 0.00\tsearch for a song: 0.00\tplay the selected song on the device previous user intention: 1.00\tCorrect\n",
            "-----------------------------------------------------------------------------\n",
            "system : sure , can i get some more information ? where would you like to look , and how many bedrooms will you need ? user : i ' m looking for a 2 bedroom , somewhere in san lean ##dro , i ' ve heard the schools there are good . service description : a widely used service for finding apartments and scheduling visits\n",
            "none of the intentions are active: 0.00\tfind an apartment in a city for a given number of bedrooms previous user intention: 1.00\tschedule a visit for a given property on a particular date: 0.00\tCorrect\n",
            "-----------------------------------------------------------------------------\n",
            "system : i ' ll schedule a visit for you to bay ##crest on march 10th , correct ? user : wait , i ' ll be busy then , make it for march 7th . service description : a widely used service for finding apartments and scheduling visits\n",
            "none of the intentions are active: 0.00\tfind an apartment in a city for a given number of bedrooms: 0.00\tschedule a visit for a given property on a particular date previous user intention: 1.00\tCorrect\n",
            "-----------------------------------------------------------------------------\n",
            "system : sorry , i was unable to purchase the ticket . what about a bus leaving at 5 : 10 pm that costs $ 37 ? user : sounds good to me . service description : book bus journeys from the biggest bus network in the country\n",
            "none of the intentions are active: 0.00\tfind a bus journey for a given pair of cities: 0.00\tbuy tickets for a bus journey previous user intention: 1.00\tCorrect\n",
            "-----------------------------------------------------------------------------\n",
            "system : would you like to make an appointment ? user : yes , i ' d like to see if there is anything available for 11 : 15 . service description : discover the right therapist for you and make reservations easily\n",
            "none of the intentions are active: 0.01\tmake a reservation with the therapist based on user ' s wish: 0.97\tdiscover therapist according to user ' s conditions previous user intention: 0.02\tCorrect\n",
            "-----------------------------------------------------------------------------\n",
            "system : hello , how can i help ? user : i want to find something interesting to do please . service description : the comprehensive portal to find and reserve seats at events near you\n",
            "none of the intentions are active: 0.00\tfind events in a given city: 1.00\tbuy tickets for an event: 0.00\tCorrect\n",
            "-----------------------------------------------------------------------------\n",
            "system : no , the song is from 2012 . user : yes , i would like to play it on my bedroom speaker . service description : a popular provider of a wide range of music content for searching and listening\n",
            "none of the intentions are active: 0.00\tsearch for a song previous user intention: 0.01\tplay the selected song on the device: 0.99\tCorrect\n",
            "-----------------------------------------------------------------------------\n",
            "system : unfortunately , their address is listed as none . user : oh , that ' s okay . service description : discover the right therapist for you and make reservations easily\n",
            "none of the intentions are active: 0.00\tmake a reservation with the therapist based on user ' s wish: 0.63\tdiscover therapist according to user ' s conditions previous user intention: 0.37\tWrong\n",
            "-----------------------------------------------------------------------------\n",
            "system : which city are you leaving from ? user : will you find me flights from atlanta for 1 person ? service description : find one way and round trip flights to your favorite city\n",
            "none of the intentions are active: 0.00\tsearch for one - way flights to the destination of choice previous user intention: 0.95\tsearch for round - trip flights to the destination of choice: 0.05\tCorrect\n",
            "-----------------------------------------------------------------------------\n",
            "system : i ' ve completed your reservation . user : thanks . will you find a rental car there until 10th of march ? service description : car rental service with extensive coverage of locations and cars\n",
            "none of the intentions are active: 0.00\tsearch for available rental cars by city and date: 0.97\treserve car rental for given dates and location: 0.03\tCorrect\n",
            "-----------------------------------------------------------------------------\n",
            "##################################################################################\n"
          ],
          "name": "stdout"
        },
        {
          "output_type": "stream",
          "text": [
            "train loss: 0.05\ttrain acc 0.97\tvalid loss: 0.06\tvalid acc 0.98\tbatch: 399\ttime: 1964.67                              "
          ],
          "name": "stderr"
        },
        {
          "output_type": "stream",
          "text": [
            "##################################################################################\n",
            "system : how about how to train your dragon : the hidden world , rated 7 . 7 ? user : sure . could you find me a rock star ? prefer ##ably something by stars ##et from ' 14 ? service description : a popular provider of a wide range of music content for searching and listening\n",
            "none of the intentions are active: 0.00\tsearch for a song: 0.99\tplay the selected song on the device: 0.01\tCorrect\n",
            "-----------------------------------------------------------------------------\n",
            "system : okay your reservation is confirmed . enjoy your event ! user : no thank you that ' s all i need . service description : the comprehensive portal to find and reserve seats at events near you\n",
            "none of the intentions are active: 0.04\tfind events in a given city: 0.00\tbuy tickets for an event previous user intention: 0.96\tCorrect\n",
            "-----------------------------------------------------------------------------\n",
            "system : the first apartment out of the 10 i have found is located at 154 ##6 maurice lane and is called 88 ##8 golden saratoga - cup ##ert ##ino apartment homes , with 3 bedrooms , 3 bathrooms and costs $ 4 , 450 a month . user : that ' s a bit out of my price range . what else do you have . service description : a widely used service for finding apartments and scheduling visits\n",
            "none of the intentions are active: 0.00\tfind an apartment in a city for a given number of bedrooms previous user intention: 1.00\tschedule a visit for a given property on a particular date: 0.00\tCorrect\n",
            "-----------------------------------------------------------------------------\n",
            "system : anything else you require ? user : no thanks a lot . service description : on - demand taxi calling service\n",
            "none of the intentions are active: 1.00\tcall a taxi to head to a given destination previous user intention: 0.00\tCorrect\n",
            "-----------------------------------------------------------------------------\n",
            "system : would you be interested in making an appointment with garcia daniel ? he is a psychiatrist located in nap ##a . user : i ' d like to see what my other options are please . service description : discover the right therapist for you and make reservations easily\n",
            "none of the intentions are active: 0.00\tmake a reservation with the therapist based on user ' s wish: 0.55\tdiscover therapist according to user ' s conditions previous user intention: 0.45\tWrong\n",
            "-----------------------------------------------------------------------------\n",
            "system : i ' ll reserve for you the standard car from ga ##t ##wick international airport for pick up on march 4th at 12 : 30 pm and drop off at march 6th . is that good for you ? user : yes , that ' s what i want . service description : car rental service with extensive coverage of locations and cars\n",
            "none of the intentions are active: 0.00\tsearch for available rental cars by city and date: 0.00\treserve car rental for given dates and location previous user intention: 1.00\tCorrect\n",
            "-----------------------------------------------------------------------------\n",
            "system : hello , how can i help ? user : do you have any recommendations for a movie i can watch ? service description : the definitive database to discover new movies to watch\n",
            "none of the intentions are active: 0.00\tdiscover movies by genre , director and actors: 1.00\tCorrect\n",
            "-----------------------------------------------------------------------------\n",
            "system : what event are you interested in ? and what city are you looking in ? user : it ' s the mariners vs rays . it should be in seattle . service description : the comprehensive portal to find and reserve seats at events near you\n",
            "none of the intentions are active: 0.00\tfind events in a given city: 0.00\tbuy tickets for an event previous user intention: 1.00\tCorrect\n",
            "-----------------------------------------------------------------------------\n",
            "system : would you like to reserve this hotel ? user : i would not like to make a reservation now . service description : accommodation searching and booking portal\n",
            "none of the intentions are active: 0.42\treserve rooms at a selected place for given dates: 0.58\tlook for accommodation in a city of choice previous user intention: 0.00\tWrong\n",
            "-----------------------------------------------------------------------------\n",
            "system : from which place you are leaving ? user : from sf ##o i am leaving . service description : book bus journeys from the biggest bus network in the country\n",
            "none of the intentions are active: 0.00\tfind a bus journey for a given pair of cities previous user intention: 1.00\tbuy tickets for a bus journey: 0.00\tCorrect\n",
            "-----------------------------------------------------------------------------\n",
            "system : hello , how can i help ? user : i like match events : can you help me find an event around phil ##ly ? service description : the comprehensive portal to find and reserve seats at events near you\n",
            "none of the intentions are active: 0.00\tfind events in a given city: 1.00\tbuy tickets for an event: 0.00\tCorrect\n",
            "-----------------------------------------------------------------------------\n",
            "system : you want to set up a new alarm that not ##ifies you at 5 : 15 pm . is that right ? user : wait , i need it to specifically not ##ify me for music practice . service description : manage alarms by getting and setting them easily\n",
            "none of the intentions are active: 0.00\tget the alarms user has already set: 0.01\tset a new alarm previous user intention: 0.99\tCorrect\n",
            "-----------------------------------------------------------------------------\n",
            "##################################################################################\n"
          ],
          "name": "stdout"
        },
        {
          "output_type": "stream",
          "text": [
            "train loss: 0.11\ttrain acc 0.97\tvalid loss: 0.04\tvalid acc 0.99\tbatch: 499\ttime: 2453.84                              "
          ],
          "name": "stderr"
        },
        {
          "output_type": "stream",
          "text": [
            "##################################################################################\n",
            "system : the alarm has been added . user : thanks , that ' s all . service description : manage alarms by getting and setting them easily\n",
            "none of the intentions are active: 0.00\tget the alarms user has already set: 0.02\tset a new alarm previous user intention: 0.97\tCorrect\n",
            "-----------------------------------------------------------------------------\n",
            "system : the address is 123 - 01 roosevelt avenue . user : okay , that sounds like something i may be interested i . service description : the comprehensive portal to find and reserve seats at events near you\n",
            "none of the intentions are active: 0.00\tfind events in a given city previous user intention: 1.00\tbuy tickets for an event: 0.00\tCorrect\n",
            "-----------------------------------------------------------------------------\n",
            "system : i don ' t think children would enjoy this venue , and it is not free . user : okay , cool . that ' s all i need for now , bye . service description : the biggest database of tourist attractions and points of interest\n",
            "none of the intentions are active: 0.01\tbrows ##e attractions in a given city previous user intention: 0.99\tCorrect\n",
            "-----------------------------------------------------------------------------\n",
            "system : please confirm you want me to book 1 ticket to the cubs vs giants event on march 4th in chicago . user : yes . it ' s confirmed . service description : the comprehensive portal to find and reserve seats at events near you\n",
            "none of the intentions are active: 0.00\tfind events in a given city: 0.00\tbuy tickets for an event previous user intention: 1.00\tCorrect\n",
            "-----------------------------------------------------------------------------\n",
            "system : how about fr ##ida ' s mexican grill in nap ##a ? user : that sounds great ! could you make a reservation for me ? service description : a popular restaurant search and reservation service\n",
            "none of the intentions are active: 0.00\tmake a table reservation at a restaurant: 1.00\tfind restaurants by location and by category previous user intention: 0.00\tCorrect\n",
            "-----------------------------------------------------------------------------\n",
            "system : alright , i ' ve located 3 restaurants in san francisco , i would like to recommend cafe ethiopia . user : i ' ll roll with that . service description : a popular restaurant search and reservation service\n",
            "none of the intentions are active: 0.00\tmake a table reservation at a restaurant: 0.00\tfind restaurants by location and by category previous user intention: 1.00\tCorrect\n",
            "-----------------------------------------------------------------------------\n",
            "system : not furnished . their number is 83 ##3 - 278 - 00 ##54 . user : sounds good . service description : a widely used service for finding apartments and scheduling visits\n",
            "none of the intentions are active: 0.00\tfind an apartment in a city for a given number of bedrooms previous user intention: 1.00\tschedule a visit for a given property on a particular date: 0.00\tCorrect\n",
            "-----------------------------------------------------------------------------\n",
            "system : do you wish to reserve the hotel ? user : i don ' t want any reservations now . service description : accommodation searching and booking portal\n",
            "none of the intentions are active: 1.00\treserve rooms at a selected place for given dates: 0.00\tlook for accommodation in a city of choice previous user intention: 0.00\tCorrect\n",
            "-----------------------------------------------------------------------------\n",
            "system : hello , how can i help ? user : what ' s the weather suppose to be for the day after tomorrow in paris , france ? service description : check the weather for any place and any date\n",
            "none of the intentions are active: 0.00\tget the weather of a certain location on a date: 1.00\tCorrect\n",
            "-----------------------------------------------------------------------------\n",
            "system : i have scheduled your visit to the apartment . it is not furnished . you can call 40 ##8 - 37 ##9 - 66 ##55 . user : thanks ! i don ' t need any further help from you on the matter . service description : a widely used service for finding apartments and scheduling visits\n",
            "none of the intentions are active: 0.00\tfind an apartment in a city for a given number of bedrooms: 0.00\tschedule a visit for a given property on a particular date previous user intention: 1.00\tCorrect\n",
            "-----------------------------------------------------------------------------\n",
            "system : i have selected 5 cars of your choice . there is a nice compact bolt car available at santa fe depot international airport for pick up on march 5th user : that is fine and i need car booking service description : car rental service with extensive coverage of locations and cars\n",
            "none of the intentions are active: 0.00\tsearch for available rental cars by city and date previous user intention: 0.79\treserve car rental for given dates and location: 0.21\tWrong\n",
            "-----------------------------------------------------------------------------\n",
            "##################################################################################\n"
          ],
          "name": "stdout"
        },
        {
          "output_type": "stream",
          "text": [
            "train loss: 0.27\ttrain acc 0.97\tvalid loss: 0.06\tvalid acc 0.99\tbatch: 599\ttime: 2940.30                              "
          ],
          "name": "stderr"
        },
        {
          "output_type": "stream",
          "text": [
            "##################################################################################\n",
            "system : what genre do you like ? user : i ' m in the mood for a comic show . service description : the wide ##st selection and lowest prices for movie rental ##s\n",
            "none of the intentions are active: 0.00\tfind movies to watch by genre and , optional ##ly , director or actors previous user intention: 1.00\trent a movie to watch , with optional sub ##titles: 0.00\tCorrect\n",
            "-----------------------------------------------------------------------------\n",
            "system : hello , how can i help ? user : will you find a one way flight ? service description : find one way and round trip flights to your favorite city\n",
            "none of the intentions are active: 0.00\tsearch for one - way flights to the destination of choice: 0.87\tsearch for round - trip flights to the destination of choice: 0.13\tCorrect\n",
            "-----------------------------------------------------------------------------\n",
            "system : sure . please can you confirm me that you wish to book a table at mcdonald ' s at valle ##jo on march 12th at 6 pm for 1 people , right ? user : yu ##p , that would work . service description : a popular restaurant search and reservation service\n",
            "none of the intentions are active: 0.00\tmake a table reservation at a restaurant previous user intention: 1.00\tfind restaurants by location and by category: 0.00\tCorrect\n",
            "-----------------------------------------------------------------------------\n",
            "system : i have found 1 nice restaurant in daly city . how about oriental kitchen japanese restaurant ? user : cook , book this place service description : a popular restaurant search and reservation service\n",
            "none of the intentions are active: 0.00\tmake a table reservation at a restaurant: 0.10\tfind restaurants by location and by category previous user intention: 0.90\tWrong\n",
            "-----------------------------------------------------------------------------\n",
            "system : i have found 5 flights that could work . there ' s an alaska airlines flight that leaves at 9 : 05 am and has 0 lay ##overs . it costs $ 90 . user : find me another option . service description : find one way and round trip flights to your favorite city\n",
            "none of the intentions are active: 0.00\tsearch for one - way flights to the destination of choice previous user intention: 0.88\tsearch for round - trip flights to the destination of choice: 0.12\tCorrect\n",
            "-----------------------------------------------------------------------------\n",
            "system : is there a event and date in particular user : yes , i want to see phillies vs diamond ##backs on 4th of march service description : the comprehensive portal to find and reserve seats at events near you\n",
            "none of the intentions are active: 0.00\tfind events in a given city: 0.00\tbuy tickets for an event previous user intention: 1.00\tCorrect\n",
            "-----------------------------------------------------------------------------\n",
            "system : please can you confirm me that you wish to book a table at don giovanni in mountain view at 7 : 15 pm on march 14th for 1 people , right ? user : yu ##p , sounds good . please can i have the restaurant ' s average rating ? service description : a popular restaurant search and reservation service\n",
            "none of the intentions are active: 0.00\tmake a table reservation at a restaurant previous user intention: 1.00\tfind restaurants by location and by category: 0.00\tCorrect\n",
            "-----------------------------------------------------------------------------\n",
            "system : when will you be visiting them ? user : some time on 5th of this month . service description : a widely used service for finding apartments and scheduling visits\n",
            "none of the intentions are active: 0.00\tfind an apartment in a city for a given number of bedrooms: 0.00\tschedule a visit for a given property on a particular date previous user intention: 1.00\tCorrect\n",
            "-----------------------------------------------------------------------------\n",
            "system : hello , how can i help ? user : can you help me call a cab ? service description : on - demand taxi calling service\n",
            "none of the intentions are active: 0.00\tcall a taxi to head to a given destination: 1.00\tCorrect\n",
            "-----------------------------------------------------------------------------\n",
            "system : hello , how can i help ? user : i want to reserve a bus so i can go to long beach , ca . it ' s for 3 people and i want to leave at 5 : 15 pm . service description : book bus journeys from the biggest bus network in the country\n",
            "none of the intentions are active: 0.01\tfind a bus journey for a given pair of cities: 0.65\tbuy tickets for a bus journey: 0.34\tWrong\n",
            "-----------------------------------------------------------------------------\n",
            "system : i ' ll need you to verify that you want a cab for 3 people to go to 720 ##0 bancroft ave # 125 ##c in a shared ride . user : yes , that is correct . what will the cost be ? service description : on - demand taxi calling service\n",
            "none of the intentions are active: 0.00\tcall a taxi to head to a given destination previous user intention: 1.00\tCorrect\n",
            "-----------------------------------------------------------------------------\n",
            "system : do you want tickets ? user : i want 3 tickets . service description : the comprehensive portal to find and reserve seats at events near you\n",
            "none of the intentions are active: 0.01\tfind events in a given city previous user intention: 0.01\tbuy tickets for an event: 0.98\tCorrect\n",
            "-----------------------------------------------------------------------------\n",
            "system : thanks . i ' m up for more . user : lie down and take a break . service description : accommodation searching and booking portal\n",
            "none of the intentions are active: 0.10\treserve rooms at a selected place for given dates previous user intention: 0.85\tlook for accommodation in a city of choice: 0.06\tWrong\n",
            "-----------------------------------------------------------------------------\n",
            "##################################################################################\n"
          ],
          "name": "stdout"
        },
        {
          "output_type": "stream",
          "text": [
            "train loss: 0.03\ttrain acc 1.00\tvalid loss: 0.09\tvalid acc 0.97\tbatch: 699\ttime: 3426.81                              "
          ],
          "name": "stderr"
        },
        {
          "output_type": "stream",
          "text": [
            "##################################################################################\n",
            "system : there are 5 available cars , one of which is a standard civic available from seattle - tacoma international airport on march 11th . user : how much will this set me back ? service description : car rental service with extensive coverage of locations and cars\n",
            "none of the intentions are active: 0.00\tsearch for available rental cars by city and date previous user intention: 1.00\treserve car rental for given dates and location: 0.00\tCorrect\n",
            "-----------------------------------------------------------------------------\n",
            "system : sorry , they don ' t have out door seating and they are reach ##able at 88 ##8 - 78 ##6 - 79 ##19 . user : okay , thanks much . please can you help me to find a table there ? service description : a popular restaurant search and reservation service\n",
            "none of the intentions are active: 0.00\tmake a table reservation at a restaurant: 0.20\tfind restaurants by location and by category previous user intention: 0.80\tWrong\n",
            "-----------------------------------------------------------------------------\n",
            "system : will you pick up the car march 7th and when will you return it ? user : i will get the car on the 10th of march and return it on the 13th of this month . service description : car rental service with extensive coverage of locations and cars\n",
            "none of the intentions are active: 0.00\tsearch for available rental cars by city and date previous user intention: 1.00\treserve car rental for given dates and location: 0.00\tCorrect\n",
            "-----------------------------------------------------------------------------\n",
            "system : no problem . i ' ve found bella vista apartments located at 1500 vista club circle . this property has 4 bed rooms and 3 baths as you requested . the rent for this apartment would be $ 5 , 100 monthly . user : yep that was what i was looking for . thanks service description : a widely used service for finding apartments and scheduling visits\n",
            "none of the intentions are active: 0.00\tfind an apartment in a city for a given number of bedrooms previous user intention: 1.00\tschedule a visit for a given property on a particular date: 0.00\tCorrect\n",
            "-----------------------------------------------------------------------------\n",
            "system : are you interested in purchasing tickets to the concert ? user : perhaps at another time . i ' ll also need accommodations while there . can you help me find a nice hotel in the same vicinity ? service description : the comprehensive portal to find and reserve seats at events near you\n",
            "none of the intentions are active: 0.99\tfind events in a given city previous user intention: 0.00\tbuy tickets for an event: 0.00\tCorrect\n",
            "-----------------------------------------------------------------------------\n",
            "system : what else can i do for you ? user : i want to get a cab there , shared rides are ok service description : on - demand taxi calling service\n",
            "none of the intentions are active: 0.00\tcall a taxi to head to a given destination: 1.00\tCorrect\n",
            "-----------------------------------------------------------------------------\n",
            "system : okay , you successfully reserved your restaurant . user : do they have any vegetarian options ? also , where are they located ? service description : a popular restaurant search and reservation service\n",
            "none of the intentions are active: 0.00\tmake a table reservation at a restaurant previous user intention: 0.98\tfind restaurants by location and by category: 0.02\tCorrect\n",
            "-----------------------------------------------------------------------------\n",
            "system : march 11th works user : monday next week service description : find one way and round trip flights to your favorite city\n",
            "none of the intentions are active: 0.00\tsearch for one - way flights to the destination of choice previous user intention: 0.79\tsearch for round - trip flights to the destination of choice: 0.21\tCorrect\n",
            "-----------------------------------------------------------------------------\n",
            "system : you can call him at 70 ##7 - 76 ##3 - 49 ##15 . user : sure , could you get me an appointment with him at quarter to 10 in the morning at march 4th ? service description : discover the right therapist for you and make reservations easily\n",
            "none of the intentions are active: 0.00\tmake a reservation with the therapist based on user ' s wish: 0.12\tdiscover therapist according to user ' s conditions previous user intention: 0.88\tWrong\n",
            "-----------------------------------------------------------------------------\n",
            "system : they are located at 251 ##6 sam ##ari ##tan drive . user : what is the phone number ? service description : discover the right therapist for you and make reservations easily\n",
            "none of the intentions are active: 0.00\tmake a reservation with the therapist based on user ' s wish: 0.00\tdiscover therapist according to user ' s conditions previous user intention: 1.00\tCorrect\n",
            "-----------------------------------------------------------------------------\n",
            "system : please confirm : send $ 1 , 79 ##0 dollars from your checking account to grace ' s checking account user : yep . how long will it take to send that ? service description : service to manage your bank accounts and finances\n",
            "none of the intentions are active: 0.00\tget the balance of an account: 0.00\ttransfer money to another user previous user intention: 1.00\tCorrect\n",
            "-----------------------------------------------------------------------------\n",
            "system : sas ##a in walnut creek is nice . user : is there outdoor seating , and what ' s a number i can reach them at ? service description : a popular restaurant search and reservation service\n",
            "none of the intentions are active: 0.00\tmake a table reservation at a restaurant: 0.00\tfind restaurants by location and by category previous user intention: 1.00\tCorrect\n",
            "-----------------------------------------------------------------------------\n",
            "system : hello , how can i help ? user : i want to see a game in sd ! padres vs brewers . service description : the comprehensive portal to find and reserve seats at events near you\n",
            "none of the intentions are active: 0.01\tfind events in a given city: 0.96\tbuy tickets for an event: 0.03\tWrong\n",
            "-----------------------------------------------------------------------------\n",
            "##################################################################################\n"
          ],
          "name": "stdout"
        },
        {
          "output_type": "stream",
          "text": [
            "train loss: 0.01\ttrain acc 1.00\tvalid loss: 0.05\tvalid acc 0.98\tbatch: 799\ttime: 3914.22                              "
          ],
          "name": "stderr"
        },
        {
          "output_type": "stream",
          "text": [
            "##################################################################################\n",
            "system : i found 8 buses for you . what about departing time 7 : 40 am with 1 transfer for $ 66 user : that ' s perfect service description : book bus journeys from the biggest bus network in the country\n",
            "none of the intentions are active: 0.00\tfind a bus journey for a given pair of cities previous user intention: 1.00\tbuy tickets for a bus journey: 0.00\tCorrect\n",
            "-----------------------------------------------------------------------------\n",
            "system : shall i book the car ? user : yes . but it can be done later . service description : car rental service with extensive coverage of locations and cars\n",
            "none of the intentions are active: 0.99\tsearch for available rental cars by city and date previous user intention: 0.00\treserve car rental for given dates and location: 0.01\tCorrect\n",
            "-----------------------------------------------------------------------------\n",
            "system : i found 10 hotels that match your search . how about the 5 star hotel 45 park lane ? user : how much does that cost ? service description : accommodation searching and booking portal\n",
            "none of the intentions are active: 0.00\treserve rooms at a selected place for given dates: 0.00\tlook for accommodation in a city of choice previous user intention: 1.00\tCorrect\n",
            "-----------------------------------------------------------------------------\n",
            "system : please confirm : you are scheduling a visit to 88 ##8 golden saratoga - cup ##ert ##ino apartment homes for next thursday . is that correct ? user : no . i would actually like to visit on the 11th . service description : a widely used service for finding apartments and scheduling visits\n",
            "none of the intentions are active: 0.00\tfind an apartment in a city for a given number of bedrooms: 0.00\tschedule a visit for a given property on a particular date previous user intention: 1.00\tCorrect\n",
            "-----------------------------------------------------------------------------\n",
            "system : the average wind will be 6 mph and humidity 25 % . user : sure , i ' d like to reserve the hotel for six days with check in march 7th . service description : check the weather for any place and any date\n",
            "none of the intentions are active: 0.00\tget the weather of a certain location on a date previous user intention: 1.00\tCorrect\n",
            "-----------------------------------------------------------------------------\n",
            "system : i found 10 . i have ali ##ssa scan ##lin ps ##yd , a psychologist in lafayette . user : what is the contact number ? service description : discover the right therapist for you and make reservations easily\n",
            "none of the intentions are active: 0.00\tmake a reservation with the therapist based on user ' s wish: 0.00\tdiscover therapist according to user ' s conditions previous user intention: 1.00\tCorrect\n",
            "-----------------------------------------------------------------------------\n",
            "system : 360 chicago tourist attraction user : i want a cab there service description : on - demand taxi calling service\n",
            "none of the intentions are active: 0.00\tcall a taxi to head to a given destination: 1.00\tCorrect\n",
            "-----------------------------------------------------------------------------\n",
            "system : yes , what is your comfortable time to book the table ? user : book it at evening 5 : 30 . service description : a popular restaurant search and reservation service\n",
            "none of the intentions are active: 0.00\tmake a table reservation at a restaurant previous user intention: 1.00\tfind restaurants by location and by category: 0.00\tCorrect\n",
            "-----------------------------------------------------------------------------\n",
            "system : hello , how can i help ? user : i need to reserve 2 hotel rooms in paris , france . can you help me book this please . service description : accommodation searching and booking portal\n",
            "none of the intentions are active: 0.00\treserve rooms at a selected place for given dates: 1.00\tlook for accommodation in a city of choice: 0.00\tWrong\n",
            "-----------------------------------------------------------------------------\n",
            "system : there ' s $ 19 , 65 ##6 . 33 in your savings account . user : ok , thank you service description : service to manage your bank accounts and finances\n",
            "none of the intentions are active: 0.00\tget the balance of an account previous user intention: 0.99\ttransfer money to another user: 0.01\tCorrect\n",
            "-----------------------------------------------------------------------------\n",
            "system : you would like to book 3 tickets to the golden bears vs trojan ##s game on march 2nd in berkeley . is that correct ? user : no actually , i told you the wrong stuff . the game i want is a falcons vs rams game in atlanta . service description : the comprehensive portal to find and reserve seats at events near you\n",
            "none of the intentions are active: 0.00\tfind events in a given city: 0.00\tbuy tickets for an event previous user intention: 1.00\tCorrect\n",
            "-----------------------------------------------------------------------------\n",
            "##################################################################################\n"
          ],
          "name": "stdout"
        },
        {
          "output_type": "stream",
          "text": [
            "train loss: 0.05\ttrain acc 0.97\tvalid loss: 0.08\tvalid acc 0.98\tbatch: 899\ttime: 4401.62                              "
          ],
          "name": "stderr"
        },
        {
          "output_type": "stream",
          "text": [
            "##################################################################################\n",
            "system : the temperature will be 75 degree fa ##hre ##nh ##eit and 20 % chance of rain . user : what about the windy ? service description : check the weather for any place and any date\n",
            "none of the intentions are active: 0.00\tget the weather of a certain location on a date previous user intention: 1.00\tCorrect\n",
            "-----------------------------------------------------------------------------\n",
            "system : it is + 1 215 - 37 ##2 - 900 ##0 user : check in tomorrow service description : accommodation searching and booking portal\n",
            "none of the intentions are active: 0.00\treserve rooms at a selected place for given dates: 0.42\tlook for accommodation in a city of choice previous user intention: 0.58\tWrong\n",
            "-----------------------------------------------------------------------------\n",
            "system : anything else today ? user : no , that is all . service description : check the weather for any place and any date\n",
            "none of the intentions are active: 1.00\tget the weather of a certain location on a date previous user intention: 0.00\tCorrect\n",
            "-----------------------------------------------------------------------------\n",
            "system : would you like to schedule a visit to the property ? user : ye ##a , that ' s a great idea . could you schedule it for the 12th of march ? service description : a widely used service for finding apartments and scheduling visits\n",
            "none of the intentions are active: 0.00\tfind an apartment in a city for a given number of bedrooms previous user intention: 0.00\tschedule a visit for a given property on a particular date: 1.00\tCorrect\n",
            "-----------------------------------------------------------------------------\n",
            "system : do you wish to reserve a table at this restaurant ? user : yu ##p , please can you reserve a table for three people on 2nd of march at 12 : 45 ? service description : a popular restaurant search and reservation service\n",
            "none of the intentions are active: 0.00\tmake a table reservation at a restaurant: 1.00\tfind restaurants by location and by category previous user intention: 0.00\tCorrect\n",
            "-----------------------------------------------------------------------------\n",
            "system : what other information would you like ? user : you ' re given me all the info i need for now , and you ' re appreciated . service description : check the weather for any place and any date\n",
            "none of the intentions are active: 0.00\tget the weather of a certain location on a date previous user intention: 1.00\tWrong\n",
            "-----------------------------------------------------------------------------\n",
            "system : what else can i do for you user : no that ' s it service description : on - demand taxi calling service\n",
            "none of the intentions are active: 1.00\tcall a taxi to head to a given destination previous user intention: 0.00\tCorrect\n",
            "-----------------------------------------------------------------------------\n",
            "system : hart ##sfield - jackson international airport user : alright thank you service description : find one way and round trip flights to your favorite city\n",
            "none of the intentions are active: 0.00\tsearch for one - way flights to the destination of choice previous user intention: 0.05\tsearch for round - trip flights to the destination of choice: 0.95\tWrong\n",
            "-----------------------------------------------------------------------------\n",
            "system : there are 9 matching . best western plus portland airport hotel & suites is a 2 start hotel . user : okay sounds great service description : a popular service for searching and res ##erving rooms in hotels\n",
            "none of the intentions are active: 0.00\treserve a selected hotel for given dates: 0.00\tfind a hotel at a given location previous user intention: 1.00\tCorrect\n",
            "-----------------------------------------------------------------------------\n",
            "system : your ride is currently en ##rou ##te . it will take approximately 30 minutes to get there . user : what ' s the cost of the ride ? service description : on - demand taxi calling service\n",
            "none of the intentions are active: 0.00\tcall a taxi to head to a given destination previous user intention: 1.00\tCorrect\n",
            "-----------------------------------------------------------------------------\n",
            "system : do you want to fly on american airlines ? the flight leaves at 12 : 55 pm local time and has 0 lay ##overs . this ticket costs $ 86 . user : find me another thing . an economy class ticket is good . service description : find one way and round trip flights to your favorite city\n",
            "none of the intentions are active: 0.00\tsearch for one - way flights to the destination of choice previous user intention: 0.38\tsearch for round - trip flights to the destination of choice: 0.62\tWrong\n",
            "-----------------------------------------------------------------------------\n",
            "system : okay . so , you want me to play homes ##ick on the bedroom speaker ? user : yep , that ' s right . service description : a popular provider of a wide range of music content for searching and listening\n",
            "none of the intentions are active: 0.00\tsearch for a song: 0.00\tplay the selected song on the device previous user intention: 1.00\tCorrect\n",
            "-----------------------------------------------------------------------------\n",
            "system : for what time should i set it ? user : for evening 4 : 15 . service description : manage alarms by getting and setting them easily\n",
            "none of the intentions are active: 0.00\tget the alarms user has already set: 0.00\tset a new alarm previous user intention: 1.00\tCorrect\n",
            "-----------------------------------------------------------------------------\n",
            "system : okay , i ' ve changed that to the movie titled sha ##zam ! with english sub ##titles instead , is that right ? user : yes , perfect ! service description : the wide ##st selection and lowest prices for movie rental ##s\n",
            "none of the intentions are active: 0.00\tfind movies to watch by genre and , optional ##ly , director or actors: 0.00\trent a movie to watch , with optional sub ##titles previous user intention: 1.00\tCorrect\n",
            "-----------------------------------------------------------------------------\n",
            "##################################################################################\n"
          ],
          "name": "stdout"
        },
        {
          "output_type": "stream",
          "text": [
            "train loss: 0.05\ttrain acc 1.00\tvalid loss: 0.08\tvalid acc 0.98\tbatch: 999\ttime: 4888.64                              "
          ],
          "name": "stderr"
        },
        {
          "output_type": "stream",
          "text": [
            "##################################################################################\n",
            "system : do you need more help ? user : no , not right now . thanks . service description : car rental service with extensive coverage of locations and cars\n",
            "none of the intentions are active: 1.00\tsearch for available rental cars by city and date: 0.00\treserve car rental for given dates and location previous user intention: 0.00\tCorrect\n",
            "-----------------------------------------------------------------------------\n",
            "system : would you like to view the property ? user : that would be great , on the 13th of this month . service description : a widely used service for finding apartments and scheduling visits\n",
            "none of the intentions are active: 0.00\tfind an apartment in a city for a given number of bedrooms previous user intention: 0.00\tschedule a visit for a given property on a particular date: 1.00\tCorrect\n",
            "-----------------------------------------------------------------------------\n",
            "system : i located 3 of them in pleasant hill . what about china chef restaurant ? user : what is the price range for that one . oh , can i get their number ? service description : a popular restaurant search and reservation service\n",
            "none of the intentions are active: 0.00\tmake a table reservation at a restaurant: 0.00\tfind restaurants by location and by category previous user intention: 1.00\tCorrect\n",
            "-----------------------------------------------------------------------------\n",
            "system : let ' s confirm the details : you are rent ##ing a standard car from sales ##force transit center on march 4th at 12 : 30 pm and returning it on march 8th . user : yep , that ' s great . service description : car rental service with extensive coverage of locations and cars\n",
            "none of the intentions are active: 0.00\tsearch for available rental cars by city and date: 0.00\treserve car rental for given dates and location previous user intention: 1.00\tCorrect\n",
            "-----------------------------------------------------------------------------\n",
            "system : please confirm the following : you want to get a standard car from downtown station on march 10th starting at 6 : 30 pm and keep it until march 13th . user : yes , that will work . how much is it ? service description : car rental service with extensive coverage of locations and cars\n",
            "none of the intentions are active: 0.00\tsearch for available rental cars by city and date: 0.00\treserve car rental for given dates and location previous user intention: 1.00\tCorrect\n",
            "-----------------------------------------------------------------------------\n",
            "system : hello , how can i help ? user : can you help me find a therapist in nap ##a ? service description : discover the right therapist for you and make reservations easily\n",
            "none of the intentions are active: 0.00\tmake a reservation with the therapist based on user ' s wish: 0.09\tdiscover therapist according to user ' s conditions: 0.91\tCorrect\n",
            "-----------------------------------------------------------------------------\n",
            "system : i have 10 events that you should like . huskies vs cougars is a popular one . this event takes place at husky stadium . there is an event happening on march 5th starting at 8 pm . user : sounds good to me . i ' d like to check my checking account balance . service description : service to manage your bank accounts and finances\n",
            "none of the intentions are active: 0.00\tget the balance of an account: 1.00\ttransfer money to another user: 0.00\tCorrect\n",
            "-----------------------------------------------------------------------------\n",
            "system : how about say anything ? user : ok , i like say anything . service description : the wide ##st selection and lowest prices for movie rental ##s\n",
            "none of the intentions are active: 0.06\tfind movies to watch by genre and , optional ##ly , director or actors previous user intention: 0.15\trent a movie to watch , with optional sub ##titles: 0.79\tWrong\n",
            "-----------------------------------------------------------------------------\n",
            "system : there are 4 things : first up is portland thorns vs houston at 8 : 30 pm on march 13th . it ' s in providence park . user : what ' s the street address there ? service description : the comprehensive portal to find and reserve seats at events near you\n",
            "none of the intentions are active: 0.00\tfind events in a given city previous user intention: 1.00\tbuy tickets for an event: 0.00\tCorrect\n",
            "-----------------------------------------------------------------------------\n",
            "system : you have an alarm set for 6 am called wake up . user : that is fine . i want another alarm set for 3 : 15 in the afternoon . name it cooking . service description : manage alarms by getting and setting them easily\n",
            "none of the intentions are active: 0.00\tget the alarms user has already set previous user intention: 0.97\tset a new alarm: 0.03\tWrong\n",
            "-----------------------------------------------------------------------------\n",
            "system : hello , how can i help ? user : i need to find a room at a four star hotel in sydney , australia . service description : a popular service for searching and res ##erving rooms in hotels\n",
            "none of the intentions are active: 0.00\treserve a selected hotel for given dates: 0.00\tfind a hotel at a given location: 1.00\tCorrect\n",
            "-----------------------------------------------------------------------------\n",
            "system : will you depart on march 1st ? user : yes , i will . service description : find one way and round trip flights to your favorite city\n",
            "none of the intentions are active: 0.00\tsearch for one - way flights to the destination of choice previous user intention: 0.59\tsearch for round - trip flights to the destination of choice: 0.41\tCorrect\n",
            "-----------------------------------------------------------------------------\n",
            "system : hello , how can i help ? user : i need to book a bus ride . service description : book bus journeys from the biggest bus network in the country\n",
            "none of the intentions are active: 0.00\tfind a bus journey for a given pair of cities: 0.54\tbuy tickets for a bus journey: 0.46\tWrong\n",
            "-----------------------------------------------------------------------------\n",
            "##################################################################################\n"
          ],
          "name": "stdout"
        },
        {
          "output_type": "stream",
          "text": [
            "train loss: 0.03\ttrain acc 0.97\tvalid loss: 0.07\tvalid acc 0.98\tbatch: 1099\ttime: 5375.63                              "
          ],
          "name": "stderr"
        },
        {
          "output_type": "stream",
          "text": [
            "##################################################################################\n",
            "system : where are you leaving from ? are you leaving on march 2nd ? user : i want to leave on the 1st . find me an economy ticket to mexico city . service description : find one way and round trip flights to your favorite city\n",
            "none of the intentions are active: 0.00\tsearch for one - way flights to the destination of choice previous user intention: 0.94\tsearch for round - trip flights to the destination of choice: 0.06\tCorrect\n",
            "-----------------------------------------------------------------------------\n",
            "system : alam ##eda children ' s specialized is a psychologist located in oakland . user : can you tell me the contact number and address of the office ? service description : discover the right therapist for you and make reservations easily\n",
            "none of the intentions are active: 0.00\tmake a reservation with the therapist based on user ' s wish: 0.00\tdiscover therapist according to user ' s conditions previous user intention: 1.00\tCorrect\n",
            "-----------------------------------------------------------------------------\n",
            "system : is there something else i can help you with ? user : nothing . i appreciate your help . service description : find one way and round trip flights to your favorite city\n",
            "none of the intentions are active: 1.00\tsearch for one - way flights to the destination of choice: 0.00\tsearch for round - trip flights to the destination of choice previous user intention: 0.00\tCorrect\n",
            "-----------------------------------------------------------------------------\n",
            "system : leaving from where ? user : for two leaving from portland on the 1st of march . service description : book bus journeys from the biggest bus network in the country\n",
            "none of the intentions are active: 0.00\tfind a bus journey for a given pair of cities previous user intention: 1.00\tbuy tickets for a bus journey: 0.00\tCorrect\n",
            "-----------------------------------------------------------------------------\n",
            "system : will you be needing any further help ? user : what ' s the weather going to be like over there on the 7th of this month . service description : check the weather for any place and any date\n",
            "none of the intentions are active: 0.00\tget the weather of a certain location on a date: 1.00\tCorrect\n",
            "-----------------------------------------------------------------------------\n",
            "system : to whom you want to transfer this money ? user : transfer it to ja ##sb ##ir . service description : service to manage your bank accounts and finances\n",
            "none of the intentions are active: 0.00\tget the balance of an account: 0.00\ttransfer money to another user previous user intention: 1.00\tCorrect\n",
            "-----------------------------------------------------------------------------\n",
            "system : where would you like to leave from ? user : i ' d like to leave from las vegas . service description : find one way and round trip flights to your favorite city\n",
            "none of the intentions are active: 0.00\tsearch for one - way flights to the destination of choice previous user intention: 0.95\tsearch for round - trip flights to the destination of choice: 0.05\tCorrect\n",
            "-----------------------------------------------------------------------------\n",
            "system : that ' s a pop song . user : what year is it from ? service description : a popular provider of a wide range of music content for searching and listening\n",
            "none of the intentions are active: 0.00\tsearch for a song previous user intention: 1.00\tplay the selected song on the device: 0.00\tCorrect\n",
            "-----------------------------------------------------------------------------\n",
            "system : please confirm , appointment on march 9th at 4 pm at alam ##eda children ' s specialized . user : yes , that is correct . what is the address ? service description : discover the right therapist for you and make reservations easily\n",
            "none of the intentions are active: 0.00\tmake a reservation with the therapist based on user ' s wish previous user intention: 1.00\tdiscover therapist according to user ' s conditions: 0.00\tCorrect\n",
            "-----------------------------------------------------------------------------\n",
            "system : blue jays vs braves is popular . the event will take place at rogers centre on march 14th starting at 8 pm . user : sounds good to me . service description : the comprehensive portal to find and reserve seats at events near you\n",
            "none of the intentions are active: 0.00\tfind events in a given city previous user intention: 1.00\tbuy tickets for an event: 0.00\tCorrect\n",
            "-----------------------------------------------------------------------------\n",
            "##################################################################################\n"
          ],
          "name": "stdout"
        },
        {
          "output_type": "stream",
          "text": [
            "train loss: 0.05\ttrain acc 0.97\tvalid loss: 0.04\tvalid acc 0.99\tbatch: 1199\ttime: 5863.02                              "
          ],
          "name": "stderr"
        },
        {
          "output_type": "stream",
          "text": [
            "##################################################################################\n",
            "system : confirm me please . you want to schedule a visit to casa pin ##o condo ##s on march 4th ? user : no . make it please on 3rd of this month . service description : a widely used service for finding apartments and scheduling visits\n",
            "none of the intentions are active: 0.00\tfind an apartment in a city for a given number of bedrooms: 0.00\tschedule a visit for a given property on a particular date previous user intention: 1.00\tCorrect\n",
            "-----------------------------------------------------------------------------\n",
            "system : hello , how can i help ? user : i am interested in finding an apartment with two bedrooms in san jose . service description : a widely used service for finding apartments and scheduling visits\n",
            "none of the intentions are active: 0.00\tfind an apartment in a city for a given number of bedrooms: 1.00\tschedule a visit for a given property on a particular date: 0.00\tCorrect\n",
            "-----------------------------------------------------------------------------\n",
            "system : anything else i can help you with today ? user : nope , that ' s it . thanks for the help . service description : find one way and round trip flights to your favorite city\n",
            "none of the intentions are active: 1.00\tsearch for one - way flights to the destination of choice: 0.00\tsearch for round - trip flights to the destination of choice previous user intention: 0.00\tCorrect\n",
            "-----------------------------------------------------------------------------\n",
            "system : there is a 4 star hotel called ac hotel new york times square . user : alright thank you . can you buy 3 tickets to the event you found ? service description : accommodation searching and booking portal\n",
            "none of the intentions are active: 0.00\treserve rooms at a selected place for given dates: 0.70\tlook for accommodation in a city of choice previous user intention: 0.30\tWrong\n",
            "-----------------------------------------------------------------------------\n",
            "system : from sf ##o international airport . user : how many checked bags can i bring ? service description : find one way and round trip flights to your favorite city\n",
            "none of the intentions are active: 0.00\tsearch for one - way flights to the destination of choice: 0.00\tsearch for round - trip flights to the destination of choice previous user intention: 1.00\tCorrect\n",
            "-----------------------------------------------------------------------------\n",
            "system : transfer successful . it will take 3 business days . user : thanks , bye . service description : service to manage your bank accounts and finances\n",
            "none of the intentions are active: 0.00\tget the balance of an account: 0.00\ttransfer money to another user previous user intention: 1.00\tCorrect\n",
            "-----------------------------------------------------------------------------\n",
            "system : hello , how can i help ? user : can you get me a cab for one please ? service description : on - demand taxi calling service\n",
            "none of the intentions are active: 0.00\tcall a taxi to head to a given destination: 1.00\tCorrect\n",
            "-----------------------------------------------------------------------------\n",
            "system : it is a pop song from 2018 . user : yes , that would be fine . service description : a popular provider of a wide range of music content for searching and listening\n",
            "none of the intentions are active: 0.00\tsearch for a song previous user intention: 1.00\tplay the selected song on the device: 0.00\tCorrect\n",
            "-----------------------------------------------------------------------------\n",
            "system : sorry but buying tickets was not made . sacramento valley station is the origin station and has 0 transfers . what do you think about the bus that depart at 1 : 20 pm and cost $ 22 ? user : yes is good . service description : book bus journeys from the biggest bus network in the country\n",
            "none of the intentions are active: 0.00\tfind a bus journey for a given pair of cities: 0.00\tbuy tickets for a bus journey previous user intention: 1.00\tCorrect\n",
            "-----------------------------------------------------------------------------\n",
            "system : there are 2 cars that would work for you . the first is a standard car , a civic , and it will be available for pickup at union plaza on march 3rd . user : that ' s perfect . thanks for the help . that will be all . service description : car rental service with extensive coverage of locations and cars\n",
            "none of the intentions are active: 0.00\tsearch for available rental cars by city and date previous user intention: 0.99\treserve car rental for given dates and location: 0.01\tCorrect\n",
            "-----------------------------------------------------------------------------\n",
            "system : sure . you have $ 17 , 89 ##4 . 32 in your savings account . user : okay , great . i want to send some money to my friend li , who is a bit strapped for cash . the specific accounts do not matter . service description : service to manage your bank accounts and finances\n",
            "none of the intentions are active: 0.00\tget the balance of an account previous user intention: 0.64\ttransfer money to another user: 0.36\tWrong\n",
            "-----------------------------------------------------------------------------\n",
            "system : hello , how can i help ? user : hey ! we have a business lunch outing this month and i would prefer to reserve table for the business lunch outing . can you find some good h ##y ##gie ##nic dining ? service description : a popular restaurant search and reservation service\n",
            "none of the intentions are active: 0.00\tmake a table reservation at a restaurant: 0.14\tfind restaurants by location and by category: 0.86\tCorrect\n",
            "-----------------------------------------------------------------------------\n",
            "##################################################################################\n"
          ],
          "name": "stdout"
        },
        {
          "output_type": "stream",
          "text": [
            "train loss: 0.04\ttrain acc 0.97\tvalid loss: 0.06\tvalid acc 0.98\tbatch: 1299\ttime: 6350.04                              "
          ],
          "name": "stderr"
        },
        {
          "output_type": "stream",
          "text": [
            "##################################################################################\n",
            "system : this will cost you $ 57 in total . user : are there any alternatives which i can pick up at 1 : 30 pm ? service description : car rental service with extensive coverage of locations and cars\n",
            "none of the intentions are active: 0.00\tsearch for available rental cars by city and date previous user intention: 1.00\treserve car rental for given dates and location: 0.00\tCorrect\n",
            "-----------------------------------------------------------------------------\n",
            "system : it is $ 58 in total . user : okay , that ' s good . i also need to look for an apartment there . service description : a widely used service for finding apartments and scheduling visits\n",
            "none of the intentions are active: 0.00\tfind an apartment in a city for a given number of bedrooms: 1.00\tschedule a visit for a given property on a particular date: 0.00\tCorrect\n",
            "-----------------------------------------------------------------------------\n",
            "system : you want a table for 2 at jo ' s su ##shi bar in pleasant hill at 11 am on march 13th ? user : i do . is outdoor seating there ? service description : a popular restaurant search and reservation service\n",
            "none of the intentions are active: 0.00\tmake a table reservation at a restaurant previous user intention: 1.00\tfind restaurants by location and by category: 0.00\tCorrect\n",
            "-----------------------------------------------------------------------------\n",
            "system : the contact number is 510 - 84 ##9 - 66 ##28 and pets are allowed in the apartment . user : can you look for any other apartments ? service description : a widely used service for finding apartments and scheduling visits\n",
            "none of the intentions are active: 0.00\tfind an apartment in a city for a given number of bedrooms previous user intention: 1.00\tschedule a visit for a given property on a particular date: 0.00\tCorrect\n",
            "-----------------------------------------------------------------------------\n",
            "system : should i reserve it for you ? user : no , not right now thanks . service description : car rental service with extensive coverage of locations and cars\n",
            "none of the intentions are active: 1.00\tsearch for available rental cars by city and date previous user intention: 0.00\treserve car rental for given dates and location: 0.00\tCorrect\n",
            "-----------------------------------------------------------------------------\n",
            "system : okay ! your appointment is scheduled and you ' ll be getting a confirmation mail soon . user : thanks . please can you help me to get a cab for one person to reach there ? service description : on - demand taxi calling service\n",
            "none of the intentions are active: 0.00\tcall a taxi to head to a given destination: 1.00\tCorrect\n",
            "-----------------------------------------------------------------------------\n",
            "system : in what genre please ? user : an adventure film please . service description : the wide ##st selection and lowest prices for movie rental ##s\n",
            "none of the intentions are active: 0.00\tfind movies to watch by genre and , optional ##ly , director or actors previous user intention: 1.00\trent a movie to watch , with optional sub ##titles: 0.00\tCorrect\n",
            "-----------------------------------------------------------------------------\n",
            "system : may i get more ? user : no , give it up , i ' ve had more than i can take . service description : the comprehensive portal to find and reserve seats at events near you\n",
            "none of the intentions are active: 1.00\tfind events in a given city: 0.00\tbuy tickets for an event previous user intention: 0.00\tCorrect\n",
            "-----------------------------------------------------------------------------\n",
            "system : hello , how can i help ? user : i ' d like to watch a movie service description : the wide ##st selection and lowest prices for movie rental ##s\n",
            "none of the intentions are active: 0.00\tfind movies to watch by genre and , optional ##ly , director or actors: 0.38\trent a movie to watch , with optional sub ##titles: 0.62\tWrong\n",
            "-----------------------------------------------------------------------------\n",
            "system : the appointment has been booked . you ' ll receive an email soon confirming it . user : thanks so much . you ' ve been really helpful , bye ! service description : discover the right therapist for you and make reservations easily\n",
            "none of the intentions are active: 0.00\tmake a reservation with the therapist based on user ' s wish previous user intention: 1.00\tdiscover therapist according to user ' s conditions: 0.00\tCorrect\n",
            "-----------------------------------------------------------------------------\n",
            "system : i found tai pan located in palo alto which is a very nice restaurant . user : where are they located in palo alto ? service description : a popular restaurant search and reservation service\n",
            "none of the intentions are active: 0.00\tmake a table reservation at a restaurant: 0.00\tfind restaurants by location and by category previous user intention: 1.00\tCorrect\n",
            "-----------------------------------------------------------------------------\n",
            "##################################################################################\n"
          ],
          "name": "stdout"
        },
        {
          "output_type": "stream",
          "text": [
            "train loss: 0.20\ttrain acc 0.97\tvalid loss: 0.05\tvalid acc 0.98\tbatch: 1399\ttime: 6836.92                              "
          ],
          "name": "stderr"
        },
        {
          "output_type": "stream",
          "text": [
            "##################################################################################\n",
            "system : for how long ? user : one room , 5 days . service description : accommodation searching and booking portal\n",
            "none of the intentions are active: 0.00\treserve rooms at a selected place for given dates previous user intention: 1.00\tlook for accommodation in a city of choice: 0.00\tCorrect\n",
            "-----------------------------------------------------------------------------\n",
            "system : hello , how can i help ? user : i want to know how the weather will be in san diego on march 6th . service description : check the weather for any place and any date\n",
            "none of the intentions are active: 0.00\tget the weather of a certain location on a date: 1.00\tCorrect\n",
            "-----------------------------------------------------------------------------\n",
            "system : sure , their phone number is 415 - 77 ##5 - 76 ##44 user : thank you very much for your help , that ' s all i need . service description : a popular restaurant search and reservation service\n",
            "none of the intentions are active: 0.00\tmake a table reservation at a restaurant previous user intention: 1.00\tfind restaurants by location and by category: 0.00\tCorrect\n",
            "-----------------------------------------------------------------------------\n",
            "system : i discovered 1 diner you may enjoy . there is a lovely diner called el tori ##to in foster city . user : can you tell me the diner ' s review rating ? does it offer vegetarian option on the menu ? service description : a popular restaurant search and reservation service\n",
            "none of the intentions are active: 0.00\tmake a table reservation at a restaurant: 0.00\tfind restaurants by location and by category previous user intention: 1.00\tCorrect\n",
            "-----------------------------------------------------------------------------\n",
            "system : okay , i found a nice compact cooper at intercity terminal on march 8th . user : how much would that cost ? service description : car rental service with extensive coverage of locations and cars\n",
            "none of the intentions are active: 0.00\tsearch for available rental cars by city and date previous user intention: 1.00\treserve car rental for given dates and location: 0.00\tCorrect\n",
            "-----------------------------------------------------------------------------\n",
            "system : family with mandarin sub ##titles . is it correct ? user : yes , it is . who is the main actor ? who ' s the director of the movie ? service description : the wide ##st selection and lowest prices for movie rental ##s\n",
            "none of the intentions are active: 0.00\tfind movies to watch by genre and , optional ##ly , director or actors: 0.00\trent a movie to watch , with optional sub ##titles previous user intention: 1.00\tCorrect\n",
            "-----------------------------------------------------------------------------\n",
            "system : i ' ve found 2 for you . there ' s ot ##av ##on apartments located at 151 ##5 nova ##to boulevard # 29 . it has 3 bedrooms and 2 baths . the rent is $ 4 , 000 per month . user : that sounds good . service description : a widely used service for finding apartments and scheduling visits\n",
            "none of the intentions are active: 0.00\tfind an apartment in a city for a given number of bedrooms previous user intention: 0.99\tschedule a visit for a given property on a particular date: 0.00\tCorrect\n",
            "-----------------------------------------------------------------------------\n",
            "system : which is your convenient time and date to fix that appointment ? user : i want to book it on 8th of march for the time 10 : 00 . service description : discover the right therapist for you and make reservations easily\n",
            "none of the intentions are active: 0.00\tmake a reservation with the therapist based on user ' s wish previous user intention: 1.00\tdiscover therapist according to user ' s conditions: 0.00\tCorrect\n",
            "-----------------------------------------------------------------------------\n",
            "system : there is a 5 star hotel called 45 park lane . user : okay . what is the weather like there ? service description : accommodation searching and booking portal\n",
            "none of the intentions are active: 0.00\treserve rooms at a selected place for given dates: 0.00\tlook for accommodation in a city of choice previous user intention: 1.00\tCorrect\n",
            "-----------------------------------------------------------------------------\n",
            "system : where would you like to check the weather for ? user : i ' d like to know the weather in toronto , canada . service description : check the weather for any place and any date\n",
            "none of the intentions are active: 0.00\tget the weather of a certain location on a date previous user intention: 1.00\tCorrect\n",
            "-----------------------------------------------------------------------------\n",
            "##################################################################################\n"
          ],
          "name": "stdout"
        },
        {
          "output_type": "stream",
          "text": [
            "train loss: 0.06\ttrain acc 0.97\tvalid loss: 0.08\tvalid acc 0.97\tbatch: 1499\ttime: 7323.95                              "
          ],
          "name": "stderr"
        },
        {
          "output_type": "stream",
          "text": [
            "##################################################################################\n",
            "system : no worries , anything else ? user : nah , that ' s all thanks . service description : on - demand taxi calling service\n",
            "none of the intentions are active: 1.00\tcall a taxi to head to a given destination previous user intention: 0.00\tCorrect\n",
            "-----------------------------------------------------------------------------\n",
            "system : the average temperature is 70 degrees with a 23 percent chance of rain . user : what is the humidity going to be ? service description : check the weather for any place and any date\n",
            "none of the intentions are active: 0.00\tget the weather of a certain location on a date previous user intention: 1.00\tCorrect\n",
            "-----------------------------------------------------------------------------\n",
            "system : your ticket is all set . user : can you also look for hotels in that area ? service description : accommodation searching and booking portal\n",
            "none of the intentions are active: 0.00\treserve rooms at a selected place for given dates: 0.01\tlook for accommodation in a city of choice: 0.99\tCorrect\n",
            "-----------------------------------------------------------------------------\n",
            "system : can you tell me your destination ? user : i want to arrive in philadelphia . service description : find one way and round trip flights to your favorite city\n",
            "none of the intentions are active: 0.00\tsearch for one - way flights to the destination of choice previous user intention: 0.12\tsearch for round - trip flights to the destination of choice: 0.88\tWrong\n",
            "-----------------------------------------------------------------------------\n",
            "system : please confirm to transfer $ 430 from your savings account to savings account of philip . user : that is confirmed and also let me know the number of days will be taken by this money transfer . service description : service to manage your bank accounts and finances\n",
            "none of the intentions are active: 0.00\tget the balance of an account: 0.00\ttransfer money to another user previous user intention: 1.00\tCorrect\n",
            "-----------------------------------------------------------------------------\n",
            "system : please confirm : booking a table for 2 at the 71 saint peter in san jose on march 11th at 12 : 30 pm user : yes ok , how ##s the cost there ? service description : a popular restaurant search and reservation service\n",
            "none of the intentions are active: 0.00\tmake a table reservation at a restaurant previous user intention: 1.00\tfind restaurants by location and by category: 0.00\tCorrect\n",
            "-----------------------------------------------------------------------------\n",
            "system : please confirm a car from sm ##f international airport with a pickup march 10th 2 pm and drop - off march 12th standard car . user : yes , that is good . service description : car rental service with extensive coverage of locations and cars\n",
            "none of the intentions are active: 0.00\tsearch for available rental cars by city and date: 0.00\treserve car rental for given dates and location previous user intention: 1.00\tCorrect\n",
            "-----------------------------------------------------------------------------\n",
            "system : what location do you want to me to look in ? user : i would like to find a restaurant in san fran . service description : a popular restaurant search and reservation service\n",
            "none of the intentions are active: 0.00\tmake a table reservation at a restaurant: 0.00\tfind restaurants by location and by category previous user intention: 1.00\tCorrect\n",
            "-----------------------------------------------------------------------------\n",
            "system : do you wish to make a transfer ? user : yeah , i want to make a transfer of 500 dollars . service description : service to manage your bank accounts and finances\n",
            "none of the intentions are active: 0.00\tget the balance of an account previous user intention: 0.00\ttransfer money to another user: 1.00\tCorrect\n",
            "-----------------------------------------------------------------------------\n",
            "system : your reservation has been made . unfortunately , they do not have any vegetarian options . user : sure , thank you . service description : a popular restaurant search and reservation service\n",
            "none of the intentions are active: 0.00\tmake a table reservation at a restaurant previous user intention: 1.00\tfind restaurants by location and by category: 0.00\tCorrect\n",
            "-----------------------------------------------------------------------------\n",
            "system : okay , how about the song another day of sun by la la land cast off of the album la la land . would you like to hear it ? user : what genre of music is this song ? service description : a popular provider of a wide range of music content for searching and listening\n",
            "none of the intentions are active: 0.00\tsearch for a song previous user intention: 0.26\tplay the selected song on the device: 0.74\tWrong\n",
            "-----------------------------------------------------------------------------\n",
            "system : please confirm : you are res ##erving 1 room at anaheim rv park in anaheim . you ' re checking in on march 5th and you will be staying for 2 days . user : sorry , change of plans . i ' ll be staying for seven days . service description : accommodation searching and booking portal\n",
            "none of the intentions are active: 0.00\treserve rooms at a selected place for given dates previous user intention: 1.00\tlook for accommodation in a city of choice: 0.00\tCorrect\n",
            "-----------------------------------------------------------------------------\n",
            "##################################################################################\n"
          ],
          "name": "stdout"
        },
        {
          "output_type": "stream",
          "text": [
            "train loss: 0.03\ttrain acc 0.97\tvalid loss: 0.06\tvalid acc 0.97\tbatch: 1599\ttime: 7811.37                              "
          ],
          "name": "stderr"
        },
        {
          "output_type": "stream",
          "text": [
            "##################################################################################\n",
            "system : you would like to schedule a visit to alma ##den lake apartments next wednesday . is this correct ? user : yes that is all correct . also , can you tell me if pets are allowed ? service description : a widely used service for finding apartments and scheduling visits\n",
            "none of the intentions are active: 0.00\tfind an apartment in a city for a given number of bedrooms: 0.00\tschedule a visit for a given property on a particular date previous user intention: 1.00\tCorrect\n",
            "-----------------------------------------------------------------------------\n",
            "system : shall i get you a room ? user : no , not at the moment . service description : accommodation searching and booking portal\n",
            "none of the intentions are active: 1.00\treserve rooms at a selected place for given dates: 0.00\tlook for accommodation in a city of choice previous user intention: 0.00\tCorrect\n",
            "-----------------------------------------------------------------------------\n",
            "system : where is departure , arrival and how many seats ? user : leaving from sd to san francisco for two seats . service description : book bus journeys from the biggest bus network in the country\n",
            "none of the intentions are active: 0.00\tfind a bus journey for a given pair of cities: 0.00\tbuy tickets for a bus journey previous user intention: 1.00\tCorrect\n",
            "-----------------------------------------------------------------------------\n",
            "system : the temperature for the day is 105 degrees and there is 0 percent chance of rain . user : what is the humidity level and how windy is it supposed to be ? service description : check the weather for any place and any date\n",
            "none of the intentions are active: 0.00\tget the weather of a certain location on a date previous user intention: 1.00\tCorrect\n",
            "-----------------------------------------------------------------------------\n",
            "system : hello , how can i help ? user : please can you help me to find a therapist who would be a family counselor ? service description : discover the right therapist for you and make reservations easily\n",
            "none of the intentions are active: 0.00\tmake a reservation with the therapist based on user ' s wish: 0.00\tdiscover therapist according to user ' s conditions: 1.00\tCorrect\n",
            "-----------------------------------------------------------------------------\n",
            "system : anything else ? user : i want to check my bank balance . service description : service to manage your bank accounts and finances\n",
            "none of the intentions are active: 0.00\tget the balance of an account: 1.00\ttransfer money to another user: 0.00\tCorrect\n",
            "-----------------------------------------------------------------------------\n",
            "system : hello , how can i help ? user : hi , i will be travelling and need to find a one way flight for 1 person . i have 0 bags . service description : find one way and round trip flights to your favorite city\n",
            "none of the intentions are active: 0.00\tsearch for one - way flights to the destination of choice: 0.90\tsearch for round - trip flights to the destination of choice: 0.10\tCorrect\n",
            "-----------------------------------------------------------------------------\n",
            "system : hello , how can i help ? user : i ' m looking for a bus leaving from sacramento , ca . service description : book bus journeys from the biggest bus network in the country\n",
            "none of the intentions are active: 0.00\tfind a bus journey for a given pair of cities: 1.00\tbuy tickets for a bus journey: 0.00\tWrong\n",
            "-----------------------------------------------------------------------------\n",
            "system : i found you 8 hotels . how about beck ' s motor lodge ? it is a nice 2 star hotel . user : sounds good . i need a large rental car . i will need it from march 11th until march 13th . service description : accommodation searching and booking portal\n",
            "none of the intentions are active: 0.00\treserve rooms at a selected place for given dates: 0.01\tlook for accommodation in a city of choice previous user intention: 0.99\tCorrect\n",
            "-----------------------------------------------------------------------------\n",
            "system : reserve it ? user : not now . will you buy tickets to the event ? service description : accommodation searching and booking portal\n",
            "none of the intentions are active: 0.00\treserve rooms at a selected place for given dates: 1.00\tlook for accommodation in a city of choice previous user intention: 0.00\tWrong\n",
            "-----------------------------------------------------------------------------\n",
            "system : do you want to reserve a room at this place then ? user : yes please do , with check in on the 6th of march service description : a popular service for searching and res ##erving rooms in hotels\n",
            "none of the intentions are active: 0.00\treserve a selected hotel for given dates: 1.00\tfind a hotel at a given location previous user intention: 0.00\tCorrect\n",
            "-----------------------------------------------------------------------------\n",
            "system : your reservation has been made successfully . the address is 80 ##3 fill ##more street and the user rating is 4 . 2 . user : thank you for your help . that ' s all i need . service description : a popular restaurant search and reservation service\n",
            "none of the intentions are active: 0.00\tmake a table reservation at a restaurant previous user intention: 1.00\tfind restaurants by location and by category: 0.00\tCorrect\n",
            "-----------------------------------------------------------------------------\n",
            "system : i have 1 , which is electric feels at august hall on march 13th and that starts at 7 pm . user : okay . i am going to need a bus , too . one ticket on the 12th of this month . service description : book bus journeys from the biggest bus network in the country\n",
            "none of the intentions are active: 0.00\tfind a bus journey for a given pair of cities: 0.36\tbuy tickets for a bus journey: 0.64\tWrong\n",
            "-----------------------------------------------------------------------------\n",
            "##################################################################################\n"
          ],
          "name": "stdout"
        },
        {
          "output_type": "stream",
          "text": [
            "train loss: 0.01\ttrain acc 1.00\tvalid loss: 0.08\tvalid acc 0.98\tbatch: 1655\ttime: 8095.42                              "
          ],
          "name": "stderr"
        }
      ]
    },
    {
      "cell_type": "code",
      "metadata": {
        "id": "SOCu4_NdzS7X",
        "colab": {
          "base_uri": "https://localhost:8080/",
          "height": 289
        },
        "outputId": "ff80e5a4-10e8-4c20-dfe7-6557bfeb26fe"
      },
      "source": [
        "z!nvidia-smi"
      ],
      "execution_count": null,
      "outputs": [
        {
          "output_type": "stream",
          "text": [
            "Thu May 14 18:14:39 2020       \n",
            "+-----------------------------------------------------------------------------+\n",
            "| NVIDIA-SMI 440.82       Driver Version: 418.67       CUDA Version: 10.1     |\n",
            "|-------------------------------+----------------------+----------------------+\n",
            "| GPU  Name        Persistence-M| Bus-Id        Disp.A | Volatile Uncorr. ECC |\n",
            "| Fan  Temp  Perf  Pwr:Usage/Cap|         Memory-Usage | GPU-Util  Compute M. |\n",
            "|===============================+======================+======================|\n",
            "|   0  Tesla P100-PCIE...  Off  | 00000000:00:04.0 Off |                    0 |\n",
            "| N/A   44C    P0    36W / 250W |  16221MiB / 16280MiB |      0%      Default |\n",
            "+-------------------------------+----------------------+----------------------+\n",
            "                                                                               \n",
            "+-----------------------------------------------------------------------------+\n",
            "| Processes:                                                       GPU Memory |\n",
            "|  GPU       PID   Type   Process name                             Usage      |\n",
            "|=============================================================================|\n",
            "+-----------------------------------------------------------------------------+\n"
          ],
          "name": "stdout"
        }
      ]
    },
    {
      "cell_type": "code",
      "metadata": {
        "id": "9V9MIgkX7bjF"
      },
      "source": [
        "#save_model(model, trainable_parameters, root + 'model-cat-slot-best2.pkl')"
      ],
      "execution_count": null,
      "outputs": []
    },
    {
      "cell_type": "code",
      "metadata": {
        "id": "5Is-QFHK3iLa",
        "colab": {
          "base_uri": "https://localhost:8080/",
          "height": 51
        },
        "outputId": "22ca9016-b75c-47df-9b06-baa940932fcf"
      },
      "source": [
        "%matplotlib inline\n",
        "%load_ext autoreload\n",
        "%autoreload 2\n",
        "import matplotlib.pyplot as plt"
      ],
      "execution_count": null,
      "outputs": [
        {
          "output_type": "stream",
          "text": [
            "The autoreload extension is already loaded. To reload it, use:\n",
            "  %reload_ext autoreload\n"
          ],
          "name": "stdout"
        }
      ]
    },
    {
      "cell_type": "code",
      "metadata": {
        "id": "wpyxzXGKaQDI",
        "colab": {
          "base_uri": "https://localhost:8080/",
          "height": 282
        },
        "outputId": "f0b84214-1a12-486f-eb03-2187b65d6be0"
      },
      "source": [
        "plt.plot(run.records['valid_acc'])"
      ],
      "execution_count": null,
      "outputs": [
        {
          "output_type": "execute_result",
          "data": {
            "text/plain": [
              "[<matplotlib.lines.Line2D at 0x7f3a883d7710>]"
            ]
          },
          "metadata": {
            "tags": []
          },
          "execution_count": 5
        },
        {
          "output_type": "display_data",
          "data": {
            "image/png": "[encoded data removed]",
            "text/plain": [
              "<Figure size 432x288 with 1 Axes>"
            ]
          },
          "metadata": {
            "tags": [],
            "needs_background": "light"
          }
        }
      ]
    },
    {
      "cell_type": "code",
      "metadata": {
        "id": "F3TmHJcCdWE8",
        "colab": {
          "base_uri": "https://localhost:8080/",
          "height": 282
        },
        "outputId": "14419dfa-0f85-4992-bbde-869f2405654f"
      },
      "source": [
        "plt.plot(run.records['train_acc'])"
      ],
      "execution_count": null,
      "outputs": [
        {
          "output_type": "execute_result",
          "data": {
            "text/plain": [
              "[<matplotlib.lines.Line2D at 0x7f3a87ebc4e0>]"
            ]
          },
          "metadata": {
            "tags": []
          },
          "execution_count": 6
        },
        {
          "output_type": "display_data",
          "data": {
            "image/png": "[encoded data removed]",
            "text/plain": [
              "<Figure size 432x288 with 1 Axes>"
            ]
          },
          "metadata": {
            "tags": [],
            "needs_background": "light"
          }
        }
      ]
    },
    {
      "cell_type": "code",
      "metadata": {
        "id": "iJyOOcyJeI6Q",
        "colab": {
          "base_uri": "https://localhost:8080/",
          "height": 71
        },
        "outputId": "39797478-8503-41cd-fba5-3f533282ba36"
      },
      "source": [
        "trainable_parameters = ['LayerNorm', 'dropout.expand', 'dropout.squeeze', 'classifier']\n",
        "save_model(model, trainable_parameters, root + 'model-cat-slot-best-512-14-05.pkl')"
      ],
      "execution_count": null,
      "outputs": [
        {
          "output_type": "stream",
          "text": [
            "/home/osman/anaconda3/lib/python3.7/site-packages/torch/storage.py:34: FutureWarning: pickle support for Storage will be removed in 1.5. Use `torch.save` instead\n",
            "  warnings.warn(\"pickle support for Storage will be removed in 1.5. Use `torch.save` instead\", FutureWarning)\n"
          ],
          "name": "stderr"
        }
      ]
    },
    {
      "cell_type": "code",
      "metadata": {
        "id": "Pqy67PYKeYwY",
        "colab": {
          "base_uri": "https://localhost:8080/",
          "height": 201,
          "referenced_widgets": [
            "669e0c29299441809cc980752165cda8",
            "b46fdeb01b3c440c8946ef26640c7ae5",
            "5a4aa1253ca44839b7ccad5dfd265bb3",
            "e1507d4a2b9c43b88be854f1f698e13a",
            "e84c4887a2244583871b965aef899930",
            "013ca51307cf4e4baad7244231100406",
            "37f0e146892f42c3a7bb638d902671af",
            "599460648fbb41fab96ebf51fe5ebb05",
            "ed3355aead064635ba3fd4b34974d5ca",
            "fe5411dccfed40aca5a4c1e9ca1f7359",
            "593fd127e51d4a008b87bc9bff631c4c",
            "912b3b3fbb7247f6b0a3baf6977f595b",
            "474e516f8a624095acf192a663cb6fab",
            "0550f6ac254344f48aafc2cd2a43fbad",
            "acd0c1c8cb344654b5912a3c0c35052a",
            "8249eb671bc84af892436ea1ebc55548",
            "ee48c312d838480da10d94832f6637ce",
            "fc857f4c13d34ae3bb5f363a4cb0182f",
            "4471a8f93a494a509f3898cc30c529fd",
            "387307f7dbc048059c6e170a77f4a89d",
            "60e5ae0e837a4df9a0b4573c2acde501",
            "a475f0f6f07443cb9f7294c40b0fe8e6",
            "212d275775554193952197d5e8b4549d",
            "5305ff8922be47f3991d7cfda6f7754f"
          ]
        },
        "outputId": "d86320f0-dd1c-4897-988d-3a50848e5e08"
      },
      "source": [
        "tokenizer, model = get_model('bert-base-uncased', None)\n",
        "model = add_adapter_layers(model, hidden_size=256)\n",
        "load_model(model, root + 'model_intent.pkl')"
      ],
      "execution_count": null,
      "outputs": [
        {
          "output_type": "display_data",
          "data": {
            "application/vnd.jupyter.widget-view+json": {
              "model_id": "669e0c29299441809cc980752165cda8",
              "version_minor": 0,
              "version_major": 2
            },
            "text/plain": [
              "HBox(children=(FloatProgress(value=0.0, description='Downloading', max=231508.0, style=ProgressStyle(descripti…"
            ]
          },
          "metadata": {
            "tags": []
          }
        },
        {
          "output_type": "stream",
          "text": [
            "\n"
          ],
          "name": "stdout"
        },
        {
          "output_type": "display_data",
          "data": {
            "application/vnd.jupyter.widget-view+json": {
              "model_id": "ed3355aead064635ba3fd4b34974d5ca",
              "version_minor": 0,
              "version_major": 2
            },
            "text/plain": [
              "HBox(children=(FloatProgress(value=0.0, description='Downloading', max=433.0, style=ProgressStyle(description_…"
            ]
          },
          "metadata": {
            "tags": []
          }
        },
        {
          "output_type": "stream",
          "text": [
            "\n"
          ],
          "name": "stdout"
        },
        {
          "output_type": "display_data",
          "data": {
            "application/vnd.jupyter.widget-view+json": {
              "model_id": "ee48c312d838480da10d94832f6637ce",
              "version_minor": 0,
              "version_major": 2
            },
            "text/plain": [
              "HBox(children=(FloatProgress(value=0.0, description='Downloading', max=440473133.0, style=ProgressStyle(descri…"
            ]
          },
          "metadata": {
            "tags": []
          }
        },
        {
          "output_type": "stream",
          "text": [
            "\n"
          ],
          "name": "stdout"
        },
        {
          "output_type": "execute_result",
          "data": {
            "text/plain": [
              "_IncompatibleKeys(missing_keys=['bert.embeddings.word_embeddings.weight', 'bert.embeddings.position_embeddings.weight', 'bert.embeddings.token_type_embeddings.weight', 'bert.encoder.layer.0.attention.self.query.weight', 'bert.encoder.layer.0.attention.self.query.bias', 'bert.encoder.layer.0.attention.self.key.weight', 'bert.encoder.layer.0.attention.self.key.bias', 'bert.encoder.layer.0.attention.self.value.weight', 'bert.encoder.layer.0.attention.self.value.bias', 'bert.encoder.layer.0.attention.output.dense.weight', 'bert.encoder.layer.0.attention.output.dense.bias', 'bert.encoder.layer.0.intermediate.dense.weight', 'bert.encoder.layer.0.intermediate.dense.bias', 'bert.encoder.layer.0.output.dense.weight', 'bert.encoder.layer.0.output.dense.bias', 'bert.encoder.layer.1.attention.self.query.weight', 'bert.encoder.layer.1.attention.self.query.bias', 'bert.encoder.layer.1.attention.self.key.weight', 'bert.encoder.layer.1.attention.self.key.bias', 'bert.encoder.layer.1.attention.self.value.weight', 'bert.encoder.layer.1.attention.self.value.bias', 'bert.encoder.layer.1.attention.output.dense.weight', 'bert.encoder.layer.1.attention.output.dense.bias', 'bert.encoder.layer.1.intermediate.dense.weight', 'bert.encoder.layer.1.intermediate.dense.bias', 'bert.encoder.layer.1.output.dense.weight', 'bert.encoder.layer.1.output.dense.bias', 'bert.encoder.layer.2.attention.self.query.weight', 'bert.encoder.layer.2.attention.self.query.bias', 'bert.encoder.layer.2.attention.self.key.weight', 'bert.encoder.layer.2.attention.self.key.bias', 'bert.encoder.layer.2.attention.self.value.weight', 'bert.encoder.layer.2.attention.self.value.bias', 'bert.encoder.layer.2.attention.output.dense.weight', 'bert.encoder.layer.2.attention.output.dense.bias', 'bert.encoder.layer.2.intermediate.dense.weight', 'bert.encoder.layer.2.intermediate.dense.bias', 'bert.encoder.layer.2.output.dense.weight', 'bert.encoder.layer.2.output.dense.bias', 'bert.encoder.layer.3.attention.self.query.weight', 'bert.encoder.layer.3.attention.self.query.bias', 'bert.encoder.layer.3.attention.self.key.weight', 'bert.encoder.layer.3.attention.self.key.bias', 'bert.encoder.layer.3.attention.self.value.weight', 'bert.encoder.layer.3.attention.self.value.bias', 'bert.encoder.layer.3.attention.output.dense.weight', 'bert.encoder.layer.3.attention.output.dense.bias', 'bert.encoder.layer.3.intermediate.dense.weight', 'bert.encoder.layer.3.intermediate.dense.bias', 'bert.encoder.layer.3.output.dense.weight', 'bert.encoder.layer.3.output.dense.bias', 'bert.encoder.layer.4.attention.self.query.weight', 'bert.encoder.layer.4.attention.self.query.bias', 'bert.encoder.layer.4.attention.self.key.weight', 'bert.encoder.layer.4.attention.self.key.bias', 'bert.encoder.layer.4.attention.self.value.weight', 'bert.encoder.layer.4.attention.self.value.bias', 'bert.encoder.layer.4.attention.output.dense.weight', 'bert.encoder.layer.4.attention.output.dense.bias', 'bert.encoder.layer.4.intermediate.dense.weight', 'bert.encoder.layer.4.intermediate.dense.bias', 'bert.encoder.layer.4.output.dense.weight', 'bert.encoder.layer.4.output.dense.bias', 'bert.encoder.layer.5.attention.self.query.weight', 'bert.encoder.layer.5.attention.self.query.bias', 'bert.encoder.layer.5.attention.self.key.weight', 'bert.encoder.layer.5.attention.self.key.bias', 'bert.encoder.layer.5.attention.self.value.weight', 'bert.encoder.layer.5.attention.self.value.bias', 'bert.encoder.layer.5.attention.output.dense.weight', 'bert.encoder.layer.5.attention.output.dense.bias', 'bert.encoder.layer.5.intermediate.dense.weight', 'bert.encoder.layer.5.intermediate.dense.bias', 'bert.encoder.layer.5.output.dense.weight', 'bert.encoder.layer.5.output.dense.bias', 'bert.encoder.layer.6.attention.self.query.weight', 'bert.encoder.layer.6.attention.self.query.bias', 'bert.encoder.layer.6.attention.self.key.weight', 'bert.encoder.layer.6.attention.self.key.bias', 'bert.encoder.layer.6.attention.self.value.weight', 'bert.encoder.layer.6.attention.self.value.bias', 'bert.encoder.layer.6.attention.output.dense.weight', 'bert.encoder.layer.6.attention.output.dense.bias', 'bert.encoder.layer.6.intermediate.dense.weight', 'bert.encoder.layer.6.intermediate.dense.bias', 'bert.encoder.layer.6.output.dense.weight', 'bert.encoder.layer.6.output.dense.bias', 'bert.encoder.layer.7.attention.self.query.weight', 'bert.encoder.layer.7.attention.self.query.bias', 'bert.encoder.layer.7.attention.self.key.weight', 'bert.encoder.layer.7.attention.self.key.bias', 'bert.encoder.layer.7.attention.self.value.weight', 'bert.encoder.layer.7.attention.self.value.bias', 'bert.encoder.layer.7.attention.output.dense.weight', 'bert.encoder.layer.7.attention.output.dense.bias', 'bert.encoder.layer.7.intermediate.dense.weight', 'bert.encoder.layer.7.intermediate.dense.bias', 'bert.encoder.layer.7.output.dense.weight', 'bert.encoder.layer.7.output.dense.bias', 'bert.encoder.layer.8.attention.self.query.weight', 'bert.encoder.layer.8.attention.self.query.bias', 'bert.encoder.layer.8.attention.self.key.weight', 'bert.encoder.layer.8.attention.self.key.bias', 'bert.encoder.layer.8.attention.self.value.weight', 'bert.encoder.layer.8.attention.self.value.bias', 'bert.encoder.layer.8.attention.output.dense.weight', 'bert.encoder.layer.8.attention.output.dense.bias', 'bert.encoder.layer.8.intermediate.dense.weight', 'bert.encoder.layer.8.intermediate.dense.bias', 'bert.encoder.layer.8.output.dense.weight', 'bert.encoder.layer.8.output.dense.bias', 'bert.encoder.layer.9.attention.self.query.weight', 'bert.encoder.layer.9.attention.self.query.bias', 'bert.encoder.layer.9.attention.self.key.weight', 'bert.encoder.layer.9.attention.self.key.bias', 'bert.encoder.layer.9.attention.self.value.weight', 'bert.encoder.layer.9.attention.self.value.bias', 'bert.encoder.layer.9.attention.output.dense.weight', 'bert.encoder.layer.9.attention.output.dense.bias', 'bert.encoder.layer.9.intermediate.dense.weight', 'bert.encoder.layer.9.intermediate.dense.bias', 'bert.encoder.layer.9.output.dense.weight', 'bert.encoder.layer.9.output.dense.bias', 'bert.encoder.layer.10.attention.self.query.weight', 'bert.encoder.layer.10.attention.self.query.bias', 'bert.encoder.layer.10.attention.self.key.weight', 'bert.encoder.layer.10.attention.self.key.bias', 'bert.encoder.layer.10.attention.self.value.weight', 'bert.encoder.layer.10.attention.self.value.bias', 'bert.encoder.layer.10.attention.output.dense.weight', 'bert.encoder.layer.10.attention.output.dense.bias', 'bert.encoder.layer.10.intermediate.dense.weight', 'bert.encoder.layer.10.intermediate.dense.bias', 'bert.encoder.layer.10.output.dense.weight', 'bert.encoder.layer.10.output.dense.bias', 'bert.encoder.layer.11.attention.self.query.weight', 'bert.encoder.layer.11.attention.self.query.bias', 'bert.encoder.layer.11.attention.self.key.weight', 'bert.encoder.layer.11.attention.self.key.bias', 'bert.encoder.layer.11.attention.self.value.weight', 'bert.encoder.layer.11.attention.self.value.bias', 'bert.encoder.layer.11.attention.output.dense.weight', 'bert.encoder.layer.11.attention.output.dense.bias', 'bert.encoder.layer.11.intermediate.dense.weight', 'bert.encoder.layer.11.intermediate.dense.bias', 'bert.encoder.layer.11.output.dense.weight', 'bert.encoder.layer.11.output.dense.bias', 'bert.pooler.dense.weight', 'bert.pooler.dense.bias'], unexpected_keys=[])"
            ]
          },
          "metadata": {
            "tags": []
          },
          "execution_count": 3
        }
      ]
    },
    {
      "cell_type": "code",
      "metadata": {
        "id": "A6yBPhSEILjj"
      },
      "source": [
        "tokenizer = tf.BertTokenizer.from_pretrained('bert-base-uncased')"
      ],
      "execution_count": null,
      "outputs": []
    },
    {
      "cell_type": "code",
      "metadata": {
        "id": "SZpKM6oa65Ob"
      },
      "source": [
        "valid_dataset = D.IntentDataset(os.path.join(root, 'test'), tokenizer, max_len=120)\n",
        "valid_data = valid_dataset.load_valid_data(batch_size=128)"
      ],
      "execution_count": null,
      "outputs": []
    },
    {
      "cell_type": "code",
      "metadata": {
        "id": "VyFpkkP2Lft7",
        "colab": {
          "base_uri": "https://localhost:8080/",
          "height": 54
        },
        "outputId": "c10fa172-bbd2-4ab5-8769-479b83daf7c4"
      },
      "source": [
        "# Train only adapter layers\n",
        "model = add_adapter_layers(model, hidden_size=256)\n",
        "model.load_state_dict(pickle.load(open(os.path.join(root, 'model-cat-slot.pkl'), 'rb')), False)"
      ],
      "execution_count": null,
      "outputs": [
        {
          "output_type": "execute_result",
          "data": {
            "text/plain": [
              "_IncompatibleKeys(missing_keys=['bert.embeddings.word_embeddings.weight', 'bert.embeddings.position_embeddings.weight', 'bert.embeddings.token_type_embeddings.weight', 'bert.encoder.layer.0.attention.self.query.weight', 'bert.encoder.layer.0.attention.self.query.bias', 'bert.encoder.layer.0.attention.self.key.weight', 'bert.encoder.layer.0.attention.self.key.bias', 'bert.encoder.layer.0.attention.self.value.weight', 'bert.encoder.layer.0.attention.self.value.bias', 'bert.encoder.layer.0.attention.output.dense.weight', 'bert.encoder.layer.0.attention.output.dense.bias', 'bert.encoder.layer.0.intermediate.dense.weight', 'bert.encoder.layer.0.intermediate.dense.bias', 'bert.encoder.layer.0.output.dense.weight', 'bert.encoder.layer.0.output.dense.bias', 'bert.encoder.layer.1.attention.self.query.weight', 'bert.encoder.layer.1.attention.self.query.bias', 'bert.encoder.layer.1.attention.self.key.weight', 'bert.encoder.layer.1.attention.self.key.bias', 'bert.encoder.layer.1.attention.self.value.weight', 'bert.encoder.layer.1.attention.self.value.bias', 'bert.encoder.layer.1.attention.output.dense.weight', 'bert.encoder.layer.1.attention.output.dense.bias', 'bert.encoder.layer.1.intermediate.dense.weight', 'bert.encoder.layer.1.intermediate.dense.bias', 'bert.encoder.layer.1.output.dense.weight', 'bert.encoder.layer.1.output.dense.bias', 'bert.encoder.layer.2.attention.self.query.weight', 'bert.encoder.layer.2.attention.self.query.bias', 'bert.encoder.layer.2.attention.self.key.weight', 'bert.encoder.layer.2.attention.self.key.bias', 'bert.encoder.layer.2.attention.self.value.weight', 'bert.encoder.layer.2.attention.self.value.bias', 'bert.encoder.layer.2.attention.output.dense.weight', 'bert.encoder.layer.2.attention.output.dense.bias', 'bert.encoder.layer.2.intermediate.dense.weight', 'bert.encoder.layer.2.intermediate.dense.bias', 'bert.encoder.layer.2.output.dense.weight', 'bert.encoder.layer.2.output.dense.bias', 'bert.encoder.layer.3.attention.self.query.weight', 'bert.encoder.layer.3.attention.self.query.bias', 'bert.encoder.layer.3.attention.self.key.weight', 'bert.encoder.layer.3.attention.self.key.bias', 'bert.encoder.layer.3.attention.self.value.weight', 'bert.encoder.layer.3.attention.self.value.bias', 'bert.encoder.layer.3.attention.output.dense.weight', 'bert.encoder.layer.3.attention.output.dense.bias', 'bert.encoder.layer.3.intermediate.dense.weight', 'bert.encoder.layer.3.intermediate.dense.bias', 'bert.encoder.layer.3.output.dense.weight', 'bert.encoder.layer.3.output.dense.bias', 'bert.encoder.layer.4.attention.self.query.weight', 'bert.encoder.layer.4.attention.self.query.bias', 'bert.encoder.layer.4.attention.self.key.weight', 'bert.encoder.layer.4.attention.self.key.bias', 'bert.encoder.layer.4.attention.self.value.weight', 'bert.encoder.layer.4.attention.self.value.bias', 'bert.encoder.layer.4.attention.output.dense.weight', 'bert.encoder.layer.4.attention.output.dense.bias', 'bert.encoder.layer.4.intermediate.dense.weight', 'bert.encoder.layer.4.intermediate.dense.bias', 'bert.encoder.layer.4.output.dense.weight', 'bert.encoder.layer.4.output.dense.bias', 'bert.encoder.layer.5.attention.self.query.weight', 'bert.encoder.layer.5.attention.self.query.bias', 'bert.encoder.layer.5.attention.self.key.weight', 'bert.encoder.layer.5.attention.self.key.bias', 'bert.encoder.layer.5.attention.self.value.weight', 'bert.encoder.layer.5.attention.self.value.bias', 'bert.encoder.layer.5.attention.output.dense.weight', 'bert.encoder.layer.5.attention.output.dense.bias', 'bert.encoder.layer.5.intermediate.dense.weight', 'bert.encoder.layer.5.intermediate.dense.bias', 'bert.encoder.layer.5.output.dense.weight', 'bert.encoder.layer.5.output.dense.bias', 'bert.encoder.layer.6.attention.self.query.weight', 'bert.encoder.layer.6.attention.self.query.bias', 'bert.encoder.layer.6.attention.self.key.weight', 'bert.encoder.layer.6.attention.self.key.bias', 'bert.encoder.layer.6.attention.self.value.weight', 'bert.encoder.layer.6.attention.self.value.bias', 'bert.encoder.layer.6.attention.output.dense.weight', 'bert.encoder.layer.6.attention.output.dense.bias', 'bert.encoder.layer.6.intermediate.dense.weight', 'bert.encoder.layer.6.intermediate.dense.bias', 'bert.encoder.layer.6.output.dense.weight', 'bert.encoder.layer.6.output.dense.bias', 'bert.encoder.layer.7.attention.self.query.weight', 'bert.encoder.layer.7.attention.self.query.bias', 'bert.encoder.layer.7.attention.self.key.weight', 'bert.encoder.layer.7.attention.self.key.bias', 'bert.encoder.layer.7.attention.self.value.weight', 'bert.encoder.layer.7.attention.self.value.bias', 'bert.encoder.layer.7.attention.output.dense.weight', 'bert.encoder.layer.7.attention.output.dense.bias', 'bert.encoder.layer.7.intermediate.dense.weight', 'bert.encoder.layer.7.intermediate.dense.bias', 'bert.encoder.layer.7.output.dense.weight', 'bert.encoder.layer.7.output.dense.bias', 'bert.encoder.layer.8.attention.self.query.weight', 'bert.encoder.layer.8.attention.self.query.bias', 'bert.encoder.layer.8.attention.self.key.weight', 'bert.encoder.layer.8.attention.self.key.bias', 'bert.encoder.layer.8.attention.self.value.weight', 'bert.encoder.layer.8.attention.self.value.bias', 'bert.encoder.layer.8.attention.output.dense.weight', 'bert.encoder.layer.8.attention.output.dense.bias', 'bert.encoder.layer.8.intermediate.dense.weight', 'bert.encoder.layer.8.intermediate.dense.bias', 'bert.encoder.layer.8.output.dense.weight', 'bert.encoder.layer.8.output.dense.bias', 'bert.encoder.layer.9.attention.self.query.weight', 'bert.encoder.layer.9.attention.self.query.bias', 'bert.encoder.layer.9.attention.self.key.weight', 'bert.encoder.layer.9.attention.self.key.bias', 'bert.encoder.layer.9.attention.self.value.weight', 'bert.encoder.layer.9.attention.self.value.bias', 'bert.encoder.layer.9.attention.output.dense.weight', 'bert.encoder.layer.9.attention.output.dense.bias', 'bert.encoder.layer.9.intermediate.dense.weight', 'bert.encoder.layer.9.intermediate.dense.bias', 'bert.encoder.layer.9.output.dense.weight', 'bert.encoder.layer.9.output.dense.bias', 'bert.encoder.layer.10.attention.self.query.weight', 'bert.encoder.layer.10.attention.self.query.bias', 'bert.encoder.layer.10.attention.self.key.weight', 'bert.encoder.layer.10.attention.self.key.bias', 'bert.encoder.layer.10.attention.self.value.weight', 'bert.encoder.layer.10.attention.self.value.bias', 'bert.encoder.layer.10.attention.output.dense.weight', 'bert.encoder.layer.10.attention.output.dense.bias', 'bert.encoder.layer.10.intermediate.dense.weight', 'bert.encoder.layer.10.intermediate.dense.bias', 'bert.encoder.layer.10.output.dense.weight', 'bert.encoder.layer.10.output.dense.bias', 'bert.encoder.layer.11.attention.self.query.weight', 'bert.encoder.layer.11.attention.self.query.bias', 'bert.encoder.layer.11.attention.self.key.weight', 'bert.encoder.layer.11.attention.self.key.bias', 'bert.encoder.layer.11.attention.self.value.weight', 'bert.encoder.layer.11.attention.self.value.bias', 'bert.encoder.layer.11.attention.output.dense.weight', 'bert.encoder.layer.11.attention.output.dense.bias', 'bert.encoder.layer.11.intermediate.dense.weight', 'bert.encoder.layer.11.intermediate.dense.bias', 'bert.encoder.layer.11.output.dense.weight', 'bert.encoder.layer.11.output.dense.bias', 'bert.pooler.dense.weight', 'bert.pooler.dense.bias'], unexpected_keys=[])"
            ]
          },
          "metadata": {
            "tags": []
          },
          "execution_count": 10
        }
      ]
    },
    {
      "cell_type": "code",
      "metadata": {
        "id": "Hy1_pxjzNqY8"
      },
      "source": [
        "def evaluate_valid_data(model, valid_data):\n",
        "    model.eval()\n",
        "    with T.no_grad():\n",
        "        acc, count = 0, 0\n",
        "        scores, intents, ids = [], [], []\n",
        "        for i, batch in enumerate(valid_data):\n",
        "            batch = D.IntentDataset.map_to_cuda(batch)\n",
        "            scores_, _ = evaluate(model, batch)\n",
        "            acc_, _, _ = metrics(scores_, batch.y)\n",
        "            acc += (acc_*len(batch.y))\n",
        "            count += len(batch.y)\n",
        "            scores.append(scores_.cpu().numpy())\n",
        "            intents += batch.intent\n",
        "            ids += batch.id\n",
        "            sys.stderr.write(f'\\r{i+1}/{len(valid_data)} acc: {acc_}{\"\": <30}')\n",
        "        acc = acc/count\n",
        "        scores = np.concatenate(scores)\n",
        "    model.train()\n",
        "    return {'acc': acc, 'scores': scores.tolist(), 'labels': intents, 'ids': ids}"
      ],
      "execution_count": null,
      "outputs": []
    },
    {
      "cell_type": "code",
      "metadata": {
        "id": "eQPRf94RN4GE",
        "colab": {
          "base_uri": "https://localhost:8080/",
          "height": 34
        },
        "outputId": "f93e78d8-c7c9-4ea5-bcd7-48454252c1c5"
      },
      "source": [
        "results = evaluate_valid_data(model.cuda(), valid_data)"
      ],
      "execution_count": null,
      "outputs": [
        {
          "output_type": "stream",
          "text": [
            "361/361 acc: 0.9722222222222222                              "
          ],
          "name": "stderr"
        }
      ]
    },
    {
      "cell_type": "code",
      "metadata": {
        "id": "spnES_3PwJZD",
        "colab": {
          "base_uri": "https://localhost:8080/"
        },
        "outputId": "fcbd29a3-4313-4d3c-b41e-aa364eac8434"
      },
      "source": [
        "print(results['acc']) # Test"
      ],
      "execution_count": null,
      "outputs": [
        {
          "output_type": "stream",
          "text": [
            "0.9691647150663544\n"
          ],
          "name": "stdout"
        }
      ]
    },
    {
      "cell_type": "code",
      "metadata": {
        "id": "7L5YMs5tF0TC",
        "colab": {
          "base_uri": "https://localhost:8080/",
          "height": 34
        },
        "outputId": "16e53a2a-9e71-4cfe-b039-d214170913ba"
      },
      "source": [
        "print(results['acc'])"
      ],
      "execution_count": null,
      "outputs": [
        {
          "output_type": "stream",
          "text": [
            "0.9784484411550408\n"
          ],
          "name": "stdout"
        }
      ]
    },
    {
      "cell_type": "code",
      "metadata": {
        "id": "45y_M4hnOUuc"
      },
      "source": [
        "import json\n",
        "with open(root + 'valid-cat-value-scores-512-14-05.json', 'w') as f:\n",
        "    json.dump(results, f)\n",
        "#print(acc)"
      ],
      "execution_count": null,
      "outputs": []
    },
    {
      "cell_type": "code",
      "metadata": {
        "id": "JOfwAHcmE-Fc",
        "colab": {
          "base_uri": "https://localhost:8080/",
          "height": 34
        },
        "outputId": "0a17c6e8-b484-40c6-9cf7-e8948b942664"
      },
      "source": [
        "print(acc)"
      ],
      "execution_count": null,
      "outputs": [
        {
          "output_type": "stream",
          "text": [
            "0.8336131631967764\n"
          ],
          "name": "stdout"
        }
      ]
    },
    {
      "cell_type": "code",
      "metadata": {
        "id": "1BzbSNXyNX2U"
      },
      "source": [
        "import data as D\n",
        "import json\n",
        "\n",
        "schema = D.SlotDataset._extract_categorical_schema(json.load(open(root + 'train/schema.json')))\n",
        "data = [result for dialog in json.load(open(root + 'train/dialogues.json')) \n",
        "for result in D.extract_labels(dialog)\n",
        "        if any([r[0] in schema for r in result['labels']['new_values']])]"
      ],
      "execution_count": null,
      "outputs": []
    },
    {
      "cell_type": "code",
      "metadata": {
        "id": "1e15i_mZqPUC",
        "colab": {
          "base_uri": "https://localhost:8080/",
          "height": 391
        },
        "outputId": "da6668a9-eabf-4911-de52-7d9fe679d57e"
      },
      "source": [
        "data[300]"
      ],
      "execution_count": null,
      "outputs": [
        {
          "output_type": "execute_result",
          "data": {
            "text/plain": [
              "{'context': {'acts': {'Flights_3--OFFER--airlines--Delta Airlines',\n",
              "   'Flights_3--OFFER--number_stops--1',\n",
              "   'Flights_3--OFFER--outbound_departure_time--6:40 am',\n",
              "   'Flights_3--OFFER--price--$335'},\n",
              "  'dialog_hist_intents': {'Flights_3--SearchOnewayFlight'},\n",
              "  'dialog_hist_services': {'Flights_3'},\n",
              "  'prev_turn_intents': {'Flights_3--SearchOnewayFlight'},\n",
              "  'prev_turn_services': {'Flights_3'}},\n",
              " 'correct': False,\n",
              " 'labels': {'intents': {'Flights_3--SearchRoundtripFlights'},\n",
              "  'new_values': {('Flights_3--airlines', 'Delta Airlines', 'Delta Airlines'),\n",
              "   ('Flights_3--flight_class', 'dontcare', 'Economy')},\n",
              "  'req_slots': set(),\n",
              "  'services': {'Flights_3'},\n",
              "  'values': {'Flights_3--airlines--Delta Airlines',\n",
              "   'Flights_3--departure_date--9th of March',\n",
              "   'Flights_3--destination_city--New York',\n",
              "   'Flights_3--flight_class--dontcare',\n",
              "   'Flights_3--number_checked_bags--0',\n",
              "   'Flights_3--origin_city--Vancouver'}},\n",
              " 'system': 'How about Delta Airlines at $335 per passenger that takes off at 6:40 am and has 1 layover?',\n",
              " 'user': 'Sounds great. Will you find round trip flights?'}"
            ]
          },
          "metadata": {
            "tags": []
          },
          "execution_count": 24
        }
      ]
    },
    {
      "cell_type": "code",
      "metadata": {
        "id": "gi5rhshFqTw1"
      },
      "source": [
        "[scores, slots] = json.load(open(root + 'valid-scores.json'))"
      ],
      "execution_count": null,
      "outputs": []
    },
    {
      "cell_type": "code",
      "metadata": {
        "id": "sZd5nHntsAQ4",
        "colab": {
          "base_uri": "https://localhost:8080/",
          "height": 255
        },
        "outputId": "16a18b6e-911b-4542-92c7-2b2fb0ef7a83"
      },
      "source": [
        "scores[315]"
      ],
      "execution_count": null,
      "outputs": [
        {
          "output_type": "execute_result",
          "data": {
            "text/plain": [
              "[3.5242717266082764,\n",
              " 3.93858003616333,\n",
              " -2.261160135269165,\n",
              " -2.1685099601745605,\n",
              " -3.6290156841278076,\n",
              " -0.06675952672958374,\n",
              " -100000000.0,\n",
              " -100000000.0,\n",
              " -100000000.0,\n",
              " -100000000.0,\n",
              " -100000000.0,\n",
              " -100000000.0,\n",
              " -100000000.0,\n",
              " -100000000.0]"
            ]
          },
          "metadata": {
            "tags": []
          },
          "execution_count": 60
        }
      ]
    },
    {
      "cell_type": "code",
      "metadata": {
        "id": "HoH5D1fTtcO6"
      },
      "source": [
        "import numpy as np\n",
        "def attach_predictions(data, slots, scores, schema):\n",
        "    i = 0\n",
        "    for j, datum in enumerate(data):\n",
        "        correct = True\n",
        "        new_values = set()\n",
        "        labels = datum['labels']['new_values']\n",
        "        num_slots = len([label for label in labels if label[0] in schema])\n",
        "        for _ in range(num_slots):\n",
        "            slot, score = slots[i], scores[i]\n",
        "            idx = int(np.argmax(score))\n",
        "            prediction = list(schema[slot][-1])[idx]\n",
        "            value = [label[1] for label in labels if label[0]==slot][0]\n",
        "            correct = correct and (prediction == value)\n",
        "            new_values.add((slot, value, prediction))\n",
        "            i += 1\n",
        "        datum['labels']['new_values'] = new_values\n",
        "        datum['correct'] = correct"
      ],
      "execution_count": null,
      "outputs": []
    },
    {
      "cell_type": "code",
      "metadata": {
        "id": "eTE4DAm-yRly"
      },
      "source": [
        "attach_predictions(data, slots, scores, schema)"
      ],
      "execution_count": null,
      "outputs": []
    },
    {
      "cell_type": "code",
      "metadata": {
        "id": "D2soyv4gR8qy"
      },
      "source": [
        "import pickle\n",
        "with open(root + 'train-slot-dialogues.json', 'wb') as f:\n",
        "    pickle.dump(data, f)"
      ],
      "execution_count": null,
      "outputs": []
    },
    {
      "cell_type": "code",
      "metadata": {
        "id": "4SEzQTaNyUKd",
        "colab": {
          "base_uri": "https://localhost:8080/",
          "height": 34
        },
        "outputId": "65944c1d-8d7a-4626-d979-8c9827e00d01"
      },
      "source": [
        "np.mean([v[1]==v[2] for d in data for v in d['labels']['new_values']])"
      ],
      "execution_count": null,
      "outputs": [
        {
          "output_type": "execute_result",
          "data": {
            "text/plain": [
              "0.8770060441850771"
            ]
          },
          "metadata": {
            "tags": []
          },
          "execution_count": 18
        }
      ]
    },
    {
      "cell_type": "code",
      "metadata": {
        "id": "-lDEAnSTNNX0",
        "colab": {
          "base_uri": "https://localhost:8080/",
          "height": 34
        },
        "outputId": "7d1bbcb2-2a3f-449f-e2fe-24be0035ed70"
      },
      "source": [
        "np.mean([d['correct'] for d in data])"
      ],
      "execution_count": null,
      "outputs": [
        {
          "output_type": "execute_result",
          "data": {
            "text/plain": [
              "0.8640337833819068"
            ]
          },
          "metadata": {
            "tags": []
          },
          "execution_count": 19
        }
      ]
    },
    {
      "cell_type": "code",
      "metadata": {
        "id": "Oh5agV2lP6Hn"
      },
      "source": [
        "incorrect = [d for d in data if not d['correct']]"
      ],
      "execution_count": null,
      "outputs": []
    },
    {
      "cell_type": "code",
      "metadata": {
        "id": "kvlDVmULTQG9"
      },
      "source": [
        "wrong_slots = [v[0].split('--')[1] for d in incorrect for v in d['labels']['new_values'] if v[1] != v[2]]"
      ],
      "execution_count": null,
      "outputs": []
    },
    {
      "cell_type": "code",
      "metadata": {
        "id": "SxNLRTDtTUuf"
      },
      "source": [
        "incrrpect"
      ],
      "execution_count": null,
      "outputs": []
    }
  ]
}